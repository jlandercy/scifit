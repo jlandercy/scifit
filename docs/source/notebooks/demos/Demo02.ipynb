{
 "cells": [
  {
   "cell_type": "code",
   "execution_count": 1,
   "id": "46e4a628",
   "metadata": {
    "execution": {
     "iopub.execute_input": "2023-09-26T21:14:56.082811Z",
     "iopub.status.busy": "2023-09-26T21:14:56.082811Z",
     "iopub.status.idle": "2023-09-26T21:14:58.763427Z",
     "shell.execute_reply": "2023-09-26T21:14:58.762023Z"
    }
   },
   "outputs": [
    {
     "ename": "ImportError",
     "evalue": "cannot import name 'generic' from 'scifit.interfaces' (C:\\Users\\developer\\AppData\\Roaming\\Python\\Python310\\site-packages\\scifit\\interfaces\\__init__.py)",
     "output_type": "error",
     "traceback": [
      "\u001b[1;31m---------------------------------------------------------------------------\u001b[0m",
      "\u001b[1;31mImportError\u001b[0m                               Traceback (most recent call last)",
      "Cell \u001b[1;32mIn[1], line 4\u001b[0m\n\u001b[0;32m      2\u001b[0m \u001b[38;5;28;01mimport\u001b[39;00m \u001b[38;5;21;01mpandas\u001b[39;00m \u001b[38;5;28;01mas\u001b[39;00m \u001b[38;5;21;01mpd\u001b[39;00m\n\u001b[0;32m      3\u001b[0m \u001b[38;5;28;01mfrom\u001b[39;00m \u001b[38;5;21;01mscifit\u001b[39;00m\u001b[38;5;21;01m.\u001b[39;00m\u001b[38;5;21;01msolvers\u001b[39;00m \u001b[38;5;28;01mimport\u001b[39;00m scientific\n\u001b[1;32m----> 4\u001b[0m \u001b[38;5;28;01mfrom\u001b[39;00m \u001b[38;5;21;01mscifit\u001b[39;00m\u001b[38;5;21;01m.\u001b[39;00m\u001b[38;5;21;01minterfaces\u001b[39;00m \u001b[38;5;28;01mimport\u001b[39;00m generic\n",
      "\u001b[1;31mImportError\u001b[0m: cannot import name 'generic' from 'scifit.interfaces' (C:\\Users\\developer\\AppData\\Roaming\\Python\\Python310\\site-packages\\scifit\\interfaces\\__init__.py)"
     ]
    }
   ],
   "source": [
    "import numpy as np\n",
    "import pandas as pd\n",
    "from scifit.solvers import scientific\n",
    "from scifit.interfaces import generic"
   ]
  },
  {
   "cell_type": "code",
   "execution_count": 2,
   "id": "631bc006",
   "metadata": {
    "execution": {
     "iopub.execute_input": "2023-09-26T21:14:58.763427Z",
     "iopub.status.busy": "2023-09-26T21:14:58.763427Z",
     "iopub.status.idle": "2023-09-26T21:14:58.806561Z",
     "shell.execute_reply": "2023-09-26T21:14:58.806561Z"
    }
   },
   "outputs": [
    {
     "ename": "NameError",
     "evalue": "name 'generic' is not defined",
     "output_type": "error",
     "traceback": [
      "\u001b[1;31m---------------------------------------------------------------------------\u001b[0m",
      "\u001b[1;31mNameError\u001b[0m                                 Traceback (most recent call last)",
      "Cell \u001b[1;32mIn[2], line 1\u001b[0m\n\u001b[1;32m----> 1\u001b[0m \u001b[38;5;28;01mclass\u001b[39;00m \u001b[38;5;21;01mMyAkwardSolver\u001b[39;00m(\u001b[43mgeneric\u001b[49m\u001b[38;5;241m.\u001b[39mFitSolver1D):\n\u001b[0;32m      2\u001b[0m     \u001b[38;5;129m@staticmethod\u001b[39m\n\u001b[0;32m      3\u001b[0m     \u001b[38;5;28;01mdef\u001b[39;00m \u001b[38;5;21mmodel\u001b[39m(x, a, b):\n\u001b[0;32m      4\u001b[0m         \u001b[38;5;28;01mreturn\u001b[39;00m np\u001b[38;5;241m.\u001b[39mpower(a, \u001b[38;5;241m2\u001b[39m) \u001b[38;5;241m*\u001b[39m x[:, \u001b[38;5;241m0\u001b[39m] \u001b[38;5;241m+\u001b[39m b\n",
      "\u001b[1;31mNameError\u001b[0m: name 'generic' is not defined"
     ]
    }
   ],
   "source": [
    "class MyAkwardSolver(generic.FitSolver1D):\n",
    "    @staticmethod\n",
    "    def model(x, a, b):\n",
    "        return np.power(a, 2) * x[:, 0] + b"
   ]
  },
  {
   "cell_type": "markdown",
   "id": "39ffc184",
   "metadata": {},
   "source": [
    "$$y = a^2 x + b$$"
   ]
  },
  {
   "cell_type": "code",
   "execution_count": 3,
   "id": "2d55835a",
   "metadata": {
    "execution": {
     "iopub.execute_input": "2023-09-26T21:14:58.806561Z",
     "iopub.status.busy": "2023-09-26T21:14:58.806561Z",
     "iopub.status.idle": "2023-09-26T21:14:58.839695Z",
     "shell.execute_reply": "2023-09-26T21:14:58.839695Z"
    }
   },
   "outputs": [
    {
     "ename": "NameError",
     "evalue": "name 'MyAkwardSolver' is not defined",
     "output_type": "error",
     "traceback": [
      "\u001b[1;31m---------------------------------------------------------------------------\u001b[0m",
      "\u001b[1;31mNameError\u001b[0m                                 Traceback (most recent call last)",
      "Cell \u001b[1;32mIn[3], line 1\u001b[0m\n\u001b[1;32m----> 1\u001b[0m solver \u001b[38;5;241m=\u001b[39m \u001b[43mMyAkwardSolver\u001b[49m()\n",
      "\u001b[1;31mNameError\u001b[0m: name 'MyAkwardSolver' is not defined"
     ]
    }
   ],
   "source": [
    "solver = MyAkwardSolver()"
   ]
  },
  {
   "cell_type": "code",
   "execution_count": 4,
   "id": "ce7c76b3",
   "metadata": {
    "execution": {
     "iopub.execute_input": "2023-09-26T21:14:58.839695Z",
     "iopub.status.busy": "2023-09-26T21:14:58.839695Z",
     "iopub.status.idle": "2023-09-26T21:14:58.872697Z",
     "shell.execute_reply": "2023-09-26T21:14:58.872697Z"
    }
   },
   "outputs": [
    {
     "ename": "NameError",
     "evalue": "name 'solver' is not defined",
     "output_type": "error",
     "traceback": [
      "\u001b[1;31m---------------------------------------------------------------------------\u001b[0m",
      "\u001b[1;31mNameError\u001b[0m                                 Traceback (most recent call last)",
      "Cell \u001b[1;32mIn[4], line 1\u001b[0m\n\u001b[1;32m----> 1\u001b[0m data \u001b[38;5;241m=\u001b[39m \u001b[43msolver\u001b[49m\u001b[38;5;241m.\u001b[39msynthetic_dataset(sigma\u001b[38;5;241m=\u001b[39m\u001b[38;5;241m0.15\u001b[39m, parameters\u001b[38;5;241m=\u001b[39m[\u001b[38;5;241m1.\u001b[39m, \u001b[38;5;241m2.\u001b[39m])\n",
      "\u001b[1;31mNameError\u001b[0m: name 'solver' is not defined"
     ]
    }
   ],
   "source": [
    "data = solver.synthetic_dataset(sigma=0.15, parameters=[1., 2.])"
   ]
  },
  {
   "cell_type": "code",
   "execution_count": 5,
   "id": "dc1f3c5e",
   "metadata": {
    "execution": {
     "iopub.execute_input": "2023-09-26T21:14:58.872697Z",
     "iopub.status.busy": "2023-09-26T21:14:58.872697Z",
     "iopub.status.idle": "2023-09-26T21:14:58.905723Z",
     "shell.execute_reply": "2023-09-26T21:14:58.905723Z"
    }
   },
   "outputs": [
    {
     "ename": "NameError",
     "evalue": "name 'solver' is not defined",
     "output_type": "error",
     "traceback": [
      "\u001b[1;31m---------------------------------------------------------------------------\u001b[0m",
      "\u001b[1;31mNameError\u001b[0m                                 Traceback (most recent call last)",
      "Cell \u001b[1;32mIn[5], line 1\u001b[0m\n\u001b[1;32m----> 1\u001b[0m solution \u001b[38;5;241m=\u001b[39m \u001b[43msolver\u001b[49m\u001b[38;5;241m.\u001b[39mfit(data)\n",
      "\u001b[1;31mNameError\u001b[0m: name 'solver' is not defined"
     ]
    }
   ],
   "source": [
    "solution = solver.fit(data)"
   ]
  },
  {
   "cell_type": "code",
   "execution_count": 6,
   "id": "5724ff83",
   "metadata": {
    "execution": {
     "iopub.execute_input": "2023-09-26T21:14:58.914332Z",
     "iopub.status.busy": "2023-09-26T21:14:58.914332Z",
     "iopub.status.idle": "2023-09-26T21:14:58.950235Z",
     "shell.execute_reply": "2023-09-26T21:14:58.950235Z"
    }
   },
   "outputs": [
    {
     "ename": "NameError",
     "evalue": "name 'solver' is not defined",
     "output_type": "error",
     "traceback": [
      "\u001b[1;31m---------------------------------------------------------------------------\u001b[0m",
      "\u001b[1;31mNameError\u001b[0m                                 Traceback (most recent call last)",
      "Cell \u001b[1;32mIn[6], line 1\u001b[0m\n\u001b[1;32m----> 1\u001b[0m axe \u001b[38;5;241m=\u001b[39m \u001b[43msolver\u001b[49m\u001b[38;5;241m.\u001b[39mplot_fit()\n",
      "\u001b[1;31mNameError\u001b[0m: name 'solver' is not defined"
     ]
    }
   ],
   "source": [
    "axe = solver.plot_fit()"
   ]
  },
  {
   "cell_type": "code",
   "execution_count": 7,
   "id": "2c3cb27a",
   "metadata": {
    "execution": {
     "iopub.execute_input": "2023-09-26T21:14:58.950235Z",
     "iopub.status.busy": "2023-09-26T21:14:58.950235Z",
     "iopub.status.idle": "2023-09-26T21:14:58.961623Z",
     "shell.execute_reply": "2023-09-26T21:14:58.961623Z"
    }
   },
   "outputs": [],
   "source": [
    "domains = pd.DataFrame({\"min\": [-2., 0.], \"max\": [2., 4.]}).T"
   ]
  },
  {
   "cell_type": "code",
   "execution_count": 8,
   "id": "0da1223e",
   "metadata": {
    "execution": {
     "iopub.execute_input": "2023-09-26T21:14:58.965116Z",
     "iopub.status.busy": "2023-09-26T21:14:58.965116Z",
     "iopub.status.idle": "2023-09-26T21:14:58.995544Z",
     "shell.execute_reply": "2023-09-26T21:14:58.995544Z"
    }
   },
   "outputs": [
    {
     "ename": "NameError",
     "evalue": "name 'solver' is not defined",
     "output_type": "error",
     "traceback": [
      "\u001b[1;31m---------------------------------------------------------------------------\u001b[0m",
      "\u001b[1;31mNameError\u001b[0m                                 Traceback (most recent call last)",
      "Cell \u001b[1;32mIn[8], line 1\u001b[0m\n\u001b[1;32m----> 1\u001b[0m axe \u001b[38;5;241m=\u001b[39m \u001b[43msolver\u001b[49m\u001b[38;5;241m.\u001b[39mplot_loss(domains\u001b[38;5;241m=\u001b[39mdomains, log_loss\u001b[38;5;241m=\u001b[39m\u001b[38;5;28;01mTrue\u001b[39;00m)\n",
      "\u001b[1;31mNameError\u001b[0m: name 'solver' is not defined"
     ]
    }
   ],
   "source": [
    "axe = solver.plot_loss(domains=domains, log_loss=True)"
   ]
  },
  {
   "cell_type": "code",
   "execution_count": 9,
   "id": "25c35f92",
   "metadata": {
    "execution": {
     "iopub.execute_input": "2023-09-26T21:14:58.995544Z",
     "iopub.status.busy": "2023-09-26T21:14:58.995544Z",
     "iopub.status.idle": "2023-09-26T21:14:59.028593Z",
     "shell.execute_reply": "2023-09-26T21:14:59.028593Z"
    }
   },
   "outputs": [
    {
     "ename": "NameError",
     "evalue": "name 'solver' is not defined",
     "output_type": "error",
     "traceback": [
      "\u001b[1;31m---------------------------------------------------------------------------\u001b[0m",
      "\u001b[1;31mNameError\u001b[0m                                 Traceback (most recent call last)",
      "Cell \u001b[1;32mIn[9], line 1\u001b[0m\n\u001b[1;32m----> 1\u001b[0m axe \u001b[38;5;241m=\u001b[39m \u001b[43msolver\u001b[49m\u001b[38;5;241m.\u001b[39mplot_loss_low_dimension(domains\u001b[38;5;241m=\u001b[39mdomains, log_loss\u001b[38;5;241m=\u001b[39m\u001b[38;5;28;01mTrue\u001b[39;00m, surface\u001b[38;5;241m=\u001b[39m\u001b[38;5;28;01mTrue\u001b[39;00m, resolution\u001b[38;5;241m=\u001b[39m\u001b[38;5;241m100\u001b[39m)\n",
      "\u001b[1;31mNameError\u001b[0m: name 'solver' is not defined"
     ]
    }
   ],
   "source": [
    "axe = solver.plot_loss_low_dimension(domains=domains, log_loss=True, surface=True, resolution=100)"
   ]
  }
 ],
 "metadata": {
  "kernelspec": {
   "display_name": "Python 3 (ipykernel)",
   "language": "python",
   "name": "python3"
  },
  "language_info": {
   "codemirror_mode": {
    "name": "ipython",
    "version": 3
   },
   "file_extension": ".py",
   "mimetype": "text/x-python",
   "name": "python",
   "nbconvert_exporter": "python",
   "pygments_lexer": "ipython3",
   "version": "3.10.12"
  }
 },
 "nbformat": 4,
 "nbformat_minor": 5
}
