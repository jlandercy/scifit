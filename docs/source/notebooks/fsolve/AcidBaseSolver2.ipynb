{
 "cells": [
  {
   "cell_type": "code",
   "execution_count": 1,
   "id": "13ca9b61",
   "metadata": {},
   "outputs": [],
   "source": [
    "import numpy as np\n",
    "import matplotlib.pyplot as plt\n",
    "from collections.abc import Iterable\n",
    "from scipy import optimize, stats, signal"
   ]
  },
  {
   "cell_type": "code",
   "execution_count": null,
   "id": "57220e0d",
   "metadata": {},
   "outputs": [],
   "source": []
  },
  {
   "cell_type": "code",
   "execution_count": null,
   "id": "5f476ec1",
   "metadata": {},
   "outputs": [],
   "source": []
  },
  {
   "cell_type": "code",
   "execution_count": 2,
   "id": "ccb3fb90",
   "metadata": {},
   "outputs": [],
   "source": [
    "def cast_variables(pH, pKa):\n",
    "    \"\"\"\n",
    "    Ensure pH and pKa have correct types and shapes\n",
    "    \"\"\"\n",
    "    \n",
    "    if not isinstance(pH, Iterable):\n",
    "        pH = [pH]\n",
    "    \n",
    "    pH = np.array(pH)\n",
    "    pKa = np.array(pKa)\n",
    "    \n",
    "    return pH, pKa"
   ]
  },
  {
   "cell_type": "code",
   "execution_count": 3,
   "id": "34fe684b",
   "metadata": {},
   "outputs": [],
   "source": [
    "def monom(i, pH, pKa):\n",
    "    pH, pKa = cast_variables(pH, pKa)\n",
    "    H = np.power(10., -pH)\n",
    "    Ka = np.power(10., -pKa)\n",
    "    n = len(pKa)\n",
    "    return np.power(H, i) * np.prod(Ka[:(n - i)])"
   ]
  },
  {
   "cell_type": "code",
   "execution_count": 4,
   "id": "29e67aab",
   "metadata": {},
   "outputs": [],
   "source": [
    "def polynom(pH, pKa):\n",
    "    pH, pKa = cast_variables(pH, pKa)\n",
    "    n = len(pKa)\n",
    "    return np.sum([monom(i, pH, pKa) for i in range(n + 1)], axis=0)"
   ]
  },
  {
   "cell_type": "code",
   "execution_count": 5,
   "id": "8e05bae0",
   "metadata": {},
   "outputs": [],
   "source": [
    "def alpha(i, pH, pKa):\n",
    "    \"\"\"\n",
    "    Compute i-th partition function\n",
    "    \"\"\"\n",
    "    return monom(i, pH, pKa) / polynom(pH, pKa)"
   ]
  },
  {
   "cell_type": "code",
   "execution_count": 6,
   "id": "d75c535f",
   "metadata": {},
   "outputs": [],
   "source": [
    "def alphas(pH, pKa):\n",
    "    \"\"\"\n",
    "    Compute all partition functions\n",
    "    \"\"\"\n",
    "    \n",
    "    pH, pKa = cast_variables(pH, pKa)\n",
    "    \n",
    "    n = pKa.size + 1\n",
    "    a = np.full((pH.size, n), np.nan)\n",
    "    \n",
    "    for i in range(n):\n",
    "        a[:, i] = alpha(n - i - 1, pH, pKa)\n",
    "    \n",
    "    if not np.allclose(np.sum(a, axis=1), 1.):\n",
    "        raise ValueError(\"Partition functions does not sum up to unity\")\n",
    "    \n",
    "    return a"
   ]
  },
  {
   "cell_type": "code",
   "execution_count": null,
   "id": "4acc5e89",
   "metadata": {},
   "outputs": [],
   "source": []
  },
  {
   "cell_type": "code",
   "execution_count": 7,
   "id": "ed7b0f8e",
   "metadata": {},
   "outputs": [],
   "source": [
    "def system(C, pKa, Ct, Na):\n",
    "    \"\"\"\n",
    "    System of equation to solve the pH of the mixture.\n",
    "    Concentration C is n + 2 vector structured as follow: (H_nA, ..., A^n-, H^+)\n",
    "    Ct is a constant for total concentration of species H_nA, ..., A^n-\n",
    "    Na is a constant for total concentration of counter ion of ionised species H_n-1A^-, ..., A^n-\n",
    "    \n",
    "    There are n equilibria constants of the form:\n",
    "    \n",
    "    Ka_n = [H_n-1A^-] * [H^+] / [H_nA] \n",
    "    \n",
    "    Mass balance:\n",
    "    \n",
    "    Ct = [H_nA] +  ... + [A^n-]\n",
    "    \n",
    "    Charge balance:\n",
    "    \n",
    "    [H^+] + [Na^+] = 0 * [H_nA] +  ... + n * [A^n-]\n",
    "\n",
    "    Which provides n + 2 equations to solve n + 2 concentrations.\n",
    "    \"\"\"\n",
    "    \n",
    "    pKa = np.array(pKa)\n",
    "    Ka = np.power(10., -pKa)\n",
    "    \n",
    "    return np.array([\n",
    "        # Acid/Base Equilibria:\n",
    "        ((C[i + 1] * C[-1]) - C[i] * Ka[i]) * 1e7\n",
    "        for i in range(len(Ka))\n",
    "    ] + [\n",
    "        # Charge Balance:\n",
    "        np.sum(np.arange(len(Ka) + 1) * C[:-1]) - C[-1] - Na,\n",
    "        # Mass Balance:\n",
    "        np.sum(C[:-1]) - Ct\n",
    "    ])"
   ]
  },
  {
   "cell_type": "code",
   "execution_count": null,
   "id": "4200f186",
   "metadata": {},
   "outputs": [],
   "source": []
  },
  {
   "cell_type": "code",
   "execution_count": 8,
   "id": "82226b30",
   "metadata": {},
   "outputs": [],
   "source": [
    "def solve(C0, pKa, pH0=7.):\n",
    "    \"\"\"\n",
    "    Solve the system for the given initial concentrations (including initial pH) and pKa.\n",
    "    \"\"\"\n",
    "    \n",
    "    H0 = np.power(10., -float(pH0))\n",
    "    C0 = np.array(list(C0) + [H0])\n",
    "    \n",
    "    Ct = np.sum(C0[:-1])\n",
    "    Na = np.sum(np.arange(C0[:-1].size) * C0[:-1])\n",
    "    \n",
    "    sol, info, code, message = optimize.fsolve(\n",
    "        system,\n",
    "        x0=[1.] * len(C0),\n",
    "        args=(pKa, Ct, Na),\n",
    "        full_output=True,\n",
    "        maxfev=50000\n",
    "    )\n",
    "    \n",
    "    if code != 1:\n",
    "        raise ValueError(\"Solution not found: %s\" % message)\n",
    "    \n",
    "    H = sol[-1]\n",
    "    pH = -np.log10(H)\n",
    "    a = alphas(pH, pKa).squeeze()\n",
    "    C = a * Ct\n",
    "    \n",
    "    return {\n",
    "        \"C\": C,\n",
    "        \"alphas\": a,\n",
    "        \"H\": H,\n",
    "        \"pH\": pH,\n",
    "    }"
   ]
  },
  {
   "cell_type": "code",
   "execution_count": null,
   "id": "f0218967",
   "metadata": {},
   "outputs": [],
   "source": []
  },
  {
   "cell_type": "code",
   "execution_count": 9,
   "id": "eb2e2006",
   "metadata": {},
   "outputs": [],
   "source": [
    "def plot(pKa, sol=None):\n",
    "    \"\"\"\n",
    "    Plot partition curves and aditionnaly a solution if provided\n",
    "    \"\"\"\n",
    "    n = len(pKa)\n",
    "    pH = np.linspace(0, 14, 200)\n",
    "    As = alphas(pH, pKa)\n",
    "    labels = [r\"Partition $\\alpha_{%d}$\" % i for i in reversed(range(n + 1))]\n",
    "    \n",
    "    fig, axe = plt.subplots()\n",
    "    axe.plot(pH, As)\n",
    "    \n",
    "    if sol:\n",
    "        axe.axvline(sol[\"pH\"], linestyle=\"--\", color=\"black\")\n",
    "        sols = []\n",
    "        for i, a in enumerate(sol[\"alphas\"]):\n",
    "            axe.scatter([sol[\"pH\"]], [a])\n",
    "            sols.append(r\"$\\alpha_{%d} =$ %.3g\" % ((n-i), a))\n",
    "        labels += [\"$pH =$ %.2f\" % sol[\"pH\"]] + sols\n",
    "    \n",
    "    axe.set_title(\"Acid/Base Partitions: $pKa =$ %s\" % pKa)\n",
    "    axe.set_xlabel(r\"Proton Concentration, $pH$\")\n",
    "    axe.set_ylabel(r\"Partition Functions, $\\alpha_i$\")\n",
    "    axe.legend(labels, bbox_to_anchor=(1, 1))\n",
    "    axe.grid()\n",
    "    \n",
    "    return axe"
   ]
  },
  {
   "cell_type": "code",
   "execution_count": null,
   "id": "94cea305",
   "metadata": {},
   "outputs": [],
   "source": []
  },
  {
   "cell_type": "code",
   "execution_count": null,
   "id": "8af20804",
   "metadata": {},
   "outputs": [],
   "source": []
  },
  {
   "cell_type": "code",
   "execution_count": null,
   "id": "eb399c6f",
   "metadata": {},
   "outputs": [],
   "source": []
  },
  {
   "cell_type": "code",
   "execution_count": null,
   "id": "d84186a4",
   "metadata": {},
   "outputs": [],
   "source": []
  },
  {
   "cell_type": "code",
   "execution_count": 10,
   "id": "d3f08ee4",
   "metadata": {},
   "outputs": [
    {
     "data": {
      "text/plain": [
       "{'C': array([1.70165471e-17, 7.56824621e-07, 2.99998486e-01, 9.00000757e-01]),\n",
       " 'alphas': array([1.41804560e-17, 6.30687185e-07, 2.49998739e-01, 7.50000631e-01]),\n",
       " 'H': 1.5991020824462138e-13,\n",
       " 'pH': 12.796123811158091}"
      ]
     },
     "execution_count": 10,
     "metadata": {},
     "output_type": "execute_result"
    },
    {
     "data": {
      "image/png": "[encoded data removed]",
      "text/plain": [
       "<Figure size 432x288 with 1 Axes>"
      ]
     },
     "metadata": {
      "needs_background": "light"
     },
     "output_type": "display_data"
    }
   ],
   "source": [
    "pKa = [2.148, 7.198, 12.319]\n",
    "C0 = [0.0, 0.1, .1, 1.]\n",
    "sol = solve(C0, pKa)\n",
    "axe = plot(pKa, sol)\n",
    "sol"
   ]
  },
  {
   "cell_type": "code",
   "execution_count": null,
   "id": "38cc80f0",
   "metadata": {},
   "outputs": [],
   "source": []
  },
  {
   "cell_type": "code",
   "execution_count": null,
   "id": "9e023cc0",
   "metadata": {},
   "outputs": [],
   "source": []
  },
  {
   "cell_type": "code",
   "execution_count": null,
   "id": "37f96431",
   "metadata": {},
   "outputs": [],
   "source": []
  },
  {
   "cell_type": "code",
   "execution_count": null,
   "id": "972ef3ed",
   "metadata": {},
   "outputs": [],
   "source": []
  },
  {
   "cell_type": "code",
   "execution_count": null,
   "id": "1e7dd6fd",
   "metadata": {},
   "outputs": [],
   "source": []
  }
 ],
 "metadata": {
  "kernelspec": {
   "display_name": "Python 3 (ipykernel)",
   "language": "python",
   "name": "python3"
  },
  "language_info": {
   "codemirror_mode": {
    "name": "ipython",
    "version": 3
   },
   "file_extension": ".py",
   "mimetype": "text/x-python",
   "name": "python",
   "nbconvert_exporter": "python",
   "pygments_lexer": "ipython3",
   "version": "3.9.7"
  }
 },
 "nbformat": 4,
 "nbformat_minor": 5
}
