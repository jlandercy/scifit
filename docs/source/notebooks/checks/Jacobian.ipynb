{
 "cells": [
  {
   "cell_type": "code",
   "execution_count": 15,
   "id": "a5d32a11",
   "metadata": {},
   "outputs": [],
   "source": [
    "import numpy as np\n",
    "import matplotlib.pyplot as plt"
   ]
  },
  {
   "cell_type": "code",
   "execution_count": null,
   "id": "97e6ced5",
   "metadata": {},
   "outputs": [],
   "source": []
  },
  {
   "cell_type": "code",
   "execution_count": 4,
   "id": "2b26812b",
   "metadata": {},
   "outputs": [],
   "source": [
    "def f(x):\n",
    "    return x**2 + 1"
   ]
  },
  {
   "cell_type": "code",
   "execution_count": 7,
   "id": "d42fda62",
   "metadata": {},
   "outputs": [],
   "source": [
    "def df(x, dx=0.001):\n",
    "    return (f(x + dx) - f(x - dx))/(2*dx)"
   ]
  },
  {
   "cell_type": "code",
   "execution_count": 8,
   "id": "9bea53eb",
   "metadata": {},
   "outputs": [
    {
     "data": {
      "text/plain": [
       "2.0000000000000018"
      ]
     },
     "execution_count": 8,
     "metadata": {},
     "output_type": "execute_result"
    }
   ],
   "source": [
    "df(1)"
   ]
  },
  {
   "cell_type": "code",
   "execution_count": 12,
   "id": "0e7ea495",
   "metadata": {},
   "outputs": [
    {
     "data": {
      "text/plain": [
       "2.000000165480742"
      ]
     },
     "execution_count": 12,
     "metadata": {},
     "output_type": "execute_result"
    }
   ],
   "source": [
    "df(1, dx=0.0000000001)"
   ]
  },
  {
   "cell_type": "code",
   "execution_count": 40,
   "id": "57ed047e",
   "metadata": {},
   "outputs": [],
   "source": [
    "dxlin = np.logspace(-6, 3, 100)"
   ]
  },
  {
   "cell_type": "code",
   "execution_count": 47,
   "id": "90676f30",
   "metadata": {},
   "outputs": [],
   "source": [
    "dflin1 = df(1., dxlin)\n",
    "dflin2 = df(2., dxlin)\n",
    "dflin3 = df(3., dxlin)"
   ]
  },
  {
   "cell_type": "code",
   "execution_count": 48,
   "id": "67a5b9fa",
   "metadata": {},
   "outputs": [
    {
     "data": {
      "text/plain": [
       "array([-1.85826687e-10,  1.79997572e-10, -1.71671566e-11, -1.25255362e-10,\n",
       "        1.17981180e-10, -6.70263844e-12, -6.78843648e-11,  4.32549552e-11,\n",
       "        2.40829579e-12, -8.25761681e-12,  1.19406707e-11,  1.37703182e-11,\n",
       "       -2.25248709e-11,  1.16451293e-11,  4.86721774e-13, -9.32209865e-12,\n",
       "        2.34945396e-12,  4.14557277e-13, -2.91033864e-12,  2.40807374e-12,\n",
       "       -4.50750548e-14,  1.50768287e-12,  6.81676937e-13, -1.37201361e-12,\n",
       "        4.66737760e-13,  5.21804822e-14,  3.47055717e-13,  3.44391182e-13,\n",
       "       -4.52304860e-13,  2.22266650e-13, -4.02566869e-13,  2.47357690e-13,\n",
       "        8.72635297e-14,  9.32587341e-15, -4.72955008e-14,  7.10542736e-15,\n",
       "       -2.62012634e-14,  8.85957974e-14,  1.37667655e-14,  3.55271368e-15,\n",
       "       -6.39488462e-14,  5.19584376e-14, -2.84217094e-14,  2.66453526e-15,\n",
       "       -1.95399252e-14, -5.32907052e-15,  1.46549439e-14, -7.77156117e-15,\n",
       "        9.54791801e-15, -7.10542736e-15,  1.99840144e-15, -4.44089210e-16,\n",
       "        2.44249065e-15, -1.99840144e-15,  2.22044605e-16,  1.77635684e-15,\n",
       "       -8.88178420e-16, -6.66133815e-16,  6.66133815e-16,  0.00000000e+00,\n",
       "       -4.44089210e-16,  4.44089210e-16, -4.44089210e-16,  0.00000000e+00,\n",
       "       -2.22044605e-16,  2.22044605e-16,  4.44089210e-16, -6.66133815e-16,\n",
       "        2.22044605e-16,  0.00000000e+00, -2.22044605e-16,  1.11022302e-15,\n",
       "       -1.33226763e-15,  4.44089210e-16, -2.22044605e-16,  2.22044605e-16,\n",
       "        0.00000000e+00,  4.44089210e-16, -1.33226763e-15,  8.88178420e-16,\n",
       "        4.44089210e-16, -1.11022302e-15,  6.66133815e-16,  8.88178420e-16,\n",
       "       -2.66453526e-15,  0.00000000e+00,  0.00000000e+00,  1.77635684e-15,\n",
       "        3.10862447e-15,  5.77315973e-15, -2.15383267e-14,  1.57651669e-14,\n",
       "       -6.66133815e-15,  7.99360578e-15, -4.44089210e-15, -2.88657986e-15,\n",
       "        3.75255382e-14, -4.81836793e-14,  1.35447209e-14])"
      ]
     },
     "execution_count": 48,
     "metadata": {},
     "output_type": "execute_result"
    }
   ],
   "source": [
    "np.diff(dflin)"
   ]
  },
  {
   "cell_type": "code",
   "execution_count": 49,
   "id": "5ad2ae5c",
   "metadata": {},
   "outputs": [
    {
     "data": {
      "image/png": "[encoded data removed]",
      "text/plain": [
       "<Figure size 432x288 with 1 Axes>"
      ]
     },
     "metadata": {
      "needs_background": "light"
     },
     "output_type": "display_data"
    }
   ],
   "source": [
    "fig, axe = plt.subplots()\n",
    "axe.semilogx(dxlin, dflin1)\n",
    "axe.semilogx(dxlin, dflin2)\n",
    "axe.semilogx(dxlin, dflin3)\n",
    "axe.grid()"
   ]
  },
  {
   "cell_type": "code",
   "execution_count": null,
   "id": "96ed4d67",
   "metadata": {},
   "outputs": [],
   "source": []
  },
  {
   "cell_type": "code",
   "execution_count": null,
   "id": "aba9e61d",
   "metadata": {},
   "outputs": [],
   "source": []
  },
  {
   "cell_type": "code",
   "execution_count": null,
   "id": "5eed5437",
   "metadata": {},
   "outputs": [],
   "source": []
  }
 ],
 "metadata": {
  "kernelspec": {
   "display_name": "Python 3 (ipykernel)",
   "language": "python",
   "name": "python3"
  },
  "language_info": {
   "codemirror_mode": {
    "name": "ipython",
    "version": 3
   },
   "file_extension": ".py",
   "mimetype": "text/x-python",
   "name": "python",
   "nbconvert_exporter": "python",
   "pygments_lexer": "ipython3",
   "version": "3.9.7"
  }
 },
 "nbformat": 4,
 "nbformat_minor": 5
}
