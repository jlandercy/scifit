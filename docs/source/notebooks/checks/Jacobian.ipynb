{
 "cells": [
  {
   "cell_type": "code",
   "execution_count": 1,
   "id": "a5d32a11",
   "metadata": {
    "execution": {
     "iopub.execute_input": "2023-09-26T21:11:42.656923Z",
     "iopub.status.busy": "2023-09-26T21:11:42.656923Z",
     "iopub.status.idle": "2023-09-26T21:11:43.237644Z",
     "shell.execute_reply": "2023-09-26T21:11:43.237644Z"
    }
   },
   "outputs": [],
   "source": [
    "import numpy as np\n",
    "import matplotlib.pyplot as plt"
   ]
  },
  {
   "cell_type": "code",
   "execution_count": null,
   "id": "97e6ced5",
   "metadata": {},
   "outputs": [],
   "source": []
  },
  {
   "cell_type": "code",
   "execution_count": 2,
   "id": "2b26812b",
   "metadata": {
    "execution": {
     "iopub.execute_input": "2023-09-26T21:11:43.237644Z",
     "iopub.status.busy": "2023-09-26T21:11:43.237644Z",
     "iopub.status.idle": "2023-09-26T21:11:43.253664Z",
     "shell.execute_reply": "2023-09-26T21:11:43.253664Z"
    }
   },
   "outputs": [],
   "source": [
    "def f(x):\n",
    "    return x**2 + 1"
   ]
  },
  {
   "cell_type": "code",
   "execution_count": 3,
   "id": "d42fda62",
   "metadata": {
    "execution": {
     "iopub.execute_input": "2023-09-26T21:11:43.253664Z",
     "iopub.status.busy": "2023-09-26T21:11:43.253664Z",
     "iopub.status.idle": "2023-09-26T21:11:43.269394Z",
     "shell.execute_reply": "2023-09-26T21:11:43.269394Z"
    }
   },
   "outputs": [],
   "source": [
    "def df(x, dx=0.001):\n",
    "    return (f(x + dx) - f(x - dx))/(2*dx)"
   ]
  },
  {
   "cell_type": "code",
   "execution_count": 4,
   "id": "9bea53eb",
   "metadata": {
    "execution": {
     "iopub.execute_input": "2023-09-26T21:11:43.269394Z",
     "iopub.status.busy": "2023-09-26T21:11:43.269394Z",
     "iopub.status.idle": "2023-09-26T21:11:43.285009Z",
     "shell.execute_reply": "2023-09-26T21:11:43.285009Z"
    }
   },
   "outputs": [
    {
     "data": {
      "text/plain": [
       "2.0000000000000018"
      ]
     },
     "execution_count": 4,
     "metadata": {},
     "output_type": "execute_result"
    }
   ],
   "source": [
    "df(1)"
   ]
  },
  {
   "cell_type": "code",
   "execution_count": 5,
   "id": "0e7ea495",
   "metadata": {
    "execution": {
     "iopub.execute_input": "2023-09-26T21:11:43.285009Z",
     "iopub.status.busy": "2023-09-26T21:11:43.285009Z",
     "iopub.status.idle": "2023-09-26T21:11:43.300546Z",
     "shell.execute_reply": "2023-09-26T21:11:43.300546Z"
    }
   },
   "outputs": [
    {
     "data": {
      "text/plain": [
       "2.000000165480742"
      ]
     },
     "execution_count": 5,
     "metadata": {},
     "output_type": "execute_result"
    }
   ],
   "source": [
    "df(1, dx=0.0000000001)"
   ]
  },
  {
   "cell_type": "code",
   "execution_count": 6,
   "id": "57ed047e",
   "metadata": {
    "execution": {
     "iopub.execute_input": "2023-09-26T21:11:43.300546Z",
     "iopub.status.busy": "2023-09-26T21:11:43.300546Z",
     "iopub.status.idle": "2023-09-26T21:11:43.316170Z",
     "shell.execute_reply": "2023-09-26T21:11:43.316170Z"
    }
   },
   "outputs": [],
   "source": [
    "dxlin = np.logspace(-6, 3, 100)"
   ]
  },
  {
   "cell_type": "code",
   "execution_count": 7,
   "id": "90676f30",
   "metadata": {
    "execution": {
     "iopub.execute_input": "2023-09-26T21:11:43.316170Z",
     "iopub.status.busy": "2023-09-26T21:11:43.316170Z",
     "iopub.status.idle": "2023-09-26T21:11:43.331796Z",
     "shell.execute_reply": "2023-09-26T21:11:43.331796Z"
    }
   },
   "outputs": [],
   "source": [
    "dflin1 = df(1., dxlin)\n",
    "dflin2 = df(2., dxlin)\n",
    "dflin3 = df(3., dxlin)"
   ]
  },
  {
   "cell_type": "code",
   "execution_count": 8,
   "id": "67a5b9fa",
   "metadata": {
    "execution": {
     "iopub.execute_input": "2023-09-26T21:11:43.331796Z",
     "iopub.status.busy": "2023-09-26T21:11:43.331796Z",
     "iopub.status.idle": "2023-09-26T21:11:43.614219Z",
     "shell.execute_reply": "2023-09-26T21:11:43.614219Z"
    }
   },
   "outputs": [
    {
     "ename": "NameError",
     "evalue": "name 'dflin' is not defined",
     "output_type": "error",
     "traceback": [
      "\u001b[1;31m---------------------------------------------------------------------------\u001b[0m",
      "\u001b[1;31mNameError\u001b[0m                                 Traceback (most recent call last)",
      "Cell \u001b[1;32mIn[8], line 1\u001b[0m\n\u001b[1;32m----> 1\u001b[0m np\u001b[38;5;241m.\u001b[39mdiff(\u001b[43mdflin\u001b[49m)\n",
      "\u001b[1;31mNameError\u001b[0m: name 'dflin' is not defined"
     ]
    }
   ],
   "source": [
    "np.diff(dflin)"
   ]
  },
  {
   "cell_type": "code",
   "execution_count": 9,
   "id": "5ad2ae5c",
   "metadata": {
    "execution": {
     "iopub.execute_input": "2023-09-26T21:11:43.614219Z",
     "iopub.status.busy": "2023-09-26T21:11:43.614219Z",
     "iopub.status.idle": "2023-09-26T21:11:44.069369Z",
     "shell.execute_reply": "2023-09-26T21:11:44.069369Z"
    }
   },
   "outputs": [
    {
     "data": {
      "image/png": "[encoded data removed]",
      "text/plain": [
       "<Figure size 640x480 with 1 Axes>"
      ]
     },
     "metadata": {},
     "output_type": "display_data"
    }
   ],
   "source": [
    "fig, axe = plt.subplots()\n",
    "axe.semilogx(dxlin, dflin1)\n",
    "axe.semilogx(dxlin, dflin2)\n",
    "axe.semilogx(dxlin, dflin3)\n",
    "axe.grid()"
   ]
  },
  {
   "cell_type": "code",
   "execution_count": null,
   "id": "96ed4d67",
   "metadata": {},
   "outputs": [],
   "source": []
  },
  {
   "cell_type": "code",
   "execution_count": null,
   "id": "aba9e61d",
   "metadata": {},
   "outputs": [],
   "source": []
  },
  {
   "cell_type": "code",
   "execution_count": null,
   "id": "5eed5437",
   "metadata": {},
   "outputs": [],
   "source": []
  }
 ],
 "metadata": {
  "kernelspec": {
   "display_name": "Python 3 (ipykernel)",
   "language": "python",
   "name": "python3"
  },
  "language_info": {
   "codemirror_mode": {
    "name": "ipython",
    "version": 3
   },
   "file_extension": ".py",
   "mimetype": "text/x-python",
   "name": "python",
   "nbconvert_exporter": "python",
   "pygments_lexer": "ipython3",
   "version": "3.10.12"
  }
 },
 "nbformat": 4,
 "nbformat_minor": 5
}
