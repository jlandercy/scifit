{
 "cells": [
  {
   "cell_type": "code",
   "execution_count": 1,
   "metadata": {
    "execution": {
     "iopub.execute_input": "2023-08-22T14:51:54.815532Z",
     "iopub.status.busy": "2023-08-22T14:51:54.815532Z",
     "iopub.status.idle": "2023-08-22T14:51:56.562703Z",
     "shell.execute_reply": "2023-08-22T14:51:56.561705Z"
    }
   },
   "outputs": [],
   "source": [
    "import numpy as np\n",
    "from scifit.solvers import linear, scientific, specials"
   ]
  },
  {
   "cell_type": "code",
   "execution_count": 2,
   "metadata": {
    "execution": {
     "iopub.execute_input": "2023-08-22T14:51:56.566171Z",
     "iopub.status.busy": "2023-08-22T14:51:56.566171Z",
     "iopub.status.idle": "2023-08-22T14:51:56.577988Z",
     "shell.execute_reply": "2023-08-22T14:51:56.577072Z"
    }
   },
   "outputs": [],
   "source": [
    "solver = linear.LinearFitSolver()"
   ]
  },
  {
   "cell_type": "markdown",
   "metadata": {},
   "source": [
    "$$ y = ax + b $$"
   ]
  },
  {
   "cell_type": "code",
   "execution_count": 18,
   "metadata": {
    "execution": {
     "iopub.execute_input": "2023-08-22T14:51:56.581071Z",
     "iopub.status.busy": "2023-08-22T14:51:56.581071Z",
     "iopub.status.idle": "2023-08-22T14:51:56.594136Z",
     "shell.execute_reply": "2023-08-22T14:51:56.593140Z"
    }
   },
   "outputs": [],
   "source": [
    "data = solver.synthetic_dataset(sigma=0.015, xmin=1e-4, xmax=1e-2, parameters=[8.85e3, 3.21], resolution=15, scale_mode=\"auto\")"
   ]
  },
  {
   "cell_type": "code",
   "execution_count": 19,
   "metadata": {
    "execution": {
     "iopub.execute_input": "2023-08-22T14:51:56.598119Z",
     "iopub.status.busy": "2023-08-22T14:51:56.598119Z",
     "iopub.status.idle": "2023-08-22T14:51:56.625207Z",
     "shell.execute_reply": "2023-08-22T14:51:56.624300Z"
    }
   },
   "outputs": [
    {
     "data": {
      "text/html": [
       "<div>\n",
       "<style scoped>\n",
       "    .dataframe tbody tr th:only-of-type {\n",
       "        vertical-align: middle;\n",
       "    }\n",
       "\n",
       "    .dataframe tbody tr th {\n",
       "        vertical-align: top;\n",
       "    }\n",
       "\n",
       "    .dataframe thead th {\n",
       "        text-align: right;\n",
       "    }\n",
       "</style>\n",
       "<table border=\"1\" class=\"dataframe\">\n",
       "  <thead>\n",
       "    <tr style=\"text-align: right;\">\n",
       "      <th></th>\n",
       "      <th>x0</th>\n",
       "      <th>y</th>\n",
       "      <th>sy</th>\n",
       "      <th>yref</th>\n",
       "      <th>ynoise</th>\n",
       "    </tr>\n",
       "    <tr>\n",
       "      <th>id</th>\n",
       "      <th></th>\n",
       "      <th></th>\n",
       "      <th></th>\n",
       "      <th></th>\n",
       "      <th></th>\n",
       "    </tr>\n",
       "  </thead>\n",
       "  <tbody>\n",
       "    <tr>\n",
       "      <th>1</th>\n",
       "      <td>0.000100</td>\n",
       "      <td>4.404786</td>\n",
       "      <td>0.657113</td>\n",
       "      <td>4.095000</td>\n",
       "      <td>0.309786</td>\n",
       "    </tr>\n",
       "    <tr>\n",
       "      <th>2</th>\n",
       "      <td>0.000807</td>\n",
       "      <td>9.570609</td>\n",
       "      <td>0.657113</td>\n",
       "      <td>10.353214</td>\n",
       "      <td>-0.782605</td>\n",
       "    </tr>\n",
       "    <tr>\n",
       "      <th>3</th>\n",
       "      <td>0.001514</td>\n",
       "      <td>17.552878</td>\n",
       "      <td>0.657113</td>\n",
       "      <td>16.611429</td>\n",
       "      <td>0.941450</td>\n",
       "    </tr>\n",
       "    <tr>\n",
       "      <th>4</th>\n",
       "      <td>0.002221</td>\n",
       "      <td>22.664195</td>\n",
       "      <td>0.657113</td>\n",
       "      <td>22.869643</td>\n",
       "      <td>-0.205447</td>\n",
       "    </tr>\n",
       "    <tr>\n",
       "      <th>5</th>\n",
       "      <td>0.002929</td>\n",
       "      <td>28.654349</td>\n",
       "      <td>0.657113</td>\n",
       "      <td>29.127857</td>\n",
       "      <td>-0.473508</td>\n",
       "    </tr>\n",
       "    <tr>\n",
       "      <th>6</th>\n",
       "      <td>0.003636</td>\n",
       "      <td>35.969037</td>\n",
       "      <td>0.657113</td>\n",
       "      <td>35.386071</td>\n",
       "      <td>0.582966</td>\n",
       "    </tr>\n",
       "    <tr>\n",
       "      <th>7</th>\n",
       "      <td>0.004343</td>\n",
       "      <td>42.209132</td>\n",
       "      <td>0.657113</td>\n",
       "      <td>41.644286</td>\n",
       "      <td>0.564846</td>\n",
       "    </tr>\n",
       "    <tr>\n",
       "      <th>8</th>\n",
       "      <td>0.005050</td>\n",
       "      <td>47.484232</td>\n",
       "      <td>0.657113</td>\n",
       "      <td>47.902500</td>\n",
       "      <td>-0.418268</td>\n",
       "    </tr>\n",
       "    <tr>\n",
       "      <th>9</th>\n",
       "      <td>0.005757</td>\n",
       "      <td>54.171029</td>\n",
       "      <td>0.657113</td>\n",
       "      <td>54.160714</td>\n",
       "      <td>0.010314</td>\n",
       "    </tr>\n",
       "    <tr>\n",
       "      <th>10</th>\n",
       "      <td>0.006464</td>\n",
       "      <td>58.945232</td>\n",
       "      <td>0.657113</td>\n",
       "      <td>60.418929</td>\n",
       "      <td>-1.473696</td>\n",
       "    </tr>\n",
       "    <tr>\n",
       "      <th>11</th>\n",
       "      <td>0.007171</td>\n",
       "      <td>67.432846</td>\n",
       "      <td>0.657113</td>\n",
       "      <td>66.677143</td>\n",
       "      <td>0.755703</td>\n",
       "    </tr>\n",
       "    <tr>\n",
       "      <th>12</th>\n",
       "      <td>0.007879</td>\n",
       "      <td>73.587177</td>\n",
       "      <td>0.657113</td>\n",
       "      <td>72.935357</td>\n",
       "      <td>0.651820</td>\n",
       "    </tr>\n",
       "    <tr>\n",
       "      <th>13</th>\n",
       "      <td>0.008586</td>\n",
       "      <td>79.820013</td>\n",
       "      <td>0.657113</td>\n",
       "      <td>79.193571</td>\n",
       "      <td>0.626441</td>\n",
       "    </tr>\n",
       "    <tr>\n",
       "      <th>14</th>\n",
       "      <td>0.009293</td>\n",
       "      <td>84.123594</td>\n",
       "      <td>0.657113</td>\n",
       "      <td>85.451786</td>\n",
       "      <td>-1.328192</td>\n",
       "    </tr>\n",
       "    <tr>\n",
       "      <th>15</th>\n",
       "      <td>0.010000</td>\n",
       "      <td>91.490474</td>\n",
       "      <td>0.657113</td>\n",
       "      <td>91.710000</td>\n",
       "      <td>-0.219526</td>\n",
       "    </tr>\n",
       "  </tbody>\n",
       "</table>\n",
       "</div>"
      ],
      "text/plain": [
       "          x0          y        sy       yref    ynoise\n",
       "id                                                    \n",
       "1   0.000100   4.404786  0.657113   4.095000  0.309786\n",
       "2   0.000807   9.570609  0.657113  10.353214 -0.782605\n",
       "3   0.001514  17.552878  0.657113  16.611429  0.941450\n",
       "4   0.002221  22.664195  0.657113  22.869643 -0.205447\n",
       "5   0.002929  28.654349  0.657113  29.127857 -0.473508\n",
       "6   0.003636  35.969037  0.657113  35.386071  0.582966\n",
       "7   0.004343  42.209132  0.657113  41.644286  0.564846\n",
       "8   0.005050  47.484232  0.657113  47.902500 -0.418268\n",
       "9   0.005757  54.171029  0.657113  54.160714  0.010314\n",
       "10  0.006464  58.945232  0.657113  60.418929 -1.473696\n",
       "11  0.007171  67.432846  0.657113  66.677143  0.755703\n",
       "12  0.007879  73.587177  0.657113  72.935357  0.651820\n",
       "13  0.008586  79.820013  0.657113  79.193571  0.626441\n",
       "14  0.009293  84.123594  0.657113  85.451786 -1.328192\n",
       "15  0.010000  91.490474  0.657113  91.710000 -0.219526"
      ]
     },
     "execution_count": 19,
     "metadata": {},
     "output_type": "execute_result"
    }
   ],
   "source": [
    "data"
   ]
  },
  {
   "cell_type": "code",
   "execution_count": 20,
   "metadata": {
    "execution": {
     "iopub.execute_input": "2023-08-22T14:51:56.628180Z",
     "iopub.status.busy": "2023-08-22T14:51:56.628180Z",
     "iopub.status.idle": "2023-08-22T14:51:56.639856Z",
     "shell.execute_reply": "2023-08-22T14:51:56.639856Z"
    }
   },
   "outputs": [],
   "source": [
    "solver.store(data=data)"
   ]
  },
  {
   "cell_type": "code",
   "execution_count": 21,
   "metadata": {
    "execution": {
     "iopub.execute_input": "2023-08-22T14:51:56.642826Z",
     "iopub.status.busy": "2023-08-22T14:51:56.642826Z",
     "iopub.status.idle": "2023-08-22T14:51:57.130855Z",
     "shell.execute_reply": "2023-08-22T14:51:57.129858Z"
    }
   },
   "outputs": [],
   "source": [
    "solution = solver.fit()"
   ]
  },
  {
   "cell_type": "code",
   "execution_count": 22,
   "metadata": {
    "execution": {
     "iopub.execute_input": "2023-08-22T14:51:57.135857Z",
     "iopub.status.busy": "2023-08-22T14:51:57.134981Z",
     "iopub.status.idle": "2023-08-22T14:51:57.146304Z",
     "shell.execute_reply": "2023-08-22T14:51:57.145383Z"
    }
   },
   "outputs": [
    {
     "data": {
      "image/png": "[encoded data removed]",
      "text/plain": [
       "<Figure size 432x288 with 1 Axes>"
      ]
     },
     "metadata": {
      "needs_background": "light"
     },
     "output_type": "display_data"
    }
   ],
   "source": [
    "axe = solver.plot_fit()"
   ]
  },
  {
   "cell_type": "code",
   "execution_count": 23,
   "metadata": {
    "execution": {
     "iopub.execute_input": "2023-08-22T14:51:57.150407Z",
     "iopub.status.busy": "2023-08-22T14:51:57.150407Z",
     "iopub.status.idle": "2023-08-22T14:51:57.161602Z",
     "shell.execute_reply": "2023-08-22T14:51:57.160504Z"
    }
   },
   "outputs": [
    {
     "data": {
      "image/png": "[encoded data removed]",
      "text/plain": [
       "<Figure size 432x288 with 1 Axes>"
      ]
     },
     "metadata": {
      "needs_background": "light"
     },
     "output_type": "display_data"
    }
   ],
   "source": [
    "axe = solver.plot_chi_square()"
   ]
  },
  {
   "cell_type": "code",
   "execution_count": 24,
   "metadata": {
    "execution": {
     "iopub.execute_input": "2023-08-22T14:51:57.165530Z",
     "iopub.status.busy": "2023-08-22T14:51:57.164554Z",
     "iopub.status.idle": "2023-08-22T14:51:57.177118Z",
     "shell.execute_reply": "2023-08-22T14:51:57.176034Z"
    }
   },
   "outputs": [],
   "source": [
    "final = solver.dataset()"
   ]
  },
  {
   "cell_type": "code",
   "execution_count": 25,
   "metadata": {
    "execution": {
     "iopub.execute_input": "2023-08-22T14:51:57.181036Z",
     "iopub.status.busy": "2023-08-22T14:51:57.181036Z",
     "iopub.status.idle": "2023-08-22T14:51:57.225036Z",
     "shell.execute_reply": "2023-08-22T14:51:57.224037Z"
    }
   },
   "outputs": [],
   "source": [
    "solver.dump(\"data/LinearCalibration.csv\", final, summary=False)"
   ]
  },
  {
   "cell_type": "code",
   "execution_count": 26,
   "metadata": {
    "execution": {
     "iopub.execute_input": "2023-08-22T14:51:57.228038Z",
     "iopub.status.busy": "2023-08-22T14:51:57.228038Z",
     "iopub.status.idle": "2023-08-22T14:51:57.240035Z",
     "shell.execute_reply": "2023-08-22T14:51:57.240035Z"
    }
   },
   "outputs": [],
   "source": [
    "solver2 = linear.LinearFitSolver()"
   ]
  },
  {
   "cell_type": "code",
   "execution_count": 27,
   "metadata": {
    "execution": {
     "iopub.execute_input": "2023-08-22T14:51:57.245539Z",
     "iopub.status.busy": "2023-08-22T14:51:57.244540Z",
     "iopub.status.idle": "2023-08-22T14:51:57.524881Z",
     "shell.execute_reply": "2023-08-22T14:51:57.524881Z"
    }
   },
   "outputs": [],
   "source": [
    "solver2.store(data=final)\n",
    "solution2 = solver2.fit()"
   ]
  },
  {
   "cell_type": "code",
   "execution_count": 28,
   "metadata": {
    "execution": {
     "iopub.execute_input": "2023-08-22T14:51:57.529938Z",
     "iopub.status.busy": "2023-08-22T14:51:57.529938Z",
     "iopub.status.idle": "2023-08-22T14:51:57.540596Z",
     "shell.execute_reply": "2023-08-22T14:51:57.540143Z"
    }
   },
   "outputs": [
    {
     "data": {
      "image/png": "[encoded data removed]",
      "text/plain": [
       "<Figure size 432x288 with 1 Axes>"
      ]
     },
     "metadata": {
      "needs_background": "light"
     },
     "output_type": "display_data"
    }
   ],
   "source": [
    "axe = solver2.plot_chi_square()"
   ]
  },
  {
   "cell_type": "code",
   "execution_count": 29,
   "metadata": {
    "execution": {
     "iopub.execute_input": "2023-08-22T14:51:57.544739Z",
     "iopub.status.busy": "2023-08-22T14:51:57.544739Z",
     "iopub.status.idle": "2023-08-22T14:51:57.555810Z",
     "shell.execute_reply": "2023-08-22T14:51:57.555810Z"
    }
   },
   "outputs": [],
   "source": [
    "check = solver2.dataset()"
   ]
  },
  {
   "cell_type": "code",
   "execution_count": 30,
   "metadata": {
    "execution": {
     "iopub.execute_input": "2023-08-22T14:51:57.559842Z",
     "iopub.status.busy": "2023-08-22T14:51:57.559842Z",
     "iopub.status.idle": "2023-08-22T14:51:57.587636Z",
     "shell.execute_reply": "2023-08-22T14:51:57.586761Z"
    }
   },
   "outputs": [
    {
     "data": {
      "text/plain": [
       "True"
      ]
     },
     "execution_count": 30,
     "metadata": {},
     "output_type": "execute_result"
    }
   ],
   "source": [
    "final.equals(check)"
   ]
  },
  {
   "cell_type": "code",
   "execution_count": 31,
   "metadata": {
    "execution": {
     "iopub.execute_input": "2023-08-22T14:51:57.592638Z",
     "iopub.status.busy": "2023-08-22T14:51:57.591755Z",
     "iopub.status.idle": "2023-08-22T14:51:57.618771Z",
     "shell.execute_reply": "2023-08-22T14:51:57.617772Z"
    }
   },
   "outputs": [
    {
     "data": {
      "text/plain": [
       "True"
      ]
     },
     "execution_count": 31,
     "metadata": {},
     "output_type": "execute_result"
    }
   ],
   "source": [
    "np.allclose(solution[\"parameters\"], solution2[\"parameters\"])"
   ]
  },
  {
   "cell_type": "code",
   "execution_count": null,
   "metadata": {},
   "outputs": [],
   "source": []
  },
  {
   "cell_type": "code",
   "execution_count": null,
   "metadata": {},
   "outputs": [],
   "source": []
  }
 ],
 "metadata": {
  "kernelspec": {
   "display_name": "Python 3 (ipykernel)",
   "language": "python",
   "name": "python3"
  },
  "language_info": {
   "codemirror_mode": {
    "name": "ipython",
    "version": 3
   },
   "file_extension": ".py",
   "mimetype": "text/x-python",
   "name": "python",
   "nbconvert_exporter": "python",
   "pygments_lexer": "ipython3",
   "version": "3.9.7"
  }
 },
 "nbformat": 4,
 "nbformat_minor": 4
}
