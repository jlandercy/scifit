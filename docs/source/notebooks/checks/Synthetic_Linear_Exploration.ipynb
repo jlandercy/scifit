{
 "cells": [
  {
   "cell_type": "code",
   "execution_count": 1,
   "metadata": {
    "execution": {
     "iopub.execute_input": "2023-08-25T08:12:34.516899Z",
     "iopub.status.busy": "2023-08-25T08:12:34.516899Z",
     "iopub.status.idle": "2023-08-25T08:12:35.914337Z",
     "shell.execute_reply": "2023-08-25T08:12:35.914337Z"
    }
   },
   "outputs": [],
   "source": [
    "import numpy as np\n",
    "from scifit.solvers import linear, scientific, specials"
   ]
  },
  {
   "cell_type": "code",
   "execution_count": 2,
   "metadata": {
    "execution": {
     "iopub.execute_input": "2023-08-25T08:12:35.914337Z",
     "iopub.status.busy": "2023-08-25T08:12:35.914337Z",
     "iopub.status.idle": "2023-08-25T08:12:35.929882Z",
     "shell.execute_reply": "2023-08-25T08:12:35.929882Z"
    }
   },
   "outputs": [],
   "source": [
    "solver = linear.LinearFitSolver()"
   ]
  },
  {
   "cell_type": "code",
   "execution_count": 3,
   "metadata": {
    "execution": {
     "iopub.execute_input": "2023-08-25T08:12:35.929882Z",
     "iopub.status.busy": "2023-08-25T08:12:35.929882Z",
     "iopub.status.idle": "2023-08-25T08:12:35.945596Z",
     "shell.execute_reply": "2023-08-25T08:12:35.945596Z"
    }
   },
   "outputs": [],
   "source": [
    "data = solver.synthetic_dataset(\n",
    "    sigma=0.015, xmin=-1., xmax=4., parameters=[3.0, 2.0], resolution=15, scale_mode=\"auto\"\n",
    ")"
   ]
  },
  {
   "cell_type": "code",
   "execution_count": 4,
   "metadata": {
    "execution": {
     "iopub.execute_input": "2023-08-25T08:12:35.948000Z",
     "iopub.status.busy": "2023-08-25T08:12:35.948000Z",
     "iopub.status.idle": "2023-08-25T08:12:35.977269Z",
     "shell.execute_reply": "2023-08-25T08:12:35.977269Z"
    }
   },
   "outputs": [
    {
     "data": {
      "text/html": [
       "<div>\n",
       "<style scoped>\n",
       "    .dataframe tbody tr th:only-of-type {\n",
       "        vertical-align: middle;\n",
       "    }\n",
       "\n",
       "    .dataframe tbody tr th {\n",
       "        vertical-align: top;\n",
       "    }\n",
       "\n",
       "    .dataframe thead th {\n",
       "        text-align: right;\n",
       "    }\n",
       "</style>\n",
       "<table border=\"1\" class=\"dataframe\">\n",
       "  <thead>\n",
       "    <tr style=\"text-align: right;\">\n",
       "      <th></th>\n",
       "      <th>x0</th>\n",
       "      <th>y</th>\n",
       "      <th>sy</th>\n",
       "      <th>yref</th>\n",
       "      <th>ynoise</th>\n",
       "    </tr>\n",
       "    <tr>\n",
       "      <th>id</th>\n",
       "      <th></th>\n",
       "      <th></th>\n",
       "      <th></th>\n",
       "      <th></th>\n",
       "      <th></th>\n",
       "    </tr>\n",
       "  </thead>\n",
       "  <tbody>\n",
       "    <tr>\n",
       "      <th>9</th>\n",
       "      <td>1.857143</td>\n",
       "      <td>7.573194</td>\n",
       "      <td>0.1125</td>\n",
       "      <td>7.571429</td>\n",
       "      <td>0.001766</td>\n",
       "    </tr>\n",
       "    <tr>\n",
       "      <th>6</th>\n",
       "      <td>0.785714</td>\n",
       "      <td>4.456949</td>\n",
       "      <td>0.1125</td>\n",
       "      <td>4.357143</td>\n",
       "      <td>0.099806</td>\n",
       "    </tr>\n",
       "    <tr>\n",
       "      <th>14</th>\n",
       "      <td>3.642857</td>\n",
       "      <td>12.701180</td>\n",
       "      <td>0.1125</td>\n",
       "      <td>12.928571</td>\n",
       "      <td>-0.227391</td>\n",
       "    </tr>\n",
       "  </tbody>\n",
       "</table>\n",
       "</div>"
      ],
      "text/plain": [
       "          x0          y      sy       yref    ynoise\n",
       "id                                                  \n",
       "9   1.857143   7.573194  0.1125   7.571429  0.001766\n",
       "6   0.785714   4.456949  0.1125   4.357143  0.099806\n",
       "14  3.642857  12.701180  0.1125  12.928571 -0.227391"
      ]
     },
     "execution_count": 4,
     "metadata": {},
     "output_type": "execute_result"
    }
   ],
   "source": [
    "data.sample(3)"
   ]
  },
  {
   "cell_type": "code",
   "execution_count": null,
   "metadata": {
    "execution": {
     "iopub.execute_input": "2023-08-22T14:51:56.642826Z",
     "iopub.status.busy": "2023-08-22T14:51:56.642826Z",
     "iopub.status.idle": "2023-08-22T14:51:57.130855Z",
     "shell.execute_reply": "2023-08-22T14:51:57.129858Z"
    }
   },
   "outputs": [],
   "source": []
  },
  {
   "cell_type": "code",
   "execution_count": 5,
   "metadata": {
    "execution": {
     "iopub.execute_input": "2023-08-25T08:12:35.977269Z",
     "iopub.status.busy": "2023-08-25T08:12:35.977269Z",
     "iopub.status.idle": "2023-08-25T08:12:36.495793Z",
     "shell.execute_reply": "2023-08-25T08:12:36.495793Z"
    }
   },
   "outputs": [
    {
     "ename": "InputDataError",
     "evalue": "Features must be a two dimensional array",
     "output_type": "error",
     "traceback": [
      "\u001b[1;31m---------------------------------------------------------------------------\u001b[0m",
      "\u001b[1;31mInputDataError\u001b[0m                            Traceback (most recent call last)",
      "Cell \u001b[1;32mIn[5], line 5\u001b[0m\n\u001b[0;32m      1\u001b[0m solver \u001b[38;5;241m=\u001b[39m linear\u001b[38;5;241m.\u001b[39mLinearFitSolver()\n\u001b[0;32m      2\u001b[0m data \u001b[38;5;241m=\u001b[39m solver\u001b[38;5;241m.\u001b[39msynthetic_dataset(\n\u001b[0;32m      3\u001b[0m     sigma\u001b[38;5;241m=\u001b[39m\u001b[38;5;241m0.075\u001b[39m, xmin\u001b[38;5;241m=\u001b[39m\u001b[38;5;241m-\u001b[39m\u001b[38;5;241m1.\u001b[39m, xmax\u001b[38;5;241m=\u001b[39m\u001b[38;5;241m4.\u001b[39m, parameters\u001b[38;5;241m=\u001b[39m[\u001b[38;5;241m3.0\u001b[39m, \u001b[38;5;241m2.0\u001b[39m], resolution\u001b[38;5;241m=\u001b[39m\u001b[38;5;241m15\u001b[39m, scale_mode\u001b[38;5;241m=\u001b[39m\u001b[38;5;124m\"\u001b[39m\u001b[38;5;124mauto\u001b[39m\u001b[38;5;124m\"\u001b[39m\n\u001b[0;32m      4\u001b[0m )\n\u001b[1;32m----> 5\u001b[0m solution \u001b[38;5;241m=\u001b[39m \u001b[43msolver\u001b[49m\u001b[38;5;241;43m.\u001b[39;49m\u001b[43mfit\u001b[49m\u001b[43m(\u001b[49m\u001b[43mdata\u001b[49m\u001b[38;5;241;43m=\u001b[39;49m\u001b[43mdata\u001b[49m\u001b[43m)\u001b[49m\n\u001b[0;32m      6\u001b[0m axe \u001b[38;5;241m=\u001b[39m solver\u001b[38;5;241m.\u001b[39mplot_fit()\n\u001b[0;32m      7\u001b[0m axe \u001b[38;5;241m=\u001b[39m solver\u001b[38;5;241m.\u001b[39mplot_chi_square()\n",
      "File \u001b[1;32m~\\AppData\\Roaming\\Python\\Python310\\site-packages\\scifit\\interfaces\\mixins.py:339\u001b[0m, in \u001b[0;36mFitSolverMixin.fit\u001b[1;34m(self, xdata, ydata, sigma, **kwargs)\u001b[0m\n\u001b[0;32m    337\u001b[0m \u001b[38;5;250m\u001b[39m\u001b[38;5;124;03m\"\"\"Clean old data, store data and fit data to model\"\"\"\u001b[39;00m\n\u001b[0;32m    338\u001b[0m \u001b[38;5;28mself\u001b[39m\u001b[38;5;241m.\u001b[39mclean()\n\u001b[1;32m--> 339\u001b[0m \u001b[38;5;28;43mself\u001b[39;49m\u001b[38;5;241;43m.\u001b[39;49m\u001b[43m_store\u001b[49m\u001b[43m(\u001b[49m\u001b[43mxdata\u001b[49m\u001b[38;5;241;43m=\u001b[39;49m\u001b[43mxdata\u001b[49m\u001b[43m,\u001b[49m\u001b[43m \u001b[49m\u001b[43mydata\u001b[49m\u001b[38;5;241;43m=\u001b[39;49m\u001b[43mydata\u001b[49m\u001b[43m,\u001b[49m\u001b[43m \u001b[49m\u001b[43msigma\u001b[49m\u001b[38;5;241;43m=\u001b[39;49m\u001b[43msigma\u001b[49m\u001b[43m)\u001b[49m\n\u001b[0;32m    340\u001b[0m solution \u001b[38;5;241m=\u001b[39m \u001b[38;5;28mself\u001b[39m\u001b[38;5;241m.\u001b[39m_fit(xdata\u001b[38;5;241m=\u001b[39mxdata, ydata\u001b[38;5;241m=\u001b[39mydata, sigma\u001b[38;5;241m=\u001b[39msigma, \u001b[38;5;241m*\u001b[39m\u001b[38;5;241m*\u001b[39mkwargs)\n\u001b[0;32m    341\u001b[0m \u001b[38;5;28;01mreturn\u001b[39;00m solution\n",
      "File \u001b[1;32m~\\AppData\\Roaming\\Python\\Python310\\site-packages\\scifit\\interfaces\\mixins.py:320\u001b[0m, in \u001b[0;36mFitSolverMixin._store\u001b[1;34m(self, xdata, ydata, sigma)\u001b[0m\n\u001b[0;32m    317\u001b[0m     xdata, ydata, sigma \u001b[38;5;241m=\u001b[39m \u001b[38;5;28mself\u001b[39m\u001b[38;5;241m.\u001b[39msplit_dataset(xdata)\n\u001b[0;32m    319\u001b[0m \u001b[38;5;66;03m# Validate data:\u001b[39;00m\n\u001b[1;32m--> 320\u001b[0m xdata, ydata, sigma \u001b[38;5;241m=\u001b[39m \u001b[38;5;28;43mself\u001b[39;49m\u001b[38;5;241;43m.\u001b[39;49m\u001b[43mvalidate\u001b[49m\u001b[43m(\u001b[49m\u001b[43mxdata\u001b[49m\u001b[38;5;241;43m=\u001b[39;49m\u001b[43mxdata\u001b[49m\u001b[43m,\u001b[49m\u001b[43m \u001b[49m\u001b[43mydata\u001b[49m\u001b[38;5;241;43m=\u001b[39;49m\u001b[43mydata\u001b[49m\u001b[43m,\u001b[49m\u001b[43m \u001b[49m\u001b[43msigma\u001b[49m\u001b[38;5;241;43m=\u001b[39;49m\u001b[43msigma\u001b[49m\u001b[43m)\u001b[49m\n\u001b[0;32m    322\u001b[0m \u001b[38;5;28mself\u001b[39m\u001b[38;5;241m.\u001b[39m_xdata \u001b[38;5;241m=\u001b[39m xdata\n\u001b[0;32m    323\u001b[0m \u001b[38;5;28mself\u001b[39m\u001b[38;5;241m.\u001b[39m_ydata \u001b[38;5;241m=\u001b[39m ydata\n",
      "File \u001b[1;32m~\\AppData\\Roaming\\Python\\Python310\\site-packages\\scifit\\interfaces\\mixins.py:238\u001b[0m, in \u001b[0;36mFitSolverMixin.validate\u001b[1;34m(self, xdata, ydata, sigma)\u001b[0m\n\u001b[0;32m    235\u001b[0m ydata \u001b[38;5;241m=\u001b[39m np\u001b[38;5;241m.\u001b[39marray(ydata)\n\u001b[0;32m    237\u001b[0m \u001b[38;5;28;01mif\u001b[39;00m xdata\u001b[38;5;241m.\u001b[39mndim \u001b[38;5;241m!=\u001b[39m \u001b[38;5;241m2\u001b[39m:\n\u001b[1;32m--> 238\u001b[0m     \u001b[38;5;28;01mraise\u001b[39;00m InputDataError(\u001b[38;5;124m\"\u001b[39m\u001b[38;5;124mFeatures must be a two dimensional array\u001b[39m\u001b[38;5;124m\"\u001b[39m)\n\u001b[0;32m    240\u001b[0m \u001b[38;5;28;01mif\u001b[39;00m xdata\u001b[38;5;241m.\u001b[39mshape[\u001b[38;5;241m0\u001b[39m] \u001b[38;5;241m!=\u001b[39m ydata\u001b[38;5;241m.\u001b[39mshape[\u001b[38;5;241m0\u001b[39m]:\n\u001b[0;32m    241\u001b[0m     \u001b[38;5;28;01mraise\u001b[39;00m InputDataError(\n\u001b[0;32m    242\u001b[0m         \u001b[38;5;124m\"\u001b[39m\u001b[38;5;124mIncompatible shapes between x \u001b[39m\u001b[38;5;132;01m%s\u001b[39;00m\u001b[38;5;124m and y \u001b[39m\u001b[38;5;132;01m%s\u001b[39;00m\u001b[38;5;124m\"\u001b[39m \u001b[38;5;241m%\u001b[39m (xdata\u001b[38;5;241m.\u001b[39mshape, ydata\u001b[38;5;241m.\u001b[39mshape)\n\u001b[0;32m    243\u001b[0m     )\n",
      "\u001b[1;31mInputDataError\u001b[0m: Features must be a two dimensional array"
     ]
    }
   ],
   "source": [
    "solver = linear.LinearFitSolver()\n",
    "data = solver.synthetic_dataset(\n",
    "    sigma=0.075, xmin=-1., xmax=4., parameters=[3.0, 2.0], resolution=15, scale_mode=\"auto\"\n",
    ")\n",
    "solution = solver.fit(data=data)\n",
    "axe = solver.plot_fit()\n",
    "axe = solver.plot_chi_square()"
   ]
  },
  {
   "cell_type": "code",
   "execution_count": null,
   "metadata": {
    "execution": {
     "iopub.execute_input": "2023-08-22T14:51:57.150407Z",
     "iopub.status.busy": "2023-08-22T14:51:57.150407Z",
     "iopub.status.idle": "2023-08-22T14:51:57.161602Z",
     "shell.execute_reply": "2023-08-22T14:51:57.160504Z"
    }
   },
   "outputs": [],
   "source": []
  },
  {
   "cell_type": "code",
   "execution_count": 6,
   "metadata": {
    "execution": {
     "iopub.execute_input": "2023-08-25T08:12:36.495793Z",
     "iopub.status.busy": "2023-08-25T08:12:36.495793Z",
     "iopub.status.idle": "2023-08-25T08:12:36.542681Z",
     "shell.execute_reply": "2023-08-25T08:12:36.542681Z"
    }
   },
   "outputs": [
    {
     "ename": "InputDataError",
     "evalue": "Features must be a two dimensional array",
     "output_type": "error",
     "traceback": [
      "\u001b[1;31m---------------------------------------------------------------------------\u001b[0m",
      "\u001b[1;31mInputDataError\u001b[0m                            Traceback (most recent call last)",
      "Cell \u001b[1;32mIn[6], line 6\u001b[0m\n\u001b[0;32m      2\u001b[0m data \u001b[38;5;241m=\u001b[39m solver\u001b[38;5;241m.\u001b[39msynthetic_dataset(\n\u001b[0;32m      3\u001b[0m     sigma\u001b[38;5;241m=\u001b[39m\u001b[38;5;241m0.075\u001b[39m, xmin\u001b[38;5;241m=\u001b[39m\u001b[38;5;241m-\u001b[39m\u001b[38;5;241m1.\u001b[39m, xmax\u001b[38;5;241m=\u001b[39m\u001b[38;5;241m4.\u001b[39m, parameters\u001b[38;5;241m=\u001b[39m[\u001b[38;5;241m3.0\u001b[39m, \u001b[38;5;241m2.0\u001b[39m], resolution\u001b[38;5;241m=\u001b[39m\u001b[38;5;241m15\u001b[39m, scale_mode\u001b[38;5;241m=\u001b[39m\u001b[38;5;124m\"\u001b[39m\u001b[38;5;124mauto\u001b[39m\u001b[38;5;124m\"\u001b[39m\n\u001b[0;32m      4\u001b[0m )\n\u001b[0;32m      5\u001b[0m data[\u001b[38;5;124m\"\u001b[39m\u001b[38;5;124msy\u001b[39m\u001b[38;5;124m\"\u001b[39m] \u001b[38;5;241m*\u001b[39m\u001b[38;5;241m=\u001b[39m \u001b[38;5;241m2.\u001b[39m\n\u001b[1;32m----> 6\u001b[0m solution \u001b[38;5;241m=\u001b[39m \u001b[43msolver\u001b[49m\u001b[38;5;241;43m.\u001b[39;49m\u001b[43mfit\u001b[49m\u001b[43m(\u001b[49m\u001b[43mdata\u001b[49m\u001b[38;5;241;43m=\u001b[39;49m\u001b[43mdata\u001b[49m\u001b[43m)\u001b[49m\n\u001b[0;32m      7\u001b[0m axe \u001b[38;5;241m=\u001b[39m solver\u001b[38;5;241m.\u001b[39mplot_fit()\n\u001b[0;32m      8\u001b[0m axe \u001b[38;5;241m=\u001b[39m solver\u001b[38;5;241m.\u001b[39mplot_chi_square()\n",
      "File \u001b[1;32m~\\AppData\\Roaming\\Python\\Python310\\site-packages\\scifit\\interfaces\\mixins.py:339\u001b[0m, in \u001b[0;36mFitSolverMixin.fit\u001b[1;34m(self, xdata, ydata, sigma, **kwargs)\u001b[0m\n\u001b[0;32m    337\u001b[0m \u001b[38;5;250m\u001b[39m\u001b[38;5;124;03m\"\"\"Clean old data, store data and fit data to model\"\"\"\u001b[39;00m\n\u001b[0;32m    338\u001b[0m \u001b[38;5;28mself\u001b[39m\u001b[38;5;241m.\u001b[39mclean()\n\u001b[1;32m--> 339\u001b[0m \u001b[38;5;28;43mself\u001b[39;49m\u001b[38;5;241;43m.\u001b[39;49m\u001b[43m_store\u001b[49m\u001b[43m(\u001b[49m\u001b[43mxdata\u001b[49m\u001b[38;5;241;43m=\u001b[39;49m\u001b[43mxdata\u001b[49m\u001b[43m,\u001b[49m\u001b[43m \u001b[49m\u001b[43mydata\u001b[49m\u001b[38;5;241;43m=\u001b[39;49m\u001b[43mydata\u001b[49m\u001b[43m,\u001b[49m\u001b[43m \u001b[49m\u001b[43msigma\u001b[49m\u001b[38;5;241;43m=\u001b[39;49m\u001b[43msigma\u001b[49m\u001b[43m)\u001b[49m\n\u001b[0;32m    340\u001b[0m solution \u001b[38;5;241m=\u001b[39m \u001b[38;5;28mself\u001b[39m\u001b[38;5;241m.\u001b[39m_fit(xdata\u001b[38;5;241m=\u001b[39mxdata, ydata\u001b[38;5;241m=\u001b[39mydata, sigma\u001b[38;5;241m=\u001b[39msigma, \u001b[38;5;241m*\u001b[39m\u001b[38;5;241m*\u001b[39mkwargs)\n\u001b[0;32m    341\u001b[0m \u001b[38;5;28;01mreturn\u001b[39;00m solution\n",
      "File \u001b[1;32m~\\AppData\\Roaming\\Python\\Python310\\site-packages\\scifit\\interfaces\\mixins.py:320\u001b[0m, in \u001b[0;36mFitSolverMixin._store\u001b[1;34m(self, xdata, ydata, sigma)\u001b[0m\n\u001b[0;32m    317\u001b[0m     xdata, ydata, sigma \u001b[38;5;241m=\u001b[39m \u001b[38;5;28mself\u001b[39m\u001b[38;5;241m.\u001b[39msplit_dataset(xdata)\n\u001b[0;32m    319\u001b[0m \u001b[38;5;66;03m# Validate data:\u001b[39;00m\n\u001b[1;32m--> 320\u001b[0m xdata, ydata, sigma \u001b[38;5;241m=\u001b[39m \u001b[38;5;28;43mself\u001b[39;49m\u001b[38;5;241;43m.\u001b[39;49m\u001b[43mvalidate\u001b[49m\u001b[43m(\u001b[49m\u001b[43mxdata\u001b[49m\u001b[38;5;241;43m=\u001b[39;49m\u001b[43mxdata\u001b[49m\u001b[43m,\u001b[49m\u001b[43m \u001b[49m\u001b[43mydata\u001b[49m\u001b[38;5;241;43m=\u001b[39;49m\u001b[43mydata\u001b[49m\u001b[43m,\u001b[49m\u001b[43m \u001b[49m\u001b[43msigma\u001b[49m\u001b[38;5;241;43m=\u001b[39;49m\u001b[43msigma\u001b[49m\u001b[43m)\u001b[49m\n\u001b[0;32m    322\u001b[0m \u001b[38;5;28mself\u001b[39m\u001b[38;5;241m.\u001b[39m_xdata \u001b[38;5;241m=\u001b[39m xdata\n\u001b[0;32m    323\u001b[0m \u001b[38;5;28mself\u001b[39m\u001b[38;5;241m.\u001b[39m_ydata \u001b[38;5;241m=\u001b[39m ydata\n",
      "File \u001b[1;32m~\\AppData\\Roaming\\Python\\Python310\\site-packages\\scifit\\interfaces\\mixins.py:238\u001b[0m, in \u001b[0;36mFitSolverMixin.validate\u001b[1;34m(self, xdata, ydata, sigma)\u001b[0m\n\u001b[0;32m    235\u001b[0m ydata \u001b[38;5;241m=\u001b[39m np\u001b[38;5;241m.\u001b[39marray(ydata)\n\u001b[0;32m    237\u001b[0m \u001b[38;5;28;01mif\u001b[39;00m xdata\u001b[38;5;241m.\u001b[39mndim \u001b[38;5;241m!=\u001b[39m \u001b[38;5;241m2\u001b[39m:\n\u001b[1;32m--> 238\u001b[0m     \u001b[38;5;28;01mraise\u001b[39;00m InputDataError(\u001b[38;5;124m\"\u001b[39m\u001b[38;5;124mFeatures must be a two dimensional array\u001b[39m\u001b[38;5;124m\"\u001b[39m)\n\u001b[0;32m    240\u001b[0m \u001b[38;5;28;01mif\u001b[39;00m xdata\u001b[38;5;241m.\u001b[39mshape[\u001b[38;5;241m0\u001b[39m] \u001b[38;5;241m!=\u001b[39m ydata\u001b[38;5;241m.\u001b[39mshape[\u001b[38;5;241m0\u001b[39m]:\n\u001b[0;32m    241\u001b[0m     \u001b[38;5;28;01mraise\u001b[39;00m InputDataError(\n\u001b[0;32m    242\u001b[0m         \u001b[38;5;124m\"\u001b[39m\u001b[38;5;124mIncompatible shapes between x \u001b[39m\u001b[38;5;132;01m%s\u001b[39;00m\u001b[38;5;124m and y \u001b[39m\u001b[38;5;132;01m%s\u001b[39;00m\u001b[38;5;124m\"\u001b[39m \u001b[38;5;241m%\u001b[39m (xdata\u001b[38;5;241m.\u001b[39mshape, ydata\u001b[38;5;241m.\u001b[39mshape)\n\u001b[0;32m    243\u001b[0m     )\n",
      "\u001b[1;31mInputDataError\u001b[0m: Features must be a two dimensional array"
     ]
    }
   ],
   "source": [
    "solver = linear.LinearFitSolver()\n",
    "data = solver.synthetic_dataset(\n",
    "    sigma=0.075, xmin=-1., xmax=4., parameters=[3.0, 2.0], resolution=15, scale_mode=\"auto\"\n",
    ")\n",
    "data[\"sy\"] *= 2.\n",
    "solution = solver.fit(data=data)\n",
    "axe = solver.plot_fit()\n",
    "axe = solver.plot_chi_square()"
   ]
  },
  {
   "cell_type": "code",
   "execution_count": null,
   "metadata": {},
   "outputs": [],
   "source": []
  },
  {
   "cell_type": "code",
   "execution_count": 7,
   "metadata": {
    "execution": {
     "iopub.execute_input": "2023-08-25T08:12:36.542681Z",
     "iopub.status.busy": "2023-08-25T08:12:36.542681Z",
     "iopub.status.idle": "2023-08-25T08:12:36.605065Z",
     "shell.execute_reply": "2023-08-25T08:12:36.605065Z"
    }
   },
   "outputs": [
    {
     "ename": "InputDataError",
     "evalue": "Features must be a two dimensional array",
     "output_type": "error",
     "traceback": [
      "\u001b[1;31m---------------------------------------------------------------------------\u001b[0m",
      "\u001b[1;31mInputDataError\u001b[0m                            Traceback (most recent call last)",
      "Cell \u001b[1;32mIn[7], line 6\u001b[0m\n\u001b[0;32m      2\u001b[0m data \u001b[38;5;241m=\u001b[39m solver\u001b[38;5;241m.\u001b[39msynthetic_dataset(\n\u001b[0;32m      3\u001b[0m     sigma\u001b[38;5;241m=\u001b[39m\u001b[38;5;241m0.075\u001b[39m, xmin\u001b[38;5;241m=\u001b[39m\u001b[38;5;241m-\u001b[39m\u001b[38;5;241m1.\u001b[39m, xmax\u001b[38;5;241m=\u001b[39m\u001b[38;5;241m4.\u001b[39m, parameters\u001b[38;5;241m=\u001b[39m[\u001b[38;5;241m3.0\u001b[39m, \u001b[38;5;241m2.0\u001b[39m], resolution\u001b[38;5;241m=\u001b[39m\u001b[38;5;241m15\u001b[39m, scale_mode\u001b[38;5;241m=\u001b[39m\u001b[38;5;124m\"\u001b[39m\u001b[38;5;124mauto\u001b[39m\u001b[38;5;124m\"\u001b[39m\n\u001b[0;32m      4\u001b[0m )\n\u001b[0;32m      5\u001b[0m data[\u001b[38;5;124m\"\u001b[39m\u001b[38;5;124msy\u001b[39m\u001b[38;5;124m\"\u001b[39m] \u001b[38;5;241m*\u001b[39m\u001b[38;5;241m=\u001b[39m \u001b[38;5;241m0.5\u001b[39m\n\u001b[1;32m----> 6\u001b[0m solution \u001b[38;5;241m=\u001b[39m \u001b[43msolver\u001b[49m\u001b[38;5;241;43m.\u001b[39;49m\u001b[43mfit\u001b[49m\u001b[43m(\u001b[49m\u001b[43mdata\u001b[49m\u001b[38;5;241;43m=\u001b[39;49m\u001b[43mdata\u001b[49m\u001b[43m)\u001b[49m\n\u001b[0;32m      7\u001b[0m axe \u001b[38;5;241m=\u001b[39m solver\u001b[38;5;241m.\u001b[39mplot_fit()\n\u001b[0;32m      8\u001b[0m axe \u001b[38;5;241m=\u001b[39m solver\u001b[38;5;241m.\u001b[39mplot_chi_square()\n",
      "File \u001b[1;32m~\\AppData\\Roaming\\Python\\Python310\\site-packages\\scifit\\interfaces\\mixins.py:339\u001b[0m, in \u001b[0;36mFitSolverMixin.fit\u001b[1;34m(self, xdata, ydata, sigma, **kwargs)\u001b[0m\n\u001b[0;32m    337\u001b[0m \u001b[38;5;250m\u001b[39m\u001b[38;5;124;03m\"\"\"Clean old data, store data and fit data to model\"\"\"\u001b[39;00m\n\u001b[0;32m    338\u001b[0m \u001b[38;5;28mself\u001b[39m\u001b[38;5;241m.\u001b[39mclean()\n\u001b[1;32m--> 339\u001b[0m \u001b[38;5;28;43mself\u001b[39;49m\u001b[38;5;241;43m.\u001b[39;49m\u001b[43m_store\u001b[49m\u001b[43m(\u001b[49m\u001b[43mxdata\u001b[49m\u001b[38;5;241;43m=\u001b[39;49m\u001b[43mxdata\u001b[49m\u001b[43m,\u001b[49m\u001b[43m \u001b[49m\u001b[43mydata\u001b[49m\u001b[38;5;241;43m=\u001b[39;49m\u001b[43mydata\u001b[49m\u001b[43m,\u001b[49m\u001b[43m \u001b[49m\u001b[43msigma\u001b[49m\u001b[38;5;241;43m=\u001b[39;49m\u001b[43msigma\u001b[49m\u001b[43m)\u001b[49m\n\u001b[0;32m    340\u001b[0m solution \u001b[38;5;241m=\u001b[39m \u001b[38;5;28mself\u001b[39m\u001b[38;5;241m.\u001b[39m_fit(xdata\u001b[38;5;241m=\u001b[39mxdata, ydata\u001b[38;5;241m=\u001b[39mydata, sigma\u001b[38;5;241m=\u001b[39msigma, \u001b[38;5;241m*\u001b[39m\u001b[38;5;241m*\u001b[39mkwargs)\n\u001b[0;32m    341\u001b[0m \u001b[38;5;28;01mreturn\u001b[39;00m solution\n",
      "File \u001b[1;32m~\\AppData\\Roaming\\Python\\Python310\\site-packages\\scifit\\interfaces\\mixins.py:320\u001b[0m, in \u001b[0;36mFitSolverMixin._store\u001b[1;34m(self, xdata, ydata, sigma)\u001b[0m\n\u001b[0;32m    317\u001b[0m     xdata, ydata, sigma \u001b[38;5;241m=\u001b[39m \u001b[38;5;28mself\u001b[39m\u001b[38;5;241m.\u001b[39msplit_dataset(xdata)\n\u001b[0;32m    319\u001b[0m \u001b[38;5;66;03m# Validate data:\u001b[39;00m\n\u001b[1;32m--> 320\u001b[0m xdata, ydata, sigma \u001b[38;5;241m=\u001b[39m \u001b[38;5;28;43mself\u001b[39;49m\u001b[38;5;241;43m.\u001b[39;49m\u001b[43mvalidate\u001b[49m\u001b[43m(\u001b[49m\u001b[43mxdata\u001b[49m\u001b[38;5;241;43m=\u001b[39;49m\u001b[43mxdata\u001b[49m\u001b[43m,\u001b[49m\u001b[43m \u001b[49m\u001b[43mydata\u001b[49m\u001b[38;5;241;43m=\u001b[39;49m\u001b[43mydata\u001b[49m\u001b[43m,\u001b[49m\u001b[43m \u001b[49m\u001b[43msigma\u001b[49m\u001b[38;5;241;43m=\u001b[39;49m\u001b[43msigma\u001b[49m\u001b[43m)\u001b[49m\n\u001b[0;32m    322\u001b[0m \u001b[38;5;28mself\u001b[39m\u001b[38;5;241m.\u001b[39m_xdata \u001b[38;5;241m=\u001b[39m xdata\n\u001b[0;32m    323\u001b[0m \u001b[38;5;28mself\u001b[39m\u001b[38;5;241m.\u001b[39m_ydata \u001b[38;5;241m=\u001b[39m ydata\n",
      "File \u001b[1;32m~\\AppData\\Roaming\\Python\\Python310\\site-packages\\scifit\\interfaces\\mixins.py:238\u001b[0m, in \u001b[0;36mFitSolverMixin.validate\u001b[1;34m(self, xdata, ydata, sigma)\u001b[0m\n\u001b[0;32m    235\u001b[0m ydata \u001b[38;5;241m=\u001b[39m np\u001b[38;5;241m.\u001b[39marray(ydata)\n\u001b[0;32m    237\u001b[0m \u001b[38;5;28;01mif\u001b[39;00m xdata\u001b[38;5;241m.\u001b[39mndim \u001b[38;5;241m!=\u001b[39m \u001b[38;5;241m2\u001b[39m:\n\u001b[1;32m--> 238\u001b[0m     \u001b[38;5;28;01mraise\u001b[39;00m InputDataError(\u001b[38;5;124m\"\u001b[39m\u001b[38;5;124mFeatures must be a two dimensional array\u001b[39m\u001b[38;5;124m\"\u001b[39m)\n\u001b[0;32m    240\u001b[0m \u001b[38;5;28;01mif\u001b[39;00m xdata\u001b[38;5;241m.\u001b[39mshape[\u001b[38;5;241m0\u001b[39m] \u001b[38;5;241m!=\u001b[39m ydata\u001b[38;5;241m.\u001b[39mshape[\u001b[38;5;241m0\u001b[39m]:\n\u001b[0;32m    241\u001b[0m     \u001b[38;5;28;01mraise\u001b[39;00m InputDataError(\n\u001b[0;32m    242\u001b[0m         \u001b[38;5;124m\"\u001b[39m\u001b[38;5;124mIncompatible shapes between x \u001b[39m\u001b[38;5;132;01m%s\u001b[39;00m\u001b[38;5;124m and y \u001b[39m\u001b[38;5;132;01m%s\u001b[39;00m\u001b[38;5;124m\"\u001b[39m \u001b[38;5;241m%\u001b[39m (xdata\u001b[38;5;241m.\u001b[39mshape, ydata\u001b[38;5;241m.\u001b[39mshape)\n\u001b[0;32m    243\u001b[0m     )\n",
      "\u001b[1;31mInputDataError\u001b[0m: Features must be a two dimensional array"
     ]
    }
   ],
   "source": [
    "solver = linear.LinearFitSolver()\n",
    "data = solver.synthetic_dataset(\n",
    "    sigma=0.075, xmin=-1., xmax=4., parameters=[3.0, 2.0], resolution=15, scale_mode=\"auto\"\n",
    ")\n",
    "data[\"sy\"] *= 0.5\n",
    "solution = solver.fit(data=data)\n",
    "axe = solver.plot_fit()\n",
    "axe = solver.plot_chi_square()"
   ]
  },
  {
   "cell_type": "code",
   "execution_count": null,
   "metadata": {},
   "outputs": [],
   "source": []
  }
 ],
 "metadata": {
  "kernelspec": {
   "display_name": "Python 3 (ipykernel)",
   "language": "python",
   "name": "python3"
  },
  "language_info": {
   "codemirror_mode": {
    "name": "ipython",
    "version": 3
   },
   "file_extension": ".py",
   "mimetype": "text/x-python",
   "name": "python",
   "nbconvert_exporter": "python",
   "pygments_lexer": "ipython3",
   "version": "3.10.12"
  }
 },
 "nbformat": 4,
 "nbformat_minor": 4
}
