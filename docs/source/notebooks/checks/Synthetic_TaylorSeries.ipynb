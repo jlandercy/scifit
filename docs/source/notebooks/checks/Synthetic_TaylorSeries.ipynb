{
 "cells": [
  {
   "cell_type": "code",
   "execution_count": 1,
   "metadata": {
    "execution": {
     "iopub.execute_input": "2023-08-22T09:38:42.171955Z",
     "iopub.status.busy": "2023-08-22T09:38:42.171955Z",
     "iopub.status.idle": "2023-08-22T09:38:43.591688Z",
     "shell.execute_reply": "2023-08-22T09:38:43.591688Z"
    }
   },
   "outputs": [],
   "source": [
    "import numpy as np\n",
    "from scifit.solvers import linear, scientific, specials\n",
    "from scifit.interfaces import generic"
   ]
  },
  {
   "cell_type": "code",
   "execution_count": 2,
   "metadata": {
    "execution": {
     "iopub.execute_input": "2023-08-22T09:38:43.591688Z",
     "iopub.status.busy": "2023-08-22T09:38:43.591688Z",
     "iopub.status.idle": "2023-08-22T09:38:43.607512Z",
     "shell.execute_reply": "2023-08-22T09:38:43.607512Z"
    }
   },
   "outputs": [],
   "source": [
    "class Taylor(generic.FitSolverInterface):\n",
    "    @staticmethod\n",
    "    def model(x, a, b, c):\n",
    "        return a * np.power(x[:, 0], 2)  + b * np.power(x[:, 0], 1) + c * np.power(x[:, 0], 0) \n",
    "\n",
    "class Exp(generic.FitSolverInterface):\n",
    "    @staticmethod\n",
    "    def model(x, a, b, c):\n",
    "        return a * np.exp(b * x[:, 0]) + c"
   ]
  },
  {
   "cell_type": "code",
   "execution_count": 3,
   "metadata": {
    "execution": {
     "iopub.execute_input": "2023-08-22T09:38:43.607512Z",
     "iopub.status.busy": "2023-08-22T09:38:43.607512Z",
     "iopub.status.idle": "2023-08-22T09:38:43.622961Z",
     "shell.execute_reply": "2023-08-22T09:38:43.622961Z"
    }
   },
   "outputs": [],
   "source": [
    "models = [Exp(), Taylor()]"
   ]
  },
  {
   "cell_type": "code",
   "execution_count": 4,
   "metadata": {
    "execution": {
     "iopub.execute_input": "2023-08-22T09:38:43.622961Z",
     "iopub.status.busy": "2023-08-22T09:38:43.622961Z",
     "iopub.status.idle": "2023-08-22T09:38:43.638663Z",
     "shell.execute_reply": "2023-08-22T09:38:43.638663Z"
    }
   },
   "outputs": [],
   "source": [
    "labels = {\n",
    "    \"Exp\": r\"$y = a e^{b x_1} + c$\",\n",
    "    \"Taylor\": r\"$y = ax^2_1 + bx_1 + c$\",\n",
    "}"
   ]
  },
  {
   "cell_type": "code",
   "execution_count": 5,
   "metadata": {
    "execution": {
     "iopub.execute_input": "2023-08-22T09:38:43.638663Z",
     "iopub.status.busy": "2023-08-22T09:38:43.638663Z",
     "iopub.status.idle": "2023-08-22T09:38:43.654318Z",
     "shell.execute_reply": "2023-08-22T09:38:43.654318Z"
    }
   },
   "outputs": [],
   "source": [
    "data = models[0].synthetic_dataset(sigma=0.015, xmin=2., xmax=2.5, resolution=30, parameters=[2.0, 1.0, 3.0], scale_mode=\"auto\")"
   ]
  },
  {
   "cell_type": "code",
   "execution_count": null,
   "metadata": {},
   "outputs": [],
   "source": []
  },
  {
   "cell_type": "code",
   "execution_count": 6,
   "metadata": {
    "execution": {
     "iopub.execute_input": "2023-08-22T09:38:43.654318Z",
     "iopub.status.busy": "2023-08-22T09:38:43.654318Z",
     "iopub.status.idle": "2023-08-22T09:38:44.157156Z",
     "shell.execute_reply": "2023-08-22T09:38:44.157156Z"
    }
   },
   "outputs": [
    {
     "ename": "InputDataError",
     "evalue": "Features must be a two dimensional array",
     "output_type": "error",
     "traceback": [
      "\u001b[1;31m---------------------------------------------------------------------------\u001b[0m",
      "\u001b[1;31mInputDataError\u001b[0m                            Traceback (most recent call last)",
      "Cell \u001b[1;32mIn[6], line 8\u001b[0m\n\u001b[0;32m      5\u001b[0m file \u001b[38;5;241m=\u001b[39m \u001b[38;5;124m\"\u001b[39m\u001b[38;5;124mTaylor_y\u001b[39m\u001b[38;5;132;01m{}\u001b[39;00m\u001b[38;5;124m\"\u001b[39m\u001b[38;5;241m.\u001b[39mformat(i)\n\u001b[0;32m      7\u001b[0m _ \u001b[38;5;241m=\u001b[39m model\u001b[38;5;241m.\u001b[39mload(data)\n\u001b[1;32m----> 8\u001b[0m sol \u001b[38;5;241m=\u001b[39m \u001b[43mmodel\u001b[49m\u001b[38;5;241;43m.\u001b[39;49m\u001b[43mfit\u001b[49m\u001b[43m(\u001b[49m\u001b[43m)\u001b[49m\n\u001b[0;32m     10\u001b[0m axe \u001b[38;5;241m=\u001b[39m model\u001b[38;5;241m.\u001b[39mplot_fit(title\u001b[38;5;241m=\u001b[39mtitle)\n\u001b[0;32m     11\u001b[0m axe\u001b[38;5;241m.\u001b[39mfigure\u001b[38;5;241m.\u001b[39msavefig(\u001b[38;5;124m\"\u001b[39m\u001b[38;5;124mfigures/IntroPolynomial/\u001b[39m\u001b[38;5;132;01m{}\u001b[39;00m\u001b[38;5;124m_fit.pdf\u001b[39m\u001b[38;5;124m\"\u001b[39m\u001b[38;5;241m.\u001b[39mformat(file))\n",
      "File \u001b[1;32m~\\AppData\\Roaming\\Python\\Python310\\site-packages\\scifit\\interfaces\\generic.py:809\u001b[0m, in \u001b[0;36mFitSolverInterface.fit\u001b[1;34m(self, xdata, ydata, sigma, **kwargs)\u001b[0m\n\u001b[0;32m    795\u001b[0m \u001b[38;5;250m\u001b[39m\u001b[38;5;124;03m\"\"\"\u001b[39;00m\n\u001b[0;32m    796\u001b[0m \u001b[38;5;124;03mFully solve the fitting problem for the given model and input data.\u001b[39;00m\n\u001b[0;32m    797\u001b[0m \u001b[38;5;124;03mThis method stores input data and fit results. It assesses loss function over parameter neighborhoods,\u001b[39;00m\n\u001b[1;32m   (...)\u001b[0m\n\u001b[0;32m    805\u001b[0m \n\u001b[0;32m    806\u001b[0m \u001b[38;5;124;03m\"\"\"\u001b[39;00m\n\u001b[0;32m    808\u001b[0m \u001b[38;5;28;01mif\u001b[39;00m \u001b[38;5;129;01mnot\u001b[39;00m \u001b[38;5;28mself\u001b[39m\u001b[38;5;241m.\u001b[39mstored(error\u001b[38;5;241m=\u001b[39m\u001b[38;5;28;01mFalse\u001b[39;00m):\n\u001b[1;32m--> 809\u001b[0m     \u001b[38;5;28;43mself\u001b[39;49m\u001b[38;5;241;43m.\u001b[39;49m\u001b[43mstore\u001b[49m\u001b[43m(\u001b[49m\u001b[43mxdata\u001b[49m\u001b[43m,\u001b[49m\u001b[43m \u001b[49m\u001b[43mydata\u001b[49m\u001b[43m,\u001b[49m\u001b[43m \u001b[49m\u001b[43msigma\u001b[49m\u001b[38;5;241;43m=\u001b[39;49m\u001b[43msigma\u001b[49m\u001b[43m)\u001b[49m\n\u001b[0;32m    811\u001b[0m \u001b[38;5;28mself\u001b[39m\u001b[38;5;241m.\u001b[39m_solution \u001b[38;5;241m=\u001b[39m \u001b[38;5;28mself\u001b[39m\u001b[38;5;241m.\u001b[39msolve(\n\u001b[0;32m    812\u001b[0m     \u001b[38;5;28mself\u001b[39m\u001b[38;5;241m.\u001b[39m_xdata, \u001b[38;5;28mself\u001b[39m\u001b[38;5;241m.\u001b[39m_ydata, sigma\u001b[38;5;241m=\u001b[39m\u001b[38;5;28mself\u001b[39m\u001b[38;5;241m.\u001b[39m_sigma, \u001b[38;5;241m*\u001b[39m\u001b[38;5;241m*\u001b[39mkwargs\n\u001b[0;32m    813\u001b[0m )\n\u001b[0;32m    815\u001b[0m \u001b[38;5;66;03m# Check and regression pathway:\u001b[39;00m\n",
      "File \u001b[1;32m~\\AppData\\Roaming\\Python\\Python310\\site-packages\\scifit\\interfaces\\generic.py:114\u001b[0m, in \u001b[0;36mFitSolverInterface.store\u001b[1;34m(self, xdata, ydata, sigma, data)\u001b[0m\n\u001b[0;32m    111\u001b[0m ydata \u001b[38;5;241m=\u001b[39m np\u001b[38;5;241m.\u001b[39marray(ydata)\n\u001b[0;32m    113\u001b[0m \u001b[38;5;28;01mif\u001b[39;00m xdata\u001b[38;5;241m.\u001b[39mndim \u001b[38;5;241m!=\u001b[39m \u001b[38;5;241m2\u001b[39m:\n\u001b[1;32m--> 114\u001b[0m     \u001b[38;5;28;01mraise\u001b[39;00m InputDataError(\u001b[38;5;124m\"\u001b[39m\u001b[38;5;124mFeatures must be a two dimensional array\u001b[39m\u001b[38;5;124m\"\u001b[39m)\n\u001b[0;32m    116\u001b[0m \u001b[38;5;28;01mif\u001b[39;00m xdata\u001b[38;5;241m.\u001b[39mshape[\u001b[38;5;241m0\u001b[39m] \u001b[38;5;241m!=\u001b[39m ydata\u001b[38;5;241m.\u001b[39mshape[\u001b[38;5;241m0\u001b[39m]:\n\u001b[0;32m    117\u001b[0m     \u001b[38;5;28;01mraise\u001b[39;00m InputDataError(\n\u001b[0;32m    118\u001b[0m         \u001b[38;5;124m\"\u001b[39m\u001b[38;5;124mIncompatible shapes between x \u001b[39m\u001b[38;5;132;01m%s\u001b[39;00m\u001b[38;5;124m and y \u001b[39m\u001b[38;5;132;01m%s\u001b[39;00m\u001b[38;5;124m\"\u001b[39m \u001b[38;5;241m%\u001b[39m (xdata\u001b[38;5;241m.\u001b[39mshape, ydata\u001b[38;5;241m.\u001b[39mshape)\n\u001b[0;32m    119\u001b[0m     )\n",
      "\u001b[1;31mInputDataError\u001b[0m: Features must be a two dimensional array"
     ]
    }
   ],
   "source": [
    "for i, model in enumerate(models):\n",
    "    \n",
    "    name = model.__class__.__name__\n",
    "    title = labels[name]\n",
    "    file = \"Taylor_y{}\".format(i)\n",
    "    \n",
    "    _ = model.load(data)\n",
    "    sol = model.fit()\n",
    "    \n",
    "    axe = model.plot_fit(title=title)\n",
    "    axe.figure.savefig(\"figures/IntroPolynomial/{}_fit.pdf\".format(file))\n",
    "    \n",
    "    axe = model.plot_chi_square(title=title)\n",
    "    axe.figure.savefig(\"figures/IntroPolynomial/{}_chi2.pdf\".format(file))\n",
    "    \n",
    "    axe = model.plot_loss(title=title)\n",
    "    axe.figure.savefig(\"figures/IntroPolynomial/{}_loss.pdf\".format(file))"
   ]
  },
  {
   "cell_type": "code",
   "execution_count": null,
   "metadata": {},
   "outputs": [],
   "source": []
  }
 ],
 "metadata": {
  "kernelspec": {
   "display_name": "Python 3 (ipykernel)",
   "language": "python",
   "name": "python3"
  },
  "language_info": {
   "codemirror_mode": {
    "name": "ipython",
    "version": 3
   },
   "file_extension": ".py",
   "mimetype": "text/x-python",
   "name": "python",
   "nbconvert_exporter": "python",
   "pygments_lexer": "ipython3",
   "version": "3.10.12"
  }
 },
 "nbformat": 4,
 "nbformat_minor": 4
}
