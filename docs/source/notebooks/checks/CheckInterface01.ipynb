{
 "cells": [
  {
   "cell_type": "markdown",
   "metadata": {},
   "source": [
    "# Check Interfaces\n",
    "\n",
    "## Define model\n",
    "\n",
    "Let's create a new model. First we import solver interface:"
   ]
  },
  {
   "cell_type": "code",
   "execution_count": 1,
   "metadata": {
    "execution": {
     "iopub.execute_input": "2023-08-19T04:38:04.111919Z",
     "iopub.status.busy": "2023-08-19T04:38:04.111919Z",
     "iopub.status.idle": "2023-08-19T04:38:05.463831Z",
     "shell.execute_reply": "2023-08-19T04:38:05.463831Z"
    }
   },
   "outputs": [],
   "source": [
    "import numpy as np\n",
    "from scifit.interfaces.generic import FitSolverInterface"
   ]
  },
  {
   "cell_type": "markdown",
   "metadata": {},
   "source": [
    "Pretend we want to fit someting like:\n",
    "\n",
    "$$y = a \\cdot x + \\sqrt{b \\cdot x^2 + \\pi} + \\exp (-c \\cdot x) + d$$"
   ]
  },
  {
   "cell_type": "markdown",
   "metadata": {},
   "source": [
    "Probably not the best problem formulation but insighful for an example. In goes as follows:"
   ]
  },
  {
   "cell_type": "code",
   "execution_count": 2,
   "metadata": {
    "execution": {
     "iopub.execute_input": "2023-08-19T04:38:05.463831Z",
     "iopub.status.busy": "2023-08-19T04:38:05.463831Z",
     "iopub.status.idle": "2023-08-19T04:38:05.479557Z",
     "shell.execute_reply": "2023-08-19T04:38:05.479557Z"
    }
   },
   "outputs": [],
   "source": [
    "class MyModel(FitSolverInterface):\n",
    "    @staticmethod\n",
    "    def model(x, a, b, c, d):\n",
    "        return a * x[:, 0] + np.sqrt(b*np.power(x[:, 0], 2) + np.pi) + np.exp(-c * x[:, 0]) + d"
   ]
  },
  {
   "cell_type": "markdown",
   "metadata": {},
   "source": [
    "Instantiate the new solver:"
   ]
  },
  {
   "cell_type": "code",
   "execution_count": 3,
   "metadata": {
    "execution": {
     "iopub.execute_input": "2023-08-19T04:38:05.479557Z",
     "iopub.status.busy": "2023-08-19T04:38:05.479557Z",
     "iopub.status.idle": "2023-08-19T04:38:05.495192Z",
     "shell.execute_reply": "2023-08-19T04:38:05.495192Z"
    }
   },
   "outputs": [],
   "source": [
    "solver = MyModel()"
   ]
  },
  {
   "cell_type": "markdown",
   "metadata": {},
   "source": [
    "## Load data\n",
    "\n",
    "Now we generate some synthetic dataset for a given problem:"
   ]
  },
  {
   "cell_type": "code",
   "execution_count": 4,
   "metadata": {
    "execution": {
     "iopub.execute_input": "2023-08-19T04:38:05.495192Z",
     "iopub.status.busy": "2023-08-19T04:38:05.495192Z",
     "iopub.status.idle": "2023-08-19T04:38:05.510808Z",
     "shell.execute_reply": "2023-08-19T04:38:05.510808Z"
    }
   },
   "outputs": [],
   "source": [
    "X = solver.feature_dataset(xmin=-5.0, xmax=15.0, dimension=1, resolution=100)"
   ]
  },
  {
   "cell_type": "code",
   "execution_count": 5,
   "metadata": {
    "execution": {
     "iopub.execute_input": "2023-08-19T04:38:05.510808Z",
     "iopub.status.busy": "2023-08-19T04:38:05.510808Z",
     "iopub.status.idle": "2023-08-19T04:38:05.526441Z",
     "shell.execute_reply": "2023-08-19T04:38:05.526441Z"
    }
   },
   "outputs": [
    {
     "data": {
      "text/plain": [
       "(100, 1)"
      ]
     },
     "execution_count": 5,
     "metadata": {},
     "output_type": "execute_result"
    }
   ],
   "source": [
    "X.shape"
   ]
  },
  {
   "cell_type": "code",
   "execution_count": 6,
   "metadata": {
    "execution": {
     "iopub.execute_input": "2023-08-19T04:38:05.559647Z",
     "iopub.status.busy": "2023-08-19T04:38:05.559647Z",
     "iopub.status.idle": "2023-08-19T04:38:05.573685Z",
     "shell.execute_reply": "2023-08-19T04:38:05.573685Z"
    }
   },
   "outputs": [],
   "source": [
    "p = [1.38, 2.21, 0.81, -4.67]"
   ]
  },
  {
   "cell_type": "code",
   "execution_count": 7,
   "metadata": {
    "execution": {
     "iopub.execute_input": "2023-08-19T04:38:05.573685Z",
     "iopub.status.busy": "2023-08-19T04:38:05.573685Z",
     "iopub.status.idle": "2023-08-19T04:38:06.029232Z",
     "shell.execute_reply": "2023-08-19T04:38:06.029232Z"
    }
   },
   "outputs": [],
   "source": [
    "t = solver.target_dataset(X, parameters=p, sigma=0.075, scale_mode=\"auto\", seed=1234, full_output=True)"
   ]
  },
  {
   "cell_type": "code",
   "execution_count": 8,
   "metadata": {
    "execution": {
     "iopub.execute_input": "2023-08-19T04:38:06.029232Z",
     "iopub.status.busy": "2023-08-19T04:38:06.029232Z",
     "iopub.status.idle": "2023-08-19T04:38:06.061035Z",
     "shell.execute_reply": "2023-08-19T04:38:06.060492Z"
    }
   },
   "outputs": [],
   "source": [
    "y = t[\"y\"]\n",
    "s = t[\"sy\"]"
   ]
  },
  {
   "cell_type": "code",
   "execution_count": 9,
   "metadata": {
    "execution": {
     "iopub.execute_input": "2023-08-19T04:38:06.061035Z",
     "iopub.status.busy": "2023-08-19T04:38:06.061035Z",
     "iopub.status.idle": "2023-08-19T04:38:06.092362Z",
     "shell.execute_reply": "2023-08-19T04:38:06.092362Z"
    }
   },
   "outputs": [
    {
     "data": {
      "text/plain": [
       "(100,)"
      ]
     },
     "execution_count": 9,
     "metadata": {},
     "output_type": "execute_result"
    }
   ],
   "source": [
    "y.shape"
   ]
  },
  {
   "cell_type": "code",
   "execution_count": 10,
   "metadata": {
    "execution": {
     "iopub.execute_input": "2023-08-19T04:38:06.092362Z",
     "iopub.status.busy": "2023-08-19T04:38:06.092362Z",
     "iopub.status.idle": "2023-08-19T04:38:06.124091Z",
     "shell.execute_reply": "2023-08-19T04:38:06.124091Z"
    }
   },
   "outputs": [
    {
     "data": {
      "text/plain": [
       "(100,)"
      ]
     },
     "execution_count": 10,
     "metadata": {},
     "output_type": "execute_result"
    }
   ],
   "source": [
    "s.shape"
   ]
  },
  {
   "cell_type": "markdown",
   "metadata": {},
   "source": [
    "## Solve Fit\n",
    "\n",
    "Everything is setup, we can solve our problem:"
   ]
  },
  {
   "cell_type": "code",
   "execution_count": 11,
   "metadata": {
    "execution": {
     "iopub.execute_input": "2023-08-19T04:38:06.124091Z",
     "iopub.status.busy": "2023-08-19T04:38:06.124091Z",
     "iopub.status.idle": "2023-08-19T04:38:06.155365Z",
     "shell.execute_reply": "2023-08-19T04:38:06.155365Z"
    }
   },
   "outputs": [],
   "source": [
    "solution = solver.fit(X, y, sigma=s)"
   ]
  },
  {
   "cell_type": "code",
   "execution_count": 12,
   "metadata": {
    "execution": {
     "iopub.execute_input": "2023-08-19T04:38:06.155365Z",
     "iopub.status.busy": "2023-08-19T04:38:06.155365Z",
     "iopub.status.idle": "2023-08-19T04:38:06.171396Z",
     "shell.execute_reply": "2023-08-19T04:38:06.171396Z"
    }
   },
   "outputs": [
    {
     "data": {
      "text/plain": [
       "True"
      ]
     },
     "execution_count": 12,
     "metadata": {},
     "output_type": "execute_result"
    }
   ],
   "source": [
    "solver.solved()"
   ]
  },
  {
   "cell_type": "code",
   "execution_count": 13,
   "metadata": {
    "execution": {
     "iopub.execute_input": "2023-08-19T04:38:06.171396Z",
     "iopub.status.busy": "2023-08-19T04:38:06.171396Z",
     "iopub.status.idle": "2023-08-19T04:38:06.202654Z",
     "shell.execute_reply": "2023-08-19T04:38:06.202654Z"
    }
   },
   "outputs": [
    {
     "name": "stdout",
     "output_type": "stream",
     "text": [
      "Both actual and predicted relative reductions in the sum of squares\n",
      "  are at most 0.000000\n"
     ]
    }
   ],
   "source": [
    "print(solution[\"message\"])"
   ]
  },
  {
   "cell_type": "code",
   "execution_count": 14,
   "metadata": {
    "execution": {
     "iopub.execute_input": "2023-08-19T04:38:06.202654Z",
     "iopub.status.busy": "2023-08-19T04:38:06.202654Z",
     "iopub.status.idle": "2023-08-19T04:38:06.233905Z",
     "shell.execute_reply": "2023-08-19T04:38:06.233905Z"
    }
   },
   "outputs": [
    {
     "name": "stdout",
     "output_type": "stream",
     "text": [
      "[ 1.45767296  1.91801321  0.81351517 -4.41465325]\n"
     ]
    }
   ],
   "source": [
    "print(solution[\"parameters\"])"
   ]
  },
  {
   "cell_type": "code",
   "execution_count": 15,
   "metadata": {
    "execution": {
     "iopub.execute_input": "2023-08-19T04:38:06.233905Z",
     "iopub.status.busy": "2023-08-19T04:38:06.233905Z",
     "iopub.status.idle": "2023-08-19T04:38:06.265260Z",
     "shell.execute_reply": "2023-08-19T04:38:06.265260Z"
    }
   },
   "outputs": [
    {
     "name": "stdout",
     "output_type": "stream",
     "text": [
      "[2.53072542e-02 2.50464355e-01 7.28825878e-05 1.60966656e-01]\n"
     ]
    }
   ],
   "source": [
    "print(np.diag(solution[\"covariance\"]))"
   ]
  },
  {
   "cell_type": "markdown",
   "metadata": {},
   "source": [
    "As we can see, parameters suffer high variances probably due to problem formulation and noise intensity."
   ]
  },
  {
   "cell_type": "markdown",
   "metadata": {},
   "source": [
    "## Render solution\n",
    "\n",
    "Finally we can render fit and loss function to check the dynamic:"
   ]
  },
  {
   "cell_type": "code",
   "execution_count": 16,
   "metadata": {
    "execution": {
     "iopub.execute_input": "2023-08-19T04:38:06.265260Z",
     "iopub.status.busy": "2023-08-19T04:38:06.265260Z",
     "iopub.status.idle": "2023-08-19T04:38:06.280985Z",
     "shell.execute_reply": "2023-08-19T04:38:06.280985Z"
    }
   },
   "outputs": [
    {
     "data": {
      "image/png": "[encoded data removed]",
      "text/plain": [
       "<Figure size 432x288 with 1 Axes>"
      ]
     },
     "metadata": {
      "needs_background": "light"
     },
     "output_type": "display_data"
    }
   ],
   "source": [
    "axe = solver.plot_fit(title=\"SciFit Quick Start Guide\")"
   ]
  },
  {
   "cell_type": "code",
   "execution_count": 17,
   "metadata": {
    "execution": {
     "iopub.execute_input": "2023-08-19T04:38:06.280985Z",
     "iopub.status.busy": "2023-08-19T04:38:06.280985Z",
     "iopub.status.idle": "2023-08-19T04:38:06.296612Z",
     "shell.execute_reply": "2023-08-19T04:38:06.296612Z"
    }
   },
   "outputs": [
    {
     "data": {
      "image/png": "[encoded data removed]",
      "text/plain": [
       "<Figure size 432x288 with 1 Axes>"
      ]
     },
     "metadata": {
      "needs_background": "light"
     },
     "output_type": "display_data"
    }
   ],
   "source": [
    "axe = solver.plot_chi_square(title=\"SciFit Quick Start Guide\")"
   ]
  },
  {
   "cell_type": "code",
   "execution_count": 18,
   "metadata": {
    "execution": {
     "iopub.execute_input": "2023-08-19T04:38:06.296612Z",
     "iopub.status.busy": "2023-08-19T04:38:06.296612Z",
     "iopub.status.idle": "2023-08-19T04:38:06.359107Z",
     "shell.execute_reply": "2023-08-19T04:38:06.359107Z"
    }
   },
   "outputs": [
    {
     "data": {
      "image/png": "[encoded data removed]",
      "text/plain": [
       "<Figure size 432x288 with 9 Axes>"
      ]
     },
     "metadata": {
      "needs_background": "light"
     },
     "output_type": "display_data"
    }
   ],
   "source": [
    "axe = solver.plot_loss(title=\"SciFit Quick Start Guide\")"
   ]
  },
  {
   "cell_type": "code",
   "execution_count": null,
   "metadata": {},
   "outputs": [],
   "source": []
  },
  {
   "cell_type": "code",
   "execution_count": null,
   "metadata": {},
   "outputs": [],
   "source": []
  },
  {
   "cell_type": "code",
   "execution_count": 19,
   "metadata": {
    "execution": {
     "iopub.execute_input": "2023-08-19T04:38:06.361114Z",
     "iopub.status.busy": "2023-08-19T04:38:06.361114Z",
     "iopub.status.idle": "2023-08-19T04:38:06.375200Z",
     "shell.execute_reply": "2023-08-19T04:38:06.375200Z"
    }
   },
   "outputs": [],
   "source": [
    "from scipy import optimize "
   ]
  },
  {
   "cell_type": "code",
   "execution_count": 20,
   "metadata": {
    "execution": {
     "iopub.execute_input": "2023-08-19T04:38:06.375200Z",
     "iopub.status.busy": "2023-08-19T04:38:06.375200Z",
     "iopub.status.idle": "2023-08-19T04:38:06.406545Z",
     "shell.execute_reply": "2023-08-19T04:38:06.406545Z"
    }
   },
   "outputs": [],
   "source": [
    "loss = solver.parametrized_loss(solver._xdata, solver._ydata, sigma=solver._sigma)"
   ]
  },
  {
   "cell_type": "code",
   "execution_count": 21,
   "metadata": {
    "execution": {
     "iopub.execute_input": "2023-08-19T04:38:06.406545Z",
     "iopub.status.busy": "2023-08-19T04:38:06.406545Z",
     "iopub.status.idle": "2023-08-19T04:38:06.422174Z",
     "shell.execute_reply": "2023-08-19T04:38:06.422174Z"
    }
   },
   "outputs": [],
   "source": [
    "def floss(p):\n",
    "    return loss(*p)"
   ]
  },
  {
   "cell_type": "code",
   "execution_count": 22,
   "metadata": {
    "execution": {
     "iopub.execute_input": "2023-08-19T04:38:06.422174Z",
     "iopub.status.busy": "2023-08-19T04:38:06.422174Z",
     "iopub.status.idle": "2023-08-19T04:38:06.437799Z",
     "shell.execute_reply": "2023-08-19T04:38:06.437799Z"
    }
   },
   "outputs": [],
   "source": [
    "p0 = (0,0,0,0)"
   ]
  },
  {
   "cell_type": "code",
   "execution_count": 23,
   "metadata": {
    "execution": {
     "iopub.execute_input": "2023-08-19T04:38:06.437799Z",
     "iopub.status.busy": "2023-08-19T04:38:06.437799Z",
     "iopub.status.idle": "2023-08-19T04:38:06.469633Z",
     "shell.execute_reply": "2023-08-19T04:38:06.469633Z"
    }
   },
   "outputs": [
    {
     "data": {
      "text/plain": [
       "array(8142.7446988)"
      ]
     },
     "execution_count": 23,
     "metadata": {},
     "output_type": "execute_result"
    }
   ],
   "source": [
    "loss(*p0)"
   ]
  },
  {
   "cell_type": "code",
   "execution_count": 24,
   "metadata": {
    "execution": {
     "iopub.execute_input": "2023-08-19T04:38:06.469633Z",
     "iopub.status.busy": "2023-08-19T04:38:06.469633Z",
     "iopub.status.idle": "2023-08-19T04:38:06.500978Z",
     "shell.execute_reply": "2023-08-19T04:38:06.500978Z"
    }
   },
   "outputs": [
    {
     "data": {
      "text/plain": [
       "array(8142.7446988)"
      ]
     },
     "execution_count": 24,
     "metadata": {},
     "output_type": "execute_result"
    }
   ],
   "source": [
    "floss(p0)"
   ]
  },
  {
   "cell_type": "code",
   "execution_count": 25,
   "metadata": {
    "execution": {
     "iopub.execute_input": "2023-08-19T04:38:06.500978Z",
     "iopub.status.busy": "2023-08-19T04:38:06.500978Z",
     "iopub.status.idle": "2023-08-19T04:38:06.862944Z",
     "shell.execute_reply": "2023-08-19T04:38:06.862944Z"
    }
   },
   "outputs": [
    {
     "data": {
      "text/plain": [
       "  message: Desired error not necessarily achieved due to precision loss.\n",
       "  success: False\n",
       "   status: 2\n",
       "      fun: 98.7770709462257\n",
       "        x: [ 1.458e+00  1.918e+00  8.135e-01 -4.415e+00]\n",
       "      nit: 39\n",
       "      jac: [ 9.060e-05  3.624e-05  3.328e-04  1.907e-05]\n",
       " hess_inv: [[ 2.217e-04 -2.770e-05  1.226e-05  1.280e-03]\n",
       "            [-2.770e-05  2.560e-04  3.430e-06 -1.772e-04]\n",
       "            [ 1.226e-05  3.430e-06  1.014e-05  3.292e-05]\n",
       "            [ 1.280e-03 -1.772e-04  3.292e-05  7.547e-03]]\n",
       "     nfev: 260\n",
       "     njev: 52"
      ]
     },
     "execution_count": 25,
     "metadata": {},
     "output_type": "execute_result"
    }
   ],
   "source": [
    "optimize.minimize(floss, x0=p0)"
   ]
  },
  {
   "cell_type": "code",
   "execution_count": 26,
   "metadata": {
    "execution": {
     "iopub.execute_input": "2023-08-19T04:38:06.862944Z",
     "iopub.status.busy": "2023-08-19T04:38:06.862944Z",
     "iopub.status.idle": "2023-08-19T04:38:06.988744Z",
     "shell.execute_reply": "2023-08-19T04:38:06.988744Z"
    }
   },
   "outputs": [
    {
     "data": {
      "text/plain": [
       "  message: Desired error not necessarily achieved due to precision loss.\n",
       "  success: False\n",
       "   status: 2\n",
       "      fun: 98.77707094622467\n",
       "        x: [ 1.458e+00  1.918e+00  8.135e-01 -4.415e+00]\n",
       "      nit: 18\n",
       "      jac: [ 1.717e-05  1.907e-06  2.861e-06 -3.815e-06]\n",
       " hess_inv: [[ 2.516e-03 -2.513e-03  2.100e-04 -1.353e-05]\n",
       "            [-2.513e-03  2.600e-03 -2.001e-04 -3.471e-04]\n",
       "            [ 2.100e-04 -2.001e-04  2.687e-05 -3.954e-05]\n",
       "            [-1.353e-05 -3.471e-04 -3.954e-05  1.443e-03]]\n",
       "     nfev: 160\n",
       "     njev: 32"
      ]
     },
     "execution_count": 26,
     "metadata": {},
     "output_type": "execute_result"
    }
   ],
   "source": [
    "r = optimize.minimize(floss, x0=p,) #method=\"L-BFGS-B\")\n",
    "r"
   ]
  },
  {
   "cell_type": "code",
   "execution_count": null,
   "metadata": {},
   "outputs": [],
   "source": []
  },
  {
   "cell_type": "code",
   "execution_count": null,
   "metadata": {},
   "outputs": [],
   "source": []
  },
  {
   "cell_type": "code",
   "execution_count": 27,
   "metadata": {
    "execution": {
     "iopub.execute_input": "2023-08-19T04:38:06.988744Z",
     "iopub.status.busy": "2023-08-19T04:38:06.988744Z",
     "iopub.status.idle": "2023-08-19T04:38:07.145702Z",
     "shell.execute_reply": "2023-08-19T04:38:07.145702Z"
    }
   },
   "outputs": [
    {
     "data": {
      "text/plain": [
       "     message: The maximum number of function evaluations is exceeded.\n",
       "     success: False\n",
       "      status: 0\n",
       "         fun: [ 9.919e+01]\n",
       "           x: [ 1.383e+00  2.203e+00  8.106e-01 -4.655e+00]\n",
       "        cost: 4919.616413887773\n",
       "         jac: [[-4.977e-02  1.043e+00 -3.991e+00 -2.108e+00]]\n",
       "        grad: [-4.937e+00  1.034e+02 -3.958e+02 -2.091e+02]\n",
       "  optimality: 395.83331371478994\n",
       " active_mask: [ 0.000e+00  0.000e+00  0.000e+00  0.000e+00]\n",
       "        nfev: 400\n",
       "        njev: 393"
      ]
     },
     "execution_count": 27,
     "metadata": {},
     "output_type": "execute_result"
    }
   ],
   "source": [
    "s = optimize.least_squares(floss, x0=p, gtol=1e-12)\n",
    "s"
   ]
  },
  {
   "cell_type": "code",
   "execution_count": 28,
   "metadata": {
    "execution": {
     "iopub.execute_input": "2023-08-19T04:38:07.145702Z",
     "iopub.status.busy": "2023-08-19T04:38:07.145702Z",
     "iopub.status.idle": "2023-08-19T04:38:07.177426Z",
     "shell.execute_reply": "2023-08-19T04:38:07.177426Z"
    }
   },
   "outputs": [],
   "source": [
    "J = r.jac.reshape(1, -1)"
   ]
  },
  {
   "cell_type": "code",
   "execution_count": 29,
   "metadata": {
    "execution": {
     "iopub.execute_input": "2023-08-19T04:38:07.177426Z",
     "iopub.status.busy": "2023-08-19T04:38:07.177426Z",
     "iopub.status.idle": "2023-08-19T04:38:07.208772Z",
     "shell.execute_reply": "2023-08-19T04:38:07.208772Z"
    }
   },
   "outputs": [
    {
     "data": {
      "text/plain": [
       "array([[ 2.94676283e-10,  3.27418093e-11,  4.91127139e-11,\n",
       "        -6.54836185e-11],\n",
       "       [ 3.27418093e-11,  3.63797881e-12,  5.45696821e-12,\n",
       "        -7.27595761e-12],\n",
       "       [ 4.91127139e-11,  5.45696821e-12,  8.18545232e-12,\n",
       "        -1.09139364e-11],\n",
       "       [-6.54836185e-11, -7.27595761e-12, -1.09139364e-11,\n",
       "         1.45519152e-11]])"
      ]
     },
     "execution_count": 29,
     "metadata": {},
     "output_type": "execute_result"
    }
   ],
   "source": [
    "Q = J.T @ J\n",
    "Q"
   ]
  },
  {
   "cell_type": "code",
   "execution_count": 30,
   "metadata": {
    "execution": {
     "iopub.execute_input": "2023-08-19T04:38:07.208772Z",
     "iopub.status.busy": "2023-08-19T04:38:07.208772Z",
     "iopub.status.idle": "2023-08-19T04:38:07.240036Z",
     "shell.execute_reply": "2023-08-19T04:38:07.240036Z"
    }
   },
   "outputs": [
    {
     "data": {
      "text/plain": [
       "SVDResult(U=array([[-9.58043332e-01,  2.60961402e-01, -1.18541642e-01,\n",
       "         1.01971077e-17],\n",
       "       [-1.06449259e-01, -2.20914293e-01,  3.73985869e-01,\n",
       "         8.94427191e-01],\n",
       "       [-1.59673889e-01, -8.29387438e-01, -5.35369710e-01,\n",
       "         1.07149511e-16],\n",
       "       [ 2.12898518e-01,  4.41828586e-01, -7.47971739e-01,\n",
       "         4.47213595e-01]]), S=array([3.21051630e-10, 2.28418683e-27, 3.42108860e-28, 4.50372090e-44]), Vh=array([[-9.58043332e-01, -1.06449259e-01, -1.59673889e-01,\n",
       "         2.12898518e-01],\n",
       "       [-2.72208913e-01,  2.59901691e-01,  7.66914507e-01,\n",
       "        -5.19803383e-01],\n",
       "       [-8.97512235e-02,  3.48022508e-01, -6.21567685e-01,\n",
       "        -6.96045016e-01],\n",
       "       [ 0.00000000e+00,  8.94427191e-01, -8.52596105e-17,\n",
       "         4.47213595e-01]]))"
      ]
     },
     "execution_count": 30,
     "metadata": {},
     "output_type": "execute_result"
    }
   ],
   "source": [
    "np.linalg.svd(Q)"
   ]
  },
  {
   "cell_type": "code",
   "execution_count": null,
   "metadata": {},
   "outputs": [],
   "source": []
  },
  {
   "cell_type": "code",
   "execution_count": null,
   "metadata": {},
   "outputs": [],
   "source": []
  }
 ],
 "metadata": {
  "kernelspec": {
   "display_name": "Python 3 (ipykernel)",
   "language": "python",
   "name": "python3"
  },
  "language_info": {
   "codemirror_mode": {
    "name": "ipython",
    "version": 3
   },
   "file_extension": ".py",
   "mimetype": "text/x-python",
   "name": "python",
   "nbconvert_exporter": "python",
   "pygments_lexer": "ipython3",
   "version": "3.9.7"
  }
 },
 "nbformat": 4,
 "nbformat_minor": 4
}
