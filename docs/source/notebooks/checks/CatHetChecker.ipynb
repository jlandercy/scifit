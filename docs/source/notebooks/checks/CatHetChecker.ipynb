{
 "cells": [
  {
   "cell_type": "code",
   "execution_count": 1,
   "id": "108ba851",
   "metadata": {
    "ExecuteTime": {
     "end_time": "2023-11-06T19:42:55.133841Z",
     "start_time": "2023-11-06T19:42:52.595067Z"
    }
   },
   "outputs": [],
   "source": [
    "import numpy as np\n",
    "import pandas as pd\n",
    "import matplotlib.pyplot as plt\n",
    "\n",
    "from scipy import optimize, signal, integrate, stats\n",
    "\n",
    "from sklearn import metrics\n",
    "from sklearn.linear_model import LinearRegression"
   ]
  },
  {
   "cell_type": "markdown",
   "id": "06453d03",
   "metadata": {},
   "source": [
    "## Inputs"
   ]
  },
  {
   "cell_type": "code",
   "execution_count": 2,
   "id": "0b36d28d",
   "metadata": {},
   "outputs": [],
   "source": [
    "T0 = 292.05           # K\n",
    "p0 = 101600           # Pa\n",
    "m = 2.7677            # g of Catalyst"
   ]
  },
  {
   "cell_type": "code",
   "execution_count": 3,
   "id": "f74776ea",
   "metadata": {
    "ExecuteTime": {
     "end_time": "2023-11-06T19:42:55.146101Z",
     "start_time": "2023-11-06T19:42:55.141818Z"
    }
   },
   "outputs": [],
   "source": [
    "R = 8.31446261815324  # J/mol.K\n",
    "V = 190e-3            # L of Isopropanol\n",
    "rho = 785             # g/L\n",
    "M = 60.1              # g/mol\n",
    "n0 = rho/M*V          # mol"
   ]
  },
  {
   "cell_type": "code",
   "execution_count": 4,
   "id": "4b30c39e",
   "metadata": {},
   "outputs": [],
   "source": [
    "sigma = 15            # s"
   ]
  },
  {
   "cell_type": "code",
   "execution_count": 5,
   "id": "ef3b7b2a",
   "metadata": {},
   "outputs": [],
   "source": [
    "data = pd.read_csv(\"data/cathet.csv\")"
   ]
  },
  {
   "cell_type": "code",
   "execution_count": null,
   "id": "fb860b55",
   "metadata": {},
   "outputs": [],
   "source": []
  },
  {
   "cell_type": "code",
   "execution_count": null,
   "id": "03ee66dd",
   "metadata": {},
   "outputs": [],
   "source": []
  },
  {
   "cell_type": "markdown",
   "id": "bf6333be",
   "metadata": {},
   "source": [
    "## Dataset"
   ]
  },
  {
   "cell_type": "code",
   "execution_count": 6,
   "id": "9a9a5027",
   "metadata": {},
   "outputs": [
    {
     "data": {
      "image/png": "[encoded data removed]",
      "text/plain": [
       "<Figure size 432x288 with 1 Axes>"
      ]
     },
     "metadata": {
      "needs_background": "light"
     },
     "output_type": "display_data"
    }
   ],
   "source": [
    "fig, axe = plt.subplots()\n",
    "axe.plot(data[\"t\"], data[\"V\"], label=\"Data\")\n",
    "axe.set_title(\"Heterogeneous Catalysis\")\n",
    "axe.set_xlabel(r\"Time, $t$ [s]\")\n",
    "axe.set_ylabel(r\"Hydrogen Volume, $V$ [m³]\")\n",
    "axe.legend()\n",
    "axe.grid()"
   ]
  },
  {
   "cell_type": "code",
   "execution_count": null,
   "id": "25db1e59",
   "metadata": {},
   "outputs": [],
   "source": []
  },
  {
   "cell_type": "code",
   "execution_count": null,
   "id": "465513a0",
   "metadata": {},
   "outputs": [],
   "source": []
  },
  {
   "cell_type": "markdown",
   "id": "d761a180",
   "metadata": {},
   "source": [
    "## Model"
   ]
  },
  {
   "cell_type": "code",
   "execution_count": 7,
   "id": "03774182",
   "metadata": {},
   "outputs": [],
   "source": [
    "def model(x, k1, k2):\n",
    "    return (1/k1) * ((1 - k2)*x - k2*n0*np.log((n0 - x)/n0)) "
   ]
  },
  {
   "cell_type": "code",
   "execution_count": 8,
   "id": "23f4fdb9",
   "metadata": {},
   "outputs": [],
   "source": [
    "data[\"xi\"] = p0*data[\"V\"]/(R*T0)\n",
    "data[\"st\"] = sigma"
   ]
  },
  {
   "cell_type": "code",
   "execution_count": 9,
   "id": "732597b9",
   "metadata": {},
   "outputs": [],
   "source": [
    "popt, pcov = optimize.curve_fit(\n",
    "    model, data[\"xi\"].values, data[\"t\"].values,\n",
    "    sigma=data[\"st\"].values, absolute_sigma=True\n",
    ")"
   ]
  },
  {
   "cell_type": "code",
   "execution_count": 10,
   "id": "8abe8698",
   "metadata": {},
   "outputs": [],
   "source": [
    "sk = np.sqrt(np.diag(pcov))"
   ]
  },
  {
   "cell_type": "code",
   "execution_count": 11,
   "id": "fed852e7",
   "metadata": {},
   "outputs": [
    {
     "data": {
      "text/plain": [
       "(array([9.03185361e-06, 7.80055898e+01]),\n",
       " array([2.09424662e-08, 5.39785853e-01]))"
      ]
     },
     "execution_count": 11,
     "metadata": {},
     "output_type": "execute_result"
    }
   ],
   "source": [
    "popt, sk"
   ]
  },
  {
   "cell_type": "code",
   "execution_count": 12,
   "id": "91015fa8",
   "metadata": {},
   "outputs": [],
   "source": [
    "data[\"that\"] = model(data[\"xi\"].values, *popt)"
   ]
  },
  {
   "cell_type": "code",
   "execution_count": 13,
   "id": "01a13dc3",
   "metadata": {},
   "outputs": [
    {
     "data": {
      "text/plain": [
       "0.9999526276968933"
      ]
     },
     "execution_count": 13,
     "metadata": {},
     "output_type": "execute_result"
    }
   ],
   "source": [
    "R2 = metrics.r2_score(data[\"t\"], data[\"that\"])\n",
    "R2"
   ]
  },
  {
   "cell_type": "code",
   "execution_count": 14,
   "id": "15de5828",
   "metadata": {},
   "outputs": [],
   "source": [
    "nlls_integrated = {\"k1\": popt[0], \"k2\": popt[1], \"R2\": R2, \"name\": \"NLLS Integrated\"}"
   ]
  },
  {
   "cell_type": "code",
   "execution_count": 15,
   "id": "afd93539",
   "metadata": {},
   "outputs": [
    {
     "data": {
      "image/png": "[encoded data removed]",
      "text/plain": [
       "<Figure size 432x288 with 1 Axes>"
      ]
     },
     "metadata": {
      "needs_background": "light"
     },
     "output_type": "display_data"
    }
   ],
   "source": [
    "fig, axe = plt.subplots()\n",
    "axe.plot(data[\"t\"], data[\"xi\"], label=\"Data\", linestyle=\"none\", marker=\".\")\n",
    "axe.plot(data[\"that\"], data[\"xi\"], label=\"Fit (R² = {:.6f})\".format(R2))\n",
    "axe.set_title(\"Heterogeneous Catalysis:\\n$k_1$ = {0:.3g} $\\pm$ {2:.3g}, $k_2$ = {1:.3g} $\\pm$ {3:.3g}\".format(*popt, *sk))\n",
    "axe.set_xlabel(r\"Time, $t$ [s]\")\n",
    "axe.set_ylabel(r\"Reaction Coordinate, $\\xi$ [mol]\")\n",
    "axe.legend()\n",
    "axe.grid()"
   ]
  },
  {
   "cell_type": "code",
   "execution_count": null,
   "id": "38fbbec8",
   "metadata": {},
   "outputs": [],
   "source": []
  },
  {
   "cell_type": "code",
   "execution_count": null,
   "id": "c43061e0",
   "metadata": {},
   "outputs": [],
   "source": []
  },
  {
   "cell_type": "code",
   "execution_count": null,
   "id": "2bb8f92d",
   "metadata": {},
   "outputs": [],
   "source": []
  },
  {
   "cell_type": "markdown",
   "id": "25a71e1c",
   "metadata": {},
   "source": [
    "## Loss & Optimality"
   ]
  },
  {
   "cell_type": "code",
   "execution_count": 16,
   "id": "88db76f5",
   "metadata": {},
   "outputs": [],
   "source": [
    "def factory(t, xi):\n",
    "    @np.vectorize\n",
    "    def wrapped(k1, k2):\n",
    "        return np.log10(0.5*np.sum(np.power(t - model(xi, k1, k2), 2)))\n",
    "    return wrapped"
   ]
  },
  {
   "cell_type": "code",
   "execution_count": 17,
   "id": "2e1e8915",
   "metadata": {},
   "outputs": [],
   "source": [
    "loss = factory(data[\"t\"].values, data[\"xi\"].values)"
   ]
  },
  {
   "cell_type": "code",
   "execution_count": 18,
   "id": "41fd3af2",
   "metadata": {},
   "outputs": [],
   "source": [
    "res = 400\n",
    "k1lin = np.linspace(5e-6, 1.2e-5, res)\n",
    "k2lin = np.linspace(70, 90, res)\n",
    "K1, K2 = np.meshgrid(k1lin, k2lin)"
   ]
  },
  {
   "cell_type": "code",
   "execution_count": 19,
   "id": "77da07df",
   "metadata": {},
   "outputs": [],
   "source": [
    "MLE = loss(K1, K2)"
   ]
  },
  {
   "cell_type": "code",
   "execution_count": 20,
   "id": "eabe3595",
   "metadata": {},
   "outputs": [
    {
     "data": {
      "image/png": "[encoded data removed]",
      "text/plain": [
       "<Figure size 432x288 with 1 Axes>"
      ]
     },
     "metadata": {
      "needs_background": "light"
     },
     "output_type": "display_data"
    }
   ],
   "source": [
    "fig, axe = plt.subplots()\n",
    "axe.contour(K1, K2, MLE, cmap=\"jet\")\n",
    "axe.scatter(*popt)\n",
    "axe.set_title(\"Log Loss Function\")\n",
    "axe.set_xlabel(\"Parameter, $k_1$ [mol/s]\")\n",
    "axe.set_ylabel(\"Parameter, $k_2$ [-]\")\n",
    "#axe.set_xscale(\"log\")\n",
    "#axe.set_yscale(\"log\")\n",
    "axe.grid()"
   ]
  },
  {
   "cell_type": "raw",
   "id": "69ba3021",
   "metadata": {},
   "source": [
    "fig, axe = plt.subplots(subplot_kw={'projection': '3d'})\n",
    "axe.plot_surface(K1, K2, MLE, cmap=\"jet\")\n",
    "axe.set_title(\"Log Loss Function\")\n",
    "axe.set_xlabel(\"Parameter, $k_1$ [mol/s]\")\n",
    "axe.set_ylabel(\"Parameter, $k_2$ [-]\")\n",
    "#axe.set_xscale(\"log\")\n",
    "#axe.set_yscale(\"log\")\n",
    "axe.grid()"
   ]
  },
  {
   "cell_type": "code",
   "execution_count": null,
   "id": "bad9760e",
   "metadata": {},
   "outputs": [],
   "source": []
  },
  {
   "cell_type": "code",
   "execution_count": null,
   "id": "f2ad4ba0",
   "metadata": {},
   "outputs": [],
   "source": []
  },
  {
   "cell_type": "markdown",
   "id": "f879d5ec",
   "metadata": {},
   "source": [
    "## Error Analysis"
   ]
  },
  {
   "cell_type": "code",
   "execution_count": 21,
   "id": "b7499a6c",
   "metadata": {},
   "outputs": [],
   "source": [
    "data[\"err\"] = data[\"t\"] - data[\"that\"]"
   ]
  },
  {
   "cell_type": "code",
   "execution_count": 22,
   "id": "92f8eed0",
   "metadata": {},
   "outputs": [
    {
     "data": {
      "image/png": "[encoded data removed]",
      "text/plain": [
       "<Figure size 432x288 with 1 Axes>"
      ]
     },
     "metadata": {
      "needs_background": "light"
     },
     "output_type": "display_data"
    }
   ],
   "source": [
    "axe = data[\"err\"].plot(kind=\"hist\", bins=20, alpha=0.5, density=1., label=\"Histogram\")\n",
    "data[\"err\"].plot(kind=\"kde\", ax=axe, label=\"KDE\")\n",
    "axe.set_title(\"Fit Error Distribution\")\n",
    "axe.set_xlabel(r\"Time Error, $e_t = t - \\hat{t}$ [s]\")\n",
    "axe.set_ylabel(r\"Density, $f(t)$ [1/s]\")\n",
    "axe.legend()\n",
    "axe.grid()"
   ]
  },
  {
   "cell_type": "code",
   "execution_count": null,
   "id": "7663a06b",
   "metadata": {},
   "outputs": [],
   "source": []
  },
  {
   "cell_type": "code",
   "execution_count": null,
   "id": "c23b69f0",
   "metadata": {},
   "outputs": [],
   "source": []
  },
  {
   "cell_type": "code",
   "execution_count": null,
   "id": "ef9f7adb",
   "metadata": {},
   "outputs": [],
   "source": []
  },
  {
   "cell_type": "markdown",
   "id": "4cfe390c",
   "metadata": {},
   "source": [
    "## Goodness of Fit"
   ]
  },
  {
   "cell_type": "code",
   "execution_count": 23,
   "id": "e78d63e9",
   "metadata": {},
   "outputs": [],
   "source": [
    "data[\"chi2\"] = data[\"err\"]**2/sigma**2"
   ]
  },
  {
   "cell_type": "code",
   "execution_count": 24,
   "id": "c01064b3",
   "metadata": {},
   "outputs": [
    {
     "data": {
      "text/plain": [
       "(113.78689215246058, 0.980921484072936)"
      ]
     },
     "execution_count": 24,
     "metadata": {},
     "output_type": "execute_result"
    }
   ],
   "source": [
    "n = data.shape[0]\n",
    "chi2 = data[\"chi2\"].sum()\n",
    "chi2n = chi2 / n\n",
    "chi2, chi2n"
   ]
  },
  {
   "cell_type": "code",
   "execution_count": 25,
   "id": "c8c7aa51",
   "metadata": {},
   "outputs": [],
   "source": [
    "alpha = 0.01"
   ]
  },
  {
   "cell_type": "code",
   "execution_count": 26,
   "id": "623ccdd8",
   "metadata": {},
   "outputs": [],
   "source": [
    "X = stats.chi2(df=n-1-2)"
   ]
  },
  {
   "cell_type": "code",
   "execution_count": 27,
   "id": "ef06c46e",
   "metadata": {},
   "outputs": [],
   "source": [
    "Xlin = np.linspace(0., max(n*1.5, chi2*1.5), 200)"
   ]
  },
  {
   "cell_type": "code",
   "execution_count": 28,
   "id": "6e06653c",
   "metadata": {},
   "outputs": [
    {
     "data": {
      "text/plain": [
       "150.88215521838262"
      ]
     },
     "execution_count": 28,
     "metadata": {},
     "output_type": "execute_result"
    }
   ],
   "source": [
    "chi2_c = X.ppf(1-alpha)\n",
    "chi2_c"
   ]
  },
  {
   "cell_type": "code",
   "execution_count": 29,
   "id": "19e7bfb8",
   "metadata": {},
   "outputs": [],
   "source": [
    "Xfill = np.linspace(chi2_c, Xlin.max(), 100)"
   ]
  },
  {
   "cell_type": "code",
   "execution_count": 30,
   "id": "b126332a",
   "metadata": {},
   "outputs": [
    {
     "data": {
      "image/png": "[encoded data removed]",
      "text/plain": [
       "<Figure size 432x288 with 1 Axes>"
      ]
     },
     "metadata": {
      "needs_background": "light"
     },
     "output_type": "display_data"
    }
   ],
   "source": [
    "fig, axe = plt.subplots()\n",
    "axe.plot(Xlin, X.pdf(Xlin), label=\"PDF\")\n",
    "axe.axvline(chi2, color=\"orange\", label=r\"$\\chi^2$ = {:.1f}\".format(chi2))\n",
    "axe.axvline(chi2_c, linestyle=\"-.\", color=\"black\", label=r\"$\\chi^2_c$ = {:.1f}\".format(chi2_c))\n",
    "axe.fill_between(Xfill, X.pdf(Xfill), alpha=0.5, label=r\"$\\alpha$ = {:.3f}\".format(alpha))\n",
    "axe.set_title(\"Goodness of Fit\")\n",
    "axe.set_xlabel(r\"Chi Square, $\\chi^2$ [-]\")\n",
    "axe.set_ylabel(r\"Density, $f(\\chi^2)$ [-]\")\n",
    "axe.legend()\n",
    "axe.grid()"
   ]
  },
  {
   "cell_type": "code",
   "execution_count": null,
   "id": "d1a0c232",
   "metadata": {},
   "outputs": [],
   "source": []
  },
  {
   "cell_type": "code",
   "execution_count": null,
   "id": "c985cfc1",
   "metadata": {},
   "outputs": [],
   "source": []
  },
  {
   "cell_type": "markdown",
   "id": "6d9ccf38",
   "metadata": {},
   "source": [
    "## Checks"
   ]
  },
  {
   "cell_type": "code",
   "execution_count": 31,
   "id": "f457d922",
   "metadata": {},
   "outputs": [],
   "source": [
    "data[\"x1\"] = data[\"xi\"]/(n0 - data[\"xi\"])\n",
    "data[\"x2\"] = np.log((n0 - data[\"xi\"])/n0)"
   ]
  },
  {
   "cell_type": "markdown",
   "id": "84b16e83",
   "metadata": {},
   "source": [
    "### OLS Integrated"
   ]
  },
  {
   "cell_type": "code",
   "execution_count": 32,
   "id": "3c236805",
   "metadata": {},
   "outputs": [],
   "source": [
    "def solve_integrated(X, y, name=\"OLS Integrated\"):\n",
    "    regressor = LinearRegression(fit_intercept=False)\n",
    "    regressor.fit(X, y)\n",
    "    R2 = regressor.score(X, y)\n",
    "    c1, c2 = regressor.coef_\n",
    "    k1 = n0/((n0*c1 - c2))\n",
    "    k2 = -c2/(n0*c1 - c2)\n",
    "    return {\"k1\": k1, \"k2\": k2, \"R2\": R2, \"name\": name}"
   ]
  },
  {
   "cell_type": "code",
   "execution_count": 33,
   "id": "87f992d9",
   "metadata": {},
   "outputs": [],
   "source": [
    "ols_integrated = solve_integrated(data[[\"xi\", \"x2\"]].values, data[\"t\"].values)"
   ]
  },
  {
   "cell_type": "code",
   "execution_count": null,
   "id": "0c46b8b8",
   "metadata": {},
   "outputs": [],
   "source": []
  },
  {
   "cell_type": "markdown",
   "id": "640255ad",
   "metadata": {},
   "source": [
    "### Lineweaver-Bürk"
   ]
  },
  {
   "cell_type": "code",
   "execution_count": null,
   "id": "246926fb",
   "metadata": {},
   "outputs": [],
   "source": [
    "def LB(X, y, name):\n",
    "    regressor = LinearRegression(fit_intercept=True)\n",
    "    regressor.fit(X, y)\n",
    "    s = regressor.score(X, y)\n",
    "    c1 = regressor.intercept_\n",
    "    c2 = regressor.coef_[0]\n",
    "    k1 = 1/c1\n",
    "    k2 = c2/c1\n",
    "    return {\n",
    "        \"k1\": k1,\n",
    "        \"k2\": k2,\n",
    "        \"R2\": s,\n",
    "        \"name\": name\n",
    "    }"
   ]
  },
  {
   "cell_type": "code",
   "execution_count": null,
   "id": "ca7a9da7",
   "metadata": {},
   "outputs": [],
   "source": []
  },
  {
   "cell_type": "code",
   "execution_count": null,
   "id": "4f18d902",
   "metadata": {},
   "outputs": [],
   "source": []
  },
  {
   "cell_type": "markdown",
   "id": "1ba6c874",
   "metadata": {},
   "source": [
    "## Summary"
   ]
  },
  {
   "cell_type": "code",
   "execution_count": 35,
   "id": "2f15c3d7",
   "metadata": {},
   "outputs": [
    {
     "data": {
      "text/html": [
       "<div>\n",
       "<style scoped>\n",
       "    .dataframe tbody tr th:only-of-type {\n",
       "        vertical-align: middle;\n",
       "    }\n",
       "\n",
       "    .dataframe tbody tr th {\n",
       "        vertical-align: top;\n",
       "    }\n",
       "\n",
       "    .dataframe thead th {\n",
       "        text-align: right;\n",
       "    }\n",
       "</style>\n",
       "<table border=\"1\" class=\"dataframe\">\n",
       "  <thead>\n",
       "    <tr style=\"text-align: right;\">\n",
       "      <th></th>\n",
       "      <th>k1</th>\n",
       "      <th>k2</th>\n",
       "      <th>R2</th>\n",
       "      <th>name</th>\n",
       "    </tr>\n",
       "  </thead>\n",
       "  <tbody>\n",
       "    <tr>\n",
       "      <th>0</th>\n",
       "      <td>0.000009</td>\n",
       "      <td>78.005590</td>\n",
       "      <td>0.999953</td>\n",
       "      <td>NLLS Integrated</td>\n",
       "    </tr>\n",
       "    <tr>\n",
       "      <th>1</th>\n",
       "      <td>0.000009</td>\n",
       "      <td>78.005591</td>\n",
       "      <td>0.999953</td>\n",
       "      <td>OLS Integrated</td>\n",
       "    </tr>\n",
       "  </tbody>\n",
       "</table>\n",
       "</div>"
      ],
      "text/plain": [
       "         k1         k2        R2             name\n",
       "0  0.000009  78.005590  0.999953  NLLS Integrated\n",
       "1  0.000009  78.005591  0.999953   OLS Integrated"
      ]
     },
     "execution_count": 35,
     "metadata": {},
     "output_type": "execute_result"
    }
   ],
   "source": [
    "results = pd.DataFrame([\n",
    "    nlls_integrated, ols_integrated\n",
    "])\n",
    "results"
   ]
  },
  {
   "cell_type": "code",
   "execution_count": null,
   "id": "9a1b1a17",
   "metadata": {},
   "outputs": [],
   "source": []
  }
 ],
 "metadata": {
  "hide_input": false,
  "kernelspec": {
   "display_name": "Python 3 (ipykernel)",
   "language": "python",
   "name": "python3"
  },
  "language_info": {
   "codemirror_mode": {
    "name": "ipython",
    "version": 3
   },
   "file_extension": ".py",
   "mimetype": "text/x-python",
   "name": "python",
   "nbconvert_exporter": "python",
   "pygments_lexer": "ipython3",
   "version": "3.9.7"
  },
  "toc": {
   "base_numbering": 1,
   "nav_menu": {},
   "number_sections": true,
   "sideBar": true,
   "skip_h1_title": false,
   "title_cell": "Table of Contents",
   "title_sidebar": "Contents",
   "toc_cell": false,
   "toc_position": {},
   "toc_section_display": true,
   "toc_window_display": false
  },
  "varInspector": {
   "cols": {
    "lenName": 16,
    "lenType": 16,
    "lenVar": 40
   },
   "kernels_config": {
    "python": {
     "delete_cmd_postfix": "",
     "delete_cmd_prefix": "del ",
     "library": "var_list.py",
     "varRefreshCmd": "print(var_dic_list())"
    },
    "r": {
     "delete_cmd_postfix": ") ",
     "delete_cmd_prefix": "rm(",
     "library": "var_list.r",
     "varRefreshCmd": "cat(var_dic_list()) "
    }
   },
   "types_to_exclude": [
    "module",
    "function",
    "builtin_function_or_method",
    "instance",
    "_Feature"
   ],
   "window_display": false
  }
 },
 "nbformat": 4,
 "nbformat_minor": 5
}
