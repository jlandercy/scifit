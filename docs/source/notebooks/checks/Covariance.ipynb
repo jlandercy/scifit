{
 "cells": [
  {
   "cell_type": "code",
   "execution_count": 1,
   "id": "41ffd56f",
   "metadata": {},
   "outputs": [],
   "source": [
    "import numpy as np\n",
    "from scipy import optimize\n",
    "from scifit.solvers import FitSolver1D"
   ]
  },
  {
   "cell_type": "code",
   "execution_count": 2,
   "id": "57f6886c",
   "metadata": {},
   "outputs": [],
   "source": [
    "class Model(FitSolver1D):\n",
    "    @staticmethod\n",
    "    def model(x, a, b, c):\n",
    "        return a * x[:, 0]**2 + b * x[:, 0] + c"
   ]
  },
  {
   "cell_type": "code",
   "execution_count": 3,
   "id": "f2dfaaf3",
   "metadata": {},
   "outputs": [],
   "source": [
    "model = Model()"
   ]
  },
  {
   "cell_type": "code",
   "execution_count": 4,
   "id": "5835ba53",
   "metadata": {},
   "outputs": [],
   "source": [
    "data = model.synthetic_dataset(parameters=(3,2,1), sigma=0.1)"
   ]
  },
  {
   "cell_type": "code",
   "execution_count": 5,
   "id": "f8f06992",
   "metadata": {},
   "outputs": [],
   "source": [
    "sol1 = model.fit(data)"
   ]
  },
  {
   "cell_type": "code",
   "execution_count": 6,
   "id": "dbb5c564",
   "metadata": {},
   "outputs": [
    {
     "data": {
      "image/png": "[encoded data removed]",
      "text/plain": [
       "<Figure size 432x288 with 1 Axes>"
      ]
     },
     "metadata": {
      "needs_background": "light"
     },
     "output_type": "display_data"
    }
   ],
   "source": [
    "axe = model.plot_fit()"
   ]
  },
  {
   "cell_type": "code",
   "execution_count": 7,
   "id": "aee3262f",
   "metadata": {},
   "outputs": [
    {
     "data": {
      "text/plain": [
       "array([3.01710543, 2.00080084, 0.99472341])"
      ]
     },
     "execution_count": 7,
     "metadata": {},
     "output_type": "execute_result"
    }
   ],
   "source": [
    "sol1[\"parameters\"]"
   ]
  },
  {
   "cell_type": "code",
   "execution_count": 8,
   "id": "4bb2acd5",
   "metadata": {},
   "outputs": [
    {
     "data": {
      "text/plain": [
       "array([[ 3.29272575e-03, -1.22229183e-11, -1.17327009e-03],\n",
       "       [-1.22229183e-11,  9.35483859e-04,  8.58959144e-12],\n",
       "       [-1.17327009e-03,  8.58959144e-12,  7.51395089e-04]])"
      ]
     },
     "execution_count": 8,
     "metadata": {},
     "output_type": "execute_result"
    }
   ],
   "source": [
    "sol1[\"covariance\"]"
   ]
  },
  {
   "cell_type": "code",
   "execution_count": 9,
   "id": "0df49d30",
   "metadata": {},
   "outputs": [
    {
     "data": {
      "text/plain": [
       "(array([3.01710543, 2.00080084, 0.99472341]),\n",
       " array([[ 3.73959710e-03,  2.31468658e-11, -1.33250012e-03],\n",
       "        [ 2.31468658e-11,  1.06244278e-03, -1.26854872e-11],\n",
       "        [-1.33250012e-03, -1.26854872e-11,  8.53370462e-04]]))"
      ]
     },
     "execution_count": 9,
     "metadata": {},
     "output_type": "execute_result"
    }
   ],
   "source": [
    "optimize.curve_fit(Model.model, data[[\"x0\"]].values, data[\"y\"].values)"
   ]
  },
  {
   "cell_type": "code",
   "execution_count": 10,
   "id": "5584620c",
   "metadata": {},
   "outputs": [
    {
     "data": {
      "text/plain": [
       "(array([3.01710543, 2.00080084, 0.99472341]),\n",
       " array([[ 3.73959707e-03, -1.38817481e-11, -1.33250010e-03],\n",
       "        [-1.38817481e-11,  1.06244278e-03,  9.75532535e-12],\n",
       "        [-1.33250010e-03,  9.75532535e-12,  8.53370455e-04]]))"
      ]
     },
     "execution_count": 10,
     "metadata": {},
     "output_type": "execute_result"
    }
   ],
   "source": [
    "optimize.curve_fit(Model.model, data[[\"x0\"]].values, data[\"y\"].values, sigma=data[\"sy\"].values)"
   ]
  },
  {
   "cell_type": "code",
   "execution_count": 11,
   "id": "8eee81f4",
   "metadata": {},
   "outputs": [
    {
     "data": {
      "text/plain": [
       "array([[ 3.29272575e-03, -1.22229183e-11, -1.17327009e-03],\n",
       "       [-1.22229183e-11,  9.35483859e-04,  8.58959144e-12],\n",
       "       [-1.17327009e-03,  8.58959144e-12,  7.51395089e-04]])"
      ]
     },
     "execution_count": 11,
     "metadata": {},
     "output_type": "execute_result"
    }
   ],
   "source": [
    "popt, pcov = optimize.curve_fit(Model.model, data[[\"x0\"]].values, data[\"y\"].values, sigma=data[\"sy\"].values, absolute_sigma=True)\n",
    "pcov"
   ]
  },
  {
   "cell_type": "code",
   "execution_count": null,
   "id": "4e29d365",
   "metadata": {},
   "outputs": [],
   "source": []
  },
  {
   "cell_type": "code",
   "execution_count": 12,
   "id": "61038068",
   "metadata": {},
   "outputs": [],
   "source": [
    "def loss_factory(x, y, sigma=1.):\n",
    "    def wrapped(beta):\n",
    "        return 0.5*np.sum(np.power((y - Model.model(x, *beta)) / sigma, 2))\n",
    "    return wrapped"
   ]
  },
  {
   "cell_type": "code",
   "execution_count": 13,
   "id": "3d41b4c3",
   "metadata": {},
   "outputs": [],
   "source": [
    "loss = loss_factory(data[[\"x0\"]].values, data[\"y\"].values, sigma=data[\"sy\"].values)"
   ]
  },
  {
   "cell_type": "code",
   "execution_count": null,
   "id": "00c7b932",
   "metadata": {},
   "outputs": [],
   "source": []
  },
  {
   "cell_type": "code",
   "execution_count": 14,
   "id": "eec06847",
   "metadata": {},
   "outputs": [
    {
     "data": {
      "text/plain": [
       "  message: Optimization terminated successfully.\n",
       "  success: True\n",
       "   status: 0\n",
       "      fun: 15.332148569156821\n",
       "        x: [ 3.017e+00  2.001e+00  9.947e-01]\n",
       "      nit: 5\n",
       "      jac: [ 3.576e-07 -4.768e-07  0.000e+00]\n",
       " hess_inv: [[ 3.293e-03  1.252e-11 -1.173e-03]\n",
       "            [ 1.252e-11  9.355e-04 -1.070e-12]\n",
       "            [-1.173e-03 -1.070e-12  7.514e-04]]\n",
       "     nfev: 32\n",
       "     njev: 8"
      ]
     },
     "execution_count": 14,
     "metadata": {},
     "output_type": "execute_result"
    }
   ],
   "source": [
    "sol09 = optimize.minimize(loss, x0=[1, 1, 1])\n",
    "sol09"
   ]
  },
  {
   "cell_type": "code",
   "execution_count": null,
   "id": "1b265858",
   "metadata": {},
   "outputs": [],
   "source": []
  },
  {
   "cell_type": "code",
   "execution_count": 15,
   "id": "7984f1a7",
   "metadata": {},
   "outputs": [
    {
     "data": {
      "text/plain": [
       "array([[ 3.38611647e-11,  2.47398450e-11, -2.50924164e-11],\n",
       "       [ 2.47398441e-11,  5.86163778e-12, -9.65967309e-12],\n",
       "       [-2.50924164e-11, -9.65967341e-12,  1.25870064e-11]])"
      ]
     },
     "execution_count": 15,
     "metadata": {},
     "output_type": "execute_result"
    }
   ],
   "source": [
    "sol09.hess_inv - pcov"
   ]
  },
  {
   "cell_type": "code",
   "execution_count": 16,
   "id": "9aa54a1d",
   "metadata": {},
   "outputs": [
    {
     "data": {
      "text/plain": [
       "array([[ 3.29272575e-03, -1.22229183e-11, -1.17327009e-03],\n",
       "       [-1.22229183e-11,  9.35483859e-04,  8.58959144e-12],\n",
       "       [-1.17327009e-03,  8.58959144e-12,  7.51395089e-04]])"
      ]
     },
     "execution_count": 16,
     "metadata": {},
     "output_type": "execute_result"
    }
   ],
   "source": [
    "pcov"
   ]
  },
  {
   "cell_type": "code",
   "execution_count": null,
   "id": "6b649719",
   "metadata": {},
   "outputs": [],
   "source": []
  },
  {
   "cell_type": "code",
   "execution_count": null,
   "id": "8dcb289b",
   "metadata": {},
   "outputs": [],
   "source": []
  },
  {
   "cell_type": "code",
   "execution_count": null,
   "id": "b92eb512",
   "metadata": {},
   "outputs": [],
   "source": []
  },
  {
   "cell_type": "code",
   "execution_count": 17,
   "id": "4a38558a",
   "metadata": {},
   "outputs": [
    {
     "data": {
      "text/plain": [
       "  message: CONVERGENCE: NORM_OF_PROJECTED_GRADIENT_<=_PGTOL\n",
       "  success: True\n",
       "   status: 0\n",
       "      fun: 15.332148569156754\n",
       "        x: [ 3.017e+00  2.001e+00  9.947e-01]\n",
       "      nit: 9\n",
       "      jac: [-6.573e-06 -4.441e-06 -1.776e-06]\n",
       "     nfev: 40\n",
       "     njev: 10\n",
       " hess_inv: <3x3 LbfgsInvHessProduct with dtype=float64>"
      ]
     },
     "execution_count": 17,
     "metadata": {},
     "output_type": "execute_result"
    }
   ],
   "source": [
    "sol10 = optimize.minimize(loss, x0=[1, 1, 1], method=\"L-BFGS-B\")\n",
    "sol10"
   ]
  },
  {
   "cell_type": "code",
   "execution_count": 18,
   "id": "8623c052",
   "metadata": {},
   "outputs": [
    {
     "data": {
      "text/plain": [
       "array([[ 0.00559644, -0.00059923, -0.00195969],\n",
       "       [-0.00059923,  0.00116968,  0.00026955],\n",
       "       [-0.00195969,  0.00026955,  0.00107388]])"
      ]
     },
     "execution_count": 18,
     "metadata": {},
     "output_type": "execute_result"
    }
   ],
   "source": [
    "sol10.hess_inv.todense()"
   ]
  },
  {
   "cell_type": "code",
   "execution_count": null,
   "id": "19b2dfde",
   "metadata": {},
   "outputs": [],
   "source": []
  },
  {
   "cell_type": "code",
   "execution_count": null,
   "id": "6992d80e",
   "metadata": {},
   "outputs": [],
   "source": []
  },
  {
   "cell_type": "code",
   "execution_count": null,
   "id": "8d07d55a",
   "metadata": {},
   "outputs": [],
   "source": []
  },
  {
   "cell_type": "code",
   "execution_count": 19,
   "id": "c78b0df9",
   "metadata": {},
   "outputs": [],
   "source": [
    "def residuals_factory(x, y, sigma=1.):\n",
    "    def wrapped(beta):\n",
    "        return (y - Model.model(x, *beta))/sigma\n",
    "    return wrapped"
   ]
  },
  {
   "cell_type": "code",
   "execution_count": 20,
   "id": "4fe35a67",
   "metadata": {},
   "outputs": [],
   "source": [
    "residuals = residuals_factory(data[[\"x0\"]].values, data[\"y\"].values, sigma=data[\"sy\"].values)"
   ]
  },
  {
   "cell_type": "code",
   "execution_count": null,
   "id": "7423c3aa",
   "metadata": {},
   "outputs": [],
   "source": []
  },
  {
   "cell_type": "code",
   "execution_count": 21,
   "id": "17f8b979",
   "metadata": {},
   "outputs": [],
   "source": [
    "sol2 = optimize.least_squares(residuals, x0=[1, 1, 1])"
   ]
  },
  {
   "cell_type": "code",
   "execution_count": 22,
   "id": "79a43587",
   "metadata": {},
   "outputs": [],
   "source": [
    "U, s, Vh = np.linalg.svd(sol2.jac, full_matrices=False)\n",
    "tol = np.finfo(float).eps*s[0]*max(sol2.jac.shape)\n",
    "w = s > tol\n",
    "cov = (Vh[w].T/s[w]**2) @ Vh[w]"
   ]
  },
  {
   "cell_type": "code",
   "execution_count": 23,
   "id": "918b7046",
   "metadata": {},
   "outputs": [
    {
     "data": {
      "text/plain": [
       "array([[ 3.29272573e-03,  5.10999583e-14, -1.17327009e-03],\n",
       "       [ 5.10999583e-14,  9.35483875e-04,  6.78502888e-13],\n",
       "       [-1.17327009e-03,  6.78502888e-13,  7.51395090e-04]])"
      ]
     },
     "execution_count": 23,
     "metadata": {},
     "output_type": "execute_result"
    }
   ],
   "source": [
    "cov"
   ]
  },
  {
   "cell_type": "code",
   "execution_count": 24,
   "id": "122cd16b",
   "metadata": {},
   "outputs": [
    {
     "data": {
      "text/plain": [
       "array([[ 3.29272575e-03, -1.22229183e-11, -1.17327009e-03],\n",
       "       [-1.22229183e-11,  9.35483859e-04,  8.58959144e-12],\n",
       "       [-1.17327009e-03,  8.58959144e-12,  7.51395089e-04]])"
      ]
     },
     "execution_count": 24,
     "metadata": {},
     "output_type": "execute_result"
    }
   ],
   "source": [
    "pcov"
   ]
  },
  {
   "cell_type": "code",
   "execution_count": null,
   "id": "1a98bf14",
   "metadata": {},
   "outputs": [],
   "source": []
  },
  {
   "cell_type": "code",
   "execution_count": null,
   "id": "5e1d6cb0",
   "metadata": {},
   "outputs": [],
   "source": []
  },
  {
   "cell_type": "code",
   "execution_count": 25,
   "id": "ce2bdfd9",
   "metadata": {},
   "outputs": [],
   "source": [
    "sol3 = optimize.leastsq(residuals, x0=[1, 1, 1], full_output=True)"
   ]
  },
  {
   "cell_type": "code",
   "execution_count": 26,
   "id": "5e97b5f9",
   "metadata": {},
   "outputs": [
    {
     "data": {
      "text/plain": [
       "(array([3.01710543, 2.00080084, 0.99472341]),\n",
       " array([[ 3.29272567e-03, -1.47421387e-11, -1.17327007e-03],\n",
       "        [-1.47421387e-11,  9.35483860e-04,  6.93681766e-12],\n",
       "        [-1.17327007e-03,  6.93681766e-12,  7.51395091e-04]]),\n",
       " {'fvec': array([ 0.36115516, -1.27902788,  1.36525545, -0.36112989, -0.75172036,\n",
       "          0.87175052,  0.85826806, -0.62537895,  0.03767869, -2.21149203,\n",
       "          1.18881211,  1.03667871,  1.00238597, -1.96949097, -0.28123867,\n",
       "          0.05440476,  0.45556035,  0.33539228,  1.36202477, -1.51309988,\n",
       "         -0.17752871, -0.64116694,  0.19628142,  0.54272944,  1.29224541,\n",
       "         -0.51203524,  0.61437316, -1.89828628, -0.28607286,  0.93267244]),\n",
       "  'nfev': 9,\n",
       "  'fjac': array([[ 5.47722554e+01,  1.82574185e-01,  1.82574185e-01,\n",
       "           1.82574185e-01,  1.82574185e-01,  1.82574187e-01,\n",
       "           1.82574187e-01,  1.82574187e-01,  1.82574187e-01,\n",
       "           1.82574185e-01,  1.82574188e-01,  1.82574187e-01,\n",
       "           1.82574187e-01,  1.82574187e-01,  1.82574187e-01,\n",
       "           1.82574188e-01,  1.82574188e-01,  1.82574185e-01,\n",
       "           1.82574185e-01,  1.82574188e-01,  1.82574183e-01,\n",
       "           1.82574188e-01,  1.82574183e-01,  1.82574183e-01,\n",
       "           1.82574183e-01,  1.82574194e-01,  1.82574183e-01,\n",
       "           1.82574183e-01,  1.82574183e-01,  1.82574183e-01],\n",
       "         [-9.85901014e-08, -3.26950383e+01,  2.16449321e-01,\n",
       "           1.95355747e-01,  1.74262173e-01,  1.53168601e-01,\n",
       "           1.32075027e-01,  1.10981455e-01,  8.98878814e-02,\n",
       "           6.87943101e-02,  4.77007354e-02,  2.66071629e-02,\n",
       "           5.51358894e-03, -1.55799828e-02, -3.66735556e-02,\n",
       "          -5.77671299e-02, -7.88607016e-02, -9.99542749e-02,\n",
       "          -1.21047847e-01, -1.42141424e-01, -1.63234992e-01,\n",
       "          -1.84328567e-01, -2.05422140e-01, -2.26515713e-01,\n",
       "          -2.47609287e-01, -2.68702864e-01, -2.89796431e-01,\n",
       "          -3.10890000e-01, -3.31983579e-01, -3.53077148e-01],\n",
       "         [ 1.95165509e+01, -1.46381702e-07,  1.74269837e+01,\n",
       "           6.22115308e-02,  6.18934249e-03, -4.43743672e-02,\n",
       "          -8.94795965e-02, -1.29126344e-01, -1.63314610e-01,\n",
       "          -1.92044398e-01, -2.15315707e-01, -2.33128531e-01,\n",
       "          -2.45482876e-01, -2.52378742e-01, -2.53816125e-01,\n",
       "          -2.49795029e-01, -2.40315452e-01, -2.25377393e-01,\n",
       "          -2.04980857e-01, -1.79125837e-01, -1.47812335e-01,\n",
       "          -1.11040360e-01, -6.88098954e-02, -2.11209570e-02,\n",
       "           3.20264680e-02,  9.06323588e-02,  1.54696749e-01,\n",
       "           2.24219616e-01,  2.99200965e-01,  3.79640783e-01]]),\n",
       "  'ipvt': array([3, 2, 1], dtype=int32),\n",
       "  'qtf': array([ 1.68829242e-07, -2.91111187e-07,  2.69329906e-07])},\n",
       " 'Both actual and predicted relative reductions in the sum of squares\\n  are at most 0.000000 and the relative error between two consecutive iterates is at \\n  most 0.000000',\n",
       " 3)"
      ]
     },
     "execution_count": 26,
     "metadata": {},
     "output_type": "execute_result"
    }
   ],
   "source": [
    "sol3"
   ]
  },
  {
   "cell_type": "code",
   "execution_count": null,
   "id": "ed081eb5",
   "metadata": {},
   "outputs": [],
   "source": []
  },
  {
   "cell_type": "code",
   "execution_count": null,
   "id": "8d4cf7d4",
   "metadata": {},
   "outputs": [],
   "source": []
  }
 ],
 "metadata": {
  "kernelspec": {
   "display_name": "Python 3 (ipykernel)",
   "language": "python",
   "name": "python3"
  },
  "language_info": {
   "codemirror_mode": {
    "name": "ipython",
    "version": 3
   },
   "file_extension": ".py",
   "mimetype": "text/x-python",
   "name": "python",
   "nbconvert_exporter": "python",
   "pygments_lexer": "ipython3",
   "version": "3.9.7"
  }
 },
 "nbformat": 4,
 "nbformat_minor": 5
}
