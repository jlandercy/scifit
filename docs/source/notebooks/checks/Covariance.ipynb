{
 "cells": [
  {
   "cell_type": "code",
   "execution_count": 1,
   "id": "41ffd56f",
   "metadata": {},
   "outputs": [],
   "source": [
    "import numpy as np\n",
    "from scipy import optimize\n",
    "from scifit.solvers import FitSolver1D"
   ]
  },
  {
   "cell_type": "code",
   "execution_count": 2,
   "id": "57f6886c",
   "metadata": {},
   "outputs": [],
   "source": [
    "class Model(FitSolver1D):\n",
    "    @staticmethod\n",
    "    def model(x, a, b, c):\n",
    "        return a * x[:, 0]**2 + b * x[:, 0] + c"
   ]
  },
  {
   "cell_type": "code",
   "execution_count": 3,
   "id": "f2dfaaf3",
   "metadata": {},
   "outputs": [],
   "source": [
    "model = Model()"
   ]
  },
  {
   "cell_type": "code",
   "execution_count": 4,
   "id": "5835ba53",
   "metadata": {},
   "outputs": [],
   "source": [
    "data = model.synthetic_dataset(parameters=(3,2,1), sigma=0.1)"
   ]
  },
  {
   "cell_type": "code",
   "execution_count": 5,
   "id": "f8f06992",
   "metadata": {},
   "outputs": [],
   "source": [
    "sol1 = model.fit(data)"
   ]
  },
  {
   "cell_type": "code",
   "execution_count": 6,
   "id": "dbb5c564",
   "metadata": {},
   "outputs": [
    {
     "data": {
      "image/png": "[encoded data removed]",
      "text/plain": [
       "<Figure size 432x288 with 1 Axes>"
      ]
     },
     "metadata": {
      "needs_background": "light"
     },
     "output_type": "display_data"
    }
   ],
   "source": [
    "axe = model.plot_fit()"
   ]
  },
  {
   "cell_type": "code",
   "execution_count": 7,
   "id": "aee3262f",
   "metadata": {},
   "outputs": [
    {
     "data": {
      "text/plain": [
       "array([3.01710543, 2.00080084, 0.99472341])"
      ]
     },
     "execution_count": 7,
     "metadata": {},
     "output_type": "execute_result"
    }
   ],
   "source": [
    "sol1[\"parameters\"]"
   ]
  },
  {
   "cell_type": "code",
   "execution_count": 8,
   "id": "4bb2acd5",
   "metadata": {},
   "outputs": [
    {
     "data": {
      "text/plain": [
       "array([[ 3.29272575e-03, -1.22229183e-11, -1.17327009e-03],\n",
       "       [-1.22229183e-11,  9.35483859e-04,  8.58959144e-12],\n",
       "       [-1.17327009e-03,  8.58959144e-12,  7.51395089e-04]])"
      ]
     },
     "execution_count": 8,
     "metadata": {},
     "output_type": "execute_result"
    }
   ],
   "source": [
    "sol1[\"covariance\"]"
   ]
  },
  {
   "cell_type": "code",
   "execution_count": 9,
   "id": "0df49d30",
   "metadata": {},
   "outputs": [
    {
     "data": {
      "text/plain": [
       "(array([3.01710543, 2.00080084, 0.99472341]),\n",
       " array([[ 3.73959710e-03,  2.31468658e-11, -1.33250012e-03],\n",
       "        [ 2.31468658e-11,  1.06244278e-03, -1.26854872e-11],\n",
       "        [-1.33250012e-03, -1.26854872e-11,  8.53370462e-04]]))"
      ]
     },
     "execution_count": 9,
     "metadata": {},
     "output_type": "execute_result"
    }
   ],
   "source": [
    "optimize.curve_fit(Model.model, data[[\"x0\"]].values, data[\"y\"].values)"
   ]
  },
  {
   "cell_type": "code",
   "execution_count": 10,
   "id": "5584620c",
   "metadata": {},
   "outputs": [
    {
     "data": {
      "text/plain": [
       "(array([3.01710543, 2.00080084, 0.99472341]),\n",
       " array([[ 3.73959707e-03, -1.38817481e-11, -1.33250010e-03],\n",
       "        [-1.38817481e-11,  1.06244278e-03,  9.75532535e-12],\n",
       "        [-1.33250010e-03,  9.75532535e-12,  8.53370455e-04]]))"
      ]
     },
     "execution_count": 10,
     "metadata": {},
     "output_type": "execute_result"
    }
   ],
   "source": [
    "optimize.curve_fit(Model.model, data[[\"x0\"]].values, data[\"y\"].values, sigma=data[\"sy\"].values)"
   ]
  },
  {
   "cell_type": "code",
   "execution_count": 11,
   "id": "8eee81f4",
   "metadata": {},
   "outputs": [
    {
     "data": {
      "text/plain": [
       "(array([3.01710543, 2.00080084, 0.99472341]),\n",
       " array([[ 3.29272575e-03, -1.22229183e-11, -1.17327009e-03],\n",
       "        [-1.22229183e-11,  9.35483859e-04,  8.58959144e-12],\n",
       "        [-1.17327009e-03,  8.58959144e-12,  7.51395089e-04]]))"
      ]
     },
     "execution_count": 11,
     "metadata": {},
     "output_type": "execute_result"
    }
   ],
   "source": [
    "optimize.curve_fit(Model.model, data[[\"x0\"]].values, data[\"y\"].values, sigma=data[\"sy\"].values, absolute_sigma=True)"
   ]
  },
  {
   "cell_type": "code",
   "execution_count": null,
   "id": "4e29d365",
   "metadata": {},
   "outputs": [],
   "source": []
  },
  {
   "cell_type": "code",
   "execution_count": 19,
   "id": "61038068",
   "metadata": {},
   "outputs": [],
   "source": [
    "def loss_factory(x, y):\n",
    "    def wrapped(beta):\n",
    "        return np.sum(np.power(y - Model.model(x, *beta), 2))\n",
    "    return wrapped"
   ]
  },
  {
   "cell_type": "code",
   "execution_count": 20,
   "id": "3d41b4c3",
   "metadata": {},
   "outputs": [],
   "source": [
    "loss = loss_factory(data[[\"x0\"]].values, data[\"y\"].values)"
   ]
  },
  {
   "cell_type": "code",
   "execution_count": 22,
   "id": "4a38558a",
   "metadata": {},
   "outputs": [
    {
     "ename": "TypeError",
     "evalue": "model() missing 1 required positional argument: 'c'",
     "output_type": "error",
     "traceback": [
      "\u001b[1;31m---------------------------------------------------------------------------\u001b[0m",
      "\u001b[1;31mTypeError\u001b[0m                                 Traceback (most recent call last)",
      "\u001b[1;32mC:\\Users\\DEVELO~1\\AppData\\Local\\Temp/ipykernel_4388/3038122080.py\u001b[0m in \u001b[0;36m<module>\u001b[1;34m\u001b[0m\n\u001b[1;32m----> 1\u001b[1;33m \u001b[0moptimize\u001b[0m\u001b[1;33m.\u001b[0m\u001b[0mminimize\u001b[0m\u001b[1;33m(\u001b[0m\u001b[0mloss\u001b[0m\u001b[1;33m,\u001b[0m \u001b[0mx0\u001b[0m\u001b[1;33m=\u001b[0m\u001b[1;33m[\u001b[0m\u001b[1;36m1\u001b[0m\u001b[1;33m,\u001b[0m\u001b[1;36m1\u001b[0m\u001b[1;33m]\u001b[0m\u001b[1;33m)\u001b[0m\u001b[1;33m\u001b[0m\u001b[1;33m\u001b[0m\u001b[0m\n\u001b[0m",
      "\u001b[1;32m~\\AppData\\Roaming\\Python\\Python39\\site-packages\\scipy\\optimize\\_minimize.py\u001b[0m in \u001b[0;36mminimize\u001b[1;34m(fun, x0, args, method, jac, hess, hessp, bounds, constraints, tol, callback, options)\u001b[0m\n\u001b[0;32m    703\u001b[0m         \u001b[0mres\u001b[0m \u001b[1;33m=\u001b[0m \u001b[0m_minimize_cg\u001b[0m\u001b[1;33m(\u001b[0m\u001b[0mfun\u001b[0m\u001b[1;33m,\u001b[0m \u001b[0mx0\u001b[0m\u001b[1;33m,\u001b[0m \u001b[0margs\u001b[0m\u001b[1;33m,\u001b[0m \u001b[0mjac\u001b[0m\u001b[1;33m,\u001b[0m \u001b[0mcallback\u001b[0m\u001b[1;33m,\u001b[0m \u001b[1;33m**\u001b[0m\u001b[0moptions\u001b[0m\u001b[1;33m)\u001b[0m\u001b[1;33m\u001b[0m\u001b[1;33m\u001b[0m\u001b[0m\n\u001b[0;32m    704\u001b[0m     \u001b[1;32melif\u001b[0m \u001b[0mmeth\u001b[0m \u001b[1;33m==\u001b[0m \u001b[1;34m'bfgs'\u001b[0m\u001b[1;33m:\u001b[0m\u001b[1;33m\u001b[0m\u001b[1;33m\u001b[0m\u001b[0m\n\u001b[1;32m--> 705\u001b[1;33m         \u001b[0mres\u001b[0m \u001b[1;33m=\u001b[0m \u001b[0m_minimize_bfgs\u001b[0m\u001b[1;33m(\u001b[0m\u001b[0mfun\u001b[0m\u001b[1;33m,\u001b[0m \u001b[0mx0\u001b[0m\u001b[1;33m,\u001b[0m \u001b[0margs\u001b[0m\u001b[1;33m,\u001b[0m \u001b[0mjac\u001b[0m\u001b[1;33m,\u001b[0m \u001b[0mcallback\u001b[0m\u001b[1;33m,\u001b[0m \u001b[1;33m**\u001b[0m\u001b[0moptions\u001b[0m\u001b[1;33m)\u001b[0m\u001b[1;33m\u001b[0m\u001b[1;33m\u001b[0m\u001b[0m\n\u001b[0m\u001b[0;32m    706\u001b[0m     \u001b[1;32melif\u001b[0m \u001b[0mmeth\u001b[0m \u001b[1;33m==\u001b[0m \u001b[1;34m'newton-cg'\u001b[0m\u001b[1;33m:\u001b[0m\u001b[1;33m\u001b[0m\u001b[1;33m\u001b[0m\u001b[0m\n\u001b[0;32m    707\u001b[0m         res = _minimize_newtoncg(fun, x0, args, jac, hess, hessp, callback,\n",
      "\u001b[1;32m~\\AppData\\Roaming\\Python\\Python39\\site-packages\\scipy\\optimize\\_optimize.py\u001b[0m in \u001b[0;36m_minimize_bfgs\u001b[1;34m(fun, x0, args, jac, callback, gtol, norm, eps, maxiter, disp, return_all, finite_diff_rel_step, xrtol, **unknown_options)\u001b[0m\n\u001b[0;32m   1417\u001b[0m         \u001b[0mmaxiter\u001b[0m \u001b[1;33m=\u001b[0m \u001b[0mlen\u001b[0m\u001b[1;33m(\u001b[0m\u001b[0mx0\u001b[0m\u001b[1;33m)\u001b[0m \u001b[1;33m*\u001b[0m \u001b[1;36m200\u001b[0m\u001b[1;33m\u001b[0m\u001b[1;33m\u001b[0m\u001b[0m\n\u001b[0;32m   1418\u001b[0m \u001b[1;33m\u001b[0m\u001b[0m\n\u001b[1;32m-> 1419\u001b[1;33m     sf = _prepare_scalar_function(fun, x0, jac, args=args, epsilon=eps,\n\u001b[0m\u001b[0;32m   1420\u001b[0m                                   finite_diff_rel_step=finite_diff_rel_step)\n\u001b[0;32m   1421\u001b[0m \u001b[1;33m\u001b[0m\u001b[0m\n",
      "\u001b[1;32m~\\AppData\\Roaming\\Python\\Python39\\site-packages\\scipy\\optimize\\_optimize.py\u001b[0m in \u001b[0;36m_prepare_scalar_function\u001b[1;34m(fun, x0, jac, args, bounds, epsilon, finite_diff_rel_step, hess)\u001b[0m\n\u001b[0;32m    381\u001b[0m     \u001b[1;31m# ScalarFunction caches. Reuse of fun(x) during grad\u001b[0m\u001b[1;33m\u001b[0m\u001b[1;33m\u001b[0m\u001b[0m\n\u001b[0;32m    382\u001b[0m     \u001b[1;31m# calculation reduces overall function evaluations.\u001b[0m\u001b[1;33m\u001b[0m\u001b[1;33m\u001b[0m\u001b[0m\n\u001b[1;32m--> 383\u001b[1;33m     sf = ScalarFunction(fun, x0, args, grad, hess,\n\u001b[0m\u001b[0;32m    384\u001b[0m                         finite_diff_rel_step, bounds, epsilon=epsilon)\n\u001b[0;32m    385\u001b[0m \u001b[1;33m\u001b[0m\u001b[0m\n",
      "\u001b[1;32m~\\AppData\\Roaming\\Python\\Python39\\site-packages\\scipy\\optimize\\_differentiable_functions.py\u001b[0m in \u001b[0;36m__init__\u001b[1;34m(self, fun, x0, args, grad, hess, finite_diff_rel_step, finite_diff_bounds, epsilon)\u001b[0m\n\u001b[0;32m    156\u001b[0m \u001b[1;33m\u001b[0m\u001b[0m\n\u001b[0;32m    157\u001b[0m         \u001b[0mself\u001b[0m\u001b[1;33m.\u001b[0m\u001b[0m_update_fun_impl\u001b[0m \u001b[1;33m=\u001b[0m \u001b[0mupdate_fun\u001b[0m\u001b[1;33m\u001b[0m\u001b[1;33m\u001b[0m\u001b[0m\n\u001b[1;32m--> 158\u001b[1;33m         \u001b[0mself\u001b[0m\u001b[1;33m.\u001b[0m\u001b[0m_update_fun\u001b[0m\u001b[1;33m(\u001b[0m\u001b[1;33m)\u001b[0m\u001b[1;33m\u001b[0m\u001b[1;33m\u001b[0m\u001b[0m\n\u001b[0m\u001b[0;32m    159\u001b[0m \u001b[1;33m\u001b[0m\u001b[0m\n\u001b[0;32m    160\u001b[0m         \u001b[1;31m# Gradient evaluation\u001b[0m\u001b[1;33m\u001b[0m\u001b[1;33m\u001b[0m\u001b[0m\n",
      "\u001b[1;32m~\\AppData\\Roaming\\Python\\Python39\\site-packages\\scipy\\optimize\\_differentiable_functions.py\u001b[0m in \u001b[0;36m_update_fun\u001b[1;34m(self)\u001b[0m\n\u001b[0;32m    249\u001b[0m     \u001b[1;32mdef\u001b[0m \u001b[0m_update_fun\u001b[0m\u001b[1;33m(\u001b[0m\u001b[0mself\u001b[0m\u001b[1;33m)\u001b[0m\u001b[1;33m:\u001b[0m\u001b[1;33m\u001b[0m\u001b[1;33m\u001b[0m\u001b[0m\n\u001b[0;32m    250\u001b[0m         \u001b[1;32mif\u001b[0m \u001b[1;32mnot\u001b[0m \u001b[0mself\u001b[0m\u001b[1;33m.\u001b[0m\u001b[0mf_updated\u001b[0m\u001b[1;33m:\u001b[0m\u001b[1;33m\u001b[0m\u001b[1;33m\u001b[0m\u001b[0m\n\u001b[1;32m--> 251\u001b[1;33m             \u001b[0mself\u001b[0m\u001b[1;33m.\u001b[0m\u001b[0m_update_fun_impl\u001b[0m\u001b[1;33m(\u001b[0m\u001b[1;33m)\u001b[0m\u001b[1;33m\u001b[0m\u001b[1;33m\u001b[0m\u001b[0m\n\u001b[0m\u001b[0;32m    252\u001b[0m             \u001b[0mself\u001b[0m\u001b[1;33m.\u001b[0m\u001b[0mf_updated\u001b[0m \u001b[1;33m=\u001b[0m \u001b[1;32mTrue\u001b[0m\u001b[1;33m\u001b[0m\u001b[1;33m\u001b[0m\u001b[0m\n\u001b[0;32m    253\u001b[0m \u001b[1;33m\u001b[0m\u001b[0m\n",
      "\u001b[1;32m~\\AppData\\Roaming\\Python\\Python39\\site-packages\\scipy\\optimize\\_differentiable_functions.py\u001b[0m in \u001b[0;36mupdate_fun\u001b[1;34m()\u001b[0m\n\u001b[0;32m    153\u001b[0m \u001b[1;33m\u001b[0m\u001b[0m\n\u001b[0;32m    154\u001b[0m         \u001b[1;32mdef\u001b[0m \u001b[0mupdate_fun\u001b[0m\u001b[1;33m(\u001b[0m\u001b[1;33m)\u001b[0m\u001b[1;33m:\u001b[0m\u001b[1;33m\u001b[0m\u001b[1;33m\u001b[0m\u001b[0m\n\u001b[1;32m--> 155\u001b[1;33m             \u001b[0mself\u001b[0m\u001b[1;33m.\u001b[0m\u001b[0mf\u001b[0m \u001b[1;33m=\u001b[0m \u001b[0mfun_wrapped\u001b[0m\u001b[1;33m(\u001b[0m\u001b[0mself\u001b[0m\u001b[1;33m.\u001b[0m\u001b[0mx\u001b[0m\u001b[1;33m)\u001b[0m\u001b[1;33m\u001b[0m\u001b[1;33m\u001b[0m\u001b[0m\n\u001b[0m\u001b[0;32m    156\u001b[0m \u001b[1;33m\u001b[0m\u001b[0m\n\u001b[0;32m    157\u001b[0m         \u001b[0mself\u001b[0m\u001b[1;33m.\u001b[0m\u001b[0m_update_fun_impl\u001b[0m \u001b[1;33m=\u001b[0m \u001b[0mupdate_fun\u001b[0m\u001b[1;33m\u001b[0m\u001b[1;33m\u001b[0m\u001b[0m\n",
      "\u001b[1;32m~\\AppData\\Roaming\\Python\\Python39\\site-packages\\scipy\\optimize\\_differentiable_functions.py\u001b[0m in \u001b[0;36mfun_wrapped\u001b[1;34m(x)\u001b[0m\n\u001b[0;32m    135\u001b[0m             \u001b[1;31m# Overwriting results in undefined behaviour because\u001b[0m\u001b[1;33m\u001b[0m\u001b[1;33m\u001b[0m\u001b[0m\n\u001b[0;32m    136\u001b[0m             \u001b[1;31m# fun(self.x) will change self.x, with the two no longer linked.\u001b[0m\u001b[1;33m\u001b[0m\u001b[1;33m\u001b[0m\u001b[0m\n\u001b[1;32m--> 137\u001b[1;33m             \u001b[0mfx\u001b[0m \u001b[1;33m=\u001b[0m \u001b[0mfun\u001b[0m\u001b[1;33m(\u001b[0m\u001b[0mnp\u001b[0m\u001b[1;33m.\u001b[0m\u001b[0mcopy\u001b[0m\u001b[1;33m(\u001b[0m\u001b[0mx\u001b[0m\u001b[1;33m)\u001b[0m\u001b[1;33m,\u001b[0m \u001b[1;33m*\u001b[0m\u001b[0margs\u001b[0m\u001b[1;33m)\u001b[0m\u001b[1;33m\u001b[0m\u001b[1;33m\u001b[0m\u001b[0m\n\u001b[0m\u001b[0;32m    138\u001b[0m             \u001b[1;31m# Make sure the function returns a true scalar\u001b[0m\u001b[1;33m\u001b[0m\u001b[1;33m\u001b[0m\u001b[0m\n\u001b[0;32m    139\u001b[0m             \u001b[1;32mif\u001b[0m \u001b[1;32mnot\u001b[0m \u001b[0mnp\u001b[0m\u001b[1;33m.\u001b[0m\u001b[0misscalar\u001b[0m\u001b[1;33m(\u001b[0m\u001b[0mfx\u001b[0m\u001b[1;33m)\u001b[0m\u001b[1;33m:\u001b[0m\u001b[1;33m\u001b[0m\u001b[1;33m\u001b[0m\u001b[0m\n",
      "\u001b[1;32mC:\\Users\\DEVELO~1\\AppData\\Local\\Temp/ipykernel_4388/2980465797.py\u001b[0m in \u001b[0;36mwrapped\u001b[1;34m(beta)\u001b[0m\n\u001b[0;32m      1\u001b[0m \u001b[1;32mdef\u001b[0m \u001b[0mloss_factory\u001b[0m\u001b[1;33m(\u001b[0m\u001b[0mx\u001b[0m\u001b[1;33m,\u001b[0m \u001b[0my\u001b[0m\u001b[1;33m)\u001b[0m\u001b[1;33m:\u001b[0m\u001b[1;33m\u001b[0m\u001b[1;33m\u001b[0m\u001b[0m\n\u001b[0;32m      2\u001b[0m     \u001b[1;32mdef\u001b[0m \u001b[0mwrapped\u001b[0m\u001b[1;33m(\u001b[0m\u001b[0mbeta\u001b[0m\u001b[1;33m)\u001b[0m\u001b[1;33m:\u001b[0m\u001b[1;33m\u001b[0m\u001b[1;33m\u001b[0m\u001b[0m\n\u001b[1;32m----> 3\u001b[1;33m         \u001b[1;32mreturn\u001b[0m \u001b[0mnp\u001b[0m\u001b[1;33m.\u001b[0m\u001b[0msum\u001b[0m\u001b[1;33m(\u001b[0m\u001b[0mnp\u001b[0m\u001b[1;33m.\u001b[0m\u001b[0mpower\u001b[0m\u001b[1;33m(\u001b[0m\u001b[0my\u001b[0m \u001b[1;33m-\u001b[0m \u001b[0mModel\u001b[0m\u001b[1;33m.\u001b[0m\u001b[0mmodel\u001b[0m\u001b[1;33m(\u001b[0m\u001b[0mx\u001b[0m\u001b[1;33m,\u001b[0m \u001b[1;33m*\u001b[0m\u001b[0mbeta\u001b[0m\u001b[1;33m)\u001b[0m\u001b[1;33m,\u001b[0m \u001b[1;36m2\u001b[0m\u001b[1;33m)\u001b[0m\u001b[1;33m)\u001b[0m\u001b[1;33m\u001b[0m\u001b[1;33m\u001b[0m\u001b[0m\n\u001b[0m\u001b[0;32m      4\u001b[0m     \u001b[1;32mreturn\u001b[0m \u001b[0mwrapped\u001b[0m\u001b[1;33m\u001b[0m\u001b[1;33m\u001b[0m\u001b[0m\n",
      "\u001b[1;31mTypeError\u001b[0m: model() missing 1 required positional argument: 'c'"
     ]
    }
   ],
   "source": [
    "optimize.minimize(loss, x0=[1,1])"
   ]
  },
  {
   "cell_type": "code",
   "execution_count": null,
   "id": "8623c052",
   "metadata": {},
   "outputs": [],
   "source": []
  },
  {
   "cell_type": "code",
   "execution_count": null,
   "id": "19b2dfde",
   "metadata": {},
   "outputs": [],
   "source": []
  },
  {
   "cell_type": "code",
   "execution_count": 12,
   "id": "c78b0df9",
   "metadata": {},
   "outputs": [],
   "source": [
    "def residuals_factory(x, y):\n",
    "    def wrapped(beta):\n",
    "        return y - Model.model(x, *beta)\n",
    "    return wrapped"
   ]
  },
  {
   "cell_type": "code",
   "execution_count": 13,
   "id": "4fe35a67",
   "metadata": {},
   "outputs": [],
   "source": [
    "residuals = residuals_factory(data[[\"x0\"]].values, data[\"y\"].values)"
   ]
  },
  {
   "cell_type": "code",
   "execution_count": null,
   "id": "7423c3aa",
   "metadata": {},
   "outputs": [],
   "source": []
  },
  {
   "cell_type": "code",
   "execution_count": 14,
   "id": "17f8b979",
   "metadata": {},
   "outputs": [],
   "source": [
    "sol2 = optimize.least_squares(residuals, x0=[1, 1, 1])"
   ]
  },
  {
   "cell_type": "code",
   "execution_count": 15,
   "id": "79a43587",
   "metadata": {},
   "outputs": [],
   "source": [
    "U, s, Vh = np.linalg.svd(sol2.jac, full_matrices=False)\n",
    "tol = np.finfo(float).eps*s[0]*max(sol2.jac.shape)\n",
    "w = s > tol\n",
    "cov = (Vh[w].T/s[w]**2) @ Vh[w]"
   ]
  },
  {
   "cell_type": "code",
   "execution_count": 16,
   "id": "918b7046",
   "metadata": {},
   "outputs": [
    {
     "data": {
      "text/plain": [
       "array([[ 3.29272575e-01, -1.01362051e-09, -1.17327009e-01],\n",
       "       [-1.01362051e-09,  9.35483864e-02,  2.56668515e-10],\n",
       "       [-1.17327009e-01,  2.56668515e-10,  7.51395091e-02]])"
      ]
     },
     "execution_count": 16,
     "metadata": {},
     "output_type": "execute_result"
    }
   ],
   "source": [
    "cov"
   ]
  },
  {
   "cell_type": "code",
   "execution_count": null,
   "id": "122cd16b",
   "metadata": {},
   "outputs": [],
   "source": []
  },
  {
   "cell_type": "code",
   "execution_count": 17,
   "id": "ce2bdfd9",
   "metadata": {},
   "outputs": [],
   "source": [
    "sol3 = optimize.leastsq(residuals, x0=[1, 1, 1], full_output=True)"
   ]
  },
  {
   "cell_type": "code",
   "execution_count": 18,
   "id": "5e97b5f9",
   "metadata": {},
   "outputs": [
    {
     "data": {
      "text/plain": [
       "(array([3.01710543, 2.00080084, 0.99472341]),\n",
       " array([[ 3.29272578e-01,  2.03808805e-09, -1.17327011e-01],\n",
       "        [ 2.03808805e-09,  9.35483864e-02, -1.11696072e-09],\n",
       "        [-1.17327011e-01, -1.11696072e-09,  7.51395095e-02]]),\n",
       " {'fvec': array([ 0.03611552, -0.12790279,  0.13652554, -0.03611299, -0.07517204,\n",
       "          0.08717505,  0.08582681, -0.06253789,  0.00376787, -0.2211492 ,\n",
       "          0.11888121,  0.10366787,  0.1002386 , -0.1969491 , -0.02812387,\n",
       "          0.00544048,  0.04555604,  0.03353923,  0.13620248, -0.15130999,\n",
       "         -0.01775287, -0.06411669,  0.01962814,  0.05427294,  0.12922454,\n",
       "         -0.05120352,  0.06143732, -0.18982863, -0.02860729,  0.09326724]),\n",
       "  'nfev': 9,\n",
       "  'fjac': array([[ 5.47722560e+00,  1.82574186e-01,  1.82574186e-01,\n",
       "           1.82574186e-01,  1.82574183e-01,  1.82574185e-01,\n",
       "           1.82574185e-01,  1.82574185e-01,  1.82574185e-01,\n",
       "           1.82574185e-01,  1.82574185e-01,  1.82574185e-01,\n",
       "           1.82574185e-01,  1.82574185e-01,  1.82574185e-01,\n",
       "           1.82574186e-01,  1.82574186e-01,  1.82574183e-01,\n",
       "           1.82574183e-01,  1.82574186e-01,  1.82574181e-01,\n",
       "           1.82574186e-01,  1.82574181e-01,  1.82574186e-01,\n",
       "           1.82574186e-01,  1.82574191e-01,  1.82574191e-01,\n",
       "           1.82574191e-01,  1.82574191e-01,  1.82574191e-01],\n",
       "         [ 2.28780095e-08, -3.26950382e+00,  2.16449321e-01,\n",
       "           1.95355749e-01,  1.74262176e-01,  1.53168602e-01,\n",
       "           1.32075030e-01,  1.10981456e-01,  8.98878827e-02,\n",
       "           6.87943109e-02,  4.77007380e-02,  2.66071650e-02,\n",
       "           5.51359211e-03, -1.55799808e-02, -3.66735538e-02,\n",
       "          -5.77671282e-02, -7.88607000e-02, -9.99542733e-02,\n",
       "          -1.21047845e-01, -1.42141422e-01, -1.63234986e-01,\n",
       "          -1.84328561e-01, -2.05422134e-01, -2.26515714e-01,\n",
       "          -2.47609283e-01, -2.68702864e-01, -2.89796433e-01,\n",
       "          -3.10890012e-01, -3.31983572e-01, -3.53077151e-01],\n",
       "         [ 1.95165511e+00,  2.02371443e-08,  1.74269834e+00,\n",
       "           6.22115314e-02,  6.18934339e-03, -4.43743692e-02,\n",
       "          -8.94795965e-02, -1.29126347e-01, -1.63314614e-01,\n",
       "          -1.92044401e-01, -2.15315709e-01, -2.33128535e-01,\n",
       "          -2.45482880e-01, -2.52378744e-01, -2.53816128e-01,\n",
       "          -2.49795032e-01, -2.40315457e-01, -2.25377395e-01,\n",
       "          -2.04980858e-01, -1.79125838e-01, -1.47812335e-01,\n",
       "          -1.11040366e-01, -6.88098997e-02, -2.11209613e-02,\n",
       "           3.20264640e-02,  9.06323645e-02,  1.54696741e-01,\n",
       "           2.24219611e-01,  2.99200947e-01,  3.79640779e-01]]),\n",
       "  'ipvt': array([3, 2, 1], dtype=int32),\n",
       "  'qtf': array([ 1.41342242e-08, -1.64652098e-08,  2.62707023e-08])},\n",
       " 'Both actual and predicted relative reductions in the sum of squares\\n  are at most 0.000000 and the relative error between two consecutive iterates is at \\n  most 0.000000',\n",
       " 3)"
      ]
     },
     "execution_count": 18,
     "metadata": {},
     "output_type": "execute_result"
    }
   ],
   "source": [
    "sol3"
   ]
  },
  {
   "cell_type": "code",
   "execution_count": null,
   "id": "ed081eb5",
   "metadata": {},
   "outputs": [],
   "source": []
  }
 ],
 "metadata": {
  "kernelspec": {
   "display_name": "Python 3 (ipykernel)",
   "language": "python",
   "name": "python3"
  },
  "language_info": {
   "codemirror_mode": {
    "name": "ipython",
    "version": 3
   },
   "file_extension": ".py",
   "mimetype": "text/x-python",
   "name": "python",
   "nbconvert_exporter": "python",
   "pygments_lexer": "ipython3",
   "version": "3.9.7"
  }
 },
 "nbformat": 4,
 "nbformat_minor": 5
}
