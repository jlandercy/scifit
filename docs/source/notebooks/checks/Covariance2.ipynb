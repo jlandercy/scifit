{
 "cells": [
  {
   "cell_type": "code",
   "execution_count": 1,
   "id": "41ffd56f",
   "metadata": {},
   "outputs": [],
   "source": [
    "import numpy as np\n",
    "from scipy import optimize"
   ]
  },
  {
   "cell_type": "markdown",
   "id": "05117a73",
   "metadata": {},
   "source": [
    " - https://stackoverflow.com/questions/42388139/how-to-compute-standard-deviation-errors-with-scipy-optimize-least-squares\n",
    " - https://stackoverflow.com/questions/14854339/in-scipy-how-and-why-does-curve-fit-calculate-the-covariance-of-the-parameter-es\n",
    " - https://stats.stackexchange.com/questions/38115/how-do-i-interpret-the-covariance-matrix-from-a-curve-fit\n",
    " - https://stackoverflow.com/questions/70754455/how-to-get-hessian-matrix-from-python-minimize-function"
   ]
  },
  {
   "cell_type": "code",
   "execution_count": null,
   "id": "b9b0ee49",
   "metadata": {},
   "outputs": [],
   "source": []
  },
  {
   "cell_type": "code",
   "execution_count": 2,
   "id": "57f6886c",
   "metadata": {},
   "outputs": [],
   "source": [
    "def model(x, a, b, c):\n",
    "    return a * x[:, 0]**2 + b * x[:, 0] + c"
   ]
  },
  {
   "cell_type": "code",
   "execution_count": 3,
   "id": "821edfe3",
   "metadata": {},
   "outputs": [],
   "source": [
    "np.random.seed(12345)\n",
    "X = np.linspace(-1, 1, 30).reshape(-1, 1)\n",
    "y = model(X, 3, 2, 1)\n",
    "s = 0.1 * np.ones(y.size)\n",
    "n = s * np.random.normal(size=y.size)\n",
    "yn = y + n"
   ]
  },
  {
   "cell_type": "code",
   "execution_count": null,
   "id": "72e01032",
   "metadata": {},
   "outputs": [],
   "source": []
  },
  {
   "cell_type": "code",
   "execution_count": 4,
   "id": "8eee81f4",
   "metadata": {},
   "outputs": [
    {
     "data": {
      "text/plain": [
       "(array([3.00876769, 2.00038216, 1.03068484]),\n",
       " array([[ 3.29272571e-03, -1.11752553e-11, -1.17327007e-03],\n",
       "        [-1.11752553e-11,  9.35483883e-04,  2.98424026e-12],\n",
       "        [-1.17327007e-03,  2.98424026e-12,  7.51395072e-04]]))"
      ]
     },
     "execution_count": 4,
     "metadata": {},
     "output_type": "execute_result"
    }
   ],
   "source": [
    "popt, pcov = optimize.curve_fit(model, X, yn, sigma=s, absolute_sigma=True)\n",
    "popt, pcov"
   ]
  },
  {
   "cell_type": "code",
   "execution_count": null,
   "id": "4e29d365",
   "metadata": {},
   "outputs": [],
   "source": []
  },
  {
   "cell_type": "code",
   "execution_count": 5,
   "id": "61038068",
   "metadata": {},
   "outputs": [],
   "source": [
    "def loss_factory(x, y, sigma=1.):\n",
    "    def wrapped(beta):\n",
    "        return 0.5 * np.sum(np.power((y - model(x, *beta)) / sigma, 2))\n",
    "    return wrapped"
   ]
  },
  {
   "cell_type": "code",
   "execution_count": 6,
   "id": "3d41b4c3",
   "metadata": {},
   "outputs": [],
   "source": [
    "loss = loss_factory(X, yn, sigma=s)"
   ]
  },
  {
   "cell_type": "code",
   "execution_count": null,
   "id": "00c7b932",
   "metadata": {},
   "outputs": [],
   "source": []
  },
  {
   "cell_type": "code",
   "execution_count": 7,
   "id": "eec06847",
   "metadata": {},
   "outputs": [
    {
     "data": {
      "text/plain": [
       "  message: Optimization terminated successfully.\n",
       "  success: True\n",
       "   status: 0\n",
       "      fun: 16.31766343837042\n",
       "        x: [ 3.009e+00  2.000e+00  1.031e+00]\n",
       "      nit: 5\n",
       "      jac: [ 1.907e-06  1.192e-06 -4.768e-07]\n",
       " hess_inv: [[ 3.293e-03  1.104e-11 -1.173e-03]\n",
       "            [ 1.104e-11  9.355e-04 -1.734e-12]\n",
       "            [-1.173e-03 -1.734e-12  7.514e-04]]\n",
       "     nfev: 32\n",
       "     njev: 8"
      ]
     },
     "execution_count": 7,
     "metadata": {},
     "output_type": "execute_result"
    }
   ],
   "source": [
    "sol1 = optimize.minimize(loss, x0=[1, 1, 1])\n",
    "sol1"
   ]
  },
  {
   "cell_type": "code",
   "execution_count": null,
   "id": "42505e93",
   "metadata": {},
   "outputs": [],
   "source": []
  },
  {
   "cell_type": "code",
   "execution_count": null,
   "id": "e7fb1d86",
   "metadata": {},
   "outputs": [],
   "source": []
  },
  {
   "cell_type": "code",
   "execution_count": null,
   "id": "1b265858",
   "metadata": {},
   "outputs": [],
   "source": []
  },
  {
   "cell_type": "code",
   "execution_count": null,
   "id": "b92eb512",
   "metadata": {},
   "outputs": [],
   "source": []
  },
  {
   "cell_type": "code",
   "execution_count": 8,
   "id": "4a38558a",
   "metadata": {},
   "outputs": [
    {
     "data": {
      "text/plain": [
       "  message: CONVERGENCE: REL_REDUCTION_OF_F_<=_FACTR*EPSMCH\n",
       "  success: True\n",
       "   status: 0\n",
       "      fun: 16.317663438454282\n",
       "        x: [ 3.009e+00  2.000e+00  1.031e+00]\n",
       "      nit: 8\n",
       "      jac: [-5.720e-05  2.917e-04 -4.182e-04]\n",
       "     nfev: 36\n",
       "     njev: 9\n",
       " hess_inv: <3x3 LbfgsInvHessProduct with dtype=float64>"
      ]
     },
     "execution_count": 8,
     "metadata": {},
     "output_type": "execute_result"
    }
   ],
   "source": [
    "sol2 = optimize.minimize(loss, x0=[1, 1, 1], method=\"L-BFGS-B\")\n",
    "sol2"
   ]
  },
  {
   "cell_type": "code",
   "execution_count": 9,
   "id": "8623c052",
   "metadata": {},
   "outputs": [
    {
     "data": {
      "text/plain": [
       "array([[ 0.03719202,  0.02371079, -0.02612526],\n",
       "       [ 0.02371079,  0.02215422, -0.01929008],\n",
       "       [-0.02612526, -0.01929008,  0.01984616]])"
      ]
     },
     "execution_count": 9,
     "metadata": {},
     "output_type": "execute_result"
    }
   ],
   "source": [
    "sol2.hess_inv.todense()"
   ]
  },
  {
   "cell_type": "code",
   "execution_count": null,
   "id": "19b2dfde",
   "metadata": {},
   "outputs": [],
   "source": []
  },
  {
   "cell_type": "code",
   "execution_count": null,
   "id": "f1bdc800",
   "metadata": {},
   "outputs": [],
   "source": []
  },
  {
   "cell_type": "code",
   "execution_count": 22,
   "id": "35dc8d93",
   "metadata": {},
   "outputs": [
    {
     "data": {
      "text/plain": [
       "  message: Optimization terminated successfully.\n",
       "  success: True\n",
       "   status: 0\n",
       "      fun: 16.31766343837042\n",
       "        x: [ 3.009e+00  2.000e+00  1.031e+00]\n",
       "      nit: 5\n",
       "      jac: [ 1.907e-06  1.192e-06 -4.768e-07]\n",
       " hess_inv: [[ 3.293e-03  1.104e-11 -1.173e-03]\n",
       "            [ 1.104e-11  9.355e-04 -1.734e-12]\n",
       "            [-1.173e-03 -1.734e-12  7.514e-04]]\n",
       "     nfev: 32\n",
       "     njev: 8"
      ]
     },
     "execution_count": 22,
     "metadata": {},
     "output_type": "execute_result"
    }
   ],
   "source": [
    "sol3 = optimize.minimize(loss, x0=[1, 1, 1], method=\"BFGS\")\n",
    "sol3"
   ]
  },
  {
   "cell_type": "code",
   "execution_count": null,
   "id": "744941e6",
   "metadata": {},
   "outputs": [],
   "source": []
  },
  {
   "cell_type": "code",
   "execution_count": null,
   "id": "af0a897c",
   "metadata": {},
   "outputs": [],
   "source": []
  },
  {
   "cell_type": "code",
   "execution_count": null,
   "id": "6992d80e",
   "metadata": {},
   "outputs": [],
   "source": []
  },
  {
   "cell_type": "code",
   "execution_count": null,
   "id": "8d07d55a",
   "metadata": {},
   "outputs": [],
   "source": []
  },
  {
   "cell_type": "code",
   "execution_count": 10,
   "id": "c78b0df9",
   "metadata": {},
   "outputs": [],
   "source": [
    "def residuals_factory(x, y, sigma=1.):\n",
    "    def wrapped(beta):\n",
    "        return (y - model(x, *beta)) / sigma\n",
    "    return wrapped"
   ]
  },
  {
   "cell_type": "code",
   "execution_count": 11,
   "id": "4fe35a67",
   "metadata": {},
   "outputs": [],
   "source": [
    "residuals = residuals_factory(X, yn, sigma=s)"
   ]
  },
  {
   "cell_type": "code",
   "execution_count": null,
   "id": "7423c3aa",
   "metadata": {},
   "outputs": [],
   "source": []
  },
  {
   "cell_type": "code",
   "execution_count": 12,
   "id": "17f8b979",
   "metadata": {},
   "outputs": [
    {
     "data": {
      "text/plain": [
       "     message: `xtol` termination condition is satisfied.\n",
       "     success: True\n",
       "      status: 3\n",
       "         fun: [-5.954e-01  9.965e-02 ... -3.855e-01  9.455e-01]\n",
       "           x: [ 3.009e+00  2.000e+00  1.031e+00]\n",
       "        cost: 16.317663438370303\n",
       "         jac: [[-1.000e+01  1.000e+01 -1.000e+01]\n",
       "               [-8.668e+00  9.310e+00 -1.000e+01]\n",
       "               ...\n",
       "               [-8.668e+00 -9.310e+00 -1.000e+01]\n",
       "               [-1.000e+01 -1.000e+01 -1.000e+01]]\n",
       "        grad: [ 1.070e-07 -1.632e-06  1.722e-07]\n",
       "  optimality: 1.632403261453419e-06\n",
       " active_mask: [ 0.000e+00  0.000e+00  0.000e+00]\n",
       "        nfev: 4\n",
       "        njev: 3"
      ]
     },
     "execution_count": 12,
     "metadata": {},
     "output_type": "execute_result"
    }
   ],
   "source": [
    "sol0 = optimize.least_squares(residuals, x0=[1, 1, 1])\n",
    "sol0"
   ]
  },
  {
   "cell_type": "code",
   "execution_count": 13,
   "id": "79a43587",
   "metadata": {},
   "outputs": [],
   "source": [
    "U, s, Vh = np.linalg.svd(sol0.jac, full_matrices=False)\n",
    "tol = np.finfo(float).eps*s[0]*max(sol0.jac.shape)\n",
    "w = s > tol\n",
    "cov = (Vh[w].T/s[w]**2) @ Vh[w]"
   ]
  },
  {
   "cell_type": "code",
   "execution_count": 14,
   "id": "918b7046",
   "metadata": {},
   "outputs": [
    {
     "data": {
      "text/plain": [
       "array([[ 3.29272571e-03,  5.77282993e-12, -1.17327008e-03],\n",
       "       [ 5.77282993e-12,  9.35483875e-04,  1.14915683e-12],\n",
       "       [-1.17327008e-03,  1.14915683e-12,  7.51395089e-04]])"
      ]
     },
     "execution_count": 14,
     "metadata": {},
     "output_type": "execute_result"
    }
   ],
   "source": [
    "cov"
   ]
  },
  {
   "cell_type": "code",
   "execution_count": 15,
   "id": "122cd16b",
   "metadata": {},
   "outputs": [
    {
     "data": {
      "text/plain": [
       "array([[ 3.29272571e-03, -1.11752553e-11, -1.17327007e-03],\n",
       "       [-1.11752553e-11,  9.35483883e-04,  2.98424026e-12],\n",
       "       [-1.17327007e-03,  2.98424026e-12,  7.51395072e-04]])"
      ]
     },
     "execution_count": 15,
     "metadata": {},
     "output_type": "execute_result"
    }
   ],
   "source": [
    "pcov"
   ]
  },
  {
   "cell_type": "code",
   "execution_count": null,
   "id": "ed081eb5",
   "metadata": {},
   "outputs": [],
   "source": []
  },
  {
   "cell_type": "code",
   "execution_count": null,
   "id": "8d4cf7d4",
   "metadata": {},
   "outputs": [],
   "source": []
  }
 ],
 "metadata": {
  "kernelspec": {
   "display_name": "Python 3 (ipykernel)",
   "language": "python",
   "name": "python3"
  },
  "language_info": {
   "codemirror_mode": {
    "name": "ipython",
    "version": 3
   },
   "file_extension": ".py",
   "mimetype": "text/x-python",
   "name": "python",
   "nbconvert_exporter": "python",
   "pygments_lexer": "ipython3",
   "version": "3.9.7"
  }
 },
 "nbformat": 4,
 "nbformat_minor": 5
}
