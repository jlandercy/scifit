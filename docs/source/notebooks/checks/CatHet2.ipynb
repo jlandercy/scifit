{
 "cells": [
  {
   "cell_type": "code",
   "execution_count": 1,
   "id": "108ba851",
   "metadata": {
    "ExecuteTime": {
     "end_time": "2023-11-06T19:42:55.133841Z",
     "start_time": "2023-11-06T19:42:52.595067Z"
    }
   },
   "outputs": [],
   "source": [
    "import numpy as np\n",
    "import pandas as pd\n",
    "import matplotlib.pyplot as plt\n",
    "\n",
    "from scipy import optimize, signal, integrate\n",
    "\n",
    "from scifit.solvers import FitSolver1D\n",
    "\n",
    "from sklearn import metrics\n",
    "from sklearn.linear_model import LinearRegression"
   ]
  },
  {
   "cell_type": "code",
   "execution_count": 2,
   "id": "f74776ea",
   "metadata": {
    "ExecuteTime": {
     "end_time": "2023-11-06T19:42:55.146101Z",
     "start_time": "2023-11-06T19:42:55.141818Z"
    }
   },
   "outputs": [],
   "source": [
    "R = 8.31446261815324  # J/mol.K\n",
    "T0 = 292.05           # K\n",
    "p0 = 101600           # Pa\n",
    "V = 190e-3            # L of isopropanol\n",
    "m = 2.7677            # g of Raney Nickel\n",
    "rho = 785             # kg/m³ or g/L\n",
    "M = 60.1              # g/mol\n",
    "A0 = rho/M*V            # mol/L"
   ]
  },
  {
   "cell_type": "code",
   "execution_count": 3,
   "id": "d665c3cc",
   "metadata": {},
   "outputs": [],
   "source": [
    "data = pd.read_csv(\"data/cathet2.csv\")"
   ]
  },
  {
   "cell_type": "code",
   "execution_count": 4,
   "id": "d1014259",
   "metadata": {},
   "outputs": [],
   "source": [
    "data[\"xi\"] = p0*data[\"V\"]/(R*T0)"
   ]
  },
  {
   "cell_type": "code",
   "execution_count": 5,
   "id": "dfb5b413",
   "metadata": {},
   "outputs": [],
   "source": [
    "data[\"x1\"] = data[\"xi\"]/(A0 - data[\"xi\"])\n",
    "data[\"x2\"] = np.log((A0 - data[\"xi\"])/A0)"
   ]
  },
  {
   "cell_type": "code",
   "execution_count": null,
   "id": "5c3564be",
   "metadata": {},
   "outputs": [],
   "source": []
  },
  {
   "cell_type": "code",
   "execution_count": 6,
   "id": "bc1336b2",
   "metadata": {},
   "outputs": [],
   "source": [
    "class Model(FitSolver1D):\n",
    "    @staticmethod\n",
    "    def model(x, k1, k2):\n",
    "        return (1/k1) * ((1 - k2)*x[:,0] - k2*A0*np.log((A0 - x[:,0])/A0)) "
   ]
  },
  {
   "cell_type": "code",
   "execution_count": 7,
   "id": "60d1c556",
   "metadata": {},
   "outputs": [],
   "source": [
    "model = Model()\n",
    "sol = model.fit(data[[\"xi\"]].values, data[\"t\"].values, sigma=15.)"
   ]
  },
  {
   "cell_type": "code",
   "execution_count": 8,
   "id": "2da7e946",
   "metadata": {},
   "outputs": [
    {
     "data": {
      "text/plain": [
       "{'success': True,\n",
       " 'parameters': array([8.76592310e-06, 8.00795112e+01]),\n",
       " 'covariance': array([[2.64069687e-16, 6.09995888e-09],\n",
       "        [6.09995888e-09, 1.43688321e-01]]),\n",
       " 'info': {'fvec': array([-0.        , -0.00086282, -0.00124572, -0.0012387 , -0.00149983,\n",
       "         -0.0022127 , -0.00324252, -0.00429006, -0.00503607, -0.00527678,\n",
       "         -0.0050517 , -0.0047642 , -0.0027291 ,  0.00349459,  0.01248471,\n",
       "          0.02300393,  0.03402279,  0.04470245,  0.0543781 ,  0.06254307,\n",
       "          0.06883351,  0.07301363,  0.07496159,  0.07465582,  0.07216196,\n",
       "          0.06762014,  0.06123285,  0.0532532 ,  0.04397352,  0.03371449,\n",
       "          0.0228145 ,  0.01161945,  0.00047285, -0.01029377, -0.02037018,\n",
       "         -0.02947641, -0.03737156, -0.04386227, -0.04881103, -0.05214418,\n",
       "         -0.0538598 , -0.05403533, -0.05283502, -0.05051724, -0.04744156,\n",
       "         -0.04407571, -0.04100233, -0.03892567, -0.03746142, -0.03513885,\n",
       "         -0.03213657, -0.02863768, -0.02480528, -0.02078345, -0.01669833,\n",
       "         -0.01265904, -0.0087587 , -0.00507539, -0.00167303,  0.00139763,\n",
       "          0.00409817,  0.00640157,  0.00829138,  0.00976083,  0.01081202,\n",
       "          0.0114551 ,  0.01170745,  0.01159287,  0.01114086,  0.01038579,\n",
       "          0.00936618,  0.00812398,  0.00670378,  0.00515219,  0.00351703,\n",
       "          0.00184673,  0.0001896 , -0.00140683, -0.00289645, -0.00423525,\n",
       "         -0.00538192, -0.00629851, -0.00695105, -0.00731012, -0.00735151,\n",
       "         -0.00705675, -0.00641374, -0.00541732, -0.00406982, -0.00238162,\n",
       "         -0.00037172,  0.00193172,  0.00449085,  0.0072576 ,  0.01017314,\n",
       "          0.01316738,  0.01615846,  0.01905221,  0.02174171,  0.02410674,\n",
       "          0.02601335]),\n",
       "  'nfev': 112,\n",
       "  'fjac': array([[-4.42378682e+08, -1.71894003e-03, -3.43800381e-03,\n",
       "          -5.15716814e-03, -6.87626332e-03, -8.59524196e-03,\n",
       "          -1.03141389e-02, -1.20330313e-02, -1.37520013e-02,\n",
       "          -1.54711018e-02, -1.71903222e-02, -1.89095586e-02,\n",
       "          -2.06292460e-02, -2.23500134e-02, -2.40714943e-02,\n",
       "          -2.57933694e-02, -2.75153734e-02, -2.92372897e-02,\n",
       "          -3.09589474e-02, -3.26802155e-02, -3.44009999e-02,\n",
       "          -3.61212403e-02, -3.78409048e-02, -3.95599891e-02,\n",
       "          -4.12785084e-02, -4.29964993e-02, -4.47140144e-02,\n",
       "          -4.64311192e-02, -4.81478887e-02, -4.98644059e-02,\n",
       "          -5.15807573e-02, -5.32970326e-02, -5.50133206e-02,\n",
       "          -5.67297066e-02, -5.84462705e-02, -6.01630846e-02,\n",
       "          -6.18802109e-02, -6.35976998e-02, -6.53155863e-02,\n",
       "          -6.70338894e-02, -6.87526091e-02, -7.04717254e-02,\n",
       "          -7.21911984e-02, -7.39109579e-02, -7.56309137e-02,\n",
       "          -7.73509449e-02, -7.90708986e-02, -8.07905972e-02,\n",
       "          -8.25101374e-02, -8.42298980e-02, -8.59498348e-02,\n",
       "          -8.76698997e-02, -8.93900506e-02, -9.11102498e-02,\n",
       "          -9.28304657e-02, -9.45506691e-02, -9.62708378e-02,\n",
       "          -9.79909499e-02, -9.97109896e-02, -1.01430944e-01,\n",
       "          -1.03150802e-01, -1.04870559e-01, -1.06590208e-01,\n",
       "          -1.08309750e-01, -1.10029184e-01, -1.11748512e-01,\n",
       "          -1.13467740e-01, -1.15186871e-01, -1.16905918e-01,\n",
       "          -1.18624886e-01, -1.20343786e-01, -1.22062627e-01,\n",
       "          -1.23781424e-01, -1.25500186e-01, -1.27218926e-01,\n",
       "          -1.28937658e-01, -1.30656393e-01, -1.32375145e-01,\n",
       "          -1.34093922e-01, -1.35812739e-01, -1.37531606e-01,\n",
       "          -1.39250532e-01, -1.40969526e-01, -1.42688596e-01,\n",
       "          -1.44407748e-01, -1.46126986e-01, -1.47846314e-01,\n",
       "          -1.49565735e-01, -1.51285243e-01, -1.53004842e-01,\n",
       "          -1.54724521e-01, -1.56444280e-01, -1.58164101e-01,\n",
       "          -1.59883977e-01, -1.61603889e-01, -1.63323825e-01,\n",
       "          -1.65043758e-01, -1.66763668e-01, -1.68483523e-01,\n",
       "          -1.70203296e-01, -1.71922949e-01],\n",
       "         [ 1.87801747e+01,  2.63808792e+00,  2.27834712e-02,\n",
       "           3.30030022e-02,  4.25149465e-02,  5.13669122e-02,\n",
       "           5.96023292e-02,  6.72598355e-02,  7.43743474e-02,\n",
       "           8.09776215e-02,  8.70973436e-02,  9.27595968e-02,\n",
       "           9.79884018e-02,  1.02807274e-01,  1.07235066e-01,\n",
       "           1.11288279e-01,  1.14983000e-01,  1.18335379e-01,\n",
       "           1.21358691e-01,  1.24067829e-01,  1.26475258e-01,\n",
       "           1.28592359e-01,  1.30431778e-01,  1.32002604e-01,\n",
       "           1.33315664e-01,  1.34380357e-01,  1.35206150e-01,\n",
       "           1.35799970e-01,  1.36169864e-01,  1.36324984e-01,\n",
       "           1.36270789e-01,  1.36014342e-01,  1.35561128e-01,\n",
       "           1.34917630e-01,  1.34089251e-01,  1.33081340e-01,\n",
       "           1.31898624e-01,  1.30545226e-01,  1.29027831e-01,\n",
       "           1.27347631e-01,  1.25511610e-01,  1.23520694e-01,\n",
       "           1.21381600e-01,  1.19097546e-01,  1.16667889e-01,\n",
       "           1.14103635e-01,  1.11403596e-01,  1.08570865e-01,\n",
       "           1.05610422e-01,  1.02522788e-01,  9.93130237e-02,\n",
       "           9.59818826e-02,  9.25343821e-02,  8.89702918e-02,\n",
       "           8.52926043e-02,  8.15043270e-02,  7.76095789e-02,\n",
       "           7.36071439e-02,  6.95022451e-02,  6.52959100e-02,\n",
       "           6.09901945e-02,  5.65850420e-02,  5.20847103e-02,\n",
       "           4.74902780e-02,  4.28049467e-02,  3.80276678e-02,\n",
       "           3.31627930e-02,  2.82092201e-02,  2.31713993e-02,\n",
       "           1.80482240e-02,  1.28441175e-02,  7.55590374e-03,\n",
       "           2.18905371e-03, -3.25742908e-03, -8.77919399e-03,\n",
       "          -1.43793070e-02, -2.00534368e-02, -2.58025531e-02,\n",
       "          -3.16233646e-02, -3.75157742e-02, -4.34818912e-02,\n",
       "          -4.95140712e-02, -5.56165573e-02, -6.17850639e-02,\n",
       "          -6.80216341e-02, -7.43230405e-02, -8.06913720e-02,\n",
       "          -8.71202189e-02, -9.36139258e-02, -1.00169165e-01,\n",
       "          -1.06786087e-01, -1.13463538e-01, -1.20200712e-01,\n",
       "          -1.26994317e-01, -1.33847762e-01, -1.40756770e-01,\n",
       "          -1.47723821e-01, -1.54745661e-01, -1.61819470e-01,\n",
       "          -1.68950682e-01, -1.76132092e-01]]),\n",
       "  'ipvt': array([1, 2], dtype=int32),\n",
       "  'qtf': array([ 3.49308558e-06, -3.20663479e-05])},\n",
       " 'message': 'Both actual and predicted relative reductions in the sum of squares\\n  are at most 0.000000',\n",
       " 'status': 1}"
      ]
     },
     "execution_count": 8,
     "metadata": {},
     "output_type": "execute_result"
    }
   ],
   "source": [
    "sol"
   ]
  },
  {
   "cell_type": "code",
   "execution_count": 9,
   "id": "5351bcd0",
   "metadata": {},
   "outputs": [
    {
     "data": {
      "image/png": "[encoded data removed]",
      "text/plain": [
       "<Figure size 432x288 with 1 Axes>"
      ]
     },
     "metadata": {
      "needs_background": "light"
     },
     "output_type": "display_data"
    }
   ],
   "source": [
    "axe = model.plot_fit()"
   ]
  },
  {
   "cell_type": "code",
   "execution_count": 10,
   "id": "a9be857e",
   "metadata": {},
   "outputs": [
    {
     "data": {
      "text/html": [
       "<div>\n",
       "<style scoped>\n",
       "    .dataframe tbody tr th:only-of-type {\n",
       "        vertical-align: middle;\n",
       "    }\n",
       "\n",
       "    .dataframe tbody tr th {\n",
       "        vertical-align: top;\n",
       "    }\n",
       "\n",
       "    .dataframe thead th {\n",
       "        text-align: right;\n",
       "    }\n",
       "</style>\n",
       "<table border=\"1\" class=\"dataframe\">\n",
       "  <thead>\n",
       "    <tr style=\"text-align: right;\">\n",
       "      <th></th>\n",
       "      <th>t</th>\n",
       "      <th>V</th>\n",
       "      <th>xi</th>\n",
       "      <th>x1</th>\n",
       "      <th>x2</th>\n",
       "    </tr>\n",
       "  </thead>\n",
       "  <tbody>\n",
       "    <tr>\n",
       "      <th>0</th>\n",
       "      <td>0.0</td>\n",
       "      <td>0.000000</td>\n",
       "      <td>0.000000</td>\n",
       "      <td>0.000000</td>\n",
       "      <td>0.000000</td>\n",
       "    </tr>\n",
       "    <tr>\n",
       "      <th>1</th>\n",
       "      <td>100.0</td>\n",
       "      <td>0.000021</td>\n",
       "      <td>0.000864</td>\n",
       "      <td>0.000348</td>\n",
       "      <td>-0.000348</td>\n",
       "    </tr>\n",
       "    <tr>\n",
       "      <th>2</th>\n",
       "      <td>200.0</td>\n",
       "      <td>0.000041</td>\n",
       "      <td>0.001706</td>\n",
       "      <td>0.000688</td>\n",
       "      <td>-0.000688</td>\n",
       "    </tr>\n",
       "    <tr>\n",
       "      <th>3</th>\n",
       "      <td>300.0</td>\n",
       "      <td>0.000060</td>\n",
       "      <td>0.002527</td>\n",
       "      <td>0.001019</td>\n",
       "      <td>-0.001019</td>\n",
       "    </tr>\n",
       "    <tr>\n",
       "      <th>4</th>\n",
       "      <td>400.0</td>\n",
       "      <td>0.000080</td>\n",
       "      <td>0.003327</td>\n",
       "      <td>0.001343</td>\n",
       "      <td>-0.001342</td>\n",
       "    </tr>\n",
       "    <tr>\n",
       "      <th>...</th>\n",
       "      <td>...</td>\n",
       "      <td>...</td>\n",
       "      <td>...</td>\n",
       "      <td>...</td>\n",
       "      <td>...</td>\n",
       "    </tr>\n",
       "    <tr>\n",
       "      <th>96</th>\n",
       "      <td>9600.0</td>\n",
       "      <td>0.001133</td>\n",
       "      <td>0.047415</td>\n",
       "      <td>0.019478</td>\n",
       "      <td>-0.019291</td>\n",
       "    </tr>\n",
       "    <tr>\n",
       "      <th>97</th>\n",
       "      <td>9700.0</td>\n",
       "      <td>0.001141</td>\n",
       "      <td>0.047756</td>\n",
       "      <td>0.019621</td>\n",
       "      <td>-0.019431</td>\n",
       "    </tr>\n",
       "    <tr>\n",
       "      <th>98</th>\n",
       "      <td>9800.0</td>\n",
       "      <td>0.001150</td>\n",
       "      <td>0.048097</td>\n",
       "      <td>0.019764</td>\n",
       "      <td>-0.019571</td>\n",
       "    </tr>\n",
       "    <tr>\n",
       "      <th>99</th>\n",
       "      <td>9900.0</td>\n",
       "      <td>0.001158</td>\n",
       "      <td>0.048436</td>\n",
       "      <td>0.019906</td>\n",
       "      <td>-0.019710</td>\n",
       "    </tr>\n",
       "    <tr>\n",
       "      <th>100</th>\n",
       "      <td>10000.0</td>\n",
       "      <td>0.001166</td>\n",
       "      <td>0.048773</td>\n",
       "      <td>0.020047</td>\n",
       "      <td>-0.019849</td>\n",
       "    </tr>\n",
       "  </tbody>\n",
       "</table>\n",
       "<p>101 rows × 5 columns</p>\n",
       "</div>"
      ],
      "text/plain": [
       "           t         V        xi        x1        x2\n",
       "0        0.0  0.000000  0.000000  0.000000  0.000000\n",
       "1      100.0  0.000021  0.000864  0.000348 -0.000348\n",
       "2      200.0  0.000041  0.001706  0.000688 -0.000688\n",
       "3      300.0  0.000060  0.002527  0.001019 -0.001019\n",
       "4      400.0  0.000080  0.003327  0.001343 -0.001342\n",
       "..       ...       ...       ...       ...       ...\n",
       "96    9600.0  0.001133  0.047415  0.019478 -0.019291\n",
       "97    9700.0  0.001141  0.047756  0.019621 -0.019431\n",
       "98    9800.0  0.001150  0.048097  0.019764 -0.019571\n",
       "99    9900.0  0.001158  0.048436  0.019906 -0.019710\n",
       "100  10000.0  0.001166  0.048773  0.020047 -0.019849\n",
       "\n",
       "[101 rows x 5 columns]"
      ]
     },
     "execution_count": 10,
     "metadata": {},
     "output_type": "execute_result"
    }
   ],
   "source": [
    "data"
   ]
  },
  {
   "cell_type": "code",
   "execution_count": null,
   "id": "85241633",
   "metadata": {},
   "outputs": [],
   "source": []
  },
  {
   "cell_type": "code",
   "execution_count": null,
   "id": "a52f2e12",
   "metadata": {},
   "outputs": [],
   "source": []
  },
  {
   "cell_type": "code",
   "execution_count": null,
   "id": "317905af",
   "metadata": {},
   "outputs": [],
   "source": []
  },
  {
   "cell_type": "code",
   "execution_count": null,
   "id": "65a82e24",
   "metadata": {},
   "outputs": [],
   "source": []
  },
  {
   "cell_type": "code",
   "execution_count": null,
   "id": "03774182",
   "metadata": {},
   "outputs": [],
   "source": []
  }
 ],
 "metadata": {
  "hide_input": false,
  "kernelspec": {
   "display_name": "Python 3 (ipykernel)",
   "language": "python",
   "name": "python3"
  },
  "language_info": {
   "codemirror_mode": {
    "name": "ipython",
    "version": 3
   },
   "file_extension": ".py",
   "mimetype": "text/x-python",
   "name": "python",
   "nbconvert_exporter": "python",
   "pygments_lexer": "ipython3",
   "version": "3.9.7"
  },
  "toc": {
   "base_numbering": 1,
   "nav_menu": {},
   "number_sections": true,
   "sideBar": true,
   "skip_h1_title": false,
   "title_cell": "Table of Contents",
   "title_sidebar": "Contents",
   "toc_cell": false,
   "toc_position": {},
   "toc_section_display": true,
   "toc_window_display": false
  },
  "varInspector": {
   "cols": {
    "lenName": 16,
    "lenType": 16,
    "lenVar": 40
   },
   "kernels_config": {
    "python": {
     "delete_cmd_postfix": "",
     "delete_cmd_prefix": "del ",
     "library": "var_list.py",
     "varRefreshCmd": "print(var_dic_list())"
    },
    "r": {
     "delete_cmd_postfix": ") ",
     "delete_cmd_prefix": "rm(",
     "library": "var_list.r",
     "varRefreshCmd": "cat(var_dic_list()) "
    }
   },
   "types_to_exclude": [
    "module",
    "function",
    "builtin_function_or_method",
    "instance",
    "_Feature"
   ],
   "window_display": false
  }
 },
 "nbformat": 4,
 "nbformat_minor": 5
}
