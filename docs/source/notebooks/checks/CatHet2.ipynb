{
 "cells": [
  {
   "cell_type": "code",
   "execution_count": 38,
   "id": "108ba851",
   "metadata": {
    "ExecuteTime": {
     "end_time": "2023-11-06T19:42:55.133841Z",
     "start_time": "2023-11-06T19:42:52.595067Z"
    }
   },
   "outputs": [],
   "source": [
    "import numpy as np\n",
    "import pandas as pd\n",
    "import matplotlib.pyplot as plt\n",
    "\n",
    "from scipy import optimize, signal, integrate\n",
    "\n",
    "from scifit.solvers import FitSolver1D\n",
    "\n",
    "from sklearn import metrics\n",
    "from sklearn.linear_model import LinearRegression"
   ]
  },
  {
   "cell_type": "markdown",
   "id": "e00594f9",
   "metadata": {},
   "source": [
    "Checks:\n",
    "\n",
    " - https://www.wolframalpha.com/input?i=solve+%7Bc1+%3D+1%2F%28k1*V%29*%281-k2%29%3B+c2+%3D+-+1%2F%28k1*V%29*k2*n0%7D+for+%7Bk1%2C+k2%7D\n",
    " - https://www.wolframalpha.com/input?i=integral+b*x%2F%28a*%28n0-x%29%29\n"
   ]
  },
  {
   "cell_type": "code",
   "execution_count": 2,
   "id": "24d803e0",
   "metadata": {},
   "outputs": [],
   "source": [
    "np.random.seed(12345)"
   ]
  },
  {
   "cell_type": "code",
   "execution_count": 3,
   "id": "f74776ea",
   "metadata": {
    "ExecuteTime": {
     "end_time": "2023-11-06T19:42:55.146101Z",
     "start_time": "2023-11-06T19:42:55.141818Z"
    }
   },
   "outputs": [],
   "source": [
    "R = 8.31446261815324  # J/mol.K\n",
    "T0 = 292.05           # K\n",
    "p0 = 101600           # Pa\n",
    "V = 190e-3            # L of isopropanol\n",
    "m = 2.7677            # g of Raney Nickel\n",
    "rho = 785             # kg/m³ or g/L\n",
    "M = 60.1              # g/mol\n",
    "n0 = rho/M            # mol/L"
   ]
  },
  {
   "cell_type": "code",
   "execution_count": 4,
   "id": "26d20c95",
   "metadata": {
    "ExecuteTime": {
     "end_time": "2023-11-06T19:42:55.160022Z",
     "start_time": "2023-11-06T19:42:55.148435Z"
    }
   },
   "outputs": [
    {
     "data": {
      "text/plain": [
       "13.061564059900165"
      ]
     },
     "execution_count": 4,
     "metadata": {},
     "output_type": "execute_result"
    }
   ],
   "source": [
    "n0"
   ]
  },
  {
   "cell_type": "code",
   "execution_count": 5,
   "id": "455e826b",
   "metadata": {
    "ExecuteTime": {
     "end_time": "2023-11-06T19:42:55.165853Z",
     "start_time": "2023-11-06T19:42:55.162851Z"
    }
   },
   "outputs": [],
   "source": [
    "k = 8.765e-6\n",
    "b = 8.901e5\n",
    "a = 1.234e4"
   ]
  },
  {
   "cell_type": "code",
   "execution_count": 6,
   "id": "388e4a3b",
   "metadata": {},
   "outputs": [
    {
     "data": {
      "text/plain": [
       "72.13128038897894"
      ]
     },
     "execution_count": 6,
     "metadata": {},
     "output_type": "execute_result"
    }
   ],
   "source": [
    "b/a"
   ]
  },
  {
   "cell_type": "code",
   "execution_count": 7,
   "id": "4612cdcb",
   "metadata": {},
   "outputs": [],
   "source": [
    "def model(x, k, a, b, n0=n0):\n",
    "    return k*(a*(n0 - x))/(1 + a*(n0 - x) + b*x)"
   ]
  },
  {
   "cell_type": "code",
   "execution_count": 8,
   "id": "a11dfac6",
   "metadata": {
    "ExecuteTime": {
     "end_time": "2023-11-06T19:42:55.172973Z",
     "start_time": "2023-11-06T19:42:55.169569Z"
    }
   },
   "outputs": [],
   "source": [
    "def ode(t, x, k, a, b, n0):\n",
    "    return np.array([\n",
    "        model(x, k, a, b, n0)\n",
    "    ])"
   ]
  },
  {
   "cell_type": "code",
   "execution_count": null,
   "id": "d7f6daca",
   "metadata": {},
   "outputs": [],
   "source": []
  },
  {
   "cell_type": "code",
   "execution_count": 9,
   "id": "a90acfab",
   "metadata": {
    "ExecuteTime": {
     "end_time": "2023-11-06T19:42:55.179000Z",
     "start_time": "2023-11-06T19:42:55.175712Z"
    }
   },
   "outputs": [],
   "source": [
    "t = np.linspace(0, 10000, 50)"
   ]
  },
  {
   "cell_type": "code",
   "execution_count": 10,
   "id": "3d9aa9fe",
   "metadata": {
    "ExecuteTime": {
     "end_time": "2023-11-06T19:42:55.189677Z",
     "start_time": "2023-11-06T19:42:55.181417Z"
    }
   },
   "outputs": [],
   "source": [
    "sol = integrate.solve_ivp(ode, [t.min(), t.max()], y0=[0], args=(k, a, b, n0), t_eval=t)"
   ]
  },
  {
   "cell_type": "code",
   "execution_count": 11,
   "id": "8daca1e9",
   "metadata": {
    "ExecuteTime": {
     "end_time": "2023-11-06T19:42:55.197527Z",
     "start_time": "2023-11-06T19:42:55.192018Z"
    }
   },
   "outputs": [
    {
     "data": {
      "text/plain": [
       "  message: The solver successfully reached the end of the integration interval.\n",
       "  success: True\n",
       "   status: 0\n",
       "        t: [ 0.000e+00  2.041e+02 ...  9.796e+03  1.000e+04]\n",
       "        y: [[ 0.000e+00  1.780e-03 ...  7.164e-02  7.291e-02]]\n",
       "      sol: None\n",
       " t_events: None\n",
       " y_events: None\n",
       "     nfev: 56\n",
       "     njev: 0\n",
       "      nlu: 0"
      ]
     },
     "execution_count": 11,
     "metadata": {},
     "output_type": "execute_result"
    }
   ],
   "source": [
    "sol"
   ]
  },
  {
   "cell_type": "code",
   "execution_count": 12,
   "id": "8dca971c",
   "metadata": {
    "ExecuteTime": {
     "end_time": "2023-11-06T19:42:55.202940Z",
     "start_time": "2023-11-06T19:42:55.199921Z"
    }
   },
   "outputs": [],
   "source": [
    "xi = sol.y[0,:]"
   ]
  },
  {
   "cell_type": "code",
   "execution_count": 13,
   "id": "6caf1f69",
   "metadata": {
    "ExecuteTime": {
     "end_time": "2023-11-06T19:42:55.208284Z",
     "start_time": "2023-11-06T19:42:55.205206Z"
    }
   },
   "outputs": [],
   "source": [
    "r = ode(t, xi, k, a, b, n0).squeeze()"
   ]
  },
  {
   "cell_type": "code",
   "execution_count": 14,
   "id": "9c16b25e",
   "metadata": {
    "ExecuteTime": {
     "end_time": "2023-11-06T19:43:51.124889Z",
     "start_time": "2023-11-06T19:43:51.111010Z"
    }
   },
   "outputs": [],
   "source": [
    "tn = (t + 5*np.random.normal(size=t.size)).round(1)"
   ]
  },
  {
   "cell_type": "code",
   "execution_count": 15,
   "id": "1557277d",
   "metadata": {
    "ExecuteTime": {
     "end_time": "2023-11-06T19:44:00.241479Z",
     "start_time": "2023-11-06T19:44:00.235980Z"
    }
   },
   "outputs": [],
   "source": [
    "data = pd.DataFrame({\"t\": t, \"tn\": tn, \"xi\": xi, \"r\": r})"
   ]
  },
  {
   "cell_type": "code",
   "execution_count": 16,
   "id": "59b8dd26",
   "metadata": {},
   "outputs": [],
   "source": [
    "data[\"rinv\"] = 1/data[\"r\"]\n",
    "data[\"A\"] = (n0 - data[\"xi\"])/V\n",
    "data[\"B\"] = data[\"xi\"]/V\n",
    "data[\"x1\"] = data[\"xi\"]/(n0 - data[\"xi\"])\n",
    "data[\"x2\"] = np.log((n0 - data[\"xi\"])/n0)"
   ]
  },
  {
   "cell_type": "code",
   "execution_count": 17,
   "id": "8de6b57c",
   "metadata": {},
   "outputs": [],
   "source": [
    "data[\"dxidt\"] = data[\"xi\"].diff()/data[\"tn\"].diff()"
   ]
  },
  {
   "cell_type": "code",
   "execution_count": 18,
   "id": "3fbbd349",
   "metadata": {},
   "outputs": [
    {
     "data": {
      "image/png": "[encoded data removed]",
      "text/plain": [
       "<Figure size 432x288 with 1 Axes>"
      ]
     },
     "metadata": {
      "needs_background": "light"
     },
     "output_type": "display_data"
    }
   ],
   "source": [
    "axe = data.plot(x=\"t\", y=\"A\")\n",
    "data.plot(x=\"t\", y=\"B\", ax=axe)\n",
    "axe.grid()"
   ]
  },
  {
   "cell_type": "code",
   "execution_count": 19,
   "id": "7fad5006",
   "metadata": {},
   "outputs": [
    {
     "data": {
      "image/png": "[encoded data removed]",
      "text/plain": [
       "<Figure size 432x288 with 1 Axes>"
      ]
     },
     "metadata": {
      "needs_background": "light"
     },
     "output_type": "display_data"
    }
   ],
   "source": [
    "axe = data.plot(x=\"t\", y=\"x1\")\n",
    "axe.grid()"
   ]
  },
  {
   "cell_type": "code",
   "execution_count": 20,
   "id": "6c08e250",
   "metadata": {},
   "outputs": [
    {
     "data": {
      "image/png": "[encoded data removed]",
      "text/plain": [
       "<Figure size 432x288 with 1 Axes>"
      ]
     },
     "metadata": {
      "needs_background": "light"
     },
     "output_type": "display_data"
    }
   ],
   "source": [
    "axe = data.plot(x=\"t\", y=\"x2\")\n",
    "axe.grid()"
   ]
  },
  {
   "cell_type": "code",
   "execution_count": 21,
   "id": "34810908",
   "metadata": {},
   "outputs": [],
   "source": [
    "coefs = np.polyfit(data[\"tn\"], xi, 3)\n",
    "data[\"xiP3\"] = np.polyval(coefs, data[\"tn\"])\n",
    "data[\"rP3\"] = np.polyval(np.polyder(coefs, m=1), data[\"tn\"])"
   ]
  },
  {
   "cell_type": "code",
   "execution_count": null,
   "id": "ce8bb5b7",
   "metadata": {},
   "outputs": [],
   "source": []
  },
  {
   "cell_type": "code",
   "execution_count": 22,
   "id": "e31a1313",
   "metadata": {},
   "outputs": [],
   "source": [
    "data[\"xiSG\"] = signal.savgol_filter(data[\"xi\"], 7, 3)\n",
    "data[\"rSG\"] = signal.savgol_filter(data[\"xi\"], 7, 3, deriv=1, delta=np.diff(t)[0])"
   ]
  },
  {
   "cell_type": "code",
   "execution_count": null,
   "id": "88df730b",
   "metadata": {},
   "outputs": [],
   "source": []
  },
  {
   "cell_type": "code",
   "execution_count": null,
   "id": "977f79eb",
   "metadata": {},
   "outputs": [],
   "source": []
  },
  {
   "cell_type": "code",
   "execution_count": 23,
   "id": "9bcf4cd1",
   "metadata": {},
   "outputs": [
    {
     "data": {
      "image/png": "[encoded data removed]",
      "text/plain": [
       "<Figure size 432x288 with 1 Axes>"
      ]
     },
     "metadata": {
      "needs_background": "light"
     },
     "output_type": "display_data"
    }
   ],
   "source": [
    "fig, axe = plt.subplots()\n",
    "axe.plot(data[\"t\"], data[\"xi\"])\n",
    "axe.plot(data[\"tn\"], data[\"xi\"], linestyle=\"None\", marker=\".\")\n",
    "axe.plot(data[\"tn\"], data[\"xiP3\"])\n",
    "axe.plot(data[\"tn\"], data[\"xiSG\"])\n",
    "axe.grid()"
   ]
  },
  {
   "cell_type": "code",
   "execution_count": null,
   "id": "fd88e343",
   "metadata": {},
   "outputs": [],
   "source": []
  },
  {
   "cell_type": "code",
   "execution_count": null,
   "id": "b45d0337",
   "metadata": {},
   "outputs": [],
   "source": []
  },
  {
   "cell_type": "code",
   "execution_count": 24,
   "id": "32f145ec",
   "metadata": {},
   "outputs": [
    {
     "data": {
      "image/png": "[encoded data removed]",
      "text/plain": [
       "<Figure size 432x288 with 1 Axes>"
      ]
     },
     "metadata": {
      "needs_background": "light"
     },
     "output_type": "display_data"
    }
   ],
   "source": [
    "fig, axe = plt.subplots()\n",
    "axe.plot(data[\"x1\"], data[\"rinv\"])\n",
    "axe.plot(data[\"x1\"], 1/data[\"dxidt\"], linestyle=\"None\", marker=\".\")\n",
    "axe.plot(data[\"x1\"], 1/data[\"rP3\"], linestyle=\"None\", marker=\".\")\n",
    "axe.plot(data[\"x1\"], 1/data[\"rSG\"], linestyle=\"None\", marker=\".\")\n",
    "axe.grid()"
   ]
  },
  {
   "cell_type": "code",
   "execution_count": null,
   "id": "0f26560c",
   "metadata": {},
   "outputs": [],
   "source": []
  },
  {
   "cell_type": "raw",
   "id": "d3115dba",
   "metadata": {},
   "source": [
    "data = data.dropna()"
   ]
  },
  {
   "cell_type": "code",
   "execution_count": 25,
   "id": "8bb1348e",
   "metadata": {},
   "outputs": [],
   "source": [
    "regressor = LinearRegression(fit_intercept=False)"
   ]
  },
  {
   "cell_type": "code",
   "execution_count": 26,
   "id": "f33b59e1",
   "metadata": {},
   "outputs": [
    {
     "data": {
      "text/html": [
       "<style>#sk-container-id-1 {color: black;background-color: white;}#sk-container-id-1 pre{padding: 0;}#sk-container-id-1 div.sk-toggleable {background-color: white;}#sk-container-id-1 label.sk-toggleable__label {cursor: pointer;display: block;width: 100%;margin-bottom: 0;padding: 0.3em;box-sizing: border-box;text-align: center;}#sk-container-id-1 label.sk-toggleable__label-arrow:before {content: \"▸\";float: left;margin-right: 0.25em;color: #696969;}#sk-container-id-1 label.sk-toggleable__label-arrow:hover:before {color: black;}#sk-container-id-1 div.sk-estimator:hover label.sk-toggleable__label-arrow:before {color: black;}#sk-container-id-1 div.sk-toggleable__content {max-height: 0;max-width: 0;overflow: hidden;text-align: left;background-color: #f0f8ff;}#sk-container-id-1 div.sk-toggleable__content pre {margin: 0.2em;color: black;border-radius: 0.25em;background-color: #f0f8ff;}#sk-container-id-1 input.sk-toggleable__control:checked~div.sk-toggleable__content {max-height: 200px;max-width: 100%;overflow: auto;}#sk-container-id-1 input.sk-toggleable__control:checked~label.sk-toggleable__label-arrow:before {content: \"▾\";}#sk-container-id-1 div.sk-estimator input.sk-toggleable__control:checked~label.sk-toggleable__label {background-color: #d4ebff;}#sk-container-id-1 div.sk-label input.sk-toggleable__control:checked~label.sk-toggleable__label {background-color: #d4ebff;}#sk-container-id-1 input.sk-hidden--visually {border: 0;clip: rect(1px 1px 1px 1px);clip: rect(1px, 1px, 1px, 1px);height: 1px;margin: -1px;overflow: hidden;padding: 0;position: absolute;width: 1px;}#sk-container-id-1 div.sk-estimator {font-family: monospace;background-color: #f0f8ff;border: 1px dotted black;border-radius: 0.25em;box-sizing: border-box;margin-bottom: 0.5em;}#sk-container-id-1 div.sk-estimator:hover {background-color: #d4ebff;}#sk-container-id-1 div.sk-parallel-item::after {content: \"\";width: 100%;border-bottom: 1px solid gray;flex-grow: 1;}#sk-container-id-1 div.sk-label:hover label.sk-toggleable__label {background-color: #d4ebff;}#sk-container-id-1 div.sk-serial::before {content: \"\";position: absolute;border-left: 1px solid gray;box-sizing: border-box;top: 0;bottom: 0;left: 50%;z-index: 0;}#sk-container-id-1 div.sk-serial {display: flex;flex-direction: column;align-items: center;background-color: white;padding-right: 0.2em;padding-left: 0.2em;position: relative;}#sk-container-id-1 div.sk-item {position: relative;z-index: 1;}#sk-container-id-1 div.sk-parallel {display: flex;align-items: stretch;justify-content: center;background-color: white;position: relative;}#sk-container-id-1 div.sk-item::before, #sk-container-id-1 div.sk-parallel-item::before {content: \"\";position: absolute;border-left: 1px solid gray;box-sizing: border-box;top: 0;bottom: 0;left: 50%;z-index: -1;}#sk-container-id-1 div.sk-parallel-item {display: flex;flex-direction: column;z-index: 1;position: relative;background-color: white;}#sk-container-id-1 div.sk-parallel-item:first-child::after {align-self: flex-end;width: 50%;}#sk-container-id-1 div.sk-parallel-item:last-child::after {align-self: flex-start;width: 50%;}#sk-container-id-1 div.sk-parallel-item:only-child::after {width: 0;}#sk-container-id-1 div.sk-dashed-wrapped {border: 1px dashed gray;margin: 0 0.4em 0.5em 0.4em;box-sizing: border-box;padding-bottom: 0.4em;background-color: white;}#sk-container-id-1 div.sk-label label {font-family: monospace;font-weight: bold;display: inline-block;line-height: 1.2em;}#sk-container-id-1 div.sk-label-container {text-align: center;}#sk-container-id-1 div.sk-container {/* jupyter's `normalize.less` sets `[hidden] { display: none; }` but bootstrap.min.css set `[hidden] { display: none !important; }` so we also need the `!important` here to be able to override the default hidden behavior on the sphinx rendered scikit-learn.org. See: https://github.com/scikit-learn/scikit-learn/issues/21755 */display: inline-block !important;position: relative;}#sk-container-id-1 div.sk-text-repr-fallback {display: none;}</style><div id=\"sk-container-id-1\" class=\"sk-top-container\"><div class=\"sk-text-repr-fallback\"><pre>LinearRegression(fit_intercept=False)</pre><b>In a Jupyter environment, please rerun this cell to show the HTML representation or trust the notebook. <br />On GitHub, the HTML representation is unable to render, please try loading this page with nbviewer.org.</b></div><div class=\"sk-container\" hidden><div class=\"sk-item\"><div class=\"sk-estimator sk-toggleable\"><input class=\"sk-toggleable__control sk-hidden--visually\" id=\"sk-estimator-id-1\" type=\"checkbox\" checked><label for=\"sk-estimator-id-1\" class=\"sk-toggleable__label sk-toggleable__label-arrow\">LinearRegression</label><div class=\"sk-toggleable__content\"><pre>LinearRegression(fit_intercept=False)</pre></div></div></div></div></div>"
      ],
      "text/plain": [
       "LinearRegression(fit_intercept=False)"
      ]
     },
     "execution_count": 26,
     "metadata": {},
     "output_type": "execute_result"
    }
   ],
   "source": [
    "q = data[\"t\"] <= 10000\n",
    "regressor.fit(data.loc[q, [\"xi\", \"x2\"]].values, data.loc[q, \"t\"].values)"
   ]
  },
  {
   "cell_type": "code",
   "execution_count": 27,
   "id": "d85208bd",
   "metadata": {},
   "outputs": [
    {
     "data": {
      "text/plain": [
       "(-8126826.311277762, -107638954.55029608)"
      ]
     },
     "execution_count": 27,
     "metadata": {},
     "output_type": "execute_result"
    }
   ],
   "source": [
    "c1, c2 = regressor.coef_\n",
    "c1, c2"
   ]
  },
  {
   "cell_type": "code",
   "execution_count": 28,
   "id": "1febfa70",
   "metadata": {},
   "outputs": [
    {
     "data": {
      "text/plain": [
       "0.999999994675496"
      ]
     },
     "execution_count": 28,
     "metadata": {},
     "output_type": "execute_result"
    }
   ],
   "source": [
    "regressor.score(data[[\"xi\", \"x2\"]].values, data[\"t\"])"
   ]
  },
  {
   "cell_type": "code",
   "execution_count": 29,
   "id": "965cfbd7",
   "metadata": {},
   "outputs": [
    {
     "data": {
      "text/plain": [
       "8.766785338975014e-06"
      ]
     },
     "execution_count": 29,
     "metadata": {},
     "output_type": "execute_result"
    }
   ],
   "source": [
    "n0/((n0*c1 - c2))"
   ]
  },
  {
   "cell_type": "code",
   "execution_count": 30,
   "id": "8a863580",
   "metadata": {},
   "outputs": [
    {
     "data": {
      "text/plain": [
       "72.24614175810628"
      ]
     },
     "execution_count": 30,
     "metadata": {},
     "output_type": "execute_result"
    }
   ],
   "source": [
    "-c2/(n0*c1 - c2)"
   ]
  },
  {
   "cell_type": "code",
   "execution_count": null,
   "id": "5126c25a",
   "metadata": {},
   "outputs": [],
   "source": []
  },
  {
   "cell_type": "code",
   "execution_count": null,
   "id": "562e1b22",
   "metadata": {},
   "outputs": [],
   "source": []
  },
  {
   "cell_type": "code",
   "execution_count": 31,
   "id": "3fc49285",
   "metadata": {},
   "outputs": [],
   "source": [
    "def naive(x, k1, k2):\n",
    "    return (1/k1) * ((1 - k2)*x - k2*n0*np.log((n0 - x)/n0)) "
   ]
  },
  {
   "cell_type": "code",
   "execution_count": 75,
   "id": "7f577824",
   "metadata": {},
   "outputs": [
    {
     "data": {
      "text/plain": [
       "(array([8.76678534e-06, 7.22461419e+01]),\n",
       " array([[5.08578518e-20, 2.96044792e-12],\n",
       "        [2.96044792e-12, 1.80105024e-04]]))"
      ]
     },
     "execution_count": 75,
     "metadata": {},
     "output_type": "execute_result"
    }
   ],
   "source": [
    "optimize.curve_fit(naive, data[\"xi\"].values, data[\"t\"].values)"
   ]
  },
  {
   "cell_type": "code",
   "execution_count": null,
   "id": "f3a3eb81",
   "metadata": {},
   "outputs": [],
   "source": []
  },
  {
   "cell_type": "code",
   "execution_count": 68,
   "id": "a248f583",
   "metadata": {},
   "outputs": [],
   "source": [
    "class Model(FitSolver1D):\n",
    "    @staticmethod\n",
    "    def model(x, k1, k2):\n",
    "        return (1/k1) * ((1 - k2)*x[:,0] - k2*n0*np.log((n0 - x[:,0])/n0)) "
   ]
  },
  {
   "cell_type": "code",
   "execution_count": 76,
   "id": "1b64fd4c",
   "metadata": {},
   "outputs": [],
   "source": [
    "model = Model()\n",
    "sol = model.fit(data[[\"xi\"]].values, data[\"tn\"].values, sigma=5.)"
   ]
  },
  {
   "cell_type": "code",
   "execution_count": 81,
   "id": "251f1895",
   "metadata": {},
   "outputs": [
    {
     "data": {
      "image/png": "[encoded data removed]",
      "text/plain": [
       "<Figure size 432x288 with 1 Axes>"
      ]
     },
     "metadata": {
      "needs_background": "light"
     },
     "output_type": "display_data"
    }
   ],
   "source": [
    "axe = model.plot_fit()"
   ]
  },
  {
   "cell_type": "code",
   "execution_count": 82,
   "id": "d9a13060",
   "metadata": {},
   "outputs": [
    {
     "data": {
      "image/png": "[encoded data removed]",
      "text/plain": [
       "<Figure size 432x288 with 1 Axes>"
      ]
     },
     "metadata": {
      "needs_background": "light"
     },
     "output_type": "display_data"
    }
   ],
   "source": [
    "axe = model.plot_chi_square()"
   ]
  },
  {
   "cell_type": "code",
   "execution_count": 83,
   "id": "9ef9ad70",
   "metadata": {},
   "outputs": [],
   "source": [
    "#axe = model.plot_kolmogorov()"
   ]
  },
  {
   "cell_type": "code",
   "execution_count": 91,
   "id": "4a624d0b",
   "metadata": {},
   "outputs": [
    {
     "data": {
      "image/png": "[encoded data removed]",
      "text/plain": [
       "<Figure size 432x288 with 1 Axes>"
      ]
     },
     "metadata": {
      "needs_background": "light"
     },
     "output_type": "display_data"
    }
   ],
   "source": [
    "axe = model.plot_loss(factor=5, log_loss=True, log_x=False, log_y=False, resolution=300)\n",
    "#axe.grid(which=\"both\")"
   ]
  },
  {
   "cell_type": "code",
   "execution_count": null,
   "id": "3cb22575",
   "metadata": {},
   "outputs": [],
   "source": []
  },
  {
   "cell_type": "code",
   "execution_count": null,
   "id": "4a842f8e",
   "metadata": {},
   "outputs": [],
   "source": []
  },
  {
   "cell_type": "code",
   "execution_count": null,
   "id": "966a3378",
   "metadata": {},
   "outputs": [],
   "source": []
  },
  {
   "cell_type": "code",
   "execution_count": 33,
   "id": "a9e44217",
   "metadata": {},
   "outputs": [
    {
     "data": {
      "text/html": [
       "<style>#sk-container-id-2 {color: black;background-color: white;}#sk-container-id-2 pre{padding: 0;}#sk-container-id-2 div.sk-toggleable {background-color: white;}#sk-container-id-2 label.sk-toggleable__label {cursor: pointer;display: block;width: 100%;margin-bottom: 0;padding: 0.3em;box-sizing: border-box;text-align: center;}#sk-container-id-2 label.sk-toggleable__label-arrow:before {content: \"▸\";float: left;margin-right: 0.25em;color: #696969;}#sk-container-id-2 label.sk-toggleable__label-arrow:hover:before {color: black;}#sk-container-id-2 div.sk-estimator:hover label.sk-toggleable__label-arrow:before {color: black;}#sk-container-id-2 div.sk-toggleable__content {max-height: 0;max-width: 0;overflow: hidden;text-align: left;background-color: #f0f8ff;}#sk-container-id-2 div.sk-toggleable__content pre {margin: 0.2em;color: black;border-radius: 0.25em;background-color: #f0f8ff;}#sk-container-id-2 input.sk-toggleable__control:checked~div.sk-toggleable__content {max-height: 200px;max-width: 100%;overflow: auto;}#sk-container-id-2 input.sk-toggleable__control:checked~label.sk-toggleable__label-arrow:before {content: \"▾\";}#sk-container-id-2 div.sk-estimator input.sk-toggleable__control:checked~label.sk-toggleable__label {background-color: #d4ebff;}#sk-container-id-2 div.sk-label input.sk-toggleable__control:checked~label.sk-toggleable__label {background-color: #d4ebff;}#sk-container-id-2 input.sk-hidden--visually {border: 0;clip: rect(1px 1px 1px 1px);clip: rect(1px, 1px, 1px, 1px);height: 1px;margin: -1px;overflow: hidden;padding: 0;position: absolute;width: 1px;}#sk-container-id-2 div.sk-estimator {font-family: monospace;background-color: #f0f8ff;border: 1px dotted black;border-radius: 0.25em;box-sizing: border-box;margin-bottom: 0.5em;}#sk-container-id-2 div.sk-estimator:hover {background-color: #d4ebff;}#sk-container-id-2 div.sk-parallel-item::after {content: \"\";width: 100%;border-bottom: 1px solid gray;flex-grow: 1;}#sk-container-id-2 div.sk-label:hover label.sk-toggleable__label {background-color: #d4ebff;}#sk-container-id-2 div.sk-serial::before {content: \"\";position: absolute;border-left: 1px solid gray;box-sizing: border-box;top: 0;bottom: 0;left: 50%;z-index: 0;}#sk-container-id-2 div.sk-serial {display: flex;flex-direction: column;align-items: center;background-color: white;padding-right: 0.2em;padding-left: 0.2em;position: relative;}#sk-container-id-2 div.sk-item {position: relative;z-index: 1;}#sk-container-id-2 div.sk-parallel {display: flex;align-items: stretch;justify-content: center;background-color: white;position: relative;}#sk-container-id-2 div.sk-item::before, #sk-container-id-2 div.sk-parallel-item::before {content: \"\";position: absolute;border-left: 1px solid gray;box-sizing: border-box;top: 0;bottom: 0;left: 50%;z-index: -1;}#sk-container-id-2 div.sk-parallel-item {display: flex;flex-direction: column;z-index: 1;position: relative;background-color: white;}#sk-container-id-2 div.sk-parallel-item:first-child::after {align-self: flex-end;width: 50%;}#sk-container-id-2 div.sk-parallel-item:last-child::after {align-self: flex-start;width: 50%;}#sk-container-id-2 div.sk-parallel-item:only-child::after {width: 0;}#sk-container-id-2 div.sk-dashed-wrapped {border: 1px dashed gray;margin: 0 0.4em 0.5em 0.4em;box-sizing: border-box;padding-bottom: 0.4em;background-color: white;}#sk-container-id-2 div.sk-label label {font-family: monospace;font-weight: bold;display: inline-block;line-height: 1.2em;}#sk-container-id-2 div.sk-label-container {text-align: center;}#sk-container-id-2 div.sk-container {/* jupyter's `normalize.less` sets `[hidden] { display: none; }` but bootstrap.min.css set `[hidden] { display: none !important; }` so we also need the `!important` here to be able to override the default hidden behavior on the sphinx rendered scikit-learn.org. See: https://github.com/scikit-learn/scikit-learn/issues/21755 */display: inline-block !important;position: relative;}#sk-container-id-2 div.sk-text-repr-fallback {display: none;}</style><div id=\"sk-container-id-2\" class=\"sk-top-container\"><div class=\"sk-text-repr-fallback\"><pre>LinearRegression()</pre><b>In a Jupyter environment, please rerun this cell to show the HTML representation or trust the notebook. <br />On GitHub, the HTML representation is unable to render, please try loading this page with nbviewer.org.</b></div><div class=\"sk-container\" hidden><div class=\"sk-item\"><div class=\"sk-estimator sk-toggleable\"><input class=\"sk-toggleable__control sk-hidden--visually\" id=\"sk-estimator-id-2\" type=\"checkbox\" checked><label for=\"sk-estimator-id-2\" class=\"sk-toggleable__label sk-toggleable__label-arrow\">LinearRegression</label><div class=\"sk-toggleable__content\"><pre>LinearRegression()</pre></div></div></div></div></div>"
      ],
      "text/plain": [
       "LinearRegression()"
      ]
     },
     "execution_count": 33,
     "metadata": {},
     "output_type": "execute_result"
    }
   ],
   "source": [
    "lbth = LinearRegression(fit_intercept=True)\n",
    "lbth.fit(data[[\"x1\"]].values, data[\"rinv\"].values)"
   ]
  },
  {
   "cell_type": "code",
   "execution_count": null,
   "id": "0abab8fb",
   "metadata": {},
   "outputs": [],
   "source": []
  },
  {
   "cell_type": "code",
   "execution_count": 34,
   "id": "bd3b0e2f",
   "metadata": {},
   "outputs": [],
   "source": [
    "c1 = lbth.intercept_\n",
    "c2 = lbth.coef_[0]"
   ]
  },
  {
   "cell_type": "code",
   "execution_count": 35,
   "id": "0f3257df",
   "metadata": {},
   "outputs": [
    {
     "data": {
      "text/plain": [
       "(114090.83904794423, 8229467.9513102295)"
      ]
     },
     "execution_count": 35,
     "metadata": {},
     "output_type": "execute_result"
    }
   ],
   "source": [
    "c1, c2"
   ]
  },
  {
   "cell_type": "code",
   "execution_count": 36,
   "id": "78db1673",
   "metadata": {},
   "outputs": [],
   "source": [
    "k1 = 1/c1\n",
    "k2 = c2/c1"
   ]
  },
  {
   "cell_type": "code",
   "execution_count": 37,
   "id": "92160043",
   "metadata": {},
   "outputs": [
    {
     "data": {
      "text/plain": [
       "(8.764945620040285e-06, 72.13083907509849)"
      ]
     },
     "execution_count": 37,
     "metadata": {},
     "output_type": "execute_result"
    }
   ],
   "source": [
    "k1, k2"
   ]
  },
  {
   "cell_type": "code",
   "execution_count": null,
   "id": "d665c3cc",
   "metadata": {},
   "outputs": [],
   "source": []
  },
  {
   "cell_type": "code",
   "execution_count": null,
   "id": "e8d802fd",
   "metadata": {},
   "outputs": [],
   "source": []
  }
 ],
 "metadata": {
  "hide_input": false,
  "kernelspec": {
   "display_name": "Python 3 (ipykernel)",
   "language": "python",
   "name": "python3"
  },
  "language_info": {
   "codemirror_mode": {
    "name": "ipython",
    "version": 3
   },
   "file_extension": ".py",
   "mimetype": "text/x-python",
   "name": "python",
   "nbconvert_exporter": "python",
   "pygments_lexer": "ipython3",
   "version": "3.9.7"
  },
  "toc": {
   "base_numbering": 1,
   "nav_menu": {},
   "number_sections": true,
   "sideBar": true,
   "skip_h1_title": false,
   "title_cell": "Table of Contents",
   "title_sidebar": "Contents",
   "toc_cell": false,
   "toc_position": {},
   "toc_section_display": true,
   "toc_window_display": false
  },
  "varInspector": {
   "cols": {
    "lenName": 16,
    "lenType": 16,
    "lenVar": 40
   },
   "kernels_config": {
    "python": {
     "delete_cmd_postfix": "",
     "delete_cmd_prefix": "del ",
     "library": "var_list.py",
     "varRefreshCmd": "print(var_dic_list())"
    },
    "r": {
     "delete_cmd_postfix": ") ",
     "delete_cmd_prefix": "rm(",
     "library": "var_list.r",
     "varRefreshCmd": "cat(var_dic_list()) "
    }
   },
   "types_to_exclude": [
    "module",
    "function",
    "builtin_function_or_method",
    "instance",
    "_Feature"
   ],
   "window_display": false
  }
 },
 "nbformat": 4,
 "nbformat_minor": 5
}
