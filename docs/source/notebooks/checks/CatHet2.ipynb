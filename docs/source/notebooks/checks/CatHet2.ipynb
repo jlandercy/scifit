{
 "cells": [
  {
   "cell_type": "code",
   "execution_count": 1,
   "id": "108ba851",
   "metadata": {
    "ExecuteTime": {
     "end_time": "2023-11-06T19:42:55.133841Z",
     "start_time": "2023-11-06T19:42:52.595067Z"
    }
   },
   "outputs": [],
   "source": [
    "import numpy as np\n",
    "import pandas as pd\n",
    "import matplotlib.pyplot as plt\n",
    "\n",
    "from scipy import optimize, signal, integrate\n",
    "\n",
    "from sklearn import metrics\n",
    "from sklearn.linear_model import LinearRegression"
   ]
  },
  {
   "cell_type": "code",
   "execution_count": 2,
   "id": "d709992e",
   "metadata": {},
   "outputs": [],
   "source": [
    "np.random.seed(12345)"
   ]
  },
  {
   "cell_type": "code",
   "execution_count": 3,
   "id": "f74776ea",
   "metadata": {
    "ExecuteTime": {
     "end_time": "2023-11-06T19:42:55.146101Z",
     "start_time": "2023-11-06T19:42:55.141818Z"
    }
   },
   "outputs": [],
   "source": [
    "R = 8.31446261815324  # J/mol.K\n",
    "T0 = 292.05           # K\n",
    "p0 = 101600           # Pa\n",
    "V = 190e-6            # m3 of isopropanol\n",
    "m = 2.7677            # g of Raney Nickel\n",
    "rho = 785             # kg/m³\n",
    "M = 60.1              # g/mol\n",
    "n0 = 1000*rho*V/M     # mol"
   ]
  },
  {
   "cell_type": "code",
   "execution_count": 4,
   "id": "26d20c95",
   "metadata": {
    "ExecuteTime": {
     "end_time": "2023-11-06T19:42:55.160022Z",
     "start_time": "2023-11-06T19:42:55.148435Z"
    }
   },
   "outputs": [
    {
     "data": {
      "text/plain": [
       "2.4816971713810316"
      ]
     },
     "execution_count": 4,
     "metadata": {},
     "output_type": "execute_result"
    }
   ],
   "source": [
    "n0"
   ]
  },
  {
   "cell_type": "code",
   "execution_count": 5,
   "id": "455e826b",
   "metadata": {
    "ExecuteTime": {
     "end_time": "2023-11-06T19:42:55.165853Z",
     "start_time": "2023-11-06T19:42:55.162851Z"
    }
   },
   "outputs": [],
   "source": [
    "k = 8.765e-6\n",
    "b = 8.901e5\n",
    "a = 1.234e4"
   ]
  },
  {
   "cell_type": "code",
   "execution_count": 6,
   "id": "4612cdcb",
   "metadata": {},
   "outputs": [],
   "source": [
    "def model(x, k, a, b, n0=n0):\n",
    "    return k*(a*(n0 - x))/(1 + a*(n0 - x) + b*x)"
   ]
  },
  {
   "cell_type": "code",
   "execution_count": 7,
   "id": "a11dfac6",
   "metadata": {
    "ExecuteTime": {
     "end_time": "2023-11-06T19:42:55.172973Z",
     "start_time": "2023-11-06T19:42:55.169569Z"
    }
   },
   "outputs": [],
   "source": [
    "def ode(t, x, k, a, b, n0):\n",
    "    return np.array([\n",
    "        model(x, k, a, b, n0)\n",
    "    ])"
   ]
  },
  {
   "cell_type": "code",
   "execution_count": null,
   "id": "d7f6daca",
   "metadata": {},
   "outputs": [],
   "source": []
  },
  {
   "cell_type": "code",
   "execution_count": 8,
   "id": "a90acfab",
   "metadata": {
    "ExecuteTime": {
     "end_time": "2023-11-06T19:42:55.179000Z",
     "start_time": "2023-11-06T19:42:55.175712Z"
    }
   },
   "outputs": [],
   "source": [
    "t = np.linspace(0, 10000, 50)"
   ]
  },
  {
   "cell_type": "code",
   "execution_count": 9,
   "id": "3d9aa9fe",
   "metadata": {
    "ExecuteTime": {
     "end_time": "2023-11-06T19:42:55.189677Z",
     "start_time": "2023-11-06T19:42:55.181417Z"
    }
   },
   "outputs": [],
   "source": [
    "sol = integrate.solve_ivp(ode, [t.min(), t.max()], y0=[0], args=(k, a, b, n0), t_eval=t)"
   ]
  },
  {
   "cell_type": "code",
   "execution_count": 10,
   "id": "8daca1e9",
   "metadata": {
    "ExecuteTime": {
     "end_time": "2023-11-06T19:42:55.197527Z",
     "start_time": "2023-11-06T19:42:55.192018Z"
    }
   },
   "outputs": [
    {
     "data": {
      "text/plain": [
       "  message: The solver successfully reached the end of the integration interval.\n",
       "  success: True\n",
       "   status: 0\n",
       "        t: [ 0.000e+00  2.041e+02 ...  9.796e+03  1.000e+04]\n",
       "        y: [[ 0.000e+00  1.745e-03 ...  4.961e-02  5.033e-02]]\n",
       "      sol: None\n",
       " t_events: None\n",
       " y_events: None\n",
       "     nfev: 62\n",
       "     njev: 0\n",
       "      nlu: 0"
      ]
     },
     "execution_count": 10,
     "metadata": {},
     "output_type": "execute_result"
    }
   ],
   "source": [
    "sol"
   ]
  },
  {
   "cell_type": "code",
   "execution_count": 11,
   "id": "8dca971c",
   "metadata": {
    "ExecuteTime": {
     "end_time": "2023-11-06T19:42:55.202940Z",
     "start_time": "2023-11-06T19:42:55.199921Z"
    }
   },
   "outputs": [],
   "source": [
    "xi = sol.y[0,:]"
   ]
  },
  {
   "cell_type": "code",
   "execution_count": 12,
   "id": "6caf1f69",
   "metadata": {
    "ExecuteTime": {
     "end_time": "2023-11-06T19:42:55.208284Z",
     "start_time": "2023-11-06T19:42:55.205206Z"
    }
   },
   "outputs": [],
   "source": [
    "r = ode(t, xi, k, a, b, n0).squeeze()"
   ]
  },
  {
   "cell_type": "code",
   "execution_count": 13,
   "id": "9c16b25e",
   "metadata": {
    "ExecuteTime": {
     "end_time": "2023-11-06T19:43:51.124889Z",
     "start_time": "2023-11-06T19:43:51.111010Z"
    }
   },
   "outputs": [],
   "source": [
    "tn = (t + 5*np.random.normal(size=t.size)).round(1)"
   ]
  },
  {
   "cell_type": "code",
   "execution_count": 14,
   "id": "1557277d",
   "metadata": {
    "ExecuteTime": {
     "end_time": "2023-11-06T19:44:00.241479Z",
     "start_time": "2023-11-06T19:44:00.235980Z"
    }
   },
   "outputs": [],
   "source": [
    "data = pd.DataFrame({\"t\": t, \"tn\": tn, \"xi\": xi, \"r\": r})"
   ]
  },
  {
   "cell_type": "code",
   "execution_count": 15,
   "id": "59b8dd26",
   "metadata": {},
   "outputs": [],
   "source": [
    "data[\"rinv\"] = 1/data[\"r\"]\n",
    "data[\"A\"] = (n0 - data[\"xi\"])/V\n",
    "data[\"B\"] = data[\"xi\"]/V\n",
    "data[\"x1\"] = data[\"xi\"]/(n0 - data[\"xi\"])\n",
    "data[\"x2\"] = np.log(1/data[\"x1\"])"
   ]
  },
  {
   "cell_type": "code",
   "execution_count": 16,
   "id": "f1de8d98",
   "metadata": {},
   "outputs": [],
   "source": [
    "data[\"dxidt\"] = data[\"xi\"].diff()/data[\"tn\"].diff()"
   ]
  },
  {
   "cell_type": "code",
   "execution_count": null,
   "id": "9548b9cb",
   "metadata": {},
   "outputs": [],
   "source": []
  },
  {
   "cell_type": "code",
   "execution_count": 27,
   "id": "732e50f6",
   "metadata": {},
   "outputs": [],
   "source": [
    "coefs = np.polyfit(data[\"tn\"], xi, 3)\n",
    "data[\"xiP3\"] = np.polyval(coefs, data[\"tn\"])\n",
    "data[\"rP3\"] = np.polyval(np.polyder(coefs, m=1), data[\"tn\"])"
   ]
  },
  {
   "cell_type": "code",
   "execution_count": null,
   "id": "7cfe2d03",
   "metadata": {},
   "outputs": [],
   "source": []
  },
  {
   "cell_type": "code",
   "execution_count": 38,
   "id": "0a2c289f",
   "metadata": {},
   "outputs": [],
   "source": [
    "data[\"xiSG\"] = signal.savgol_filter(data[\"xi\"], 7, 3)\n",
    "data[\"rSG\"] = signal.savgol_filter(data[\"xi\"], 7, 3, deriv=1, delta=np.diff(t)[0])"
   ]
  },
  {
   "cell_type": "code",
   "execution_count": null,
   "id": "ccd96974",
   "metadata": {},
   "outputs": [],
   "source": []
  },
  {
   "cell_type": "code",
   "execution_count": null,
   "id": "582eb059",
   "metadata": {},
   "outputs": [],
   "source": []
  },
  {
   "cell_type": "code",
   "execution_count": 41,
   "id": "7461b66b",
   "metadata": {},
   "outputs": [
    {
     "data": {
      "image/png": "[encoded data removed]",
      "text/plain": [
       "<Figure size 432x288 with 1 Axes>"
      ]
     },
     "metadata": {
      "needs_background": "light"
     },
     "output_type": "display_data"
    }
   ],
   "source": [
    "fig, axe = plt.subplots()\n",
    "axe.plot(data[\"t\"], data[\"xi\"])\n",
    "axe.plot(data[\"tn\"], data[\"xi\"], linestyle=\"None\", marker=\".\")\n",
    "axe.plot(data[\"tn\"], data[\"xiP3\"])\n",
    "axe.plot(data[\"tn\"], data[\"xiSG\"])\n",
    "axe.grid()"
   ]
  },
  {
   "cell_type": "code",
   "execution_count": null,
   "id": "566efb5d",
   "metadata": {},
   "outputs": [],
   "source": []
  },
  {
   "cell_type": "code",
   "execution_count": null,
   "id": "e1764ee4",
   "metadata": {},
   "outputs": [],
   "source": []
  },
  {
   "cell_type": "code",
   "execution_count": 40,
   "id": "1bfeb01a",
   "metadata": {},
   "outputs": [
    {
     "data": {
      "image/png": "[encoded data removed]",
      "text/plain": [
       "<Figure size 432x288 with 1 Axes>"
      ]
     },
     "metadata": {
      "needs_background": "light"
     },
     "output_type": "display_data"
    }
   ],
   "source": [
    "fig, axe = plt.subplots()\n",
    "axe.plot(data[\"x1\"], data[\"rinv\"])\n",
    "axe.plot(data[\"x1\"], 1/data[\"dxidt\"], linestyle=\"None\", marker=\".\")\n",
    "axe.plot(data[\"x1\"], 1/data[\"rP3\"], linestyle=\"None\", marker=\".\")\n",
    "axe.plot(data[\"x1\"], 1/data[\"rSG\"], linestyle=\"None\", marker=\".\")\n",
    "axe.grid()"
   ]
  },
  {
   "cell_type": "code",
   "execution_count": null,
   "id": "10750824",
   "metadata": {},
   "outputs": [],
   "source": []
  },
  {
   "cell_type": "code",
   "execution_count": null,
   "id": "3621cac7",
   "metadata": {},
   "outputs": [],
   "source": []
  },
  {
   "cell_type": "code",
   "execution_count": null,
   "id": "ad6523f8",
   "metadata": {},
   "outputs": [],
   "source": []
  },
  {
   "cell_type": "code",
   "execution_count": null,
   "id": "d3235eac",
   "metadata": {},
   "outputs": [],
   "source": []
  },
  {
   "cell_type": "code",
   "execution_count": null,
   "id": "06128218",
   "metadata": {},
   "outputs": [],
   "source": []
  }
 ],
 "metadata": {
  "hide_input": false,
  "kernelspec": {
   "display_name": "Python 3 (ipykernel)",
   "language": "python",
   "name": "python3"
  },
  "language_info": {
   "codemirror_mode": {
    "name": "ipython",
    "version": 3
   },
   "file_extension": ".py",
   "mimetype": "text/x-python",
   "name": "python",
   "nbconvert_exporter": "python",
   "pygments_lexer": "ipython3",
   "version": "3.9.7"
  },
  "toc": {
   "base_numbering": 1,
   "nav_menu": {},
   "number_sections": true,
   "sideBar": true,
   "skip_h1_title": false,
   "title_cell": "Table of Contents",
   "title_sidebar": "Contents",
   "toc_cell": false,
   "toc_position": {},
   "toc_section_display": true,
   "toc_window_display": false
  },
  "varInspector": {
   "cols": {
    "lenName": 16,
    "lenType": 16,
    "lenVar": 40
   },
   "kernels_config": {
    "python": {
     "delete_cmd_postfix": "",
     "delete_cmd_prefix": "del ",
     "library": "var_list.py",
     "varRefreshCmd": "print(var_dic_list())"
    },
    "r": {
     "delete_cmd_postfix": ") ",
     "delete_cmd_prefix": "rm(",
     "library": "var_list.r",
     "varRefreshCmd": "cat(var_dic_list()) "
    }
   },
   "types_to_exclude": [
    "module",
    "function",
    "builtin_function_or_method",
    "instance",
    "_Feature"
   ],
   "window_display": false
  }
 },
 "nbformat": 4,
 "nbformat_minor": 5
}
