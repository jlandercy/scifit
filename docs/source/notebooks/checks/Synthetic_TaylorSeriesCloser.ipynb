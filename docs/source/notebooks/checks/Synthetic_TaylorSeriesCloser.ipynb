{
 "cells": [
  {
   "cell_type": "code",
   "execution_count": 1,
   "metadata": {
    "execution": {
     "iopub.execute_input": "2023-08-25T08:12:43.533106Z",
     "iopub.status.busy": "2023-08-25T08:12:43.533106Z",
     "iopub.status.idle": "2023-08-25T08:12:45.151023Z",
     "shell.execute_reply": "2023-08-25T08:12:45.151023Z"
    }
   },
   "outputs": [],
   "source": [
    "import numpy as np\n",
    "from scifit.solvers import linear, scientific, specials\n",
    "from scifit.interfaces import generic"
   ]
  },
  {
   "cell_type": "code",
   "execution_count": 2,
   "metadata": {
    "execution": {
     "iopub.execute_input": "2023-08-25T08:12:45.151023Z",
     "iopub.status.busy": "2023-08-25T08:12:45.151023Z",
     "iopub.status.idle": "2023-08-25T08:12:45.166674Z",
     "shell.execute_reply": "2023-08-25T08:12:45.166674Z"
    }
   },
   "outputs": [],
   "source": [
    "class Taylor(generic.FitSolverInterface):\n",
    "    @staticmethod\n",
    "    def model(x, a, b, c):\n",
    "        return a * np.power(x[:, 0], 2)  + b * np.power(x[:, 0], 1) + c * np.power(x[:, 0], 0) \n",
    "\n",
    "class Exp(generic.FitSolverInterface):\n",
    "    @staticmethod\n",
    "    def model(x, a, b, c):\n",
    "        return a * np.exp(b * x[:, 0]) + c"
   ]
  },
  {
   "cell_type": "code",
   "execution_count": 3,
   "metadata": {
    "execution": {
     "iopub.execute_input": "2023-08-25T08:12:45.166674Z",
     "iopub.status.busy": "2023-08-25T08:12:45.166674Z",
     "iopub.status.idle": "2023-08-25T08:12:45.700948Z",
     "shell.execute_reply": "2023-08-25T08:12:45.700948Z"
    }
   },
   "outputs": [
    {
     "ename": "ConfigurationError",
     "evalue": "Dimension must be set.",
     "output_type": "error",
     "traceback": [
      "\u001b[1;31m---------------------------------------------------------------------------\u001b[0m",
      "\u001b[1;31mConfigurationError\u001b[0m                        Traceback (most recent call last)",
      "Cell \u001b[1;32mIn[3], line 1\u001b[0m\n\u001b[1;32m----> 1\u001b[0m models \u001b[38;5;241m=\u001b[39m [\u001b[43mExp\u001b[49m\u001b[43m(\u001b[49m\u001b[43m)\u001b[49m, Taylor()]\n",
      "File \u001b[1;32m~\\AppData\\Roaming\\Python\\Python310\\site-packages\\scifit\\interfaces\\generic.py:72\u001b[0m, in \u001b[0;36mFitSolverInterface.__init__\u001b[1;34m(self, *args, **kwargs)\u001b[0m\n\u001b[0;32m     71\u001b[0m \u001b[38;5;28;01mdef\u001b[39;00m \u001b[38;5;21m__init__\u001b[39m(\u001b[38;5;28mself\u001b[39m, \u001b[38;5;241m*\u001b[39margs, \u001b[38;5;241m*\u001b[39m\u001b[38;5;241m*\u001b[39mkwargs):\n\u001b[1;32m---> 72\u001b[0m     \u001b[38;5;28msuper\u001b[39m()\u001b[38;5;241m.\u001b[39m\u001b[38;5;21m__init__\u001b[39m(\u001b[38;5;241m*\u001b[39margs, \u001b[38;5;241m*\u001b[39m\u001b[38;5;241m*\u001b[39mkwargs)\n",
      "File \u001b[1;32m~\\AppData\\Roaming\\Python\\Python310\\site-packages\\scifit\\interfaces\\mixins.py:43\u001b[0m, in \u001b[0;36mFitSolverMixin.__init__\u001b[1;34m(self, dimension, *args, **kwargs)\u001b[0m\n\u001b[0;32m     41\u001b[0m \u001b[38;5;28mself\u001b[39m\u001b[38;5;241m.\u001b[39m_dimension \u001b[38;5;241m=\u001b[39m dimension \u001b[38;5;129;01mor\u001b[39;00m \u001b[38;5;28mself\u001b[39m\u001b[38;5;241m.\u001b[39m_dimension\n\u001b[0;32m     42\u001b[0m \u001b[38;5;28;01mif\u001b[39;00m \u001b[38;5;28mself\u001b[39m\u001b[38;5;241m.\u001b[39m_dimension \u001b[38;5;129;01mis\u001b[39;00m \u001b[38;5;28;01mNone\u001b[39;00m:\n\u001b[1;32m---> 43\u001b[0m     \u001b[38;5;28;01mraise\u001b[39;00m ConfigurationError(\u001b[38;5;124m\"\u001b[39m\u001b[38;5;124mDimension must be set.\u001b[39m\u001b[38;5;124m\"\u001b[39m)\n\u001b[0;32m     44\u001b[0m \u001b[38;5;28;01mif\u001b[39;00m \u001b[38;5;129;01mnot\u001b[39;00m \u001b[38;5;28misinstance\u001b[39m(\u001b[38;5;28mself\u001b[39m\u001b[38;5;241m.\u001b[39m_dimension, numbers\u001b[38;5;241m.\u001b[39mIntegral):\n\u001b[0;32m     45\u001b[0m     \u001b[38;5;28;01mraise\u001b[39;00m ConfigurationError(\u001b[38;5;124m\"\u001b[39m\u001b[38;5;124mDimension must be an integral number, got \u001b[39m\u001b[38;5;132;01m%s\u001b[39;00m\u001b[38;5;124m instead\u001b[39m\u001b[38;5;124m\"\u001b[39m \u001b[38;5;241m%\u001b[39m \u001b[38;5;28mtype\u001b[39m(\u001b[38;5;28mself\u001b[39m\u001b[38;5;241m.\u001b[39m_dimension))\n",
      "\u001b[1;31mConfigurationError\u001b[0m: Dimension must be set."
     ]
    }
   ],
   "source": [
    "models = [Exp(), Taylor()]"
   ]
  },
  {
   "cell_type": "code",
   "execution_count": 4,
   "metadata": {
    "execution": {
     "iopub.execute_input": "2023-08-25T08:12:45.705627Z",
     "iopub.status.busy": "2023-08-25T08:12:45.705627Z",
     "iopub.status.idle": "2023-08-25T08:12:45.716720Z",
     "shell.execute_reply": "2023-08-25T08:12:45.716720Z"
    }
   },
   "outputs": [],
   "source": [
    "labels = {\n",
    "    \"Exp\": r\"$y = a e^{b x_1} + c$\",\n",
    "    \"Taylor\": r\"$y = ax^2_1 + bx_1 + c$\",\n",
    "}"
   ]
  },
  {
   "cell_type": "code",
   "execution_count": 5,
   "metadata": {
    "execution": {
     "iopub.execute_input": "2023-08-25T08:12:45.716720Z",
     "iopub.status.busy": "2023-08-25T08:12:45.716720Z",
     "iopub.status.idle": "2023-08-25T08:12:45.748078Z",
     "shell.execute_reply": "2023-08-25T08:12:45.748078Z"
    }
   },
   "outputs": [
    {
     "ename": "NameError",
     "evalue": "name 'models' is not defined",
     "output_type": "error",
     "traceback": [
      "\u001b[1;31m---------------------------------------------------------------------------\u001b[0m",
      "\u001b[1;31mNameError\u001b[0m                                 Traceback (most recent call last)",
      "Cell \u001b[1;32mIn[5], line 1\u001b[0m\n\u001b[1;32m----> 1\u001b[0m data \u001b[38;5;241m=\u001b[39m \u001b[43mmodels\u001b[49m[\u001b[38;5;241m0\u001b[39m]\u001b[38;5;241m.\u001b[39msynthetic_dataset(sigma\u001b[38;5;241m=\u001b[39m\u001b[38;5;241m1e-3\u001b[39m, xmin\u001b[38;5;241m=\u001b[39m\u001b[38;5;241m2.20\u001b[39m, xmax\u001b[38;5;241m=\u001b[39m\u001b[38;5;241m2.30\u001b[39m, resolution\u001b[38;5;241m=\u001b[39m\u001b[38;5;241m30\u001b[39m, parameters\u001b[38;5;241m=\u001b[39m[\u001b[38;5;241m2.0\u001b[39m, \u001b[38;5;241m1.0\u001b[39m, \u001b[38;5;241m3.0\u001b[39m], scale_mode\u001b[38;5;241m=\u001b[39m\u001b[38;5;124m\"\u001b[39m\u001b[38;5;124mauto\u001b[39m\u001b[38;5;124m\"\u001b[39m)\n",
      "\u001b[1;31mNameError\u001b[0m: name 'models' is not defined"
     ]
    }
   ],
   "source": [
    "data = models[0].synthetic_dataset(sigma=1e-3, xmin=2.20, xmax=2.30, resolution=30, parameters=[2.0, 1.0, 3.0], scale_mode=\"auto\")"
   ]
  },
  {
   "cell_type": "code",
   "execution_count": null,
   "metadata": {},
   "outputs": [],
   "source": []
  },
  {
   "cell_type": "code",
   "execution_count": 6,
   "metadata": {
    "execution": {
     "iopub.execute_input": "2023-08-25T08:12:45.748078Z",
     "iopub.status.busy": "2023-08-25T08:12:45.748078Z",
     "iopub.status.idle": "2023-08-25T08:12:45.779312Z",
     "shell.execute_reply": "2023-08-25T08:12:45.779312Z"
    }
   },
   "outputs": [
    {
     "ename": "NameError",
     "evalue": "name 'models' is not defined",
     "output_type": "error",
     "traceback": [
      "\u001b[1;31m---------------------------------------------------------------------------\u001b[0m",
      "\u001b[1;31mNameError\u001b[0m                                 Traceback (most recent call last)",
      "Cell \u001b[1;32mIn[6], line 1\u001b[0m\n\u001b[1;32m----> 1\u001b[0m \u001b[38;5;28;01mfor\u001b[39;00m i, model \u001b[38;5;129;01min\u001b[39;00m \u001b[38;5;28menumerate\u001b[39m(\u001b[43mmodels\u001b[49m):\n\u001b[0;32m      3\u001b[0m     name \u001b[38;5;241m=\u001b[39m model\u001b[38;5;241m.\u001b[39m\u001b[38;5;18m__class__\u001b[39m\u001b[38;5;241m.\u001b[39m\u001b[38;5;18m__name__\u001b[39m\n\u001b[0;32m      4\u001b[0m     title \u001b[38;5;241m=\u001b[39m labels[name]\n",
      "\u001b[1;31mNameError\u001b[0m: name 'models' is not defined"
     ]
    }
   ],
   "source": [
    "for i, model in enumerate(models):\n",
    "    \n",
    "    name = model.__class__.__name__\n",
    "    title = labels[name]\n",
    "    file = \"Taylor_y{}\".format(i)\n",
    "    \n",
    "    _ = model.load(data)\n",
    "    sol = model.fit(maxfev=5000)\n",
    "    \n",
    "    axe = model.plot_fit(title=title)\n",
    "    axe.figure.savefig(\"figures/IntroPolynomial/Closer{}_fit.pdf\".format(file))\n",
    "    \n",
    "    axe = model.plot_chi_square(title=title)\n",
    "    axe.figure.savefig(\"figures/IntroPolynomial/Closer{}_chi2.pdf\".format(file))\n",
    "    \n",
    "    axe = model.plot_loss(title=title)\n",
    "    axe.figure.savefig(\"figures/IntroPolynomial/Closer{}_loss.pdf\".format(file))"
   ]
  },
  {
   "cell_type": "code",
   "execution_count": null,
   "metadata": {},
   "outputs": [],
   "source": []
  },
  {
   "cell_type": "code",
   "execution_count": null,
   "metadata": {},
   "outputs": [],
   "source": []
  },
  {
   "cell_type": "code",
   "execution_count": null,
   "metadata": {},
   "outputs": [],
   "source": []
  },
  {
   "cell_type": "code",
   "execution_count": null,
   "metadata": {},
   "outputs": [],
   "source": []
  },
  {
   "cell_type": "code",
   "execution_count": null,
   "metadata": {},
   "outputs": [],
   "source": []
  },
  {
   "cell_type": "code",
   "execution_count": null,
   "metadata": {},
   "outputs": [],
   "source": []
  }
 ],
 "metadata": {
  "kernelspec": {
   "display_name": "Python 3 (ipykernel)",
   "language": "python",
   "name": "python3"
  },
  "language_info": {
   "codemirror_mode": {
    "name": "ipython",
    "version": 3
   },
   "file_extension": ".py",
   "mimetype": "text/x-python",
   "name": "python",
   "nbconvert_exporter": "python",
   "pygments_lexer": "ipython3",
   "version": "3.10.12"
  }
 },
 "nbformat": 4,
 "nbformat_minor": 4
}
