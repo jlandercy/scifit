{
 "cells": [
  {
   "cell_type": "code",
   "execution_count": 1,
   "metadata": {
    "execution": {
     "iopub.execute_input": "2023-08-22T09:24:40.125956Z",
     "iopub.status.busy": "2023-08-22T09:24:40.125956Z",
     "iopub.status.idle": "2023-08-22T09:24:41.448070Z",
     "shell.execute_reply": "2023-08-22T09:24:41.448070Z"
    }
   },
   "outputs": [],
   "source": [
    "import numpy as np\n",
    "import matplotlib.pyplot as plt\n",
    "from scifit.interfaces import generic\n",
    "from scifit.solvers import linear, scientific, specials"
   ]
  },
  {
   "cell_type": "markdown",
   "metadata": {},
   "source": [
    " - Le R2 est utile mais ne dis rien sur la distribution\n",
    " - Le chi2 est suffisament sensible pour rejeter un modèle qui a un bon r2\n",
    " - Les surface loss doivent s'interpréter avec discernement, les échelles sont importantes\n",
    " "
   ]
  },
  {
   "cell_type": "code",
   "execution_count": 2,
   "metadata": {
    "execution": {
     "iopub.execute_input": "2023-08-22T09:24:41.448070Z",
     "iopub.status.busy": "2023-08-22T09:24:41.448070Z",
     "iopub.status.idle": "2023-08-22T09:24:41.463729Z",
     "shell.execute_reply": "2023-08-22T09:24:41.463729Z"
    }
   },
   "outputs": [],
   "source": [
    "class P2(generic.FitSolverInterface):\n",
    "    @staticmethod\n",
    "    def model(x, a, b):\n",
    "        return a * np.power(x[:, 0], 2) + b\n",
    "    \n",
    "class P3(generic.FitSolverInterface):\n",
    "    @staticmethod\n",
    "    def model(x, a, b):\n",
    "        return a * np.power(x[:, 0], 3) + b\n",
    "\n",
    "class P3b(generic.FitSolverInterface):\n",
    "    @staticmethod\n",
    "    def model(x, a, b, c):\n",
    "        return a * np.power(x[:, 0], 3) + b * np.power(x[:, 0], 2) + c\n",
    "\n",
    "class P4(generic.FitSolverInterface):\n",
    "    @staticmethod\n",
    "    def model(x, a, b):\n",
    "        return a * np.power(x[:, 0], 4) + b\n",
    "    \n",
    "class Pn(generic.FitSolverInterface):\n",
    "    @staticmethod\n",
    "    def model(x, n, a, b):\n",
    "        return a * np.power(x[:, 0], n) + b\n",
    "\n",
    "class Exp(generic.FitSolverInterface):\n",
    "    @staticmethod\n",
    "    def model(x, a, b, c):\n",
    "        return a * np.exp(b * x[:, 0]) + c"
   ]
  },
  {
   "cell_type": "code",
   "execution_count": 3,
   "metadata": {
    "execution": {
     "iopub.execute_input": "2023-08-22T09:24:41.463729Z",
     "iopub.status.busy": "2023-08-22T09:24:41.463729Z",
     "iopub.status.idle": "2023-08-22T09:24:41.479354Z",
     "shell.execute_reply": "2023-08-22T09:24:41.479354Z"
    }
   },
   "outputs": [],
   "source": [
    "models = [\n",
    "    P2(), P3(), P3b(), P4(), Pn(), Exp()\n",
    "]"
   ]
  },
  {
   "cell_type": "code",
   "execution_count": 4,
   "metadata": {
    "execution": {
     "iopub.execute_input": "2023-08-22T09:24:41.479354Z",
     "iopub.status.busy": "2023-08-22T09:24:41.479354Z",
     "iopub.status.idle": "2023-08-22T09:24:41.494969Z",
     "shell.execute_reply": "2023-08-22T09:24:41.494969Z"
    }
   },
   "outputs": [],
   "source": [
    "labels = {\n",
    "    \"P2\": r\"$y_0 = a x^2_1 + b$\",\n",
    "    \"P3\": r\"$y_1 = a x^3_1 + b$\",\n",
    "    \"P3b\": r\"$y_2 = a x^3_1 + bx^2_1 + c$\",\n",
    "    \"P4\": r\"$y_3 = a x^4_1 + b$\",\n",
    "    \"Pn\": r\"$y_4 = a x^n_1 + b$\",\n",
    "    \"Exp\": r\"$y_5 = a e^{b x_1} + c$\",\n",
    "}"
   ]
  },
  {
   "cell_type": "code",
   "execution_count": 5,
   "metadata": {
    "execution": {
     "iopub.execute_input": "2023-08-22T09:24:41.494969Z",
     "iopub.status.busy": "2023-08-22T09:24:41.494969Z",
     "iopub.status.idle": "2023-08-22T09:24:41.510605Z",
     "shell.execute_reply": "2023-08-22T09:24:41.510605Z"
    }
   },
   "outputs": [],
   "source": [
    "data = models[0].synthetic_dataset(sigma=0.015, xmin=0.5, xmax=5., resolution=30, parameters=[2.0, 1.0], scale_mode=\"auto\")"
   ]
  },
  {
   "cell_type": "code",
   "execution_count": 6,
   "metadata": {
    "execution": {
     "iopub.execute_input": "2023-08-22T09:24:41.510605Z",
     "iopub.status.busy": "2023-08-22T09:24:41.510605Z",
     "iopub.status.idle": "2023-08-22T09:24:42.012568Z",
     "shell.execute_reply": "2023-08-22T09:24:42.012568Z"
    }
   },
   "outputs": [
    {
     "ename": "InputDataError",
     "evalue": "Features must be a two dimensional array",
     "output_type": "error",
     "traceback": [
      "\u001b[1;31m---------------------------------------------------------------------------\u001b[0m",
      "\u001b[1;31mInputDataError\u001b[0m                            Traceback (most recent call last)",
      "Cell \u001b[1;32mIn[6], line 8\u001b[0m\n\u001b[0;32m      5\u001b[0m file \u001b[38;5;241m=\u001b[39m \u001b[38;5;124m\"\u001b[39m\u001b[38;5;124mInnerFunctionSet_y\u001b[39m\u001b[38;5;132;01m{}\u001b[39;00m\u001b[38;5;124m\"\u001b[39m\u001b[38;5;241m.\u001b[39mformat(i)\n\u001b[0;32m      7\u001b[0m _ \u001b[38;5;241m=\u001b[39m model\u001b[38;5;241m.\u001b[39mload(data)\n\u001b[1;32m----> 8\u001b[0m sol \u001b[38;5;241m=\u001b[39m \u001b[43mmodel\u001b[49m\u001b[38;5;241;43m.\u001b[39;49m\u001b[43mfit\u001b[49m\u001b[43m(\u001b[49m\u001b[43m)\u001b[49m\n\u001b[0;32m     10\u001b[0m axe \u001b[38;5;241m=\u001b[39m model\u001b[38;5;241m.\u001b[39mplot_fit(title\u001b[38;5;241m=\u001b[39mtitle)\n\u001b[0;32m     11\u001b[0m axe\u001b[38;5;241m.\u001b[39mfigure\u001b[38;5;241m.\u001b[39msavefig(\u001b[38;5;124m\"\u001b[39m\u001b[38;5;124mfigures/IntroPolynomial/\u001b[39m\u001b[38;5;132;01m{}\u001b[39;00m\u001b[38;5;124m_fit.pdf\u001b[39m\u001b[38;5;124m\"\u001b[39m\u001b[38;5;241m.\u001b[39mformat(file))\n",
      "File \u001b[1;32m~\\AppData\\Roaming\\Python\\Python310\\site-packages\\scifit\\interfaces\\generic.py:809\u001b[0m, in \u001b[0;36mFitSolverInterface.fit\u001b[1;34m(self, xdata, ydata, sigma, **kwargs)\u001b[0m\n\u001b[0;32m    795\u001b[0m \u001b[38;5;250m\u001b[39m\u001b[38;5;124;03m\"\"\"\u001b[39;00m\n\u001b[0;32m    796\u001b[0m \u001b[38;5;124;03mFully solve the fitting problem for the given model and input data.\u001b[39;00m\n\u001b[0;32m    797\u001b[0m \u001b[38;5;124;03mThis method stores input data and fit results. It assesses loss function over parameter neighborhoods,\u001b[39;00m\n\u001b[1;32m   (...)\u001b[0m\n\u001b[0;32m    805\u001b[0m \n\u001b[0;32m    806\u001b[0m \u001b[38;5;124;03m\"\"\"\u001b[39;00m\n\u001b[0;32m    808\u001b[0m \u001b[38;5;28;01mif\u001b[39;00m \u001b[38;5;129;01mnot\u001b[39;00m \u001b[38;5;28mself\u001b[39m\u001b[38;5;241m.\u001b[39mstored(error\u001b[38;5;241m=\u001b[39m\u001b[38;5;28;01mFalse\u001b[39;00m):\n\u001b[1;32m--> 809\u001b[0m     \u001b[38;5;28;43mself\u001b[39;49m\u001b[38;5;241;43m.\u001b[39;49m\u001b[43mstore\u001b[49m\u001b[43m(\u001b[49m\u001b[43mxdata\u001b[49m\u001b[43m,\u001b[49m\u001b[43m \u001b[49m\u001b[43mydata\u001b[49m\u001b[43m,\u001b[49m\u001b[43m \u001b[49m\u001b[43msigma\u001b[49m\u001b[38;5;241;43m=\u001b[39;49m\u001b[43msigma\u001b[49m\u001b[43m)\u001b[49m\n\u001b[0;32m    811\u001b[0m \u001b[38;5;28mself\u001b[39m\u001b[38;5;241m.\u001b[39m_solution \u001b[38;5;241m=\u001b[39m \u001b[38;5;28mself\u001b[39m\u001b[38;5;241m.\u001b[39msolve(\n\u001b[0;32m    812\u001b[0m     \u001b[38;5;28mself\u001b[39m\u001b[38;5;241m.\u001b[39m_xdata, \u001b[38;5;28mself\u001b[39m\u001b[38;5;241m.\u001b[39m_ydata, sigma\u001b[38;5;241m=\u001b[39m\u001b[38;5;28mself\u001b[39m\u001b[38;5;241m.\u001b[39m_sigma, \u001b[38;5;241m*\u001b[39m\u001b[38;5;241m*\u001b[39mkwargs\n\u001b[0;32m    813\u001b[0m )\n\u001b[0;32m    815\u001b[0m \u001b[38;5;66;03m# Check and regression pathway:\u001b[39;00m\n",
      "File \u001b[1;32m~\\AppData\\Roaming\\Python\\Python310\\site-packages\\scifit\\interfaces\\generic.py:114\u001b[0m, in \u001b[0;36mFitSolverInterface.store\u001b[1;34m(self, xdata, ydata, sigma, data)\u001b[0m\n\u001b[0;32m    111\u001b[0m ydata \u001b[38;5;241m=\u001b[39m np\u001b[38;5;241m.\u001b[39marray(ydata)\n\u001b[0;32m    113\u001b[0m \u001b[38;5;28;01mif\u001b[39;00m xdata\u001b[38;5;241m.\u001b[39mndim \u001b[38;5;241m!=\u001b[39m \u001b[38;5;241m2\u001b[39m:\n\u001b[1;32m--> 114\u001b[0m     \u001b[38;5;28;01mraise\u001b[39;00m InputDataError(\u001b[38;5;124m\"\u001b[39m\u001b[38;5;124mFeatures must be a two dimensional array\u001b[39m\u001b[38;5;124m\"\u001b[39m)\n\u001b[0;32m    116\u001b[0m \u001b[38;5;28;01mif\u001b[39;00m xdata\u001b[38;5;241m.\u001b[39mshape[\u001b[38;5;241m0\u001b[39m] \u001b[38;5;241m!=\u001b[39m ydata\u001b[38;5;241m.\u001b[39mshape[\u001b[38;5;241m0\u001b[39m]:\n\u001b[0;32m    117\u001b[0m     \u001b[38;5;28;01mraise\u001b[39;00m InputDataError(\n\u001b[0;32m    118\u001b[0m         \u001b[38;5;124m\"\u001b[39m\u001b[38;5;124mIncompatible shapes between x \u001b[39m\u001b[38;5;132;01m%s\u001b[39;00m\u001b[38;5;124m and y \u001b[39m\u001b[38;5;132;01m%s\u001b[39;00m\u001b[38;5;124m\"\u001b[39m \u001b[38;5;241m%\u001b[39m (xdata\u001b[38;5;241m.\u001b[39mshape, ydata\u001b[38;5;241m.\u001b[39mshape)\n\u001b[0;32m    119\u001b[0m     )\n",
      "\u001b[1;31mInputDataError\u001b[0m: Features must be a two dimensional array"
     ]
    }
   ],
   "source": [
    "for i, model in enumerate(models):\n",
    "    \n",
    "    name = model.__class__.__name__\n",
    "    title = labels[name]\n",
    "    file = \"InnerFunctionSet_y{}\".format(i)\n",
    "    \n",
    "    _ = model.load(data)\n",
    "    sol = model.fit()\n",
    "    \n",
    "    axe = model.plot_fit(title=title)\n",
    "    axe.figure.savefig(\"figures/IntroPolynomial/{}_fit.pdf\".format(file))\n",
    "    \n",
    "    axe = model.plot_chi_square(title=title)\n",
    "    axe.figure.savefig(\"figures/IntroPolynomial/{}_chi2.pdf\".format(file))\n",
    "    \n",
    "    axe = model.plot_loss(title=title)\n",
    "    axe.figure.savefig(\"figures/IntroPolynomial/{}_loss.pdf\".format(file))"
   ]
  },
  {
   "cell_type": "code",
   "execution_count": null,
   "metadata": {},
   "outputs": [],
   "source": [
    " "
   ]
  },
  {
   "cell_type": "code",
   "execution_count": 7,
   "metadata": {
    "execution": {
     "iopub.execute_input": "2023-08-22T09:24:42.012568Z",
     "iopub.status.busy": "2023-08-22T09:24:42.012568Z",
     "iopub.status.idle": "2023-08-22T09:24:42.624710Z",
     "shell.execute_reply": "2023-08-22T09:24:42.624710Z"
    }
   },
   "outputs": [
    {
     "ename": "ValueError",
     "evalue": "x, y, and format string must not be None",
     "output_type": "error",
     "traceback": [
      "\u001b[1;31m---------------------------------------------------------------------------\u001b[0m",
      "\u001b[1;31mValueError\u001b[0m                                Traceback (most recent call last)",
      "Cell \u001b[1;32mIn[7], line 7\u001b[0m\n\u001b[0;32m      5\u001b[0m     name \u001b[38;5;241m=\u001b[39m model\u001b[38;5;241m.\u001b[39m\u001b[38;5;18m__class__\u001b[39m\u001b[38;5;241m.\u001b[39m\u001b[38;5;18m__name__\u001b[39m\n\u001b[0;32m      6\u001b[0m     label \u001b[38;5;241m=\u001b[39m labels[name]\n\u001b[1;32m----> 7\u001b[0m     \u001b[43maxe\u001b[49m\u001b[38;5;241;43m.\u001b[39;49m\u001b[43mplot\u001b[49m\u001b[43m(\u001b[49m\u001b[43mxlin\u001b[49m\u001b[43m,\u001b[49m\u001b[43m \u001b[49m\u001b[43mmodel\u001b[49m\u001b[38;5;241;43m.\u001b[39;49m\u001b[43mpredict\u001b[49m\u001b[43m(\u001b[49m\u001b[43mxlin\u001b[49m\u001b[43m)\u001b[49m\u001b[43m,\u001b[49m\u001b[43m \u001b[49m\u001b[43mlinewidth\u001b[49m\u001b[38;5;241;43m=\u001b[39;49m\u001b[38;5;241;43m2.5\u001b[39;49m\u001b[43m \u001b[49m\u001b[38;5;28;43;01mif\u001b[39;49;00m\u001b[43m \u001b[49m\u001b[43mi\u001b[49m\u001b[43m \u001b[49m\u001b[38;5;241;43m==\u001b[39;49m\u001b[43m \u001b[49m\u001b[38;5;241;43m0\u001b[39;49m\u001b[43m \u001b[49m\u001b[38;5;28;43;01melse\u001b[39;49;00m\u001b[43m \u001b[49m\u001b[38;5;241;43m1\u001b[39;49m\u001b[43m,\u001b[49m\u001b[43m \u001b[49m\u001b[43mlabel\u001b[49m\u001b[38;5;241;43m=\u001b[39;49m\u001b[43mlabel\u001b[49m\u001b[43m)\u001b[49m\n\u001b[0;32m      8\u001b[0m axe\u001b[38;5;241m.\u001b[39mset_title(\u001b[38;5;124m\"\u001b[39m\u001b[38;5;124mFit comparison\u001b[39m\u001b[38;5;124m\"\u001b[39m)\n\u001b[0;32m      9\u001b[0m axe\u001b[38;5;241m.\u001b[39mset_xlabel(\u001b[38;5;124mr\u001b[39m\u001b[38;5;124m\"\u001b[39m\u001b[38;5;124mFeature, $x_1$\u001b[39m\u001b[38;5;124m\"\u001b[39m)\n",
      "File \u001b[1;32mC:\\ProgramData\\Anaconda3\\envs\\scifit\\lib\\site-packages\\matplotlib\\axes\\_axes.py:1688\u001b[0m, in \u001b[0;36mAxes.plot\u001b[1;34m(self, scalex, scaley, data, *args, **kwargs)\u001b[0m\n\u001b[0;32m   1445\u001b[0m \u001b[38;5;250m\u001b[39m\u001b[38;5;124;03m\"\"\"\u001b[39;00m\n\u001b[0;32m   1446\u001b[0m \u001b[38;5;124;03mPlot y versus x as lines and/or markers.\u001b[39;00m\n\u001b[0;32m   1447\u001b[0m \n\u001b[1;32m   (...)\u001b[0m\n\u001b[0;32m   1685\u001b[0m \u001b[38;5;124;03m(``'green'``) or hex strings (``'#008000'``).\u001b[39;00m\n\u001b[0;32m   1686\u001b[0m \u001b[38;5;124;03m\"\"\"\u001b[39;00m\n\u001b[0;32m   1687\u001b[0m kwargs \u001b[38;5;241m=\u001b[39m cbook\u001b[38;5;241m.\u001b[39mnormalize_kwargs(kwargs, mlines\u001b[38;5;241m.\u001b[39mLine2D)\n\u001b[1;32m-> 1688\u001b[0m lines \u001b[38;5;241m=\u001b[39m [\u001b[38;5;241m*\u001b[39m\u001b[38;5;28mself\u001b[39m\u001b[38;5;241m.\u001b[39m_get_lines(\u001b[38;5;241m*\u001b[39margs, data\u001b[38;5;241m=\u001b[39mdata, \u001b[38;5;241m*\u001b[39m\u001b[38;5;241m*\u001b[39mkwargs)]\n\u001b[0;32m   1689\u001b[0m \u001b[38;5;28;01mfor\u001b[39;00m line \u001b[38;5;129;01min\u001b[39;00m lines:\n\u001b[0;32m   1690\u001b[0m     \u001b[38;5;28mself\u001b[39m\u001b[38;5;241m.\u001b[39madd_line(line)\n",
      "File \u001b[1;32mC:\\ProgramData\\Anaconda3\\envs\\scifit\\lib\\site-packages\\matplotlib\\axes\\_base.py:311\u001b[0m, in \u001b[0;36m_process_plot_var_args.__call__\u001b[1;34m(self, data, *args, **kwargs)\u001b[0m\n\u001b[0;32m    309\u001b[0m     this \u001b[38;5;241m+\u001b[39m\u001b[38;5;241m=\u001b[39m args[\u001b[38;5;241m0\u001b[39m],\n\u001b[0;32m    310\u001b[0m     args \u001b[38;5;241m=\u001b[39m args[\u001b[38;5;241m1\u001b[39m:]\n\u001b[1;32m--> 311\u001b[0m \u001b[38;5;28;01myield from\u001b[39;00m \u001b[38;5;28;43mself\u001b[39;49m\u001b[38;5;241;43m.\u001b[39;49m\u001b[43m_plot_args\u001b[49m\u001b[43m(\u001b[49m\n\u001b[0;32m    312\u001b[0m \u001b[43m    \u001b[49m\u001b[43mthis\u001b[49m\u001b[43m,\u001b[49m\u001b[43m \u001b[49m\u001b[43mkwargs\u001b[49m\u001b[43m,\u001b[49m\u001b[43m \u001b[49m\u001b[43mambiguous_fmt_datakey\u001b[49m\u001b[38;5;241;43m=\u001b[39;49m\u001b[43mambiguous_fmt_datakey\u001b[49m\u001b[43m)\u001b[49m\n",
      "File \u001b[1;32mC:\\ProgramData\\Anaconda3\\envs\\scifit\\lib\\site-packages\\matplotlib\\axes\\_base.py:465\u001b[0m, in \u001b[0;36m_process_plot_var_args._plot_args\u001b[1;34m(self, tup, kwargs, return_kwargs, ambiguous_fmt_datakey)\u001b[0m\n\u001b[0;32m    462\u001b[0m \u001b[38;5;66;03m# Don't allow any None value; these would be up-converted to one\u001b[39;00m\n\u001b[0;32m    463\u001b[0m \u001b[38;5;66;03m# element array of None which causes problems downstream.\u001b[39;00m\n\u001b[0;32m    464\u001b[0m \u001b[38;5;28;01mif\u001b[39;00m \u001b[38;5;28many\u001b[39m(v \u001b[38;5;129;01mis\u001b[39;00m \u001b[38;5;28;01mNone\u001b[39;00m \u001b[38;5;28;01mfor\u001b[39;00m v \u001b[38;5;129;01min\u001b[39;00m tup):\n\u001b[1;32m--> 465\u001b[0m     \u001b[38;5;28;01mraise\u001b[39;00m \u001b[38;5;167;01mValueError\u001b[39;00m(\u001b[38;5;124m\"\u001b[39m\u001b[38;5;124mx, y, and format string must not be None\u001b[39m\u001b[38;5;124m\"\u001b[39m)\n\u001b[0;32m    467\u001b[0m kw \u001b[38;5;241m=\u001b[39m {}\n\u001b[0;32m    468\u001b[0m \u001b[38;5;28;01mfor\u001b[39;00m prop_name, val \u001b[38;5;129;01min\u001b[39;00m \u001b[38;5;28mzip\u001b[39m((\u001b[38;5;124m'\u001b[39m\u001b[38;5;124mlinestyle\u001b[39m\u001b[38;5;124m'\u001b[39m, \u001b[38;5;124m'\u001b[39m\u001b[38;5;124mmarker\u001b[39m\u001b[38;5;124m'\u001b[39m, \u001b[38;5;124m'\u001b[39m\u001b[38;5;124mcolor\u001b[39m\u001b[38;5;124m'\u001b[39m),\n\u001b[0;32m    469\u001b[0m                           (linestyle, marker, color)):\n",
      "\u001b[1;31mValueError\u001b[0m: x, y, and format string must not be None"
     ]
    },
    {
     "data": {
      "image/png": "[encoded data removed]",
      "text/plain": [
       "<Figure size 640x480 with 1 Axes>"
      ]
     },
     "metadata": {},
     "output_type": "display_data"
    }
   ],
   "source": [
    "fig, axe = plt.subplots()\n",
    "xlin = np.linspace(0., 5.5, 200).reshape(-1, 1)\n",
    "axe.scatter(data[\"x0\"], data[\"y\"], label=\"Dataset\")\n",
    "for i, model in enumerate(models):\n",
    "    name = model.__class__.__name__\n",
    "    label = labels[name]\n",
    "    axe.plot(xlin, model.predict(xlin), linewidth=2.5 if i == 0 else 1, label=label)\n",
    "axe.set_title(\"Fit comparison\")\n",
    "axe.set_xlabel(r\"Feature, $x_1$\")\n",
    "axe.set_ylabel(r\"Target, $y$\")\n",
    "axe.legend()\n",
    "axe.grid()"
   ]
  },
  {
   "cell_type": "code",
   "execution_count": 8,
   "metadata": {
    "execution": {
     "iopub.execute_input": "2023-08-22T09:24:42.624710Z",
     "iopub.status.busy": "2023-08-22T09:24:42.624710Z",
     "iopub.status.idle": "2023-08-22T09:24:42.844480Z",
     "shell.execute_reply": "2023-08-22T09:24:42.844480Z"
    }
   },
   "outputs": [],
   "source": [
    "axe.figure.savefig(\"figures/IntroPolynomial/InnerFunctionSet_yall.pdf\")"
   ]
  },
  {
   "cell_type": "code",
   "execution_count": null,
   "metadata": {},
   "outputs": [],
   "source": []
  },
  {
   "cell_type": "code",
   "execution_count": null,
   "metadata": {},
   "outputs": [],
   "source": []
  }
 ],
 "metadata": {
  "kernelspec": {
   "display_name": "Python 3 (ipykernel)",
   "language": "python",
   "name": "python3"
  },
  "language_info": {
   "codemirror_mode": {
    "name": "ipython",
    "version": 3
   },
   "file_extension": ".py",
   "mimetype": "text/x-python",
   "name": "python",
   "nbconvert_exporter": "python",
   "pygments_lexer": "ipython3",
   "version": "3.10.12"
  }
 },
 "nbformat": 4,
 "nbformat_minor": 4
}
