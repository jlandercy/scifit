{
 "cells": [
  {
   "cell_type": "code",
   "execution_count": 1,
   "id": "108ba851",
   "metadata": {
    "ExecuteTime": {
     "end_time": "2023-11-06T19:42:55.133841Z",
     "start_time": "2023-11-06T19:42:52.595067Z"
    }
   },
   "outputs": [],
   "source": [
    "import numpy as np\n",
    "import pandas as pd\n",
    "import matplotlib.pyplot as plt\n",
    "\n",
    "from scipy import optimize, signal, integrate\n",
    "from sklearn import metrics\n",
    "from sklearn.linear_model import LinearRegression"
   ]
  },
  {
   "cell_type": "code",
   "execution_count": 2,
   "id": "f74776ea",
   "metadata": {
    "ExecuteTime": {
     "end_time": "2023-11-06T19:42:55.146101Z",
     "start_time": "2023-11-06T19:42:55.141818Z"
    }
   },
   "outputs": [],
   "source": [
    "R = 8.31446261815324  # J/mol.K\n",
    "T0 = 292.05           # K\n",
    "p0 = 101600           # Pa\n",
    "V = 190e-3            # L of isopropanol\n",
    "m = 2.7677            # g of Raney Nickel\n",
    "rho = 785             # kg/m³ or g/L\n",
    "M = 60.1              # g/mol\n",
    "n0 = rho*V/M          # mol"
   ]
  },
  {
   "cell_type": "code",
   "execution_count": 3,
   "id": "26d20c95",
   "metadata": {
    "ExecuteTime": {
     "end_time": "2023-11-06T19:42:55.160022Z",
     "start_time": "2023-11-06T19:42:55.148435Z"
    }
   },
   "outputs": [
    {
     "data": {
      "text/plain": [
       "2.4816971713810316"
      ]
     },
     "execution_count": 3,
     "metadata": {},
     "output_type": "execute_result"
    }
   ],
   "source": [
    "n0"
   ]
  },
  {
   "cell_type": "code",
   "execution_count": 4,
   "id": "455e826b",
   "metadata": {
    "ExecuteTime": {
     "end_time": "2023-11-06T19:42:55.165853Z",
     "start_time": "2023-11-06T19:42:55.162851Z"
    }
   },
   "outputs": [],
   "source": [
    "k = 8.765e-6\n",
    "b = 8.901e5\n",
    "a = 1.234e4"
   ]
  },
  {
   "cell_type": "code",
   "execution_count": 5,
   "id": "4612cdcb",
   "metadata": {},
   "outputs": [],
   "source": [
    "def model(x, k, a, b, n0=n0):\n",
    "    return k*(a*(n0 - x))/(1 + a*(n0 - x) + b*x)"
   ]
  },
  {
   "cell_type": "code",
   "execution_count": null,
   "id": "7cbe0c6f",
   "metadata": {
    "ExecuteTime": {
     "end_time": "2023-11-06T13:30:48.131666Z",
     "start_time": "2023-11-06T13:30:48.125818Z"
    }
   },
   "outputs": [],
   "source": []
  },
  {
   "cell_type": "code",
   "execution_count": 6,
   "id": "a11dfac6",
   "metadata": {
    "ExecuteTime": {
     "end_time": "2023-11-06T19:42:55.172973Z",
     "start_time": "2023-11-06T19:42:55.169569Z"
    }
   },
   "outputs": [],
   "source": [
    "def ode(t, x, k, a, b, n0):\n",
    "    return np.array([\n",
    "        model(x, k, a, b, n0)\n",
    "    ])"
   ]
  },
  {
   "cell_type": "code",
   "execution_count": null,
   "id": "d7f6daca",
   "metadata": {},
   "outputs": [],
   "source": []
  },
  {
   "cell_type": "code",
   "execution_count": 7,
   "id": "a90acfab",
   "metadata": {
    "ExecuteTime": {
     "end_time": "2023-11-06T19:42:55.179000Z",
     "start_time": "2023-11-06T19:42:55.175712Z"
    }
   },
   "outputs": [],
   "source": [
    "t = np.linspace(0, 10000, 1001)"
   ]
  },
  {
   "cell_type": "code",
   "execution_count": 8,
   "id": "3d9aa9fe",
   "metadata": {
    "ExecuteTime": {
     "end_time": "2023-11-06T19:42:55.189677Z",
     "start_time": "2023-11-06T19:42:55.181417Z"
    }
   },
   "outputs": [],
   "source": [
    "sol = integrate.solve_ivp(ode, [t.min(), t.max()], y0=[0], args=(k, a, b, n0), t_eval=t)"
   ]
  },
  {
   "cell_type": "code",
   "execution_count": 9,
   "id": "8daca1e9",
   "metadata": {
    "ExecuteTime": {
     "end_time": "2023-11-06T19:42:55.197527Z",
     "start_time": "2023-11-06T19:42:55.192018Z"
    }
   },
   "outputs": [
    {
     "data": {
      "text/plain": [
       "  message: The solver successfully reached the end of the integration interval.\n",
       "  success: True\n",
       "   status: 0\n",
       "        t: [ 0.000e+00  1.000e+01 ...  9.990e+03  1.000e+04]\n",
       "        y: [[ 0.000e+00  8.754e-05 ...  5.029e-02  5.033e-02]]\n",
       "      sol: None\n",
       " t_events: None\n",
       " y_events: None\n",
       "     nfev: 62\n",
       "     njev: 0\n",
       "      nlu: 0"
      ]
     },
     "execution_count": 9,
     "metadata": {},
     "output_type": "execute_result"
    }
   ],
   "source": [
    "sol"
   ]
  },
  {
   "cell_type": "code",
   "execution_count": 10,
   "id": "8dca971c",
   "metadata": {
    "ExecuteTime": {
     "end_time": "2023-11-06T19:42:55.202940Z",
     "start_time": "2023-11-06T19:42:55.199921Z"
    }
   },
   "outputs": [],
   "source": [
    "xi = sol.y[0,:]"
   ]
  },
  {
   "cell_type": "code",
   "execution_count": 11,
   "id": "6caf1f69",
   "metadata": {
    "ExecuteTime": {
     "end_time": "2023-11-06T19:42:55.208284Z",
     "start_time": "2023-11-06T19:42:55.205206Z"
    }
   },
   "outputs": [],
   "source": [
    "r = ode(t, xi, k, a, b, n0).squeeze()"
   ]
  },
  {
   "cell_type": "code",
   "execution_count": 12,
   "id": "9c16b25e",
   "metadata": {
    "ExecuteTime": {
     "end_time": "2023-11-06T19:43:51.124889Z",
     "start_time": "2023-11-06T19:43:51.111010Z"
    }
   },
   "outputs": [],
   "source": [
    "A = (n0 - xi)/V\n",
    "B = xi/V"
   ]
  },
  {
   "cell_type": "code",
   "execution_count": 13,
   "id": "1557277d",
   "metadata": {
    "ExecuteTime": {
     "end_time": "2023-11-06T19:44:00.241479Z",
     "start_time": "2023-11-06T19:44:00.235980Z"
    }
   },
   "outputs": [],
   "source": [
    "data = pd.DataFrame({\"t\": t, \"xi\": xi, \"r\": r, \"A\": A, \"B\": B})"
   ]
  },
  {
   "cell_type": "code",
   "execution_count": 14,
   "id": "70eeac82",
   "metadata": {
    "ExecuteTime": {
     "end_time": "2023-11-06T19:42:55.517431Z",
     "start_time": "2023-11-06T19:42:55.226817Z"
    }
   },
   "outputs": [
    {
     "data": {
      "image/png": "[encoded data removed]",
      "text/plain": [
       "<Figure size 432x288 with 1 Axes>"
      ]
     },
     "metadata": {
      "needs_background": "light"
     },
     "output_type": "display_data"
    }
   ],
   "source": [
    "axe = data.plot(x=\"t\", y=\"xi\")\n",
    "axe.grid()"
   ]
  },
  {
   "cell_type": "code",
   "execution_count": 15,
   "id": "b9afff59",
   "metadata": {
    "ExecuteTime": {
     "end_time": "2023-11-06T19:42:55.769866Z",
     "start_time": "2023-11-06T19:42:55.523876Z"
    }
   },
   "outputs": [
    {
     "data": {
      "image/png": "[encoded data removed]",
      "text/plain": [
       "<Figure size 432x288 with 1 Axes>"
      ]
     },
     "metadata": {
      "needs_background": "light"
     },
     "output_type": "display_data"
    }
   ],
   "source": [
    "axe = data.plot(x=\"t\", y=\"r\")\n",
    "axe.grid()"
   ]
  },
  {
   "cell_type": "code",
   "execution_count": 16,
   "id": "3ba245c0",
   "metadata": {
    "ExecuteTime": {
     "end_time": "2023-11-06T19:44:18.808788Z",
     "start_time": "2023-11-06T19:44:18.505651Z"
    }
   },
   "outputs": [
    {
     "data": {
      "image/png": "[encoded data removed]",
      "text/plain": [
       "<Figure size 432x288 with 1 Axes>"
      ]
     },
     "metadata": {
      "needs_background": "light"
     },
     "output_type": "display_data"
    }
   ],
   "source": [
    "axe = data.plot(x=\"A\", y=\"B\")\n",
    "axe.grid()"
   ]
  },
  {
   "cell_type": "code",
   "execution_count": null,
   "id": "5d466fbb",
   "metadata": {},
   "outputs": [],
   "source": []
  },
  {
   "cell_type": "code",
   "execution_count": null,
   "id": "df2a1643",
   "metadata": {
    "ExecuteTime": {
     "end_time": "2023-11-06T19:42:55.781150Z",
     "start_time": "2023-11-06T19:42:55.777153Z"
    }
   },
   "outputs": [],
   "source": []
  },
  {
   "cell_type": "code",
   "execution_count": null,
   "id": "3b1a53c2",
   "metadata": {},
   "outputs": [],
   "source": []
  },
  {
   "cell_type": "code",
   "execution_count": 17,
   "id": "39f0bb93",
   "metadata": {
    "ExecuteTime": {
     "end_time": "2023-11-06T19:42:55.799680Z",
     "start_time": "2023-11-06T19:42:55.783842Z"
    }
   },
   "outputs": [
    {
     "data": {
      "text/plain": [
       "(array([ 7.92731975e-06, -4.21753879e+00, -2.75545260e+02]),\n",
       " array([[ 7.55559983e-32, -3.80538123e-25, -2.74478183e-23],\n",
       "        [-3.80538123e-25,  1.91658196e-18,  1.38241060e-16],\n",
       "        [-2.74478183e-23,  1.38241060e-16,  9.97118360e-15]]))"
      ]
     },
     "execution_count": 17,
     "metadata": {},
     "output_type": "execute_result"
    }
   ],
   "source": [
    "optimize.curve_fit(model, xi, r, p0=[1, 1, 1])"
   ]
  },
  {
   "cell_type": "code",
   "execution_count": null,
   "id": "2d1a2f56",
   "metadata": {},
   "outputs": [],
   "source": []
  },
  {
   "cell_type": "code",
   "execution_count": null,
   "id": "8742c825",
   "metadata": {
    "ExecuteTime": {
     "end_time": "2023-11-06T19:43:11.436360Z",
     "start_time": "2023-11-06T19:43:11.403922Z"
    }
   },
   "outputs": [],
   "source": []
  },
  {
   "cell_type": "code",
   "execution_count": 18,
   "id": "21975894",
   "metadata": {},
   "outputs": [],
   "source": [
    "def model2(C, k, a, b):\n",
    "    return k*(a*C[0])/(1 + a*C[0] + b*C[1])"
   ]
  },
  {
   "cell_type": "code",
   "execution_count": 19,
   "id": "6cab568d",
   "metadata": {},
   "outputs": [],
   "source": [
    "Alin = np.linspace(1e-2, 1.2e4, 100)\n",
    "Blin = np.linspace(1e-2, 2.4e2, 100)"
   ]
  },
  {
   "cell_type": "code",
   "execution_count": 20,
   "id": "97e9f8ee",
   "metadata": {},
   "outputs": [],
   "source": [
    "A, B = np.meshgrid(Alin, Blin)"
   ]
  },
  {
   "cell_type": "code",
   "execution_count": 21,
   "id": "42792528",
   "metadata": {},
   "outputs": [],
   "source": [
    "rAB = model2([A, B], k, a, b)"
   ]
  },
  {
   "cell_type": "code",
   "execution_count": 22,
   "id": "19785fa8",
   "metadata": {},
   "outputs": [
    {
     "data": {
      "image/png": "[encoded data removed]",
      "text/plain": [
       "<Figure size 432x288 with 1 Axes>"
      ]
     },
     "metadata": {
      "needs_background": "light"
     },
     "output_type": "display_data"
    }
   ],
   "source": [
    "fig, axe = plt.subplots()\n",
    "axe.contour(A, B, rAB, 20, cmap=\"jet\")\n",
    "axe.grid()"
   ]
  },
  {
   "cell_type": "code",
   "execution_count": 23,
   "id": "a57c468d",
   "metadata": {},
   "outputs": [],
   "source": [
    "C = np.stack([A.ravel(), B.ravel()])"
   ]
  },
  {
   "cell_type": "code",
   "execution_count": 24,
   "id": "ee179cec",
   "metadata": {},
   "outputs": [
    {
     "data": {
      "text/plain": [
       "(array([8.765e-06, 1.234e+04, 8.901e+05]),\n",
       " array([[ 5.54518939e-46, -1.86916552e-30, -1.34825186e-28],\n",
       "        [-1.86916552e-30,  2.05753802e-13,  1.48412851e-11],\n",
       "        [-1.34825186e-28,  1.48412851e-11,  1.07052088e-09]]))"
      ]
     },
     "execution_count": 24,
     "metadata": {},
     "output_type": "execute_result"
    }
   ],
   "source": [
    "optimize.curve_fit(model2, C, rAB.ravel())"
   ]
  },
  {
   "cell_type": "code",
   "execution_count": null,
   "id": "4450b907",
   "metadata": {},
   "outputs": [],
   "source": []
  },
  {
   "cell_type": "code",
   "execution_count": 25,
   "id": "99d17035",
   "metadata": {},
   "outputs": [
    {
     "data": {
      "text/plain": [
       "(array([8.86479322e-06, 6.70498393e+00, 4.89069172e+02]),\n",
       " array([[ 2.07770349e-33, -1.39199142e-25, -1.00402891e-23],\n",
       "        [-1.39199142e-25,  9.32587407e-18,  6.72665581e-16],\n",
       "        [-1.00402891e-23,  6.72665581e-16,  4.85186676e-14]]))"
      ]
     },
     "execution_count": 25,
     "metadata": {},
     "output_type": "execute_result"
    }
   ],
   "source": [
    "popt, pcov = optimize.curve_fit(model2, data[[\"A\", \"B\"]].values.T, data[\"r\"].values)\n",
    "popt, pcov"
   ]
  },
  {
   "cell_type": "code",
   "execution_count": 26,
   "id": "84f21b04",
   "metadata": {},
   "outputs": [
    {
     "data": {
      "text/plain": [
       "72.94114004306607"
      ]
     },
     "execution_count": 26,
     "metadata": {},
     "output_type": "execute_result"
    }
   ],
   "source": [
    "popt[2]/popt[1]"
   ]
  },
  {
   "cell_type": "code",
   "execution_count": null,
   "id": "59b8dd26",
   "metadata": {},
   "outputs": [],
   "source": []
  }
 ],
 "metadata": {
  "hide_input": false,
  "kernelspec": {
   "display_name": "Python 3 (ipykernel)",
   "language": "python",
   "name": "python3"
  },
  "language_info": {
   "codemirror_mode": {
    "name": "ipython",
    "version": 3
   },
   "file_extension": ".py",
   "mimetype": "text/x-python",
   "name": "python",
   "nbconvert_exporter": "python",
   "pygments_lexer": "ipython3",
   "version": "3.9.7"
  },
  "toc": {
   "base_numbering": 1,
   "nav_menu": {},
   "number_sections": true,
   "sideBar": true,
   "skip_h1_title": false,
   "title_cell": "Table of Contents",
   "title_sidebar": "Contents",
   "toc_cell": false,
   "toc_position": {},
   "toc_section_display": true,
   "toc_window_display": false
  },
  "varInspector": {
   "cols": {
    "lenName": 16,
    "lenType": 16,
    "lenVar": 40
   },
   "kernels_config": {
    "python": {
     "delete_cmd_postfix": "",
     "delete_cmd_prefix": "del ",
     "library": "var_list.py",
     "varRefreshCmd": "print(var_dic_list())"
    },
    "r": {
     "delete_cmd_postfix": ") ",
     "delete_cmd_prefix": "rm(",
     "library": "var_list.r",
     "varRefreshCmd": "cat(var_dic_list()) "
    }
   },
   "types_to_exclude": [
    "module",
    "function",
    "builtin_function_or_method",
    "instance",
    "_Feature"
   ],
   "window_display": false
  }
 },
 "nbformat": 4,
 "nbformat_minor": 5
}
