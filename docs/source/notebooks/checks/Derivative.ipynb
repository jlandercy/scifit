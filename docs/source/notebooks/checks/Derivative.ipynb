{
 "cells": [
  {
   "cell_type": "code",
   "execution_count": 35,
   "id": "93f91277",
   "metadata": {},
   "outputs": [],
   "source": [
    "import numpy as np\n",
    "import numdifftools as nd\n",
    "import matplotlib.pyplot as plt\n",
    "from scipy import integrate\n",
    "import numbers"
   ]
  },
  {
   "cell_type": "code",
   "execution_count": 5,
   "id": "2b79efc0",
   "metadata": {},
   "outputs": [],
   "source": [
    "def model(x):\n",
    "    return x * np.exp(-x)"
   ]
  },
  {
   "cell_type": "code",
   "execution_count": 9,
   "id": "43bc90ac",
   "metadata": {},
   "outputs": [],
   "source": [
    "x = np.linspace(0, 10, 100)"
   ]
  },
  {
   "cell_type": "code",
   "execution_count": 10,
   "id": "25c8df6d",
   "metadata": {},
   "outputs": [],
   "source": [
    "y = model(x)"
   ]
  },
  {
   "cell_type": "code",
   "execution_count": 18,
   "id": "55314355",
   "metadata": {},
   "outputs": [],
   "source": [
    "dy = nd.Derivative(model)\n",
    "d2y = nd.Derivative(model, n=2)"
   ]
  },
  {
   "cell_type": "code",
   "execution_count": null,
   "id": "dbb23b11",
   "metadata": {},
   "outputs": [],
   "source": []
  },
  {
   "cell_type": "code",
   "execution_count": 20,
   "id": "ec18ef0f",
   "metadata": {},
   "outputs": [
    {
     "data": {
      "image/png": "[encoded data removed]",
      "text/plain": [
       "<Figure size 432x288 with 1 Axes>"
      ]
     },
     "metadata": {
      "needs_background": "light"
     },
     "output_type": "display_data"
    }
   ],
   "source": [
    "fig, axe = plt.subplots()\n",
    "axe.plot(x, y)\n",
    "axe.plot(x, dy(x))\n",
    "axe.plot(x, d2y(x))\n",
    "axe.grid()"
   ]
  },
  {
   "cell_type": "code",
   "execution_count": null,
   "id": "7bc41866",
   "metadata": {},
   "outputs": [],
   "source": []
  },
  {
   "cell_type": "code",
   "execution_count": 21,
   "id": "4d2481a6",
   "metadata": {},
   "outputs": [],
   "source": [
    "def system(t, x):\n",
    "    return np.array([\n",
    "        -x[0],\n",
    "        x[0]\n",
    "    ])"
   ]
  },
  {
   "cell_type": "code",
   "execution_count": 124,
   "id": "50152366",
   "metadata": {},
   "outputs": [],
   "source": [
    "def model(t, x0=(1, 0)):\n",
    "    if isinstance(t, numbers.Number):\n",
    "        t = [t]\n",
    "    t = np.array(t)\n",
    "    solution = integrate.solve_ivp(system, [min(t.min(), 0.), t.max() + 1e-8], x0, t_eval=t)\n",
    "    return solution.y.T[:, 0]"
   ]
  },
  {
   "cell_type": "code",
   "execution_count": 130,
   "id": "fa868851",
   "metadata": {},
   "outputs": [],
   "source": [
    "t = np.linspace(0, 10, 1000)\n",
    "dy = nd.Derivative(model)\n",
    "d2y = nd.Derivative(model, n=2)"
   ]
  },
  {
   "cell_type": "code",
   "execution_count": 131,
   "id": "81af24b7",
   "metadata": {},
   "outputs": [
    {
     "data": {
      "text/plain": [
       "(array([1.]), array([0.36789804]))"
      ]
     },
     "execution_count": 131,
     "metadata": {},
     "output_type": "execute_result"
    }
   ],
   "source": [
    "model(0.), model(1.)"
   ]
  },
  {
   "cell_type": "code",
   "execution_count": 132,
   "id": "8ced1348",
   "metadata": {},
   "outputs": [
    {
     "data": {
      "text/plain": [
       "[<matplotlib.lines.Line2D at 0x1df72080760>]"
      ]
     },
     "execution_count": 132,
     "metadata": {},
     "output_type": "execute_result"
    },
    {
     "data": {
      "image/png": "[encoded data removed]",
      "text/plain": [
       "<Figure size 432x288 with 1 Axes>"
      ]
     },
     "metadata": {
      "needs_background": "light"
     },
     "output_type": "display_data"
    }
   ],
   "source": [
    "fig, axe = plt.subplots()\n",
    "axe.plot(t, model(t))\n",
    "axe.plot(t, dy(t))\n",
    "axe.plot(t, d2y(t))"
   ]
  },
  {
   "cell_type": "code",
   "execution_count": null,
   "id": "3ae9ace3",
   "metadata": {},
   "outputs": [],
   "source": []
  },
  {
   "cell_type": "code",
   "execution_count": null,
   "id": "3b388332",
   "metadata": {},
   "outputs": [],
   "source": []
  },
  {
   "cell_type": "code",
   "execution_count": null,
   "id": "6b819489",
   "metadata": {},
   "outputs": [],
   "source": []
  }
 ],
 "metadata": {
  "kernelspec": {
   "display_name": "Python 3 (ipykernel)",
   "language": "python",
   "name": "python3"
  },
  "language_info": {
   "codemirror_mode": {
    "name": "ipython",
    "version": 3
   },
   "file_extension": ".py",
   "mimetype": "text/x-python",
   "name": "python",
   "nbconvert_exporter": "python",
   "pygments_lexer": "ipython3",
   "version": "3.9.7"
  }
 },
 "nbformat": 4,
 "nbformat_minor": 5
}
