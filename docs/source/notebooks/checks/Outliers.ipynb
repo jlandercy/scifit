{
 "cells": [
  {
   "cell_type": "code",
   "execution_count": 17,
   "id": "603d06f9",
   "metadata": {},
   "outputs": [],
   "source": [
    "import numpy as np\n",
    "import matplotlib.pyplot as plt\n",
    "from scipy import stats, optimize\n",
    "\n",
    "from sklearn.linear_model import LinearRegression, HuberRegressor, RANSACRegressor, TheilSenRegressor"
   ]
  },
  {
   "cell_type": "code",
   "execution_count": null,
   "id": "b0f25a16",
   "metadata": {},
   "outputs": [],
   "source": []
  },
  {
   "cell_type": "code",
   "execution_count": 2,
   "id": "36326bee",
   "metadata": {},
   "outputs": [],
   "source": [
    "def model(x, a, b):\n",
    "    return a * x[:, 0] + b"
   ]
  },
  {
   "cell_type": "code",
   "execution_count": 3,
   "id": "bf4b33cb",
   "metadata": {},
   "outputs": [],
   "source": [
    "def residuals_factory(x, y):\n",
    "    def wrapped(beta):\n",
    "        return y - model(x, beta[0], beta[1])\n",
    "    return wrapped"
   ]
  },
  {
   "cell_type": "code",
   "execution_count": null,
   "id": "3f0d0533",
   "metadata": {},
   "outputs": [],
   "source": []
  },
  {
   "cell_type": "code",
   "execution_count": 4,
   "id": "9faa6ab5",
   "metadata": {},
   "outputs": [],
   "source": [
    "X = np.linspace(-1, 1, 21).reshape(-1, 1)\n",
    "y = model(X, 3, 2)"
   ]
  },
  {
   "cell_type": "code",
   "execution_count": 5,
   "id": "19d51b87",
   "metadata": {},
   "outputs": [],
   "source": [
    "yn = y + 0.10 * np.random.normal(size=y.size)\n",
    "yn[-3] *= 1.5\n",
    "yn[-2] *= 2\n",
    "yn[-1] *= 3"
   ]
  },
  {
   "cell_type": "code",
   "execution_count": null,
   "id": "e417963f",
   "metadata": {},
   "outputs": [],
   "source": []
  },
  {
   "cell_type": "code",
   "execution_count": 6,
   "id": "650c2116",
   "metadata": {},
   "outputs": [
    {
     "data": {
      "text/plain": [
       "array([5.07168657, 2.8054073 ])"
      ]
     },
     "execution_count": 6,
     "metadata": {},
     "output_type": "execute_result"
    }
   ],
   "source": [
    "popt, pcov = optimize.curve_fit(model, X, yn)\n",
    "popt"
   ]
  },
  {
   "cell_type": "code",
   "execution_count": null,
   "id": "03061b24",
   "metadata": {},
   "outputs": [],
   "source": []
  },
  {
   "cell_type": "code",
   "execution_count": null,
   "id": "197c048a",
   "metadata": {},
   "outputs": [],
   "source": []
  },
  {
   "cell_type": "code",
   "execution_count": 7,
   "id": "32363de9",
   "metadata": {},
   "outputs": [],
   "source": [
    "Xlin = np.linspace(-1.1, 1.1, 100).reshape(-1, 1)"
   ]
  },
  {
   "cell_type": "code",
   "execution_count": 8,
   "id": "252fc7fb",
   "metadata": {},
   "outputs": [],
   "source": [
    "yhat = model(Xlin, *popt)"
   ]
  },
  {
   "cell_type": "code",
   "execution_count": null,
   "id": "92bc8e62",
   "metadata": {},
   "outputs": [],
   "source": []
  },
  {
   "cell_type": "code",
   "execution_count": 9,
   "id": "cdc09166",
   "metadata": {},
   "outputs": [],
   "source": [
    "residuals = residuals_factory(X, yn)"
   ]
  },
  {
   "cell_type": "code",
   "execution_count": null,
   "id": "ad9e04ed",
   "metadata": {},
   "outputs": [],
   "source": []
  },
  {
   "cell_type": "code",
   "execution_count": 10,
   "id": "4b193568",
   "metadata": {},
   "outputs": [
    {
     "data": {
      "text/plain": [
       "array([5.07168654, 2.80540729])"
      ]
     },
     "execution_count": 10,
     "metadata": {},
     "output_type": "execute_result"
    }
   ],
   "source": [
    "sol1 = optimize.least_squares(residuals, x0=[1,1])\n",
    "yhat1 = model(X, *sol1.x)\n",
    "sol1.x"
   ]
  },
  {
   "cell_type": "code",
   "execution_count": 11,
   "id": "53c16b0d",
   "metadata": {},
   "outputs": [
    {
     "data": {
      "text/plain": [
       "array([3.64855281, 2.27207845])"
      ]
     },
     "execution_count": 11,
     "metadata": {},
     "output_type": "execute_result"
    }
   ],
   "source": [
    "sol2 = optimize.least_squares(residuals, x0=[1,1], loss=\"soft_l1\")\n",
    "yhat2 = model(X, *sol2.x)\n",
    "sol2.x"
   ]
  },
  {
   "cell_type": "code",
   "execution_count": 12,
   "id": "78e26830",
   "metadata": {},
   "outputs": [
    {
     "data": {
      "text/plain": [
       "array([3.13243227, 2.06161631])"
      ]
     },
     "execution_count": 12,
     "metadata": {},
     "output_type": "execute_result"
    }
   ],
   "source": [
    "sol3 = optimize.least_squares(residuals, x0=[1,1], loss=\"cauchy\")\n",
    "yhat3 = model(X, *sol3.x)\n",
    "sol3.x"
   ]
  },
  {
   "cell_type": "code",
   "execution_count": 13,
   "id": "5343a123",
   "metadata": {},
   "outputs": [
    {
     "data": {
      "text/plain": [
       "array([3.00307223, 2.00785498])"
      ]
     },
     "execution_count": 13,
     "metadata": {},
     "output_type": "execute_result"
    }
   ],
   "source": [
    "sol4 = optimize.least_squares(residuals, x0=[1,1], loss=\"arctan\")\n",
    "yhat4 = model(X, *sol4.x)\n",
    "sol4.x"
   ]
  },
  {
   "cell_type": "code",
   "execution_count": null,
   "id": "6058fbca",
   "metadata": {},
   "outputs": [],
   "source": []
  },
  {
   "cell_type": "code",
   "execution_count": 14,
   "id": "968735cb",
   "metadata": {},
   "outputs": [
    {
     "data": {
      "image/png": "[encoded data removed]",
      "text/plain": [
       "<Figure size 432x288 with 1 Axes>"
      ]
     },
     "metadata": {
      "needs_background": "light"
     },
     "output_type": "display_data"
    }
   ],
   "source": [
    "fig, axe = plt.subplots()\n",
    "axe.scatter(X, yn, color=\"black\", marker=\".\", label=\"Data\")\n",
    "axe.plot(X, yhat1, label=\"Linear\")\n",
    "axe.plot(X, yhat2, label=\"Soft L1\")\n",
    "axe.plot(X, yhat3, label=\"Cauchy\")\n",
    "axe.plot(X, yhat3, linestyle=\"--\", label=\"Arctan\")\n",
    "axe.set_title(\"Outliers Regularization for Least Squares\")\n",
    "axe.set_xlabel(r\"Feature, $x_1$\")\n",
    "axe.set_ylabel(r\"Target, $y$\")\n",
    "axe.legend()\n",
    "axe.grid()\n",
    "axe.figure.savefig(\"figures/Linear/RegularizationFit.pdf\")"
   ]
  },
  {
   "cell_type": "code",
   "execution_count": null,
   "id": "3f2eca84",
   "metadata": {},
   "outputs": [],
   "source": []
  },
  {
   "cell_type": "code",
   "execution_count": 15,
   "id": "441af2af",
   "metadata": {},
   "outputs": [],
   "source": [
    "rlin = np.logspace(-1, 3, 100)\n",
    "linear = rlin**2\n",
    "softl1 = 2*(np.sqrt(1 + rlin**2) - 1)\n",
    "cauchy = np.log(1 + rlin**2)\n",
    "arctan = np.arctan(rlin**2)"
   ]
  },
  {
   "cell_type": "code",
   "execution_count": 16,
   "id": "bf672d26",
   "metadata": {},
   "outputs": [
    {
     "data": {
      "image/png": "[encoded data removed]",
      "text/plain": [
       "<Figure size 432x288 with 1 Axes>"
      ]
     },
     "metadata": {
      "needs_background": "light"
     },
     "output_type": "display_data"
    }
   ],
   "source": [
    "fig, axe = plt.subplots()\n",
    "axe.loglog(rlin, linear, label=\"Linear\")\n",
    "axe.plot(rlin, softl1, label=\"Soft L1\")\n",
    "axe.plot(rlin, cauchy, label=\"Cauchy\")\n",
    "axe.plot(rlin, arctan, label=\"Arctan\")\n",
    "axe.set_title(\"Outliers Regularization for Least Squares\")\n",
    "axe.set_xlabel(r\"Residual, $r$\")\n",
    "axe.set_ylabel(r\"Loss Contribution, $\\ell(r)$\")\n",
    "axe.legend()\n",
    "axe.grid(which=\"both\")\n",
    "axe.figure.savefig(\"figures/Linear/RegularizationFunction.pdf\")"
   ]
  },
  {
   "cell_type": "code",
   "execution_count": null,
   "id": "9d754b77",
   "metadata": {},
   "outputs": [],
   "source": []
  },
  {
   "cell_type": "code",
   "execution_count": 34,
   "id": "8e6b9bfb",
   "metadata": {},
   "outputs": [],
   "source": [
    "regressors = [\n",
    "    LinearRegression(),\n",
    "    HuberRegressor(),\n",
    "]"
   ]
  },
  {
   "cell_type": "code",
   "execution_count": 35,
   "id": "8c275d4e",
   "metadata": {},
   "outputs": [
    {
     "data": {
      "image/png": "[encoded data removed]",
      "text/plain": [
       "<Figure size 432x288 with 1 Axes>"
      ]
     },
     "metadata": {
      "needs_background": "light"
     },
     "output_type": "display_data"
    }
   ],
   "source": [
    "fig, axe = plt.subplots()\n",
    "axe.scatter(X, yn, color=\"black\", marker=\".\", label=\"Data\")\n",
    "for regressor in regressors:\n",
    "    regressor.fit(X, yn)\n",
    "    score = regressor.score(X, yn)\n",
    "    axe.plot(Xlin, regressor.predict(Xlin))\n",
    "axe.grid()"
   ]
  },
  {
   "cell_type": "code",
   "execution_count": null,
   "id": "cf31180d",
   "metadata": {},
   "outputs": [],
   "source": []
  },
  {
   "cell_type": "code",
   "execution_count": null,
   "id": "af8294dc",
   "metadata": {},
   "outputs": [],
   "source": []
  }
 ],
 "metadata": {
  "kernelspec": {
   "display_name": "Python 3 (ipykernel)",
   "language": "python",
   "name": "python3"
  },
  "language_info": {
   "codemirror_mode": {
    "name": "ipython",
    "version": 3
   },
   "file_extension": ".py",
   "mimetype": "text/x-python",
   "name": "python",
   "nbconvert_exporter": "python",
   "pygments_lexer": "ipython3",
   "version": "3.9.7"
  }
 },
 "nbformat": 4,
 "nbformat_minor": 5
}
