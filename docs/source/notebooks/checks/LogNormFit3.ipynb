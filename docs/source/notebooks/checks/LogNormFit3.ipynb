{
 "cells": [
  {
   "cell_type": "code",
   "execution_count": 1,
   "id": "8cf876d9",
   "metadata": {},
   "outputs": [],
   "source": [
    "import numpy as np\n",
    "import matplotlib.pyplot as plt\n",
    "from scipy import stats, optimize"
   ]
  },
  {
   "cell_type": "code",
   "execution_count": 2,
   "id": "ba690df3",
   "metadata": {},
   "outputs": [],
   "source": [
    "from sklearn.preprocessing import PolynomialFeatures\n",
    "from sklearn.linear_model import LinearRegression\n",
    "from sklearn.preprocessing import FunctionTransformer\n",
    "from sklearn.compose import TransformedTargetRegressor\n",
    "from sklearn.pipeline import Pipeline"
   ]
  },
  {
   "cell_type": "code",
   "execution_count": null,
   "id": "ca24e4b9",
   "metadata": {},
   "outputs": [],
   "source": []
  },
  {
   "cell_type": "code",
   "execution_count": 3,
   "id": "7d1a113c",
   "metadata": {},
   "outputs": [],
   "source": [
    "def model(x, s, m):\n",
    "    return stats.lognorm.pdf(x[:, 0], s=s, loc=0., scale=m)"
   ]
  },
  {
   "cell_type": "code",
   "execution_count": null,
   "id": "928f5a57",
   "metadata": {},
   "outputs": [],
   "source": []
  },
  {
   "cell_type": "code",
   "execution_count": null,
   "id": "b5576f88",
   "metadata": {},
   "outputs": [],
   "source": []
  },
  {
   "cell_type": "code",
   "execution_count": null,
   "id": "50d4ddd3",
   "metadata": {},
   "outputs": [],
   "source": []
  },
  {
   "cell_type": "code",
   "execution_count": 4,
   "id": "9474ae39",
   "metadata": {},
   "outputs": [],
   "source": [
    "X = np.logspace(-1, 2.5, 50, base=10).reshape(-1, 1)\n",
    "y = model(X, 0.7, 17.)"
   ]
  },
  {
   "cell_type": "code",
   "execution_count": null,
   "id": "53ef6d05",
   "metadata": {},
   "outputs": [],
   "source": []
  },
  {
   "cell_type": "code",
   "execution_count": 5,
   "id": "7c846ecf",
   "metadata": {},
   "outputs": [
    {
     "data": {
      "text/plain": [
       "(array([ 0.7, 17. ]),\n",
       " array([[0., 0.],\n",
       "        [0., 0.]]))"
      ]
     },
     "execution_count": 5,
     "metadata": {},
     "output_type": "execute_result"
    }
   ],
   "source": [
    "popt, pcov = optimize.curve_fit(model, X, y)\n",
    "popt, pcov"
   ]
  },
  {
   "cell_type": "code",
   "execution_count": null,
   "id": "77072df7",
   "metadata": {},
   "outputs": [],
   "source": []
  },
  {
   "cell_type": "code",
   "execution_count": null,
   "id": "8c1c9414",
   "metadata": {},
   "outputs": [],
   "source": []
  },
  {
   "cell_type": "code",
   "execution_count": 6,
   "id": "3b4cdc20",
   "metadata": {},
   "outputs": [],
   "source": [
    "pipeline = Pipeline([\n",
    "    (\"transformer\", FunctionTransformer(func=np.log, inverse_func=np.exp, validate=True)),\n",
    "    (\"polynomial\", PolynomialFeatures(2)),\n",
    "    (\n",
    "        \"regressor\", TransformedTargetRegressor(\n",
    "            regressor=LinearRegression(fit_intercept=False),\n",
    "            func=np.log, inverse_func=np.exp\n",
    "        )\n",
    "    )\n",
    "])"
   ]
  },
  {
   "cell_type": "code",
   "execution_count": null,
   "id": "d169e684",
   "metadata": {},
   "outputs": [],
   "source": []
  },
  {
   "cell_type": "code",
   "execution_count": 7,
   "id": "8d713019",
   "metadata": {},
   "outputs": [
    {
     "data": {
      "text/plain": [
       "1.0"
      ]
     },
     "execution_count": 7,
     "metadata": {},
     "output_type": "execute_result"
    }
   ],
   "source": [
    "pipeline.fit(X, y)\n",
    "pipeline.score(X, y)"
   ]
  },
  {
   "cell_type": "code",
   "execution_count": 8,
   "id": "5f7c74a1",
   "metadata": {},
   "outputs": [
    {
     "data": {
      "image/png": "[encoded data removed]",
      "text/plain": [
       "<Figure size 432x288 with 1 Axes>"
      ]
     },
     "metadata": {
      "needs_background": "light"
     },
     "output_type": "display_data"
    }
   ],
   "source": [
    "fig, axe = plt.subplots()\n",
    "axe.loglog(X, y, linestyle=\"none\", marker=\".\")\n",
    "axe.loglog(X, pipeline.predict(X))\n",
    "axe.set_title(\"Log-Log Transformation for LogNormal Linearisation\")\n",
    "axe.set_xlabel(r\"Feature, $x_1$\")\n",
    "axe.set_ylabel(r\"Target, $y$\")\n",
    "axe.grid(which=\"both\")\n",
    "axe.figure.savefig(\"figures/Linearizable/LogNormLinearization.pdf\")"
   ]
  },
  {
   "cell_type": "code",
   "execution_count": null,
   "id": "20fb218c",
   "metadata": {},
   "outputs": [],
   "source": []
  },
  {
   "cell_type": "code",
   "execution_count": 13,
   "id": "8eaa0648",
   "metadata": {},
   "outputs": [],
   "source": [
    "c, b, a = pipeline.steps[2][1].regressor_.coef_"
   ]
  },
  {
   "cell_type": "code",
   "execution_count": 14,
   "id": "98fb7db2",
   "metadata": {},
   "outputs": [
    {
     "data": {
      "text/plain": [
       "array([-8.75317977,  4.78206805, -1.02040816])"
      ]
     },
     "execution_count": 14,
     "metadata": {},
     "output_type": "execute_result"
    }
   ],
   "source": [
    "pipeline.steps[2][1].regressor_.coef_"
   ]
  },
  {
   "cell_type": "code",
   "execution_count": 15,
   "id": "d0c79ce1",
   "metadata": {},
   "outputs": [
    {
     "data": {
      "text/plain": [
       "(0.6999999999999998, 17.00000000000001)"
      ]
     },
     "execution_count": 15,
     "metadata": {},
     "output_type": "execute_result"
    }
   ],
   "source": [
    "s = np.sqrt(-0.5/a)\n",
    "m = np.exp(s**2*(b + 1))\n",
    "s, m"
   ]
  },
  {
   "cell_type": "code",
   "execution_count": 20,
   "id": "894ffb03",
   "metadata": {},
   "outputs": [
    {
     "data": {
      "text/plain": [
       "-8.753179765733506"
      ]
     },
     "execution_count": 20,
     "metadata": {},
     "output_type": "execute_result"
    }
   ],
   "source": [
    "-np.log(s*np.sqrt(2*np.pi)) - 1/(2*s**2)*np.log(m)**2"
   ]
  },
  {
   "cell_type": "code",
   "execution_count": null,
   "id": "f645f58d",
   "metadata": {},
   "outputs": [],
   "source": []
  },
  {
   "cell_type": "code",
   "execution_count": null,
   "id": "123aa878",
   "metadata": {},
   "outputs": [],
   "source": []
  },
  {
   "cell_type": "code",
   "execution_count": null,
   "id": "8ce154e8",
   "metadata": {},
   "outputs": [],
   "source": []
  }
 ],
 "metadata": {
  "kernelspec": {
   "display_name": "Python 3 (ipykernel)",
   "language": "python",
   "name": "python3"
  },
  "language_info": {
   "codemirror_mode": {
    "name": "ipython",
    "version": 3
   },
   "file_extension": ".py",
   "mimetype": "text/x-python",
   "name": "python",
   "nbconvert_exporter": "python",
   "pygments_lexer": "ipython3",
   "version": "3.9.7"
  }
 },
 "nbformat": 4,
 "nbformat_minor": 5
}
