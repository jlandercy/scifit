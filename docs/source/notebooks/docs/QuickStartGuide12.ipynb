{
 "cells": [
  {
   "cell_type": "markdown",
   "metadata": {},
   "source": [
    "# Solve SIR model\n",
    "\n",
    "Let's create a simple kinetic.\n",
    "\n",
    "## Create model\n",
    "\n",
    "First we import the Kinetic Solver Interface:\n"
   ]
  },
  {
   "cell_type": "code",
   "execution_count": 1,
   "metadata": {
    "execution": {
     "iopub.execute_input": "2023-09-06T08:28:00.336775Z",
     "iopub.status.busy": "2023-09-06T08:28:00.336775Z",
     "iopub.status.idle": "2023-09-06T08:28:02.113361Z",
     "shell.execute_reply": "2023-09-06T08:28:02.112085Z"
    }
   },
   "outputs": [],
   "source": [
    "import numpy as np\n",
    "from scipy import integrate\n",
    "from scifit.interfaces.solvers import FitSolver1D\n",
    "from IPython.display import display, Math"
   ]
  },
  {
   "cell_type": "code",
   "execution_count": null,
   "metadata": {},
   "outputs": [],
   "source": []
  },
  {
   "cell_type": "code",
   "execution_count": 2,
   "metadata": {},
   "outputs": [],
   "source": [
    "class SIR(FitSolver1D):\n",
    "    \n",
    "    @staticmethod\n",
    "    def model(x, N, beta, gamma):\n",
    "        \n",
    "        def system(t, x):\n",
    "            return np.array([\n",
    "                -beta*x[0]*x[1]/N,               # S\n",
    "                beta*x[0]*x[1]/N -gamma*x[1],    # I\n",
    "                gamma*x[1],                      # R\n",
    "            ]).T\n",
    "        \n",
    "        solution = integrate.solve_ivp(system, [x.min(), x.max()], [N, beta, gamma], t_eval=np.squeeze(x))\n",
    "        return solution.y.T[:, 0]"
   ]
  },
  {
   "cell_type": "code",
   "execution_count": null,
   "metadata": {},
   "outputs": [],
   "source": []
  },
  {
   "cell_type": "code",
   "execution_count": 3,
   "metadata": {},
   "outputs": [],
   "source": [
    "solver = SIR()"
   ]
  },
  {
   "cell_type": "code",
   "execution_count": 4,
   "metadata": {},
   "outputs": [],
   "source": [
    "t = np.linspace(0, 100, 75)"
   ]
  },
  {
   "cell_type": "code",
   "execution_count": 5,
   "metadata": {},
   "outputs": [
    {
     "data": {
      "text/html": [
       "<div>\n",
       "<style scoped>\n",
       "    .dataframe tbody tr th:only-of-type {\n",
       "        vertical-align: middle;\n",
       "    }\n",
       "\n",
       "    .dataframe tbody tr th {\n",
       "        vertical-align: top;\n",
       "    }\n",
       "\n",
       "    .dataframe thead th {\n",
       "        text-align: right;\n",
       "    }\n",
       "</style>\n",
       "<table border=\"1\" class=\"dataframe\">\n",
       "  <thead>\n",
       "    <tr style=\"text-align: right;\">\n",
       "      <th></th>\n",
       "      <th>x0</th>\n",
       "      <th>y</th>\n",
       "      <th>sy</th>\n",
       "      <th>yref</th>\n",
       "      <th>ynoise</th>\n",
       "    </tr>\n",
       "    <tr>\n",
       "      <th>id</th>\n",
       "      <th></th>\n",
       "      <th></th>\n",
       "      <th></th>\n",
       "      <th></th>\n",
       "      <th></th>\n",
       "    </tr>\n",
       "  </thead>\n",
       "  <tbody>\n",
       "    <tr>\n",
       "      <th>1</th>\n",
       "      <td>0.000000</td>\n",
       "      <td>100001.0</td>\n",
       "      <td>2.0</td>\n",
       "      <td>100000.000000</td>\n",
       "      <td>0.942870</td>\n",
       "    </tr>\n",
       "    <tr>\n",
       "      <th>2</th>\n",
       "      <td>1.351351</td>\n",
       "      <td>99997.0</td>\n",
       "      <td>2.0</td>\n",
       "      <td>99998.979341</td>\n",
       "      <td>-2.381951</td>\n",
       "    </tr>\n",
       "    <tr>\n",
       "      <th>3</th>\n",
       "      <td>2.702703</td>\n",
       "      <td>100000.0</td>\n",
       "      <td>2.0</td>\n",
       "      <td>99996.684193</td>\n",
       "      <td>2.865414</td>\n",
       "    </tr>\n",
       "    <tr>\n",
       "      <th>4</th>\n",
       "      <td>4.054054</td>\n",
       "      <td>99991.0</td>\n",
       "      <td>2.0</td>\n",
       "      <td>99991.519225</td>\n",
       "      <td>-0.625304</td>\n",
       "    </tr>\n",
       "    <tr>\n",
       "      <th>5</th>\n",
       "      <td>5.405405</td>\n",
       "      <td>99978.0</td>\n",
       "      <td>2.0</td>\n",
       "      <td>99979.902258</td>\n",
       "      <td>-1.441177</td>\n",
       "    </tr>\n",
       "    <tr>\n",
       "      <th>...</th>\n",
       "      <td>...</td>\n",
       "      <td>...</td>\n",
       "      <td>...</td>\n",
       "      <td>...</td>\n",
       "      <td>...</td>\n",
       "    </tr>\n",
       "    <tr>\n",
       "      <th>71</th>\n",
       "      <td>94.594595</td>\n",
       "      <td>91.0</td>\n",
       "      <td>2.0</td>\n",
       "      <td>92.945278</td>\n",
       "      <td>-1.570870</td>\n",
       "    </tr>\n",
       "    <tr>\n",
       "      <th>72</th>\n",
       "      <td>95.945946</td>\n",
       "      <td>94.0</td>\n",
       "      <td>2.0</td>\n",
       "      <td>92.893282</td>\n",
       "      <td>0.924119</td>\n",
       "    </tr>\n",
       "    <tr>\n",
       "      <th>73</th>\n",
       "      <td>97.297297</td>\n",
       "      <td>94.0</td>\n",
       "      <td>2.0</td>\n",
       "      <td>92.847761</td>\n",
       "      <td>1.408456</td>\n",
       "    </tr>\n",
       "    <tr>\n",
       "      <th>74</th>\n",
       "      <td>98.648649</td>\n",
       "      <td>94.0</td>\n",
       "      <td>2.0</td>\n",
       "      <td>92.807983</td>\n",
       "      <td>1.047016</td>\n",
       "    </tr>\n",
       "    <tr>\n",
       "      <th>75</th>\n",
       "      <td>100.000000</td>\n",
       "      <td>91.0</td>\n",
       "      <td>2.0</td>\n",
       "      <td>92.773216</td>\n",
       "      <td>-1.852509</td>\n",
       "    </tr>\n",
       "  </tbody>\n",
       "</table>\n",
       "<p>75 rows × 5 columns</p>\n",
       "</div>"
      ],
      "text/plain": [
       "            x0         y   sy           yref    ynoise\n",
       "id                                                    \n",
       "1     0.000000  100001.0  2.0  100000.000000  0.942870\n",
       "2     1.351351   99997.0  2.0   99998.979341 -2.381951\n",
       "3     2.702703  100000.0  2.0   99996.684193  2.865414\n",
       "4     4.054054   99991.0  2.0   99991.519225 -0.625304\n",
       "5     5.405405   99978.0  2.0   99979.902258 -1.441177\n",
       "..         ...       ...  ...            ...       ...\n",
       "71   94.594595      91.0  2.0      92.945278 -1.570870\n",
       "72   95.945946      94.0  2.0      92.893282  0.924119\n",
       "73   97.297297      94.0  2.0      92.847761  1.408456\n",
       "74   98.648649      94.0  2.0      92.807983  1.047016\n",
       "75  100.000000      91.0  2.0      92.773216 -1.852509\n",
       "\n",
       "[75 rows x 5 columns]"
      ]
     },
     "execution_count": 5,
     "metadata": {},
     "output_type": "execute_result"
    }
   ],
   "source": [
    "data = solver.synthetic_dataset(xdata=t, sigma=2., parameters=[1e5,.7,.1])\n",
    "data[\"y\"] = np.round(data[\"y\"])\n",
    "data[\"sy\"] = np.round(data[\"sy\"])\n",
    "data"
   ]
  },
  {
   "cell_type": "code",
   "execution_count": null,
   "metadata": {},
   "outputs": [],
   "source": []
  },
  {
   "cell_type": "code",
   "execution_count": null,
   "metadata": {},
   "outputs": [],
   "source": [
    "solution = solver.fit(data, p0=[1e5, .7, .1])"
   ]
  },
  {
   "cell_type": "code",
   "execution_count": null,
   "metadata": {},
   "outputs": [],
   "source": [
    "axe = solver.plot_fit()"
   ]
  },
  {
   "cell_type": "code",
   "execution_count": null,
   "metadata": {},
   "outputs": [],
   "source": []
  },
  {
   "cell_type": "code",
   "execution_count": null,
   "metadata": {},
   "outputs": [],
   "source": []
  },
  {
   "cell_type": "code",
   "execution_count": null,
   "metadata": {},
   "outputs": [],
   "source": []
  }
 ],
 "metadata": {
  "kernelspec": {
   "display_name": "Python 3 (ipykernel)",
   "language": "python",
   "name": "python3"
  },
  "language_info": {
   "codemirror_mode": {
    "name": "ipython",
    "version": 3
   },
   "file_extension": ".py",
   "mimetype": "text/x-python",
   "name": "python",
   "nbconvert_exporter": "python",
   "pygments_lexer": "ipython3",
   "version": "3.9.7"
  }
 },
 "nbformat": 4,
 "nbformat_minor": 4
}
