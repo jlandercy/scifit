{
 "cells": [
  {
   "cell_type": "markdown",
   "metadata": {},
   "source": [
    "# Fit a complex model\n",
    "\n",
    "Let's fit a complex model coming from the chemical engineering field.\n",
    "\n",
    "## Select model\n",
    "\n",
    "We select the modified Crank diffusion model:"
   ]
  },
  {
   "cell_type": "code",
   "execution_count": 1,
   "metadata": {
    "execution": {
     "iopub.execute_input": "2023-08-22T08:59:25.229585Z",
     "iopub.status.busy": "2023-08-22T08:59:25.229585Z",
     "iopub.status.idle": "2023-08-22T08:59:26.626237Z",
     "shell.execute_reply": "2023-08-22T08:59:26.626237Z"
    }
   },
   "outputs": [],
   "source": [
    "import warnings\n",
    "import numpy as np\n",
    "import pandas as pd\n",
    "from scifit.solvers.specials import CrankDiffusionFitSolver"
   ]
  },
  {
   "cell_type": "markdown",
   "metadata": {},
   "source": [
    "Which solve the diffusion of chemical through a sphere:\n",
    "\n",
    "$$\\gamma(t) = \\frac{C(t,R)}{C(0,R)} = \\frac{\\alpha}{1 + \\alpha} + 6 \\alpha \\sum\\limits_{i=1}^\\infty \\frac{\\exp \\left(-\\mathcal{D}\\frac{q_n^2 t}{R^2}\\right)}{9(\\alpha + 1) + \\alpha^2q_n^2}$$\n",
    "\n",
    "Where the $q_n$ terms are solution of a rational trigonometric equation such as:\n",
    "\n",
    "$$\\forall q_n \\in \\mathbb{R}^+_0 \\, | \\, \\tan(q_n) = \\frac{3 q_n}{3 + \\alpha q_n^2}$$\n",
    "\n",
    "And the modified $\\alpha$ coefficient equals to:\n",
    "\n",
    "$$\\alpha = \\frac{V_l}{V_s} \\rightarrow \\alpha' = \\frac{V_l}{V_s K_p}$$\n"
   ]
  },
  {
   "cell_type": "markdown",
   "metadata": {},
   "source": [
    "Now create a new solver with two physical known parameters:"
   ]
  },
  {
   "cell_type": "code",
   "execution_count": 2,
   "metadata": {
    "execution": {
     "iopub.execute_input": "2023-08-22T08:59:26.626237Z",
     "iopub.status.busy": "2023-08-22T08:59:26.626237Z",
     "iopub.status.idle": "2023-08-22T08:59:26.641957Z",
     "shell.execute_reply": "2023-08-22T08:59:26.641957Z"
    }
   },
   "outputs": [],
   "source": [
    "solver = CrankDiffusionFitSolver(alpha=3.9, radius=1.9e-3)"
   ]
  },
  {
   "cell_type": "markdown",
   "metadata": {},
   "source": [
    "## Load data\n",
    "\n",
    "Now we generate some synthetic dataset for the given problem:"
   ]
  },
  {
   "cell_type": "code",
   "execution_count": 3,
   "metadata": {
    "execution": {
     "iopub.execute_input": "2023-08-22T08:59:26.641957Z",
     "iopub.status.busy": "2023-08-22T08:59:26.641957Z",
     "iopub.status.idle": "2023-08-22T08:59:26.751652Z",
     "shell.execute_reply": "2023-08-22T08:59:26.751652Z"
    }
   },
   "outputs": [],
   "source": [
    "data = solver.synthetic_dataset(\n",
    "    xmin=1e0, xmax=1e6, dimension=1, resolution=20, mode=\"log\",\n",
    "    parameters=np.array([3.9, 2e-11]),\n",
    "    sigma=0.075, scale_mode=\"auto\", seed=1234\n",
    ")"
   ]
  },
  {
   "cell_type": "code",
   "execution_count": 4,
   "metadata": {
    "execution": {
     "iopub.execute_input": "2023-08-22T08:59:26.751652Z",
     "iopub.status.busy": "2023-08-22T08:59:26.751652Z",
     "iopub.status.idle": "2023-08-22T08:59:26.783074Z",
     "shell.execute_reply": "2023-08-22T08:59:26.783074Z"
    }
   },
   "outputs": [
    {
     "data": {
      "text/html": [
       "<div>\n",
       "<style scoped>\n",
       "    .dataframe tbody tr th:only-of-type {\n",
       "        vertical-align: middle;\n",
       "    }\n",
       "\n",
       "    .dataframe tbody tr th {\n",
       "        vertical-align: top;\n",
       "    }\n",
       "\n",
       "    .dataframe thead th {\n",
       "        text-align: right;\n",
       "    }\n",
       "</style>\n",
       "<table border=\"1\" class=\"dataframe\">\n",
       "  <thead>\n",
       "    <tr style=\"text-align: right;\">\n",
       "      <th></th>\n",
       "      <th>x0</th>\n",
       "      <th>y</th>\n",
       "      <th>sy</th>\n",
       "      <th>yref</th>\n",
       "      <th>ynoise</th>\n",
       "    </tr>\n",
       "    <tr>\n",
       "      <th>id</th>\n",
       "      <th></th>\n",
       "      <th></th>\n",
       "      <th></th>\n",
       "      <th></th>\n",
       "      <th></th>\n",
       "    </tr>\n",
       "  </thead>\n",
       "  <tbody>\n",
       "    <tr>\n",
       "      <th>7</th>\n",
       "      <td>78.475997</td>\n",
       "      <td>0.949934</td>\n",
       "      <td>0.01814</td>\n",
       "      <td>0.934341</td>\n",
       "      <td>0.015593</td>\n",
       "    </tr>\n",
       "    <tr>\n",
       "      <th>10</th>\n",
       "      <td>695.192796</td>\n",
       "      <td>0.788471</td>\n",
       "      <td>0.01814</td>\n",
       "      <td>0.829153</td>\n",
       "      <td>-0.040683</td>\n",
       "    </tr>\n",
       "    <tr>\n",
       "      <th>1</th>\n",
       "      <td>1.000000</td>\n",
       "      <td>0.992288</td>\n",
       "      <td>0.01814</td>\n",
       "      <td>0.983736</td>\n",
       "      <td>0.008552</td>\n",
       "    </tr>\n",
       "    <tr>\n",
       "      <th>6</th>\n",
       "      <td>37.926902</td>\n",
       "      <td>0.969392</td>\n",
       "      <td>0.01814</td>\n",
       "      <td>0.953299</td>\n",
       "      <td>0.016093</td>\n",
       "    </tr>\n",
       "    <tr>\n",
       "      <th>9</th>\n",
       "      <td>335.981829</td>\n",
       "      <td>0.874125</td>\n",
       "      <td>0.01814</td>\n",
       "      <td>0.873840</td>\n",
       "      <td>0.000285</td>\n",
       "    </tr>\n",
       "  </tbody>\n",
       "</table>\n",
       "</div>"
      ],
      "text/plain": [
       "            x0         y       sy      yref    ynoise\n",
       "id                                                   \n",
       "7    78.475997  0.949934  0.01814  0.934341  0.015593\n",
       "10  695.192796  0.788471  0.01814  0.829153 -0.040683\n",
       "1     1.000000  0.992288  0.01814  0.983736  0.008552\n",
       "6    37.926902  0.969392  0.01814  0.953299  0.016093\n",
       "9   335.981829  0.874125  0.01814  0.873840  0.000285"
      ]
     },
     "execution_count": 4,
     "metadata": {},
     "output_type": "execute_result"
    }
   ],
   "source": [
    "data.sample(5)"
   ]
  },
  {
   "cell_type": "markdown",
   "metadata": {},
   "source": [
    "We load data to the solver:"
   ]
  },
  {
   "cell_type": "code",
   "execution_count": 5,
   "metadata": {
    "execution": {
     "iopub.execute_input": "2023-08-22T08:59:26.783074Z",
     "iopub.status.busy": "2023-08-22T08:59:26.783074Z",
     "iopub.status.idle": "2023-08-22T08:59:26.798892Z",
     "shell.execute_reply": "2023-08-22T08:59:26.798892Z"
    }
   },
   "outputs": [],
   "source": [
    "solver.store(data=data)"
   ]
  },
  {
   "cell_type": "code",
   "execution_count": 6,
   "metadata": {
    "execution": {
     "iopub.execute_input": "2023-08-22T08:59:26.798892Z",
     "iopub.status.busy": "2023-08-22T08:59:26.798892Z",
     "iopub.status.idle": "2023-08-22T08:59:26.814525Z",
     "shell.execute_reply": "2023-08-22T08:59:26.814525Z"
    }
   },
   "outputs": [
    {
     "data": {
      "text/plain": [
       "True"
      ]
     },
     "execution_count": 6,
     "metadata": {},
     "output_type": "execute_result"
    }
   ],
   "source": [
    "solver.stored()"
   ]
  },
  {
   "cell_type": "markdown",
   "metadata": {},
   "source": [
    "## Solve Fit\n",
    "\n",
    "Everything is setup, we can solve our problem:"
   ]
  },
  {
   "cell_type": "code",
   "execution_count": null,
   "metadata": {
    "execution": {
     "iopub.execute_input": "2023-08-22T08:59:26.814525Z",
     "iopub.status.busy": "2023-08-22T08:59:26.814525Z",
     "iopub.status.idle": "2023-08-22T09:00:23.106798Z",
     "shell.execute_reply": "2023-08-22T09:00:23.106798Z"
    }
   },
   "outputs": [],
   "source": [
    "with warnings.catch_warnings():\n",
    "    warnings.simplefilter(\"ignore\")\n",
    "    solution = solver.fit(p0=np.array([10.0, 1e-10]))"
   ]
  },
  {
   "cell_type": "code",
   "execution_count": null,
   "metadata": {
    "execution": {
     "iopub.execute_input": "2023-08-22T09:00:23.106798Z",
     "iopub.status.busy": "2023-08-22T09:00:23.106798Z",
     "iopub.status.idle": "2023-08-22T09:00:23.122440Z",
     "shell.execute_reply": "2023-08-22T09:00:23.122440Z"
    }
   },
   "outputs": [],
   "source": [
    "solver.solved()"
   ]
  },
  {
   "cell_type": "code",
   "execution_count": null,
   "metadata": {
    "execution": {
     "iopub.execute_input": "2023-08-22T09:00:23.122440Z",
     "iopub.status.busy": "2023-08-22T09:00:23.122440Z",
     "iopub.status.idle": "2023-08-22T09:00:23.138063Z",
     "shell.execute_reply": "2023-08-22T09:00:23.138063Z"
    }
   },
   "outputs": [],
   "source": [
    "print(solution[\"message\"])"
   ]
  },
  {
   "cell_type": "code",
   "execution_count": null,
   "metadata": {
    "execution": {
     "iopub.execute_input": "2023-08-22T09:00:23.138063Z",
     "iopub.status.busy": "2023-08-22T09:00:23.138063Z",
     "iopub.status.idle": "2023-08-22T09:00:23.153714Z",
     "shell.execute_reply": "2023-08-22T09:00:23.153714Z"
    }
   },
   "outputs": [],
   "source": [
    "print(solution[\"parameters\"])"
   ]
  },
  {
   "cell_type": "code",
   "execution_count": null,
   "metadata": {
    "execution": {
     "iopub.execute_input": "2023-08-22T09:00:23.153714Z",
     "iopub.status.busy": "2023-08-22T09:00:23.153714Z",
     "iopub.status.idle": "2023-08-22T09:00:23.169313Z",
     "shell.execute_reply": "2023-08-22T09:00:23.169313Z"
    }
   },
   "outputs": [],
   "source": [
    "print(np.diag(solution[\"covariance\"]))"
   ]
  },
  {
   "cell_type": "markdown",
   "metadata": {},
   "source": [
    "As we can see, parameters have been properly regressed."
   ]
  },
  {
   "cell_type": "markdown",
   "metadata": {},
   "source": [
    "## Render solution\n",
    "\n",
    "Finally we can render fit and loss function to check the dynamic:"
   ]
  },
  {
   "cell_type": "code",
   "execution_count": null,
   "metadata": {
    "execution": {
     "iopub.execute_input": "2023-08-22T09:00:23.169313Z",
     "iopub.status.busy": "2023-08-22T09:00:23.169313Z",
     "iopub.status.idle": "2023-08-22T09:00:24.520439Z",
     "shell.execute_reply": "2023-08-22T09:00:24.520439Z"
    }
   },
   "outputs": [],
   "source": [
    "axe = solver.plot_fit(title=\"SciFit Quick Start Guide\", log_x=True, log_y=True)\n",
    "axe.grid(which=\"both\")"
   ]
  },
  {
   "cell_type": "code",
   "execution_count": null,
   "metadata": {
    "execution": {
     "iopub.execute_input": "2023-08-22T09:00:24.520439Z",
     "iopub.status.busy": "2023-08-22T09:00:24.520439Z",
     "iopub.status.idle": "2023-08-22T09:00:24.917990Z",
     "shell.execute_reply": "2023-08-22T09:00:24.917990Z"
    }
   },
   "outputs": [],
   "source": [
    "axe = solver.plot_chi_square(title=\"SciFit Quick Start Guide\")"
   ]
  },
  {
   "cell_type": "markdown",
   "metadata": {},
   "source": [
    "If automatic domains does not match your expectations:"
   ]
  },
  {
   "cell_type": "code",
   "execution_count": null,
   "metadata": {
    "execution": {
     "iopub.execute_input": "2023-08-22T09:00:24.917990Z",
     "iopub.status.busy": "2023-08-22T09:00:24.917990Z",
     "iopub.status.idle": "2023-08-22T09:00:24.933621Z",
     "shell.execute_reply": "2023-08-22T09:00:24.933621Z"
    }
   },
   "outputs": [],
   "source": [
    "solver.parameter_domains(ratio=0.15)"
   ]
  },
  {
   "cell_type": "markdown",
   "metadata": {},
   "source": [
    "Simply create desired boundaries:"
   ]
  },
  {
   "cell_type": "code",
   "execution_count": null,
   "metadata": {
    "execution": {
     "iopub.execute_input": "2023-08-22T09:00:24.933621Z",
     "iopub.status.busy": "2023-08-22T09:00:24.933621Z",
     "iopub.status.idle": "2023-08-22T09:00:24.949252Z",
     "shell.execute_reply": "2023-08-22T09:00:24.949252Z"
    }
   },
   "outputs": [],
   "source": [
    "domains = pd.DataFrame({\"min\": [1., 1e-12], \"max\": [20., 2.5e-10]}).T\n",
    "domains"
   ]
  },
  {
   "cell_type": "markdown",
   "metadata": {},
   "source": [
    "And provide it to the plotter (resolution is low because the loss function is quite CPU intensive and parameter space is large):"
   ]
  },
  {
   "cell_type": "code",
   "execution_count": null,
   "metadata": {
    "execution": {
     "iopub.execute_input": "2023-08-22T09:00:24.949252Z",
     "iopub.status.busy": "2023-08-22T09:00:24.949252Z",
     "iopub.status.idle": "2023-08-22T09:03:37.247927Z",
     "shell.execute_reply": "2023-08-22T09:03:37.247927Z"
    }
   },
   "outputs": [],
   "source": [
    "axe = solver.plot_loss(\n",
    "    title=\"SciFit Quick Start Guide\", resolution=25,\n",
    "    domains=domains, include_origin=False, include_unit=False,\n",
    "    log_loss=True, log_x=False, log_y=False,\n",
    ")"
   ]
  },
  {
   "cell_type": "code",
   "execution_count": null,
   "metadata": {
    "execution": {
     "iopub.execute_input": "2023-08-22T09:03:37.247927Z",
     "iopub.status.busy": "2023-08-22T09:03:37.247927Z",
     "iopub.status.idle": "2023-08-22T09:06:47.329554Z",
     "shell.execute_reply": "2023-08-22T09:06:47.329554Z"
    }
   },
   "outputs": [],
   "source": [
    "axe = solver.plot_loss(\n",
    "    title=\"SciFit Quick Start Guide\", resolution=40,\n",
    "    domains=domains, include_origin=False, include_unit=False,\n",
    "    log_loss=True, log_x=True, log_y=True,\n",
    ")\n",
    "axe.grid(which=\"both\")"
   ]
  },
  {
   "cell_type": "code",
   "execution_count": null,
   "metadata": {
    "execution": {
     "iopub.execute_input": "2023-08-22T09:06:47.334135Z",
     "iopub.status.busy": "2023-08-22T09:06:47.329554Z",
     "iopub.status.idle": "2023-08-22T09:10:01.502441Z",
     "shell.execute_reply": "2023-08-22T09:10:01.502441Z"
    }
   },
   "outputs": [],
   "source": [
    "axe = solver.plot_loss_low_dimension(\n",
    "    title=\"SciFit Quick Start Guide\", resolution=25,\n",
    "    domains=domains, include_origin=False, include_unit=False, surface=True,\n",
    "    log_loss=True,\n",
    ")"
   ]
  }
 ],
 "metadata": {
  "kernelspec": {
   "display_name": "Python 3 (ipykernel)",
   "language": "python",
   "name": "python3"
  },
  "language_info": {
   "codemirror_mode": {
    "name": "ipython",
    "version": 3
   },
   "file_extension": ".py",
   "mimetype": "text/x-python",
   "name": "python",
   "nbconvert_exporter": "python",
   "pygments_lexer": "ipython3",
   "version": "3.9.7"
  }
 },
 "nbformat": 4,
 "nbformat_minor": 4
}
