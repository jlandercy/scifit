{
 "cells": [
  {
   "cell_type": "markdown",
   "metadata": {},
   "source": [
    "# Fit a real kinetic\n",
    "\n",
    "Let's fit a model coming from the physical chemistry field with real data.\n",
    "\n",
    "## Select model\n",
    "\n",
    "We select a heterogeneous catalysis solver:"
   ]
  },
  {
   "cell_type": "code",
   "execution_count": 1,
   "metadata": {
    "execution": {
     "iopub.execute_input": "2023-08-22T07:54:10.969784Z",
     "iopub.status.busy": "2023-08-22T07:54:10.969784Z",
     "iopub.status.idle": "2023-08-22T07:54:12.274579Z",
     "shell.execute_reply": "2023-08-22T07:54:12.274579Z"
    }
   },
   "outputs": [],
   "source": [
    "import numpy as np\n",
    "from scifit.solvers.specials import RaneyKetonDehydrogenationFitSolver"
   ]
  },
  {
   "cell_type": "markdown",
   "metadata": {},
   "source": [
    "We will model the dehydrogenation of a keton using a Raney's Nickel:\n",
    "\n",
    "$$\\mathrm{A \\underset{Ni}{\\overset{k_1}{\\longrightarrow}} B + C}$$\n",
    "\n",
    "Model is based on Langmuir isotherm:\n",
    "\n",
    "$$r = k_1 \\theta_A = k_1\\frac{aA}{1 + aA + bB + cC}$$\n",
    "\n",
    "With *ad hoc* simplification of a clever experimental setup:\n",
    "\n",
    "$$r = \\frac{1}{V}\\frac{\\mathrm{d}\\xi}{\\mathrm{d}t} \\simeq k_1\\frac{aA}{aA + bB} = k\\frac{a(n_0 - \\xi)}{a(n_0 - \\xi) + b\\xi}$$\n",
    "\n",
    "Integrating both parts:\n",
    "\n",
    "$$\\int\\limits_0^\\xi\\left(1 + \\frac{b\\xi}{a(n_0-\\xi)}\\right)\\mathrm{d}\\xi = \\int\\limits_0^t k_1V\\mathrm{d}t$$\n",
    "\n",
    "We finally get an easy fittable relationship between time and reaction coordinate:\n",
    "\n",
    "$$\\left(1 - \\frac{b}{a}\\right)\\xi - n_0\\frac{b}{a}\\ln\\left|\\frac{n_0 - \\xi}{n_0}\\right| = k_1Vt$$"
   ]
  },
  {
   "cell_type": "markdown",
   "metadata": {},
   "source": [
    "Now create a new solver with two physical known parameters:"
   ]
  },
  {
   "cell_type": "code",
   "execution_count": 2,
   "metadata": {
    "execution": {
     "iopub.execute_input": "2023-08-22T07:54:12.274579Z",
     "iopub.status.busy": "2023-08-22T07:54:12.274579Z",
     "iopub.status.idle": "2023-08-22T07:54:12.290348Z",
     "shell.execute_reply": "2023-08-22T07:54:12.290348Z"
    }
   },
   "outputs": [],
   "source": [
    "V = 190e-6            # m3 of isopropanol\n",
    "rho = 785             # kg/m³\n",
    "M = 60.1              # g/mol\n",
    "n0 = 1000*rho*V/M     # mol"
   ]
  },
  {
   "cell_type": "code",
   "execution_count": 3,
   "metadata": {
    "execution": {
     "iopub.execute_input": "2023-08-22T07:54:12.290348Z",
     "iopub.status.busy": "2023-08-22T07:54:12.290348Z",
     "iopub.status.idle": "2023-08-22T07:54:12.305958Z",
     "shell.execute_reply": "2023-08-22T07:54:12.305958Z"
    }
   },
   "outputs": [],
   "source": [
    "solver = RaneyKetonDehydrogenationFitSolver(n0=n0, V=V)"
   ]
  },
  {
   "cell_type": "markdown",
   "metadata": {},
   "source": [
    "## Load data\n",
    "\n",
    "We load real dataset:"
   ]
  },
  {
   "cell_type": "code",
   "execution_count": 4,
   "metadata": {
    "execution": {
     "iopub.execute_input": "2023-08-22T07:54:12.305958Z",
     "iopub.status.busy": "2023-08-22T07:54:12.305958Z",
     "iopub.status.idle": "2023-08-22T07:54:12.321639Z",
     "shell.execute_reply": "2023-08-22T07:54:12.321639Z"
    }
   },
   "outputs": [],
   "source": [
    "df = solver.load(\"data/RaneyKetonDehydrogenation.csv\")"
   ]
  },
  {
   "cell_type": "code",
   "execution_count": 5,
   "metadata": {
    "execution": {
     "iopub.execute_input": "2023-08-22T07:54:12.321639Z",
     "iopub.status.busy": "2023-08-22T07:54:12.321639Z",
     "iopub.status.idle": "2023-08-22T07:54:12.352906Z",
     "shell.execute_reply": "2023-08-22T07:54:12.352906Z"
    }
   },
   "outputs": [
    {
     "data": {
      "text/html": [
       "<div>\n",
       "<style scoped>\n",
       "    .dataframe tbody tr th:only-of-type {\n",
       "        vertical-align: middle;\n",
       "    }\n",
       "\n",
       "    .dataframe tbody tr th {\n",
       "        vertical-align: top;\n",
       "    }\n",
       "\n",
       "    .dataframe thead th {\n",
       "        text-align: right;\n",
       "    }\n",
       "</style>\n",
       "<table border=\"1\" class=\"dataframe\">\n",
       "  <thead>\n",
       "    <tr style=\"text-align: right;\">\n",
       "      <th></th>\n",
       "      <th>V</th>\n",
       "      <th>x0</th>\n",
       "      <th>y</th>\n",
       "      <th>sy</th>\n",
       "    </tr>\n",
       "    <tr>\n",
       "      <th>id</th>\n",
       "      <th></th>\n",
       "      <th></th>\n",
       "      <th></th>\n",
       "      <th></th>\n",
       "    </tr>\n",
       "  </thead>\n",
       "  <tbody>\n",
       "    <tr>\n",
       "      <th>11</th>\n",
       "      <td>0.000187</td>\n",
       "      <td>0.00782</td>\n",
       "      <td>733</td>\n",
       "      <td>30</td>\n",
       "    </tr>\n",
       "    <tr>\n",
       "      <th>110</th>\n",
       "      <td>0.001020</td>\n",
       "      <td>0.04270</td>\n",
       "      <td>7219</td>\n",
       "      <td>30</td>\n",
       "    </tr>\n",
       "    <tr>\n",
       "      <th>80</th>\n",
       "      <td>0.000813</td>\n",
       "      <td>0.03400</td>\n",
       "      <td>5159</td>\n",
       "      <td>30</td>\n",
       "    </tr>\n",
       "    <tr>\n",
       "      <th>60</th>\n",
       "      <td>0.000703</td>\n",
       "      <td>0.02940</td>\n",
       "      <td>4185</td>\n",
       "      <td>30</td>\n",
       "    </tr>\n",
       "    <tr>\n",
       "      <th>91</th>\n",
       "      <td>0.000871</td>\n",
       "      <td>0.03640</td>\n",
       "      <td>5735</td>\n",
       "      <td>30</td>\n",
       "    </tr>\n",
       "  </tbody>\n",
       "</table>\n",
       "</div>"
      ],
      "text/plain": [
       "            V       x0     y  sy\n",
       "id                              \n",
       "11   0.000187  0.00782   733  30\n",
       "110  0.001020  0.04270  7219  30\n",
       "80   0.000813  0.03400  5159  30\n",
       "60   0.000703  0.02940  4185  30\n",
       "91   0.000871  0.03640  5735  30"
      ]
     },
     "execution_count": 5,
     "metadata": {},
     "output_type": "execute_result"
    }
   ],
   "source": [
    "df.sample(5)"
   ]
  },
  {
   "cell_type": "markdown",
   "metadata": {},
   "source": [
    "## Solve Fit\n",
    "\n",
    "Everything is setup, we can solve our problem:"
   ]
  },
  {
   "cell_type": "code",
   "execution_count": 6,
   "metadata": {
    "execution": {
     "iopub.execute_input": "2023-08-22T07:54:12.352906Z",
     "iopub.status.busy": "2023-08-22T07:54:12.352906Z",
     "iopub.status.idle": "2023-08-22T07:54:12.840227Z",
     "shell.execute_reply": "2023-08-22T07:54:12.840227Z"
    }
   },
   "outputs": [
    {
     "ename": "InputDataError",
     "evalue": "Features must be a two dimensional array",
     "output_type": "error",
     "traceback": [
      "\u001b[1;31m---------------------------------------------------------------------------\u001b[0m",
      "\u001b[1;31mInputDataError\u001b[0m                            Traceback (most recent call last)",
      "Cell \u001b[1;32mIn[6], line 1\u001b[0m\n\u001b[1;32m----> 1\u001b[0m solution \u001b[38;5;241m=\u001b[39m \u001b[43msolver\u001b[49m\u001b[38;5;241;43m.\u001b[39;49m\u001b[43mfit\u001b[49m\u001b[43m(\u001b[49m\u001b[43mp0\u001b[49m\u001b[38;5;241;43m=\u001b[39;49m\u001b[43m[\u001b[49m\u001b[38;5;241;43m1e-2\u001b[39;49m\u001b[43m,\u001b[49m\u001b[43m \u001b[49m\u001b[38;5;241;43m1e2\u001b[39;49m\u001b[43m]\u001b[49m\u001b[43m)\u001b[49m\n",
      "File \u001b[1;32m~\\AppData\\Roaming\\Python\\Python310\\site-packages\\scifit\\interfaces\\generic.py:809\u001b[0m, in \u001b[0;36mFitSolverInterface.fit\u001b[1;34m(self, xdata, ydata, sigma, **kwargs)\u001b[0m\n\u001b[0;32m    795\u001b[0m \u001b[38;5;250m\u001b[39m\u001b[38;5;124;03m\"\"\"\u001b[39;00m\n\u001b[0;32m    796\u001b[0m \u001b[38;5;124;03mFully solve the fitting problem for the given model and input data.\u001b[39;00m\n\u001b[0;32m    797\u001b[0m \u001b[38;5;124;03mThis method stores input data and fit results. It assesses loss function over parameter neighborhoods,\u001b[39;00m\n\u001b[1;32m   (...)\u001b[0m\n\u001b[0;32m    805\u001b[0m \n\u001b[0;32m    806\u001b[0m \u001b[38;5;124;03m\"\"\"\u001b[39;00m\n\u001b[0;32m    808\u001b[0m \u001b[38;5;28;01mif\u001b[39;00m \u001b[38;5;129;01mnot\u001b[39;00m \u001b[38;5;28mself\u001b[39m\u001b[38;5;241m.\u001b[39mstored(error\u001b[38;5;241m=\u001b[39m\u001b[38;5;28;01mFalse\u001b[39;00m):\n\u001b[1;32m--> 809\u001b[0m     \u001b[38;5;28;43mself\u001b[39;49m\u001b[38;5;241;43m.\u001b[39;49m\u001b[43mstore\u001b[49m\u001b[43m(\u001b[49m\u001b[43mxdata\u001b[49m\u001b[43m,\u001b[49m\u001b[43m \u001b[49m\u001b[43mydata\u001b[49m\u001b[43m,\u001b[49m\u001b[43m \u001b[49m\u001b[43msigma\u001b[49m\u001b[38;5;241;43m=\u001b[39;49m\u001b[43msigma\u001b[49m\u001b[43m)\u001b[49m\n\u001b[0;32m    811\u001b[0m \u001b[38;5;28mself\u001b[39m\u001b[38;5;241m.\u001b[39m_solution \u001b[38;5;241m=\u001b[39m \u001b[38;5;28mself\u001b[39m\u001b[38;5;241m.\u001b[39msolve(\n\u001b[0;32m    812\u001b[0m     \u001b[38;5;28mself\u001b[39m\u001b[38;5;241m.\u001b[39m_xdata, \u001b[38;5;28mself\u001b[39m\u001b[38;5;241m.\u001b[39m_ydata, sigma\u001b[38;5;241m=\u001b[39m\u001b[38;5;28mself\u001b[39m\u001b[38;5;241m.\u001b[39m_sigma, \u001b[38;5;241m*\u001b[39m\u001b[38;5;241m*\u001b[39mkwargs\n\u001b[0;32m    813\u001b[0m )\n\u001b[0;32m    815\u001b[0m \u001b[38;5;66;03m# Check and regression pathway:\u001b[39;00m\n",
      "File \u001b[1;32m~\\AppData\\Roaming\\Python\\Python310\\site-packages\\scifit\\interfaces\\generic.py:114\u001b[0m, in \u001b[0;36mFitSolverInterface.store\u001b[1;34m(self, xdata, ydata, sigma, data)\u001b[0m\n\u001b[0;32m    111\u001b[0m ydata \u001b[38;5;241m=\u001b[39m np\u001b[38;5;241m.\u001b[39marray(ydata)\n\u001b[0;32m    113\u001b[0m \u001b[38;5;28;01mif\u001b[39;00m xdata\u001b[38;5;241m.\u001b[39mndim \u001b[38;5;241m!=\u001b[39m \u001b[38;5;241m2\u001b[39m:\n\u001b[1;32m--> 114\u001b[0m     \u001b[38;5;28;01mraise\u001b[39;00m InputDataError(\u001b[38;5;124m\"\u001b[39m\u001b[38;5;124mFeatures must be a two dimensional array\u001b[39m\u001b[38;5;124m\"\u001b[39m)\n\u001b[0;32m    116\u001b[0m \u001b[38;5;28;01mif\u001b[39;00m xdata\u001b[38;5;241m.\u001b[39mshape[\u001b[38;5;241m0\u001b[39m] \u001b[38;5;241m!=\u001b[39m ydata\u001b[38;5;241m.\u001b[39mshape[\u001b[38;5;241m0\u001b[39m]:\n\u001b[0;32m    117\u001b[0m     \u001b[38;5;28;01mraise\u001b[39;00m InputDataError(\n\u001b[0;32m    118\u001b[0m         \u001b[38;5;124m\"\u001b[39m\u001b[38;5;124mIncompatible shapes between x \u001b[39m\u001b[38;5;132;01m%s\u001b[39;00m\u001b[38;5;124m and y \u001b[39m\u001b[38;5;132;01m%s\u001b[39;00m\u001b[38;5;124m\"\u001b[39m \u001b[38;5;241m%\u001b[39m (xdata\u001b[38;5;241m.\u001b[39mshape, ydata\u001b[38;5;241m.\u001b[39mshape)\n\u001b[0;32m    119\u001b[0m     )\n",
      "\u001b[1;31mInputDataError\u001b[0m: Features must be a two dimensional array"
     ]
    }
   ],
   "source": [
    "solution = solver.fit(p0=[1e-2, 1e2])"
   ]
  },
  {
   "cell_type": "code",
   "execution_count": 7,
   "metadata": {
    "execution": {
     "iopub.execute_input": "2023-08-22T07:54:12.840227Z",
     "iopub.status.busy": "2023-08-22T07:54:12.840227Z",
     "iopub.status.idle": "2023-08-22T07:54:12.855842Z",
     "shell.execute_reply": "2023-08-22T07:54:12.855842Z"
    }
   },
   "outputs": [
    {
     "data": {
      "text/plain": [
       "False"
      ]
     },
     "execution_count": 7,
     "metadata": {},
     "output_type": "execute_result"
    }
   ],
   "source": [
    "solver.solved()"
   ]
  },
  {
   "cell_type": "code",
   "execution_count": 8,
   "metadata": {
    "execution": {
     "iopub.execute_input": "2023-08-22T07:54:12.855842Z",
     "iopub.status.busy": "2023-08-22T07:54:12.855842Z",
     "iopub.status.idle": "2023-08-22T07:54:12.887740Z",
     "shell.execute_reply": "2023-08-22T07:54:12.887740Z"
    }
   },
   "outputs": [
    {
     "ename": "NameError",
     "evalue": "name 'solution' is not defined",
     "output_type": "error",
     "traceback": [
      "\u001b[1;31m---------------------------------------------------------------------------\u001b[0m",
      "\u001b[1;31mNameError\u001b[0m                                 Traceback (most recent call last)",
      "Cell \u001b[1;32mIn[8], line 1\u001b[0m\n\u001b[1;32m----> 1\u001b[0m \u001b[38;5;28mprint\u001b[39m(\u001b[43msolution\u001b[49m[\u001b[38;5;124m\"\u001b[39m\u001b[38;5;124mmessage\u001b[39m\u001b[38;5;124m\"\u001b[39m])\n",
      "\u001b[1;31mNameError\u001b[0m: name 'solution' is not defined"
     ]
    }
   ],
   "source": [
    "print(solution[\"message\"])"
   ]
  },
  {
   "cell_type": "code",
   "execution_count": 9,
   "metadata": {
    "execution": {
     "iopub.execute_input": "2023-08-22T07:54:12.887740Z",
     "iopub.status.busy": "2023-08-22T07:54:12.887740Z",
     "iopub.status.idle": "2023-08-22T07:54:12.918952Z",
     "shell.execute_reply": "2023-08-22T07:54:12.918952Z"
    }
   },
   "outputs": [
    {
     "ename": "NameError",
     "evalue": "name 'solution' is not defined",
     "output_type": "error",
     "traceback": [
      "\u001b[1;31m---------------------------------------------------------------------------\u001b[0m",
      "\u001b[1;31mNameError\u001b[0m                                 Traceback (most recent call last)",
      "Cell \u001b[1;32mIn[9], line 1\u001b[0m\n\u001b[1;32m----> 1\u001b[0m \u001b[38;5;28mprint\u001b[39m(\u001b[43msolution\u001b[49m[\u001b[38;5;124m\"\u001b[39m\u001b[38;5;124mparameters\u001b[39m\u001b[38;5;124m\"\u001b[39m])\n",
      "\u001b[1;31mNameError\u001b[0m: name 'solution' is not defined"
     ]
    }
   ],
   "source": [
    "print(solution[\"parameters\"])"
   ]
  },
  {
   "cell_type": "code",
   "execution_count": 10,
   "metadata": {
    "execution": {
     "iopub.execute_input": "2023-08-22T07:54:12.918952Z",
     "iopub.status.busy": "2023-08-22T07:54:12.918952Z",
     "iopub.status.idle": "2023-08-22T07:54:12.950290Z",
     "shell.execute_reply": "2023-08-22T07:54:12.950290Z"
    }
   },
   "outputs": [
    {
     "ename": "NameError",
     "evalue": "name 'solution' is not defined",
     "output_type": "error",
     "traceback": [
      "\u001b[1;31m---------------------------------------------------------------------------\u001b[0m",
      "\u001b[1;31mNameError\u001b[0m                                 Traceback (most recent call last)",
      "Cell \u001b[1;32mIn[10], line 1\u001b[0m\n\u001b[1;32m----> 1\u001b[0m \u001b[38;5;28mprint\u001b[39m(np\u001b[38;5;241m.\u001b[39mdiag(\u001b[43msolution\u001b[49m[\u001b[38;5;124m\"\u001b[39m\u001b[38;5;124mcovariance\u001b[39m\u001b[38;5;124m\"\u001b[39m]))\n",
      "\u001b[1;31mNameError\u001b[0m: name 'solution' is not defined"
     ]
    }
   ],
   "source": [
    "print(np.diag(solution[\"covariance\"]))"
   ]
  },
  {
   "cell_type": "markdown",
   "metadata": {},
   "source": [
    "As we can see, parameters have been properly regressed."
   ]
  },
  {
   "cell_type": "markdown",
   "metadata": {},
   "source": [
    "## Render solution\n",
    "\n",
    "Finally we can render fit and loss function to check the dynamic:"
   ]
  },
  {
   "cell_type": "code",
   "execution_count": 11,
   "metadata": {
    "execution": {
     "iopub.execute_input": "2023-08-22T07:54:12.950290Z",
     "iopub.status.busy": "2023-08-22T07:54:12.950290Z",
     "iopub.status.idle": "2023-08-22T07:54:12.965908Z",
     "shell.execute_reply": "2023-08-22T07:54:12.965908Z"
    }
   },
   "outputs": [],
   "source": [
    "axe = solver.plot_fit(title=\"SciFit Quick Start Guide\")"
   ]
  },
  {
   "cell_type": "code",
   "execution_count": 12,
   "metadata": {
    "execution": {
     "iopub.execute_input": "2023-08-22T07:54:12.965908Z",
     "iopub.status.busy": "2023-08-22T07:54:12.965908Z",
     "iopub.status.idle": "2023-08-22T07:54:12.981694Z",
     "shell.execute_reply": "2023-08-22T07:54:12.981694Z"
    }
   },
   "outputs": [],
   "source": [
    "axe = solver.plot_chi_square(title=\"SciFit Quick Start Guide\")"
   ]
  },
  {
   "cell_type": "code",
   "execution_count": 13,
   "metadata": {
    "execution": {
     "iopub.execute_input": "2023-08-22T07:54:12.981694Z",
     "iopub.status.busy": "2023-08-22T07:54:12.981694Z",
     "iopub.status.idle": "2023-08-22T07:54:12.997461Z",
     "shell.execute_reply": "2023-08-22T07:54:12.997461Z"
    }
   },
   "outputs": [],
   "source": [
    "axe = solver.plot_loss(title=\"SciFit Quick Start Guide\", resolution=30)"
   ]
  },
  {
   "cell_type": "code",
   "execution_count": 14,
   "metadata": {
    "execution": {
     "iopub.execute_input": "2023-08-22T07:54:12.997461Z",
     "iopub.status.busy": "2023-08-22T07:54:12.997461Z",
     "iopub.status.idle": "2023-08-22T07:54:13.013088Z",
     "shell.execute_reply": "2023-08-22T07:54:13.013088Z"
    }
   },
   "outputs": [],
   "source": [
    "axe = solver.plot_loss_low_dimension(title=\"SciFit Quick Start Guide\", resolution=30, surface=True)"
   ]
  }
 ],
 "metadata": {
  "kernelspec": {
   "display_name": "Python 3 (ipykernel)",
   "language": "python",
   "name": "python3"
  },
  "language_info": {
   "codemirror_mode": {
    "name": "ipython",
    "version": 3
   },
   "file_extension": ".py",
   "mimetype": "text/x-python",
   "name": "python",
   "nbconvert_exporter": "python",
   "pygments_lexer": "ipython3",
   "version": "3.10.12"
  }
 },
 "nbformat": 4,
 "nbformat_minor": 4
}
