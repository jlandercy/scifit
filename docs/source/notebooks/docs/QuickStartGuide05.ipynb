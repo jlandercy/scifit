{
 "cells": [
  {
   "cell_type": "markdown",
   "metadata": {},
   "source": [
    "# Stability & serialization\n",
    "\n",
    "A intense effort is done to make all computation reproducible. To reach this goal, numerical stability and serialization are key concepts. We present here a simple procedure to assess such stability through serialization.\n",
    "\n",
    "## Solve a problem\n",
    "\n",
    "Let's solve a classical problem like a calibration curve:"
   ]
  },
  {
   "cell_type": "code",
   "execution_count": 1,
   "metadata": {
    "execution": {
     "iopub.execute_input": "2023-08-22T09:10:09.575665Z",
     "iopub.status.busy": "2023-08-22T09:10:09.575665Z",
     "iopub.status.idle": "2023-08-22T09:10:10.830449Z",
     "shell.execute_reply": "2023-08-22T09:10:10.830449Z"
    }
   },
   "outputs": [],
   "source": [
    "import numpy as np\n",
    "from scifit.solvers import linear, scientific, specials"
   ]
  },
  {
   "cell_type": "code",
   "execution_count": 2,
   "metadata": {
    "execution": {
     "iopub.execute_input": "2023-08-22T09:10:10.830449Z",
     "iopub.status.busy": "2023-08-22T09:10:10.830449Z",
     "iopub.status.idle": "2023-08-22T09:10:10.846122Z",
     "shell.execute_reply": "2023-08-22T09:10:10.846122Z"
    }
   },
   "outputs": [],
   "source": [
    "solver = linear.ParabolicFitSolver()"
   ]
  },
  {
   "cell_type": "code",
   "execution_count": 3,
   "metadata": {
    "execution": {
     "iopub.execute_input": "2023-08-22T09:10:10.846122Z",
     "iopub.status.busy": "2023-08-22T09:10:10.846122Z",
     "iopub.status.idle": "2023-08-22T09:10:10.861747Z",
     "shell.execute_reply": "2023-08-22T09:10:10.861747Z"
    }
   },
   "outputs": [],
   "source": [
    "data = solver.synthetic_dataset(sigma=0.015, xmin=1e-4, xmax=1e-2, parameters=[5.63e3, 1.21e2, 2.38], scale_mode=\"auto\")"
   ]
  },
  {
   "cell_type": "code",
   "execution_count": 4,
   "metadata": {
    "execution": {
     "iopub.execute_input": "2023-08-22T09:10:10.861747Z",
     "iopub.status.busy": "2023-08-22T09:10:10.861747Z",
     "iopub.status.idle": "2023-08-22T09:10:10.877430Z",
     "shell.execute_reply": "2023-08-22T09:10:10.877430Z"
    }
   },
   "outputs": [
    {
     "data": {
      "text/html": [
       "<div>\n",
       "<style scoped>\n",
       "    .dataframe tbody tr th:only-of-type {\n",
       "        vertical-align: middle;\n",
       "    }\n",
       "\n",
       "    .dataframe tbody tr th {\n",
       "        vertical-align: top;\n",
       "    }\n",
       "\n",
       "    .dataframe thead th {\n",
       "        text-align: right;\n",
       "    }\n",
       "</style>\n",
       "<table border=\"1\" class=\"dataframe\">\n",
       "  <thead>\n",
       "    <tr style=\"text-align: right;\">\n",
       "      <th></th>\n",
       "      <th>x0</th>\n",
       "      <th>y</th>\n",
       "      <th>sy</th>\n",
       "      <th>yref</th>\n",
       "      <th>ynoise</th>\n",
       "    </tr>\n",
       "    <tr>\n",
       "      <th>id</th>\n",
       "      <th></th>\n",
       "      <th></th>\n",
       "      <th></th>\n",
       "      <th></th>\n",
       "      <th></th>\n",
       "    </tr>\n",
       "  </thead>\n",
       "  <tbody>\n",
       "    <tr>\n",
       "      <th>12</th>\n",
       "      <td>0.003855</td>\n",
       "      <td>2.943251</td>\n",
       "      <td>0.013206</td>\n",
       "      <td>2.930151</td>\n",
       "      <td>0.013100</td>\n",
       "    </tr>\n",
       "    <tr>\n",
       "      <th>26</th>\n",
       "      <td>0.008634</td>\n",
       "      <td>3.838315</td>\n",
       "      <td>0.013206</td>\n",
       "      <td>3.844513</td>\n",
       "      <td>-0.006198</td>\n",
       "    </tr>\n",
       "    <tr>\n",
       "      <th>15</th>\n",
       "      <td>0.004879</td>\n",
       "      <td>3.100022</td>\n",
       "      <td>0.013206</td>\n",
       "      <td>3.104434</td>\n",
       "      <td>-0.004412</td>\n",
       "    </tr>\n",
       "    <tr>\n",
       "      <th>23</th>\n",
       "      <td>0.007610</td>\n",
       "      <td>3.629481</td>\n",
       "      <td>0.013206</td>\n",
       "      <td>3.626926</td>\n",
       "      <td>0.002554</td>\n",
       "    </tr>\n",
       "    <tr>\n",
       "      <th>5</th>\n",
       "      <td>0.001466</td>\n",
       "      <td>2.559903</td>\n",
       "      <td>0.013206</td>\n",
       "      <td>2.569419</td>\n",
       "      <td>-0.009516</td>\n",
       "    </tr>\n",
       "  </tbody>\n",
       "</table>\n",
       "</div>"
      ],
      "text/plain": [
       "          x0         y        sy      yref    ynoise\n",
       "id                                                  \n",
       "12  0.003855  2.943251  0.013206  2.930151  0.013100\n",
       "26  0.008634  3.838315  0.013206  3.844513 -0.006198\n",
       "15  0.004879  3.100022  0.013206  3.104434 -0.004412\n",
       "23  0.007610  3.629481  0.013206  3.626926  0.002554\n",
       "5   0.001466  2.559903  0.013206  2.569419 -0.009516"
      ]
     },
     "execution_count": 4,
     "metadata": {},
     "output_type": "execute_result"
    }
   ],
   "source": [
    "data.sample(5)"
   ]
  },
  {
   "cell_type": "code",
   "execution_count": 5,
   "metadata": {
    "execution": {
     "iopub.execute_input": "2023-08-22T09:10:10.877430Z",
     "iopub.status.busy": "2023-08-22T09:10:10.877430Z",
     "iopub.status.idle": "2023-08-22T09:10:10.893070Z",
     "shell.execute_reply": "2023-08-22T09:10:10.893070Z"
    }
   },
   "outputs": [],
   "source": [
    "solver.store(data=data)"
   ]
  },
  {
   "cell_type": "code",
   "execution_count": 6,
   "metadata": {
    "execution": {
     "iopub.execute_input": "2023-08-22T09:10:10.893070Z",
     "iopub.status.busy": "2023-08-22T09:10:10.893070Z",
     "iopub.status.idle": "2023-08-22T09:10:10.924339Z",
     "shell.execute_reply": "2023-08-22T09:10:10.924339Z"
    }
   },
   "outputs": [],
   "source": [
    "solution = solver.fit()"
   ]
  },
  {
   "cell_type": "code",
   "execution_count": 7,
   "metadata": {
    "execution": {
     "iopub.execute_input": "2023-08-22T09:10:10.924339Z",
     "iopub.status.busy": "2023-08-22T09:10:10.924339Z",
     "iopub.status.idle": "2023-08-22T09:10:11.379736Z",
     "shell.execute_reply": "2023-08-22T09:10:11.379736Z"
    }
   },
   "outputs": [
    {
     "data": {
      "image/png": "[encoded data removed]",
      "text/plain": [
       "<Figure size 432x288 with 1 Axes>"
      ]
     },
     "metadata": {
      "needs_background": "light"
     },
     "output_type": "display_data"
    }
   ],
   "source": [
    "axe = solver.plot_fit()"
   ]
  },
  {
   "cell_type": "code",
   "execution_count": 8,
   "metadata": {
    "execution": {
     "iopub.execute_input": "2023-08-22T09:10:11.379736Z",
     "iopub.status.busy": "2023-08-22T09:10:11.379736Z",
     "iopub.status.idle": "2023-08-22T09:10:11.804339Z",
     "shell.execute_reply": "2023-08-22T09:10:11.804339Z"
    }
   },
   "outputs": [
    {
     "data": {
      "image/png": "[encoded data removed]",
      "text/plain": [
       "<Figure size 432x288 with 1 Axes>"
      ]
     },
     "metadata": {
      "needs_background": "light"
     },
     "output_type": "display_data"
    }
   ],
   "source": [
    "axe = solver.plot_chi_square()"
   ]
  },
  {
   "cell_type": "markdown",
   "metadata": {},
   "source": [
    "## Serialize dataset\n",
    "\n",
    "Now we serialize the dataset (inputs and regressed quantities):"
   ]
  },
  {
   "cell_type": "code",
   "execution_count": 9,
   "metadata": {
    "execution": {
     "iopub.execute_input": "2023-08-22T09:10:11.804339Z",
     "iopub.status.busy": "2023-08-22T09:10:11.804339Z",
     "iopub.status.idle": "2023-08-22T09:10:11.835655Z",
     "shell.execute_reply": "2023-08-22T09:10:11.835655Z"
    }
   },
   "outputs": [
    {
     "data": {
      "text/html": [
       "<div>\n",
       "<style scoped>\n",
       "    .dataframe tbody tr th:only-of-type {\n",
       "        vertical-align: middle;\n",
       "    }\n",
       "\n",
       "    .dataframe tbody tr th {\n",
       "        vertical-align: top;\n",
       "    }\n",
       "\n",
       "    .dataframe thead th {\n",
       "        text-align: right;\n",
       "    }\n",
       "</style>\n",
       "<table border=\"1\" class=\"dataframe\">\n",
       "  <thead>\n",
       "    <tr style=\"text-align: right;\">\n",
       "      <th></th>\n",
       "      <th>x0</th>\n",
       "      <th>y</th>\n",
       "      <th>sy</th>\n",
       "      <th>yhat</th>\n",
       "      <th>yerr</th>\n",
       "      <th>yerrrel</th>\n",
       "      <th>yerrabs</th>\n",
       "      <th>yerrsqr</th>\n",
       "      <th>chi2</th>\n",
       "    </tr>\n",
       "    <tr>\n",
       "      <th>id</th>\n",
       "      <th></th>\n",
       "      <th></th>\n",
       "      <th></th>\n",
       "      <th></th>\n",
       "      <th></th>\n",
       "      <th></th>\n",
       "      <th></th>\n",
       "      <th></th>\n",
       "      <th></th>\n",
       "    </tr>\n",
       "  </thead>\n",
       "  <tbody>\n",
       "    <tr>\n",
       "      <th>7</th>\n",
       "      <td>0.002148</td>\n",
       "      <td>2.677276</td>\n",
       "      <td>0.013206</td>\n",
       "      <td>2.665942</td>\n",
       "      <td>0.011335</td>\n",
       "      <td>0.004252</td>\n",
       "      <td>0.011335</td>\n",
       "      <td>0.000128</td>\n",
       "      <td>0.736624</td>\n",
       "    </tr>\n",
       "    <tr>\n",
       "      <th>20</th>\n",
       "      <td>0.006586</td>\n",
       "      <td>3.400721</td>\n",
       "      <td>0.013206</td>\n",
       "      <td>3.420703</td>\n",
       "      <td>-0.019982</td>\n",
       "      <td>-0.005842</td>\n",
       "      <td>0.019982</td>\n",
       "      <td>0.000399</td>\n",
       "      <td>2.289471</td>\n",
       "    </tr>\n",
       "    <tr>\n",
       "      <th>4</th>\n",
       "      <td>0.001124</td>\n",
       "      <td>2.519006</td>\n",
       "      <td>0.013206</td>\n",
       "      <td>2.523775</td>\n",
       "      <td>-0.004769</td>\n",
       "      <td>-0.001890</td>\n",
       "      <td>0.004769</td>\n",
       "      <td>0.000023</td>\n",
       "      <td>0.130415</td>\n",
       "    </tr>\n",
       "    <tr>\n",
       "      <th>25</th>\n",
       "      <td>0.008293</td>\n",
       "      <td>3.788080</td>\n",
       "      <td>0.013206</td>\n",
       "      <td>3.771014</td>\n",
       "      <td>0.017066</td>\n",
       "      <td>0.004526</td>\n",
       "      <td>0.017066</td>\n",
       "      <td>0.000291</td>\n",
       "      <td>1.669898</td>\n",
       "    </tr>\n",
       "    <tr>\n",
       "      <th>13</th>\n",
       "      <td>0.004197</td>\n",
       "      <td>2.999523</td>\n",
       "      <td>0.013206</td>\n",
       "      <td>2.986285</td>\n",
       "      <td>0.013238</td>\n",
       "      <td>0.004433</td>\n",
       "      <td>0.013238</td>\n",
       "      <td>0.000175</td>\n",
       "      <td>1.004778</td>\n",
       "    </tr>\n",
       "  </tbody>\n",
       "</table>\n",
       "</div>"
      ],
      "text/plain": [
       "          x0         y        sy      yhat      yerr   yerrrel   yerrabs  \\\n",
       "id                                                                         \n",
       "7   0.002148  2.677276  0.013206  2.665942  0.011335  0.004252  0.011335   \n",
       "20  0.006586  3.400721  0.013206  3.420703 -0.019982 -0.005842  0.019982   \n",
       "4   0.001124  2.519006  0.013206  2.523775 -0.004769 -0.001890  0.004769   \n",
       "25  0.008293  3.788080  0.013206  3.771014  0.017066  0.004526  0.017066   \n",
       "13  0.004197  2.999523  0.013206  2.986285  0.013238  0.004433  0.013238   \n",
       "\n",
       "     yerrsqr      chi2  \n",
       "id                      \n",
       "7   0.000128  0.736624  \n",
       "20  0.000399  2.289471  \n",
       "4   0.000023  0.130415  \n",
       "25  0.000291  1.669898  \n",
       "13  0.000175  1.004778  "
      ]
     },
     "execution_count": 9,
     "metadata": {},
     "output_type": "execute_result"
    }
   ],
   "source": [
    "final = solver.dataset()\n",
    "final.sample(5)"
   ]
  },
  {
   "cell_type": "code",
   "execution_count": 10,
   "metadata": {
    "execution": {
     "iopub.execute_input": "2023-08-22T09:10:11.835655Z",
     "iopub.status.busy": "2023-08-22T09:10:11.835655Z",
     "iopub.status.idle": "2023-08-22T09:10:11.851327Z",
     "shell.execute_reply": "2023-08-22T09:10:11.851327Z"
    }
   },
   "outputs": [],
   "source": [
    "solver.dump(\"data/ParabolicRegression.csv\", final, summary=False)"
   ]
  },
  {
   "cell_type": "markdown",
   "metadata": {},
   "source": [
    "## Verification\n",
    "\n",
    "Now we create a totally new solver that will get those data to perform again the regression. You may remove regressed quantity from the serialized file, as long as input data are present it should perform equally:"
   ]
  },
  {
   "cell_type": "code",
   "execution_count": 11,
   "metadata": {
    "execution": {
     "iopub.execute_input": "2023-08-22T09:10:11.851327Z",
     "iopub.status.busy": "2023-08-22T09:10:11.851327Z",
     "iopub.status.idle": "2023-08-22T09:10:11.867050Z",
     "shell.execute_reply": "2023-08-22T09:10:11.867050Z"
    }
   },
   "outputs": [],
   "source": [
    "solver2 = linear.ParabolicFitSolver()"
   ]
  },
  {
   "cell_type": "code",
   "execution_count": 12,
   "metadata": {
    "execution": {
     "iopub.execute_input": "2023-08-22T09:10:11.867050Z",
     "iopub.status.busy": "2023-08-22T09:10:11.867050Z",
     "iopub.status.idle": "2023-08-22T09:10:11.898269Z",
     "shell.execute_reply": "2023-08-22T09:10:11.898269Z"
    }
   },
   "outputs": [],
   "source": [
    "_ = solver2.load(final, store=True)\n",
    "solution2 = solver2.fit()"
   ]
  },
  {
   "cell_type": "code",
   "execution_count": 13,
   "metadata": {
    "execution": {
     "iopub.execute_input": "2023-08-22T09:10:11.898269Z",
     "iopub.status.busy": "2023-08-22T09:10:11.898269Z",
     "iopub.status.idle": "2023-08-22T09:10:12.290818Z",
     "shell.execute_reply": "2023-08-22T09:10:12.290818Z"
    }
   },
   "outputs": [
    {
     "data": {
      "image/png": "[encoded data removed]",
      "text/plain": [
       "<Figure size 432x288 with 1 Axes>"
      ]
     },
     "metadata": {
      "needs_background": "light"
     },
     "output_type": "display_data"
    }
   ],
   "source": [
    "axe = solver2.plot_chi_square()"
   ]
  },
  {
   "cell_type": "markdown",
   "metadata": {},
   "source": [
    "At a first glance it seems regressions are alike.\n",
    "\n",
    "### Checking at machine precision\n",
    "\n",
    "Checking results are the same at the machine precision:"
   ]
  },
  {
   "cell_type": "code",
   "execution_count": 14,
   "metadata": {
    "execution": {
     "iopub.execute_input": "2023-08-22T09:10:12.290818Z",
     "iopub.status.busy": "2023-08-22T09:10:12.290818Z",
     "iopub.status.idle": "2023-08-22T09:10:12.306491Z",
     "shell.execute_reply": "2023-08-22T09:10:12.306491Z"
    }
   },
   "outputs": [],
   "source": [
    "check = solver2.dataset()"
   ]
  },
  {
   "cell_type": "code",
   "execution_count": 15,
   "metadata": {
    "execution": {
     "iopub.execute_input": "2023-08-22T09:10:12.306491Z",
     "iopub.status.busy": "2023-08-22T09:10:12.306491Z",
     "iopub.status.idle": "2023-08-22T09:10:12.322010Z",
     "shell.execute_reply": "2023-08-22T09:10:12.322010Z"
    }
   },
   "outputs": [
    {
     "data": {
      "text/plain": [
       "True"
      ]
     },
     "execution_count": 15,
     "metadata": {},
     "output_type": "execute_result"
    }
   ],
   "source": [
    "final.equals(check)"
   ]
  },
  {
   "cell_type": "code",
   "execution_count": 16,
   "metadata": {
    "execution": {
     "iopub.execute_input": "2023-08-22T09:10:12.322010Z",
     "iopub.status.busy": "2023-08-22T09:10:12.322010Z",
     "iopub.status.idle": "2023-08-22T09:10:12.338146Z",
     "shell.execute_reply": "2023-08-22T09:10:12.338146Z"
    }
   },
   "outputs": [
    {
     "data": {
      "text/plain": [
       "True"
      ]
     },
     "execution_count": 16,
     "metadata": {},
     "output_type": "execute_result"
    }
   ],
   "source": [
    "np.allclose(solution[\"parameters\"], solution2[\"parameters\"])"
   ]
  },
  {
   "cell_type": "markdown",
   "metadata": {},
   "source": [
    "Confirms it's possible to reproduce the exact setup, hence it's numercally stable.\n",
    "\n",
    "### Notice\n",
    "\n",
    "If such a procedures fails it's likely you have found a bug or more probably that your model is stiff and numerically unstable. Rewriting the model and/or improve the mesures uncertainty may solve the problem."
   ]
  }
 ],
 "metadata": {
  "kernelspec": {
   "display_name": "Python 3 (ipykernel)",
   "language": "python",
   "name": "python3"
  },
  "language_info": {
   "codemirror_mode": {
    "name": "ipython",
    "version": 3
   },
   "file_extension": ".py",
   "mimetype": "text/x-python",
   "name": "python",
   "nbconvert_exporter": "python",
   "pygments_lexer": "ipython3",
   "version": "3.9.7"
  }
 },
 "nbformat": 4,
 "nbformat_minor": 4
}
