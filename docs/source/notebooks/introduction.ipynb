{
 "cells": [
  {
   "cell_type": "markdown",
   "metadata": {},
   "source": [
    "# Introduction\n"
   ]
  },
  {
   "cell_type": "code",
   "execution_count": 1,
   "metadata": {
    "execution": {
     "iopub.execute_input": "2021-01-11T01:33:11.405805Z",
     "iopub.status.busy": "2021-01-11T01:33:11.405805Z",
     "iopub.status.idle": "2021-01-11T01:33:11.421429Z",
     "shell.execute_reply": "2021-01-11T01:33:11.421429Z"
    }
   },
   "outputs": [],
   "source": [
    "import datetime\n",
    "from newproject import SimpleCase, SimpleCaseWithSerializer"
   ]
  },
  {
   "cell_type": "code",
   "execution_count": 2,
   "metadata": {
    "execution": {
     "iopub.execute_input": "2021-01-11T01:33:11.421429Z",
     "iopub.status.busy": "2021-01-11T01:33:11.421429Z",
     "iopub.status.idle": "2021-01-11T01:33:11.437039Z",
     "shell.execute_reply": "2021-01-11T01:33:11.437039Z"
    }
   },
   "outputs": [],
   "source": [
    "a = SimpleCase(value=\"dummy\")"
   ]
  },
  {
   "cell_type": "code",
   "execution_count": 3,
   "metadata": {
    "execution": {
     "iopub.execute_input": "2021-01-11T01:33:11.437039Z",
     "iopub.status.busy": "2021-01-11T01:33:11.437039Z",
     "iopub.status.idle": "2021-01-11T01:33:11.452663Z",
     "shell.execute_reply": "2021-01-11T01:33:11.452663Z"
    }
   },
   "outputs": [
    {
     "data": {
      "text/plain": [
       "{'value': 'dummy'}"
      ]
     },
     "execution_count": 1,
     "metadata": {},
     "output_type": "execute_result"
    }
   ],
   "source": [
    "a.to_dict()"
   ]
  },
  {
   "cell_type": "code",
   "execution_count": 4,
   "metadata": {
    "execution": {
     "iopub.execute_input": "2021-01-11T01:33:11.452663Z",
     "iopub.status.busy": "2021-01-11T01:33:11.452663Z",
     "iopub.status.idle": "2021-01-11T01:33:11.468460Z",
     "shell.execute_reply": "2021-01-11T01:33:11.468460Z"
    }
   },
   "outputs": [
    {
     "data": {
      "text/plain": [
       "'{\"value\": \"dummy\"}'"
      ]
     },
     "execution_count": 1,
     "metadata": {},
     "output_type": "execute_result"
    }
   ],
   "source": [
    "a.to_json()"
   ]
  },
  {
   "cell_type": "code",
   "execution_count": 5,
   "metadata": {
    "execution": {
     "iopub.execute_input": "2021-01-11T01:33:11.474499Z",
     "iopub.status.busy": "2021-01-11T01:33:11.468460Z",
     "iopub.status.idle": "2021-01-11T01:33:11.490545Z",
     "shell.execute_reply": "2021-01-11T01:33:11.490545Z"
    }
   },
   "outputs": [],
   "source": [
    "b = SimpleCase(**a.to_dict())"
   ]
  },
  {
   "cell_type": "code",
   "execution_count": 6,
   "metadata": {
    "execution": {
     "iopub.execute_input": "2021-01-11T01:33:11.490545Z",
     "iopub.status.busy": "2021-01-11T01:33:11.490545Z",
     "iopub.status.idle": "2021-01-11T01:33:11.508655Z",
     "shell.execute_reply": "2021-01-11T01:33:11.508655Z"
    }
   },
   "outputs": [
    {
     "data": {
      "text/plain": [
       "True"
      ]
     },
     "execution_count": 1,
     "metadata": {},
     "output_type": "execute_result"
    }
   ],
   "source": [
    "a.to_dict() == b.to_dict()"
   ]
  },
  {
   "cell_type": "code",
   "execution_count": 7,
   "metadata": {
    "execution": {
     "iopub.execute_input": "2021-01-11T01:33:11.512835Z",
     "iopub.status.busy": "2021-01-11T01:33:11.511780Z",
     "iopub.status.idle": "2021-01-11T01:33:11.530009Z",
     "shell.execute_reply": "2021-01-11T01:33:11.530009Z"
    }
   },
   "outputs": [],
   "source": [
    "t = datetime.datetime(2021, 1, 1)"
   ]
  },
  {
   "cell_type": "code",
   "execution_count": 8,
   "metadata": {
    "execution": {
     "iopub.execute_input": "2021-01-11T01:33:11.530009Z",
     "iopub.status.busy": "2021-01-11T01:33:11.530009Z",
     "iopub.status.idle": "2021-01-11T01:33:11.545501Z",
     "shell.execute_reply": "2021-01-11T01:33:11.545501Z"
    }
   },
   "outputs": [],
   "source": [
    "c = SimpleCaseWithSerializer(value=t)"
   ]
  },
  {
   "cell_type": "code",
   "execution_count": 9,
   "metadata": {
    "execution": {
     "iopub.execute_input": "2021-01-11T01:33:11.545501Z",
     "iopub.status.busy": "2021-01-11T01:33:11.545501Z",
     "iopub.status.idle": "2021-01-11T01:33:11.560985Z",
     "shell.execute_reply": "2021-01-11T01:33:11.560985Z"
    }
   },
   "outputs": [
    {
     "data": {
      "text/plain": [
       "{'value': datetime.datetime(2021, 1, 1, 0, 0)}"
      ]
     },
     "execution_count": 1,
     "metadata": {},
     "output_type": "execute_result"
    }
   ],
   "source": [
    "c.to_dict()"
   ]
  },
  {
   "cell_type": "code",
   "execution_count": 10,
   "metadata": {
    "execution": {
     "iopub.execute_input": "2021-01-11T01:33:11.560985Z",
     "iopub.status.busy": "2021-01-11T01:33:11.560985Z",
     "iopub.status.idle": "2021-01-11T01:33:11.590648Z",
     "shell.execute_reply": "2021-01-11T01:33:11.590648Z"
    }
   },
   "outputs": [
    {
     "data": {
      "text/plain": [
       "'{\"value\": \"2021-01-01T00:00:00\"}'"
      ]
     },
     "execution_count": 1,
     "metadata": {},
     "output_type": "execute_result"
    }
   ],
   "source": [
    "c.to_json()"
   ]
  },
  {
   "cell_type": "code",
   "execution_count": null,
   "metadata": {},
   "outputs": [],
   "source": []
  },
  {
   "cell_type": "code",
   "execution_count": null,
   "metadata": {},
   "outputs": [],
   "source": []
  }
 ],
 "metadata": {
  "kernelspec": {
   "display_name": "Python 3",
   "language": "python",
   "name": "python3"
  },
  "language_info": {
   "codemirror_mode": {
    "name": "ipython",
    "version": 3
   },
   "file_extension": ".py",
   "mimetype": "text/x-python",
   "name": "python",
   "nbconvert_exporter": "python",
   "pygments_lexer": "ipython3",
   "version": "3.8.5"
  }
 },
 "nbformat": 4,
 "nbformat_minor": 4
}
